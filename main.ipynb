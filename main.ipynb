{
 "cells": [
  {
   "cell_type": "code",
   "execution_count": 10,
   "metadata": {
    "collapsed": false
   },
   "outputs": [
    {
     "name": "stderr",
     "output_type": "stream",
     "text": [
      "/Library/Frameworks/Python.framework/Versions/3.6/lib/python3.6/site-packages/sklearn/utils/validation.py:382: ComplexWarning: Casting complex values to real discards the imaginary part\n  array = np.array(array, dtype=dtype, order=order, copy=copy)\n"
     ]
    },
    {
     "name": "stdout",
     "output_type": "stream",
     "text": [
      "Ward  PlainWalk best result:  0.612507880271\nK-means  PlainWalk best result:  0.267730324034\nPlainWalk best result:  0.612507880271\nPlainWalk best result:  0.267730324034\n"
     ]
    },
    {
     "ename": "ValueError",
     "evalue": "max() arg is an empty sequence",
     "traceback": [
      "\u001b[0;31m---------------------------------------------------------------------------\u001b[0m",
      "\u001b[0;31mValueError\u001b[0m                                Traceback (most recent call last)",
      "\u001b[0;32m<ipython-input-10-f29dd4c4f251>\u001b[0m in \u001b[0;36m<module>\u001b[0;34m()\u001b[0m\n\u001b[1;32m     57\u001b[0m     \u001b[0mplt\u001b[0m\u001b[0;34m.\u001b[0m\u001b[0mtitle\u001b[0m\u001b[0;34m(\u001b[0m\u001b[0mkernel_class\u001b[0m\u001b[0;34m.\u001b[0m\u001b[0mname\u001b[0m \u001b[0;34m+\u001b[0m \u001b[0;34m', n_clusters='\u001b[0m \u001b[0;34m+\u001b[0m \u001b[0mstr\u001b[0m\u001b[0;34m(\u001b[0m\u001b[0mn_clusters\u001b[0m\u001b[0;34m)\u001b[0m\u001b[0;34m)\u001b[0m\u001b[0;34m\u001b[0m\u001b[0m\n\u001b[1;32m     58\u001b[0m     \u001b[0mplt\u001b[0m\u001b[0;34m.\u001b[0m\u001b[0mlegend\u001b[0m\u001b[0;34m(\u001b[0m\u001b[0;34m)\u001b[0m\u001b[0;34m\u001b[0m\u001b[0m\n\u001b[0;32m---> 59\u001b[0;31m     \u001b[0mplt\u001b[0m\u001b[0;34m.\u001b[0m\u001b[0mshow\u001b[0m\u001b[0;34m(\u001b[0m\u001b[0;34m)\u001b[0m\u001b[0;34m\u001b[0m\u001b[0m\n\u001b[0m",
      "\u001b[0;32m/Library/Frameworks/Python.framework/Versions/3.6/lib/python3.6/site-packages/matplotlib/pyplot.py\u001b[0m in \u001b[0;36mshow\u001b[0;34m(*args, **kw)\u001b[0m\n\u001b[1;32m    251\u001b[0m     \"\"\"\n\u001b[1;32m    252\u001b[0m     \u001b[0;32mglobal\u001b[0m \u001b[0m_show\u001b[0m\u001b[0;34m\u001b[0m\u001b[0m\n\u001b[0;32m--> 253\u001b[0;31m     \u001b[0;32mreturn\u001b[0m \u001b[0m_show\u001b[0m\u001b[0;34m(\u001b[0m\u001b[0;34m*\u001b[0m\u001b[0margs\u001b[0m\u001b[0;34m,\u001b[0m \u001b[0;34m**\u001b[0m\u001b[0mkw\u001b[0m\u001b[0;34m)\u001b[0m\u001b[0;34m\u001b[0m\u001b[0m\n\u001b[0m\u001b[1;32m    254\u001b[0m \u001b[0;34m\u001b[0m\u001b[0m\n\u001b[1;32m    255\u001b[0m \u001b[0;34m\u001b[0m\u001b[0m\n",
      "\u001b[0;32m/Applications/PyCharm.app/Contents/helpers/pycharm_matplotlib_backend/backend_interagg.py\u001b[0m in \u001b[0;36m__call__\u001b[0;34m(self, **kwargs)\u001b[0m\n\u001b[1;32m     23\u001b[0m \u001b[0;34m\u001b[0m\u001b[0m\n\u001b[1;32m     24\u001b[0m         \u001b[0;32mfor\u001b[0m \u001b[0mmanager\u001b[0m \u001b[0;32min\u001b[0m \u001b[0mmanagers\u001b[0m\u001b[0;34m:\u001b[0m\u001b[0;34m\u001b[0m\u001b[0m\n\u001b[0;32m---> 25\u001b[0;31m             \u001b[0mmanager\u001b[0m\u001b[0;34m.\u001b[0m\u001b[0mshow\u001b[0m\u001b[0;34m(\u001b[0m\u001b[0;34m**\u001b[0m\u001b[0mkwargs\u001b[0m\u001b[0;34m)\u001b[0m\u001b[0;34m\u001b[0m\u001b[0m\n\u001b[0m\u001b[1;32m     26\u001b[0m \u001b[0;34m\u001b[0m\u001b[0m\n\u001b[1;32m     27\u001b[0m     \u001b[0;32mdef\u001b[0m \u001b[0mmainloop\u001b[0m\u001b[0;34m(\u001b[0m\u001b[0mself\u001b[0m\u001b[0;34m)\u001b[0m\u001b[0;34m:\u001b[0m\u001b[0;34m\u001b[0m\u001b[0m\n",
      "\u001b[0;32m/Applications/PyCharm.app/Contents/helpers/pycharm_matplotlib_backend/backend_interagg.py\u001b[0m in \u001b[0;36mshow\u001b[0;34m(self, **kwargs)\u001b[0m\n\u001b[1;32m    105\u001b[0m \u001b[0;34m\u001b[0m\u001b[0m\n\u001b[1;32m    106\u001b[0m     \u001b[0;32mdef\u001b[0m \u001b[0mshow\u001b[0m\u001b[0;34m(\u001b[0m\u001b[0mself\u001b[0m\u001b[0;34m,\u001b[0m \u001b[0;34m**\u001b[0m\u001b[0mkwargs\u001b[0m\u001b[0;34m)\u001b[0m\u001b[0;34m:\u001b[0m\u001b[0;34m\u001b[0m\u001b[0m\n\u001b[0;32m--> 107\u001b[0;31m         \u001b[0mself\u001b[0m\u001b[0;34m.\u001b[0m\u001b[0mcanvas\u001b[0m\u001b[0;34m.\u001b[0m\u001b[0mshow\u001b[0m\u001b[0;34m(\u001b[0m\u001b[0;34m)\u001b[0m\u001b[0;34m\u001b[0m\u001b[0m\n\u001b[0m\u001b[1;32m    108\u001b[0m         \u001b[0mGcf\u001b[0m\u001b[0;34m.\u001b[0m\u001b[0mdestroy\u001b[0m\u001b[0;34m(\u001b[0m\u001b[0mself\u001b[0m\u001b[0;34m.\u001b[0m\u001b[0m_num\u001b[0m\u001b[0;34m)\u001b[0m\u001b[0;34m\u001b[0m\u001b[0m\n",
      "\u001b[0;32m/Applications/PyCharm.app/Contents/helpers/pycharm_matplotlib_backend/backend_interagg.py\u001b[0m in \u001b[0;36mshow\u001b[0;34m(self)\u001b[0m\n\u001b[1;32m     60\u001b[0m \u001b[0;34m\u001b[0m\u001b[0m\n\u001b[1;32m     61\u001b[0m     \u001b[0;32mdef\u001b[0m \u001b[0mshow\u001b[0m\u001b[0;34m(\u001b[0m\u001b[0mself\u001b[0m\u001b[0;34m)\u001b[0m\u001b[0;34m:\u001b[0m\u001b[0;34m\u001b[0m\u001b[0m\n\u001b[0;32m---> 62\u001b[0;31m         \u001b[0mself\u001b[0m\u001b[0;34m.\u001b[0m\u001b[0mfigure\u001b[0m\u001b[0;34m.\u001b[0m\u001b[0mtight_layout\u001b[0m\u001b[0;34m(\u001b[0m\u001b[0;34m)\u001b[0m\u001b[0;34m\u001b[0m\u001b[0m\n\u001b[0m\u001b[1;32m     63\u001b[0m         \u001b[0mFigureCanvasAgg\u001b[0m\u001b[0;34m.\u001b[0m\u001b[0mdraw\u001b[0m\u001b[0;34m(\u001b[0m\u001b[0mself\u001b[0m\u001b[0;34m)\u001b[0m\u001b[0;34m\u001b[0m\u001b[0m\n\u001b[1;32m     64\u001b[0m         \u001b[0;32mif\u001b[0m \u001b[0mPORT\u001b[0m \u001b[0;32mis\u001b[0m \u001b[0;32mNone\u001b[0m\u001b[0;34m:\u001b[0m\u001b[0;34m\u001b[0m\u001b[0m\n",
      "\u001b[0;32m/Library/Frameworks/Python.framework/Versions/3.6/lib/python3.6/site-packages/matplotlib/figure.py\u001b[0m in \u001b[0;36mtight_layout\u001b[0;34m(self, renderer, pad, h_pad, w_pad, rect)\u001b[0m\n\u001b[1;32m   1750\u001b[0m                                          \u001b[0mrenderer\u001b[0m\u001b[0;34m,\u001b[0m\u001b[0;34m\u001b[0m\u001b[0m\n\u001b[1;32m   1751\u001b[0m                                          \u001b[0mpad\u001b[0m\u001b[0;34m=\u001b[0m\u001b[0mpad\u001b[0m\u001b[0;34m,\u001b[0m \u001b[0mh_pad\u001b[0m\u001b[0;34m=\u001b[0m\u001b[0mh_pad\u001b[0m\u001b[0;34m,\u001b[0m \u001b[0mw_pad\u001b[0m\u001b[0;34m=\u001b[0m\u001b[0mw_pad\u001b[0m\u001b[0;34m,\u001b[0m\u001b[0;34m\u001b[0m\u001b[0m\n\u001b[0;32m-> 1752\u001b[0;31m                                          rect=rect)\n\u001b[0m\u001b[1;32m   1753\u001b[0m \u001b[0;34m\u001b[0m\u001b[0m\n\u001b[1;32m   1754\u001b[0m         \u001b[0mself\u001b[0m\u001b[0;34m.\u001b[0m\u001b[0msubplots_adjust\u001b[0m\u001b[0;34m(\u001b[0m\u001b[0;34m**\u001b[0m\u001b[0mkwargs\u001b[0m\u001b[0;34m)\u001b[0m\u001b[0;34m\u001b[0m\u001b[0m\n",
      "\u001b[0;32m/Library/Frameworks/Python.framework/Versions/3.6/lib/python3.6/site-packages/matplotlib/tight_layout.py\u001b[0m in \u001b[0;36mget_tight_layout_figure\u001b[0;34m(fig, axes_list, subplotspec_list, renderer, pad, h_pad, w_pad, rect)\u001b[0m\n\u001b[1;32m    320\u001b[0m         \u001b[0msubplots\u001b[0m\u001b[0;34m.\u001b[0m\u001b[0mappend\u001b[0m\u001b[0;34m(\u001b[0m\u001b[0max\u001b[0m\u001b[0;34m)\u001b[0m\u001b[0;34m\u001b[0m\u001b[0m\n\u001b[1;32m    321\u001b[0m \u001b[0;34m\u001b[0m\u001b[0m\n\u001b[0;32m--> 322\u001b[0;31m     \u001b[0mmax_nrows\u001b[0m \u001b[0;34m=\u001b[0m \u001b[0mmax\u001b[0m\u001b[0;34m(\u001b[0m\u001b[0mnrows_list\u001b[0m\u001b[0;34m)\u001b[0m\u001b[0;34m\u001b[0m\u001b[0m\n\u001b[0m\u001b[1;32m    323\u001b[0m     \u001b[0mmax_ncols\u001b[0m \u001b[0;34m=\u001b[0m \u001b[0mmax\u001b[0m\u001b[0;34m(\u001b[0m\u001b[0mncols_list\u001b[0m\u001b[0;34m)\u001b[0m\u001b[0;34m\u001b[0m\u001b[0m\n\u001b[1;32m    324\u001b[0m \u001b[0;34m\u001b[0m\u001b[0m\n",
      "\u001b[0;31mValueError\u001b[0m: max() arg is an empty sequence"
     ],
     "output_type": "error"
    }
   ],
   "source": [
    "import matplotlib.pyplot as plt\n",
    "import numpy as np\n",
    "import json\n",
    "from sklearn.metrics import adjusted_rand_score, normalized_mutual_info_score\n",
    "\n",
    "from src.clustering.spectral_clustering import SpectralClustering\n",
    "from src.clustering.ward import Ward\n",
    "from src.graph.graph_generator import GraphGenerator\n",
    "from src.kernel.kernel import get_all_kernels\n",
    "\n",
    "n_clusters = 4\n",
    "generator = GraphGenerator(100, n_clusters, 0.2, 0.05)\n",
    "\n",
    "for kernel_class in get_all_kernels():\n",
    "    ward_results = {}\n",
    "    spectral_results = {}\n",
    "    all_ward_scores = []\n",
    "    all_spectral_scores = []\n",
    "    for i in range(0, 10):\n",
    "        graph = generator.generate_graph()\n",
    "        nodes = graph.nodes\n",
    "        edges = graph.edges\n",
    "        ward_scores = []\n",
    "        spectral_scores = []\n",
    "        kernel = kernel_class(edges)\n",
    "        for K in kernel.get_Ks():\n",
    "            ward_prediction = Ward(n_clusters).fit_predict(K)\n",
    "            ward_score = adjusted_rand_score(nodes, ward_prediction)\n",
    "            ward_scores.append(ward_score)\n",
    "            spectral_prediction = SpectralClustering(n_clusters).fit_predict(K)\n",
    "            spectral_score = adjusted_rand_score(nodes, spectral_prediction)\n",
    "            spectral_scores.append(spectral_score)\n",
    "        all_ward_scores.append(ward_scores)\n",
    "        all_spectral_scores.append(spectral_scores)\n",
    "    all_ward_scores = [list(i) for i in zip(*all_ward_scores)]\n",
    "    all_spectral_scores = [list(i) for i in zip(*all_spectral_scores)]\n",
    "    resulting_ward_score = [np.mean(x) for x in all_ward_scores]\n",
    "    resulting_spectral_score = [np.mean(x) for x in all_spectral_scores]\n",
    "    ward_results[kernel_class.name] = resulting_ward_score\n",
    "    spectral_results[kernel_class.name] = resulting_spectral_score\n",
    "    \n",
    "    with open('src/results/my/my_graphs/ward' + kernel_class.name + '.txt', 'w') as file:\n",
    "        file.write(json.dumps(ward_results))\n",
    "    with open('src/results/my/my_graphs/k-means' + kernel_class.name + '.txt', 'w') as file:\n",
    "        file.write(json.dumps(spectral_results))\n",
    "        \n",
    "    plt.figure(figsize=(10,10))\n",
    "    print('Ward ', kernel_class.name, 'best result: ', np.max(resulting_ward_score))\n",
    "    print('K-means ', kernel_class.name, 'best result: ', np.max(resulting_spectral_score))\n",
    "    for kernel_name, resulting_score in ward_results.items():\n",
    "        print(kernel_name, 'best result: ', np.max(resulting_score))\n",
    "        plt.plot(kernel_class.default_params, resulting_score, label='Ward')\n",
    "    for kernel_name, resulting_score in spectral_results.items():\n",
    "        print(kernel_name, 'best result: ', np.max(resulting_score))\n",
    "        plt.plot(kernel_class.default_params, resulting_score, label='K-means')\n",
    "    # plt.plot(kernel_class.default_params, resulting_spectral_score, label='K-means')\n",
    "    plt.title(kernel_class.name + ', n_clusters=' + str(n_clusters))\n",
    "    plt.legend()\n",
    "    plt.show()"
   ]
  },
  {
   "cell_type": "code",
   "execution_count": null,
   "metadata": {},
   "outputs": [],
   "source": [
    "import matplotlib.pyplot as plt\n",
    "import numpy as np\n",
    "import json\n",
    "from sklearn.metrics import adjusted_rand_score, normalized_mutual_info_score\n",
    "\n",
    "from src.clustering.spectral_clustering import SpectralClustering\n",
    "from src.graph.graph_generator import GraphGenerator\n",
    "from src.kernel.kernel import get_all_kernels\n",
    "\n",
    "\n",
    "generator = GraphGenerator(200, 4, 0.2, 0.05)\n",
    "n_clusters = 4\n",
    "\n",
    "for kernel_class in get_all_kernels():\n",
    "    results = {}\n",
    "    all_scores = []\n",
    "    for i in range(0, 50):\n",
    "        graph = generator.generate_graph()\n",
    "        nodes = graph.nodes\n",
    "        edges = graph.edges\n",
    "        scores = []\n",
    "        kernel = kernel_class(edges)\n",
    "        for K in kernel.get_Ks():\n",
    "            prediction = SpectralClustering(n_clusters).fit_predict(K)\n",
    "            score = adjusted_rand_score(nodes, prediction)\n",
    "            scores.append(score)\n",
    "        all_scores.append(scores)\n",
    "    all_scores = [list(i) for i in zip(*all_scores)]\n",
    "    resulting_score = [np.mean(x) for x in all_scores]\n",
    "    results[kernel_class.name] = resulting_score\n",
    "    \n",
    "    with open('src/results/my/' + kernel_class.name + '.txt', 'w') as file:\n",
    "        file.write(json.dumps(results))\n",
    "        \n",
    "    plt.figure(figsize=(10,10))\n",
    "    for kernel_name, resulting_score in results.items():\n",
    "        print(kernel_name, 'best result: ', np.max(resulting_score))\n",
    "        plt.plot(kernel_class.default_params, resulting_score, label=kernel_name)\n",
    "    plt.title('K-means ' + kernel_class.name + ', n_clusters=' + str(n_clusters))\n",
    "    plt.legend()\n",
    "    plt.show()"
   ]
  },
  {
   "cell_type": "code",
   "execution_count": 2,
   "metadata": {},
   "outputs": [
    {
     "name": "stdout",
     "output_type": "stream",
     "text": [
      "news_2cl_1 PlainWalk 0.046538240459 0.131073947536\n"
     ]
    },
    {
     "name": "stdout",
     "output_type": "stream",
     "text": [
      "news_2cl_1 LogPlainWalk 0.765036841281 0.666211167588\n"
     ]
    },
    {
     "name": "stdout",
     "output_type": "stream",
     "text": [
      "news_2cl_1 Communicability 0.0398139851986 0.137056806879\n"
     ]
    },
    {
     "name": "stdout",
     "output_type": "stream",
     "text": [
      "news_2cl_1 LogCommunicability 0.0398139851986 0.137056806879\n"
     ]
    },
    {
     "name": "stdout",
     "output_type": "stream",
     "text": [
      "news_2cl_1 Forest 0.0 0.0157732781716\n"
     ]
    },
    {
     "name": "stdout",
     "output_type": "stream",
     "text": [
      "news_2cl_1 LogForest 0.0 0.0157732781716\n"
     ]
    },
    {
     "name": "stdout",
     "output_type": "stream",
     "text": [
      "news_2cl_1 Heat 0.0 0.0157732781716\n"
     ]
    },
    {
     "name": "stdout",
     "output_type": "stream",
     "text": [
      "news_2cl_1 LogHeat 0.0 0.0157732781716\ndata news_2cl_1 finished!\n"
     ]
    },
    {
     "name": "stdout",
     "output_type": "stream",
     "text": [
      "news_2cl_2 PlainWalk 0.0301532840005 0.141592004211\n"
     ]
    },
    {
     "name": "stdout",
     "output_type": "stream",
     "text": [
      "news_2cl_2 LogPlainWalk 0.678368603577 0.584491891861\n"
     ]
    },
    {
     "name": "stdout",
     "output_type": "stream",
     "text": [
      "news_2cl_2 Communicability 0.0897374128245 0.216205884855\n"
     ]
    },
    {
     "name": "stdout",
     "output_type": "stream",
     "text": [
      "news_2cl_2 LogCommunicability 0.0897374128245 0.216205884855\n"
     ]
    },
    {
     "name": "stdout",
     "output_type": "stream",
     "text": [
      "news_2cl_2 Forest 5.0760113667e-05 0.0159338802362\n"
     ]
    },
    {
     "name": "stdout",
     "output_type": "stream",
     "text": [
      "news_2cl_2 LogForest 5.0760113667e-05 0.0159338802362\n"
     ]
    },
    {
     "name": "stdout",
     "output_type": "stream",
     "text": [
      "news_2cl_2 Heat 5.0760113667e-05 0.0159338802362\n"
     ]
    },
    {
     "name": "stdout",
     "output_type": "stream",
     "text": [
      "news_2cl_2 LogHeat 5.0760113667e-05 0.0159338802362\ndata news_2cl_2 finished!\n"
     ]
    },
    {
     "name": "stdout",
     "output_type": "stream",
     "text": [
      "news_2cl_3 PlainWalk 0.606586521764 0.558476362302\n"
     ]
    },
    {
     "name": "stdout",
     "output_type": "stream",
     "text": [
      "news_2cl_3 LogPlainWalk 0.836424412989 0.748423673259\n"
     ]
    },
    {
     "name": "stdout",
     "output_type": "stream",
     "text": [
      "news_2cl_3 Communicability 0.420069705463 0.446307464619\n"
     ]
    },
    {
     "name": "stdout",
     "output_type": "stream",
     "text": [
      "news_2cl_3 LogCommunicability 0.420069705463 0.446307464619\n"
     ]
    },
    {
     "name": "stdout",
     "output_type": "stream",
     "text": [
      "news_2cl_3 Forest 2.51892309488e-05 0.0158531978678\n"
     ]
    },
    {
     "name": "stdout",
     "output_type": "stream",
     "text": [
      "news_2cl_3 LogForest 2.51892309488e-05 0.0158531978678\n"
     ]
    },
    {
     "name": "stdout",
     "output_type": "stream",
     "text": [
      "news_2cl_3 Heat 2.51892309488e-05 0.0158531978678\n"
     ]
    },
    {
     "name": "stdout",
     "output_type": "stream",
     "text": [
      "news_2cl_3 LogHeat 2.51892309488e-05 0.0158531978678\ndata news_2cl_3 finished!\n"
     ]
    },
    {
     "name": "stdout",
     "output_type": "stream",
     "text": [
      "news_3cl_1 PlainWalk 0.294076407196 0.435537100686\n"
     ]
    },
    {
     "name": "stdout",
     "output_type": "stream",
     "text": [
      "news_3cl_1 LogPlainWalk 0.698476902125 0.626289453208\n"
     ]
    },
    {
     "name": "stdout",
     "output_type": "stream",
     "text": [
      "news_3cl_1 Communicability 0.396134440162 0.527740021915\n"
     ]
    },
    {
     "name": "stdout",
     "output_type": "stream",
     "text": [
      "news_3cl_1 LogCommunicability 0.396134440162 0.527740021915\n"
     ]
    },
    {
     "name": "stdout",
     "output_type": "stream",
     "text": [
      "news_3cl_1 Forest 1.1167038899e-05 0.0223206287314\n"
     ]
    },
    {
     "name": "stdout",
     "output_type": "stream",
     "text": [
      "news_3cl_1 LogForest 1.1167038899e-05 0.0223206287314\n"
     ]
    }
   ],
   "source": [
    "import matplotlib.pyplot as plt\n",
    "import numpy as np\n",
    "import json\n",
    "from sklearn.metrics import adjusted_rand_score, normalized_mutual_info_score\n",
    "\n",
    "from src.clustering.ward import Ward\n",
    "from src.graph.graph_generator import GraphGenerator\n",
    "from src.kernel.kernel import get_all_kernels\n",
    "from src.dataset.dataset import football, polbooks, polblogs, zachary, news\n",
    "\n",
    "all_data = news\n",
    "\n",
    "for data in all_data:\n",
    "    graph, info = data\n",
    "    results = {}\n",
    "    for kernel_class in get_all_kernels():\n",
    "        results[kernel_class.name] = {}\n",
    "        nodes = graph.nodes\n",
    "        edges = graph.edges\n",
    "        scores_1 = []\n",
    "        scores_2 = []\n",
    "        kernel = kernel_class(edges)\n",
    "        for K in kernel.get_Ks():\n",
    "            prediction = Ward(info['k']).fit_predict(K)\n",
    "            score_1 = adjusted_rand_score(nodes, prediction)\n",
    "            scores_1.append(score_1)\n",
    "            score_2 = normalized_mutual_info_score(nodes, prediction)\n",
    "            scores_2.append(score_2)\n",
    "        results[kernel_class.name] = str(max(scores_1)) + ' ' + str(max(scores_2))\n",
    "        print(info['name'] + ' ' + kernel_class.name + ' ' + str(max(scores_1)) + ' ' + str(max(scores_2)))\n",
    "    print('data ' + info['name'] + ' finished!')\n",
    "    with open('src/results/my/news/' + info['name'] + '.txt', 'w') as file:\n",
    "        file.write(json.dumps(results))"
   ]
  },
  {
   "cell_type": "code",
   "execution_count": 1,
   "metadata": {},
   "outputs": [
    {
     "name": "stdout",
     "output_type": "stream",
     "text": [
      "football PlainWalk 0.906334157557 0.930810884185\n"
     ]
    },
    {
     "name": "stdout",
     "output_type": "stream",
     "text": [
      "football LogPlainWalk 0.896650009791 0.92419578687\n"
     ]
    },
    {
     "name": "stdout",
     "output_type": "stream",
     "text": [
      "football Communicability 0.909377088152 0.935845790439\n"
     ]
    },
    {
     "name": "stdout",
     "output_type": "stream",
     "text": [
      "football LogCommunicability 0.909377088152 0.935845790439\n"
     ]
    },
    {
     "name": "stdout",
     "output_type": "stream",
     "text": [
      "football Forest 0.896650009791 0.92419578687\n"
     ]
    },
    {
     "name": "stdout",
     "output_type": "stream",
     "text": [
      "football LogForest 0.896650009791 0.92419578687\n"
     ]
    },
    {
     "name": "stdout",
     "output_type": "stream",
     "text": [
      "football Heat 0.896650009791 0.926884056453\n"
     ]
    },
    {
     "name": "stdout",
     "output_type": "stream",
     "text": [
      "football LogHeat 0.896650009791 0.926884056453\ndata football finished!\n"
     ]
    },
    {
     "name": "stdout",
     "output_type": "stream",
     "text": [
      "polbooks PlainWalk 0.689859519674 0.58624585164\n"
     ]
    },
    {
     "name": "stdout",
     "output_type": "stream",
     "text": [
      "polbooks LogPlainWalk 0.71834696317 0.62718880803\n"
     ]
    },
    {
     "name": "stdout",
     "output_type": "stream",
     "text": [
      "polbooks Communicability 0.680461669793 0.576107450818\n"
     ]
    },
    {
     "name": "stdout",
     "output_type": "stream",
     "text": [
      "polbooks LogCommunicability 0.680461669793 0.576107450818\n"
     ]
    },
    {
     "name": "stdout",
     "output_type": "stream",
     "text": [
      "polbooks Forest 0.665203435003 0.597513219481\n"
     ]
    },
    {
     "name": "stdout",
     "output_type": "stream",
     "text": [
      "polbooks LogForest 0.665203435003 0.597513219481\n"
     ]
    },
    {
     "name": "stdout",
     "output_type": "stream",
     "text": [
      "polbooks Heat 0.708482177779 0.625320906524\n"
     ]
    },
    {
     "name": "stdout",
     "output_type": "stream",
     "text": [
      "polbooks LogHeat 0.708482177779 0.625320906524\ndata polbooks finished!\n"
     ]
    },
    {
     "name": "stdout",
     "output_type": "stream",
     "text": [
      "zachary PlainWalk 1.0 1.0\n"
     ]
    },
    {
     "name": "stdout",
     "output_type": "stream",
     "text": [
      "zachary LogPlainWalk 1.0 1.0\n"
     ]
    },
    {
     "name": "stdout",
     "output_type": "stream",
     "text": [
      "zachary Communicability 1.0 1.0\n"
     ]
    },
    {
     "name": "stdout",
     "output_type": "stream",
     "text": [
      "zachary LogCommunicability 1.0 1.0\n"
     ]
    },
    {
     "name": "stdout",
     "output_type": "stream",
     "text": [
      "zachary Forest 0.153463105478 0.272495191494\n"
     ]
    },
    {
     "name": "stdout",
     "output_type": "stream",
     "text": [
      "zachary LogForest 0.153463105478 0.272495191494\n"
     ]
    },
    {
     "name": "stdout",
     "output_type": "stream",
     "text": [
      "zachary Heat 1.0 1.0\n"
     ]
    },
    {
     "name": "stdout",
     "output_type": "stream",
     "text": [
      "zachary LogHeat 1.0 1.0\ndata zachary finished!\n"
     ]
    },
    {
     "ename": "KeyboardInterrupt",
     "evalue": "",
     "traceback": [
      "\u001b[0;31m---------------------------------------------------------------------------\u001b[0m",
      "\u001b[0;31mKeyboardInterrupt\u001b[0m                         Traceback (most recent call last)",
      "\u001b[0;32m<ipython-input-1-1d562dd7a92e>\u001b[0m in \u001b[0;36m<module>\u001b[0;34m()\u001b[0m\n\u001b[1;32m     22\u001b[0m         \u001b[0mkernel\u001b[0m \u001b[0;34m=\u001b[0m \u001b[0mkernel_class\u001b[0m\u001b[0;34m(\u001b[0m\u001b[0medges\u001b[0m\u001b[0;34m)\u001b[0m\u001b[0;34m\u001b[0m\u001b[0m\n\u001b[1;32m     23\u001b[0m         \u001b[0;32mfor\u001b[0m \u001b[0mK\u001b[0m \u001b[0;32min\u001b[0m \u001b[0mkernel\u001b[0m\u001b[0;34m.\u001b[0m\u001b[0mget_Ks\u001b[0m\u001b[0;34m(\u001b[0m\u001b[0;34m)\u001b[0m\u001b[0;34m:\u001b[0m\u001b[0;34m\u001b[0m\u001b[0m\n\u001b[0;32m---> 24\u001b[0;31m             \u001b[0mprediction\u001b[0m \u001b[0;34m=\u001b[0m \u001b[0mWard\u001b[0m\u001b[0;34m(\u001b[0m\u001b[0minfo\u001b[0m\u001b[0;34m[\u001b[0m\u001b[0;34m'k'\u001b[0m\u001b[0;34m]\u001b[0m\u001b[0;34m)\u001b[0m\u001b[0;34m.\u001b[0m\u001b[0mfit_predict\u001b[0m\u001b[0;34m(\u001b[0m\u001b[0mK\u001b[0m\u001b[0;34m)\u001b[0m\u001b[0;34m\u001b[0m\u001b[0m\n\u001b[0m\u001b[1;32m     25\u001b[0m             \u001b[0mscore_1\u001b[0m \u001b[0;34m=\u001b[0m \u001b[0madjusted_rand_score\u001b[0m\u001b[0;34m(\u001b[0m\u001b[0mnodes\u001b[0m\u001b[0;34m,\u001b[0m \u001b[0mprediction\u001b[0m\u001b[0;34m)\u001b[0m\u001b[0;34m\u001b[0m\u001b[0m\n\u001b[1;32m     26\u001b[0m             \u001b[0mscores_1\u001b[0m\u001b[0;34m.\u001b[0m\u001b[0mappend\u001b[0m\u001b[0;34m(\u001b[0m\u001b[0mscore_1\u001b[0m\u001b[0;34m)\u001b[0m\u001b[0;34m\u001b[0m\u001b[0m\n",
      "\u001b[0;32m/Library/Frameworks/Python.framework/Versions/3.6/lib/python3.6/site-packages/sklearn/base.py\u001b[0m in \u001b[0;36mfit_predict\u001b[0;34m(self, X, y)\u001b[0m\n\u001b[1;32m    408\u001b[0m         \u001b[0;31m# non-optimized default implementation; override when a better\u001b[0m\u001b[0;34m\u001b[0m\u001b[0;34m\u001b[0m\u001b[0m\n\u001b[1;32m    409\u001b[0m         \u001b[0;31m# method is possible for a given clustering algorithm\u001b[0m\u001b[0;34m\u001b[0m\u001b[0;34m\u001b[0m\u001b[0m\n\u001b[0;32m--> 410\u001b[0;31m         \u001b[0mself\u001b[0m\u001b[0;34m.\u001b[0m\u001b[0mfit\u001b[0m\u001b[0;34m(\u001b[0m\u001b[0mX\u001b[0m\u001b[0;34m)\u001b[0m\u001b[0;34m\u001b[0m\u001b[0m\n\u001b[0m\u001b[1;32m    411\u001b[0m         \u001b[0;32mreturn\u001b[0m \u001b[0mself\u001b[0m\u001b[0;34m.\u001b[0m\u001b[0mlabels_\u001b[0m\u001b[0;34m\u001b[0m\u001b[0m\n\u001b[1;32m    412\u001b[0m \u001b[0;34m\u001b[0m\u001b[0m\n",
      "\u001b[0;32m/Users/kolya/Desktop/Diploma/bachelor_thesis/src/clustering/ward.py\u001b[0m in \u001b[0;36mfit\u001b[0;34m(self, K, y, sample_weight)\u001b[0m\n\u001b[1;32m     32\u001b[0m \u001b[0;34m\u001b[0m\u001b[0m\n\u001b[1;32m     33\u001b[0m     \u001b[0;32mdef\u001b[0m \u001b[0mfit\u001b[0m\u001b[0;34m(\u001b[0m\u001b[0mself\u001b[0m\u001b[0;34m,\u001b[0m \u001b[0mK\u001b[0m\u001b[0;34m,\u001b[0m \u001b[0my\u001b[0m\u001b[0;34m=\u001b[0m\u001b[0;32mNone\u001b[0m\u001b[0;34m,\u001b[0m \u001b[0msample_weight\u001b[0m\u001b[0;34m=\u001b[0m\u001b[0;32mNone\u001b[0m\u001b[0;34m)\u001b[0m\u001b[0;34m:\u001b[0m\u001b[0;34m\u001b[0m\u001b[0m\n\u001b[0;32m---> 34\u001b[0;31m         \u001b[0mself\u001b[0m\u001b[0;34m.\u001b[0m\u001b[0mlabels_\u001b[0m \u001b[0;34m=\u001b[0m \u001b[0mself\u001b[0m\u001b[0;34m.\u001b[0m\u001b[0mpredict\u001b[0m\u001b[0;34m(\u001b[0m\u001b[0mK\u001b[0m\u001b[0;34m)\u001b[0m\u001b[0;34m\u001b[0m\u001b[0m\n\u001b[0m\u001b[1;32m     35\u001b[0m         \u001b[0;32mreturn\u001b[0m \u001b[0mself\u001b[0m\u001b[0;34m\u001b[0m\u001b[0m\n\u001b[1;32m     36\u001b[0m \u001b[0;34m\u001b[0m\u001b[0m\n",
      "\u001b[0;32m/Users/kolya/Desktop/Diploma/bachelor_thesis/src/clustering/ward.py\u001b[0m in \u001b[0;36mpredict\u001b[0;34m(self, K)\u001b[0m\n\u001b[1;32m     38\u001b[0m         \u001b[0mclusters\u001b[0m \u001b[0;34m=\u001b[0m \u001b[0;34m[\u001b[0m\u001b[0mCluster\u001b[0m\u001b[0;34m(\u001b[0m\u001b[0;34m[\u001b[0m\u001b[0mi\u001b[0m\u001b[0;34m]\u001b[0m\u001b[0;34m,\u001b[0m \u001b[0mK\u001b[0m\u001b[0;34m.\u001b[0m\u001b[0mshape\u001b[0m\u001b[0;34m[\u001b[0m\u001b[0;36m0\u001b[0m\u001b[0;34m]\u001b[0m\u001b[0;34m)\u001b[0m \u001b[0;32mfor\u001b[0m \u001b[0mi\u001b[0m \u001b[0;32min\u001b[0m \u001b[0mrange\u001b[0m\u001b[0;34m(\u001b[0m\u001b[0mK\u001b[0m\u001b[0;34m.\u001b[0m\u001b[0mshape\u001b[0m\u001b[0;34m[\u001b[0m\u001b[0;36m0\u001b[0m\u001b[0;34m]\u001b[0m\u001b[0;34m)\u001b[0m\u001b[0;34m]\u001b[0m\u001b[0;34m\u001b[0m\u001b[0m\n\u001b[1;32m     39\u001b[0m         \u001b[0;32mfor\u001b[0m \u001b[0mi\u001b[0m \u001b[0;32min\u001b[0m \u001b[0mrange\u001b[0m\u001b[0;34m(\u001b[0m\u001b[0mK\u001b[0m\u001b[0;34m.\u001b[0m\u001b[0mshape\u001b[0m\u001b[0;34m[\u001b[0m\u001b[0;36m0\u001b[0m\u001b[0;34m]\u001b[0m \u001b[0;34m-\u001b[0m \u001b[0mself\u001b[0m\u001b[0;34m.\u001b[0m\u001b[0mn_clusters\u001b[0m\u001b[0;34m)\u001b[0m\u001b[0;34m:\u001b[0m\u001b[0;34m\u001b[0m\u001b[0m\n\u001b[0;32m---> 40\u001b[0;31m             \u001b[0mself\u001b[0m\u001b[0;34m.\u001b[0m\u001b[0m_iteration\u001b[0m\u001b[0;34m(\u001b[0m\u001b[0mK\u001b[0m\u001b[0;34m,\u001b[0m \u001b[0mclusters\u001b[0m\u001b[0;34m)\u001b[0m\u001b[0;34m\u001b[0m\u001b[0m\n\u001b[0m\u001b[1;32m     41\u001b[0m \u001b[0;34m\u001b[0m\u001b[0m\n\u001b[1;32m     42\u001b[0m         \u001b[0mresult\u001b[0m \u001b[0;34m=\u001b[0m \u001b[0mnp\u001b[0m\u001b[0;34m.\u001b[0m\u001b[0mzeros\u001b[0m\u001b[0;34m(\u001b[0m\u001b[0;34m(\u001b[0m\u001b[0mK\u001b[0m\u001b[0;34m.\u001b[0m\u001b[0mshape\u001b[0m\u001b[0;34m[\u001b[0m\u001b[0;36m0\u001b[0m\u001b[0;34m]\u001b[0m\u001b[0;34m,\u001b[0m\u001b[0;34m)\u001b[0m\u001b[0;34m,\u001b[0m \u001b[0mdtype\u001b[0m\u001b[0;34m=\u001b[0m\u001b[0mnp\u001b[0m\u001b[0;34m.\u001b[0m\u001b[0mint\u001b[0m\u001b[0;34m)\u001b[0m\u001b[0;34m\u001b[0m\u001b[0m\n",
      "\u001b[0;32m/Users/kolya/Desktop/Diploma/bachelor_thesis/src/clustering/ward.py\u001b[0m in \u001b[0;36m_iteration\u001b[0;34m(self, K, clusters)\u001b[0m\n\u001b[1;32m     50\u001b[0m         \u001b[0;32mfor\u001b[0m \u001b[0mCk_idx\u001b[0m\u001b[0;34m,\u001b[0m \u001b[0mCk\u001b[0m \u001b[0;32min\u001b[0m \u001b[0menumerate\u001b[0m\u001b[0;34m(\u001b[0m\u001b[0mclusters\u001b[0m\u001b[0;34m)\u001b[0m\u001b[0;34m:\u001b[0m\u001b[0;34m\u001b[0m\u001b[0m\n\u001b[1;32m     51\u001b[0m             \u001b[0;32mfor\u001b[0m \u001b[0mCl_idx\u001b[0m\u001b[0;34m,\u001b[0m \u001b[0mCl\u001b[0m \u001b[0;32min\u001b[0m \u001b[0menumerate\u001b[0m\u001b[0;34m(\u001b[0m\u001b[0mclusters\u001b[0m\u001b[0;34m[\u001b[0m\u001b[0mCk_idx\u001b[0m \u001b[0;34m+\u001b[0m \u001b[0;36m1\u001b[0m\u001b[0;34m:\u001b[0m\u001b[0;34m]\u001b[0m\u001b[0;34m)\u001b[0m\u001b[0;34m:\u001b[0m\u001b[0;34m\u001b[0m\u001b[0m\n\u001b[0;32m---> 52\u001b[0;31m                 \u001b[0mcurrentΔJ\u001b[0m \u001b[0;34m=\u001b[0m \u001b[0mCk\u001b[0m\u001b[0;34m.\u001b[0m\u001b[0mgetΔJ\u001b[0m\u001b[0;34m(\u001b[0m\u001b[0mK\u001b[0m\u001b[0;34m,\u001b[0m \u001b[0mCl\u001b[0m\u001b[0;34m)\u001b[0m\u001b[0;34m\u001b[0m\u001b[0m\n\u001b[0m\u001b[1;32m     53\u001b[0m                 \u001b[0;32mif\u001b[0m \u001b[0mcurrentΔJ\u001b[0m \u001b[0;34m<\u001b[0m \u001b[0mminΔJ\u001b[0m\u001b[0;34m:\u001b[0m\u001b[0;34m\u001b[0m\u001b[0m\n\u001b[1;32m     54\u001b[0m                     \u001b[0mminCk\u001b[0m\u001b[0;34m,\u001b[0m \u001b[0mminCl\u001b[0m\u001b[0;34m,\u001b[0m \u001b[0mminΔJ\u001b[0m \u001b[0;34m=\u001b[0m \u001b[0mCk\u001b[0m\u001b[0;34m,\u001b[0m \u001b[0mCl\u001b[0m\u001b[0;34m,\u001b[0m \u001b[0mcurrentΔJ\u001b[0m\u001b[0;34m\u001b[0m\u001b[0m\n",
      "\u001b[0;32m/Users/kolya/Desktop/Diploma/bachelor_thesis/src/clustering/ward.py\u001b[0m in \u001b[0;36mgetΔJ\u001b[0;34m(self, K, Cl)\u001b[0m\n\u001b[1;32m     16\u001b[0m \u001b[0;34m\u001b[0m\u001b[0m\n\u001b[1;32m     17\u001b[0m     \u001b[0;32mdef\u001b[0m \u001b[0mgetΔJ\u001b[0m\u001b[0;34m(\u001b[0m\u001b[0mself\u001b[0m\u001b[0;34m,\u001b[0m \u001b[0mK\u001b[0m\u001b[0;34m,\u001b[0m \u001b[0mCl\u001b[0m\u001b[0;34m)\u001b[0m\u001b[0;34m:\u001b[0m\u001b[0;34m\u001b[0m\u001b[0m\n\u001b[0;32m---> 18\u001b[0;31m         \u001b[0;32mreturn\u001b[0m \u001b[0mself\u001b[0m\u001b[0;34m.\u001b[0m\u001b[0mΔJ\u001b[0m\u001b[0;34m[\u001b[0m\u001b[0mCl\u001b[0m\u001b[0;34m]\u001b[0m \u001b[0;32mif\u001b[0m \u001b[0mCl\u001b[0m \u001b[0;32min\u001b[0m \u001b[0mself\u001b[0m\u001b[0;34m.\u001b[0m\u001b[0mΔJ\u001b[0m \u001b[0;32melse\u001b[0m \u001b[0mself\u001b[0m\u001b[0;34m.\u001b[0m\u001b[0mcalcΔJ\u001b[0m\u001b[0;34m(\u001b[0m\u001b[0mK\u001b[0m\u001b[0;34m,\u001b[0m \u001b[0mCl\u001b[0m\u001b[0;34m)\u001b[0m\u001b[0;34m\u001b[0m\u001b[0m\n\u001b[0m\u001b[1;32m     19\u001b[0m \u001b[0;34m\u001b[0m\u001b[0m\n\u001b[1;32m     20\u001b[0m     \u001b[0;31m# ΔJ = (n_k * n_l)/(n_k + n_l) * (h_k - h_l)^T * K * (h_k - h_l)\u001b[0m\u001b[0;34m\u001b[0m\u001b[0;34m\u001b[0m\u001b[0m\n",
      "\u001b[0;32m/Users/kolya/Desktop/Diploma/bachelor_thesis/src/clustering/ward.py\u001b[0m in \u001b[0;36mcalcΔJ\u001b[0;34m(self, K, Cl)\u001b[0m\n\u001b[1;32m     20\u001b[0m     \u001b[0;31m# ΔJ = (n_k * n_l)/(n_k + n_l) * (h_k - h_l)^T * K * (h_k - h_l)\u001b[0m\u001b[0;34m\u001b[0m\u001b[0;34m\u001b[0m\u001b[0m\n\u001b[1;32m     21\u001b[0m     \u001b[0;32mdef\u001b[0m \u001b[0mcalcΔJ\u001b[0m\u001b[0;34m(\u001b[0m\u001b[0mself\u001b[0m\u001b[0;34m,\u001b[0m \u001b[0mK\u001b[0m\u001b[0;34m,\u001b[0m \u001b[0mCl\u001b[0m\u001b[0;34m)\u001b[0m\u001b[0;34m:\u001b[0m\u001b[0;34m\u001b[0m\u001b[0m\n\u001b[0;32m---> 22\u001b[0;31m         \u001b[0mhkhl\u001b[0m \u001b[0;34m=\u001b[0m \u001b[0mnp\u001b[0m\u001b[0;34m.\u001b[0m\u001b[0marray\u001b[0m\u001b[0;34m(\u001b[0m\u001b[0mself\u001b[0m\u001b[0;34m.\u001b[0m\u001b[0mh\u001b[0m \u001b[0;34m-\u001b[0m \u001b[0mCl\u001b[0m\u001b[0;34m.\u001b[0m\u001b[0mh\u001b[0m\u001b[0;34m)\u001b[0m\u001b[0;34m.\u001b[0m\u001b[0mreshape\u001b[0m\u001b[0;34m(\u001b[0m\u001b[0;34m(\u001b[0m\u001b[0;34m-\u001b[0m\u001b[0;36m1\u001b[0m\u001b[0;34m,\u001b[0m \u001b[0;36m1\u001b[0m\u001b[0;34m)\u001b[0m\u001b[0;34m)\u001b[0m\u001b[0;34m\u001b[0m\u001b[0m\n\u001b[0m\u001b[1;32m     23\u001b[0m         \u001b[0mhkhlT\u001b[0m \u001b[0;34m=\u001b[0m \u001b[0mhkhl\u001b[0m\u001b[0;34m.\u001b[0m\u001b[0mT\u001b[0m\u001b[0;34m\u001b[0m\u001b[0m\n\u001b[1;32m     24\u001b[0m         \u001b[0mcurrentΔJ\u001b[0m \u001b[0;34m=\u001b[0m \u001b[0;34m(\u001b[0m\u001b[0mself\u001b[0m\u001b[0;34m.\u001b[0m\u001b[0mn\u001b[0m \u001b[0;34m*\u001b[0m \u001b[0mCl\u001b[0m\u001b[0;34m.\u001b[0m\u001b[0mn\u001b[0m\u001b[0;34m)\u001b[0m \u001b[0;34m*\u001b[0m \u001b[0mhkhlT\u001b[0m\u001b[0;34m.\u001b[0m\u001b[0mdot\u001b[0m\u001b[0;34m(\u001b[0m\u001b[0mK\u001b[0m\u001b[0;34m)\u001b[0m\u001b[0;34m.\u001b[0m\u001b[0mdot\u001b[0m\u001b[0;34m(\u001b[0m\u001b[0mhkhl\u001b[0m\u001b[0;34m)\u001b[0m\u001b[0;34m[\u001b[0m\u001b[0;36m0\u001b[0m\u001b[0;34m]\u001b[0m\u001b[0;34m[\u001b[0m\u001b[0;36m0\u001b[0m\u001b[0;34m]\u001b[0m \u001b[0;34m/\u001b[0m \u001b[0;34m(\u001b[0m\u001b[0mself\u001b[0m\u001b[0;34m.\u001b[0m\u001b[0mn\u001b[0m \u001b[0;34m+\u001b[0m \u001b[0mCl\u001b[0m\u001b[0;34m.\u001b[0m\u001b[0mn\u001b[0m\u001b[0;34m)\u001b[0m\u001b[0;34m\u001b[0m\u001b[0m\n",
      "\u001b[0;31mKeyboardInterrupt\u001b[0m: "
     ],
     "output_type": "error"
    }
   ],
   "source": [
    "import matplotlib.pyplot as plt\n",
    "import numpy as np\n",
    "import json\n",
    "from sklearn.metrics import adjusted_rand_score, normalized_mutual_info_score\n",
    "\n",
    "from src.clustering.ward import Ward\n",
    "from src.graph.graph_generator import GraphGenerator\n",
    "from src.kernel.kernel import get_all_kernels\n",
    "from src.dataset.dataset import football, polbooks, polblogs, zachary, news\n",
    "\n",
    "all_data = [football, polbooks, zachary, polblogs]\n",
    "\n",
    "for data in all_data:\n",
    "    graph, info = data\n",
    "    results = {}\n",
    "    for kernel_class in get_all_kernels():\n",
    "        results[kernel_class.name] = {}\n",
    "        nodes = graph.nodes\n",
    "        edges = graph.edges\n",
    "        scores_1 = []\n",
    "        scores_2 = []\n",
    "        kernel = kernel_class(edges)\n",
    "        for K in kernel.get_Ks():\n",
    "            prediction = Ward(info['k']).fit_predict(K)\n",
    "            score_1 = adjusted_rand_score(nodes, prediction)\n",
    "            scores_1.append(score_1)\n",
    "            score_2 = normalized_mutual_info_score(nodes, prediction)\n",
    "            scores_2.append(score_2)\n",
    "        results[kernel_class.name] = str(max(scores_1)) + ' ' + str(max(scores_2))\n",
    "        print(info['name'] + ' ' + kernel_class.name + ' ' + str(max(scores_1)) + ' ' + str(max(scores_2)))\n",
    "    print('data ' + info['name'] + ' finished!')\n",
    "    with open('src/results/my/others/' + info['name'] + '.txt', 'w') as file:\n",
    "        file.write(json.dumps(results))"
   ]
  },
  {
   "cell_type": "code",
   "execution_count": 11,
   "metadata": {},
   "outputs": [
    {
     "name": "stdout",
     "output_type": "stream",
     "text": [
      "data footballfor Ward started!\n"
     ]
    },
    {
     "name": "stdout",
     "output_type": "stream",
     "text": [
      "football PlainWalk ARI=0.906334157557 NMI=0.930810884185\n"
     ]
    },
    {
     "name": "stdout",
     "output_type": "stream",
     "text": [
      "football LogPlainWalk ARI=0.896650009791 NMI=0.92419578687\n"
     ]
    },
    {
     "name": "stdout",
     "output_type": "stream",
     "text": [
      "football Communicability ARI=0.909377088152 NMI=0.935845790439\n"
     ]
    },
    {
     "name": "stdout",
     "output_type": "stream",
     "text": [
      "football LogCommunicability ARI=0.909377088152 NMI=0.935845790439\n"
     ]
    },
    {
     "name": "stdout",
     "output_type": "stream",
     "text": [
      "football Forest ARI=0.896650009791 NMI=0.92419578687\n"
     ]
    },
    {
     "name": "stdout",
     "output_type": "stream",
     "text": [
      "football LogForest ARI=0.896650009791 NMI=0.92419578687\n"
     ]
    },
    {
     "name": "stdout",
     "output_type": "stream",
     "text": [
      "football Heat ARI=0.896650009791 NMI=0.926884056453\n"
     ]
    },
    {
     "name": "stdout",
     "output_type": "stream",
     "text": [
      "football LogHeat ARI=0.896650009791 NMI=0.926884056453\ndata footballfor Ward finished!\ndata polbooksfor Ward started!\n"
     ]
    },
    {
     "name": "stdout",
     "output_type": "stream",
     "text": [
      "polbooks PlainWalk ARI=0.689859519674 NMI=0.58624585164\n"
     ]
    },
    {
     "name": "stdout",
     "output_type": "stream",
     "text": [
      "polbooks LogPlainWalk ARI=0.71834696317 NMI=0.62718880803\n"
     ]
    },
    {
     "name": "stdout",
     "output_type": "stream",
     "text": [
      "polbooks Communicability ARI=0.680461669793 NMI=0.576107450818\n"
     ]
    },
    {
     "name": "stdout",
     "output_type": "stream",
     "text": [
      "polbooks LogCommunicability ARI=0.680461669793 NMI=0.576107450818\n"
     ]
    },
    {
     "name": "stdout",
     "output_type": "stream",
     "text": [
      "polbooks Forest ARI=0.665203435003 NMI=0.597513219481\n"
     ]
    },
    {
     "name": "stdout",
     "output_type": "stream",
     "text": [
      "polbooks LogForest ARI=0.665203435003 NMI=0.597513219481\n"
     ]
    },
    {
     "name": "stdout",
     "output_type": "stream",
     "text": [
      "polbooks Heat ARI=0.708482177779 NMI=0.625320906524\n"
     ]
    },
    {
     "name": "stdout",
     "output_type": "stream",
     "text": [
      "polbooks LogHeat ARI=0.708482177779 NMI=0.625320906524\ndata polbooksfor Ward finished!\ndata zacharyfor Ward started!\n"
     ]
    },
    {
     "name": "stdout",
     "output_type": "stream",
     "text": [
      "zachary PlainWalk ARI=1.0 NMI=1.0\n"
     ]
    },
    {
     "name": "stdout",
     "output_type": "stream",
     "text": [
      "zachary LogPlainWalk ARI=1.0 NMI=1.0\n"
     ]
    },
    {
     "name": "stdout",
     "output_type": "stream",
     "text": [
      "zachary Communicability ARI=1.0 NMI=1.0\n"
     ]
    },
    {
     "name": "stdout",
     "output_type": "stream",
     "text": [
      "zachary LogCommunicability ARI=1.0 NMI=1.0\n"
     ]
    },
    {
     "name": "stdout",
     "output_type": "stream",
     "text": [
      "zachary Forest ARI=0.153463105478 NMI=0.272495191494\n"
     ]
    },
    {
     "name": "stdout",
     "output_type": "stream",
     "text": [
      "zachary LogForest ARI=0.153463105478 NMI=0.272495191494\n"
     ]
    },
    {
     "name": "stdout",
     "output_type": "stream",
     "text": [
      "zachary Heat ARI=1.0 NMI=1.0\n"
     ]
    },
    {
     "name": "stdout",
     "output_type": "stream",
     "text": [
      "zachary LogHeat ARI=1.0 NMI=1.0\ndata zacharyfor Ward finished!\ndata footballfor K-means started!\n"
     ]
    },
    {
     "name": "stdout",
     "output_type": "stream",
     "text": [
      "football PlainWalk ARI=0.896650009791 NMI=0.92419578687\n"
     ]
    },
    {
     "name": "stdout",
     "output_type": "stream",
     "text": [
      "football LogPlainWalk ARI=0.903633402408 NMI=0.931437993801\n"
     ]
    },
    {
     "name": "stderr",
     "output_type": "stream",
     "text": [
      "/Library/Frameworks/Python.framework/Versions/3.6/lib/python3.6/site-packages/sklearn/utils/validation.py:382: ComplexWarning: Casting complex values to real discards the imaginary part\n  array = np.array(array, dtype=dtype, order=order, copy=copy)\n"
     ]
    },
    {
     "name": "stdout",
     "output_type": "stream",
     "text": [
      "football Communicability ARI=0.896650009791 NMI=0.92419578687\n"
     ]
    },
    {
     "name": "stdout",
     "output_type": "stream",
     "text": [
      "football LogCommunicability ARI=0.918537930393 NMI=0.941566907282\n"
     ]
    },
    {
     "name": "stdout",
     "output_type": "stream",
     "text": [
      "football Forest ARI=0.896650009791 NMI=0.92419578687\n"
     ]
    },
    {
     "name": "stdout",
     "output_type": "stream",
     "text": [
      "football LogForest ARI=0.896650009791 NMI=0.92419578687\n"
     ]
    },
    {
     "name": "stdout",
     "output_type": "stream",
     "text": [
      "football Heat ARI=0.896650009791 NMI=0.92419578687\n"
     ]
    },
    {
     "name": "stdout",
     "output_type": "stream",
     "text": [
      "football LogHeat ARI=0.896650009791 NMI=0.92419578687\ndata footballfor K-means finished!\ndata polbooksfor K-means started!\n"
     ]
    },
    {
     "name": "stdout",
     "output_type": "stream",
     "text": [
      "polbooks PlainWalk ARI=0.464821119481 NMI=0.503576380332\n"
     ]
    },
    {
     "name": "stdout",
     "output_type": "stream",
     "text": [
      "polbooks LogPlainWalk ARI=0.659870621792 NMI=0.556589890139\n"
     ]
    },
    {
     "name": "stdout",
     "output_type": "stream",
     "text": [
      "polbooks Communicability ARI=0.479292423774 NMI=0.520377033233\n"
     ]
    },
    {
     "name": "stdout",
     "output_type": "stream",
     "text": [
      "polbooks LogCommunicability ARI=0.472807846629 NMI=0.503576380332\n"
     ]
    },
    {
     "name": "stdout",
     "output_type": "stream",
     "text": [
      "polbooks Forest ARI=0.757927891189 NMI=0.686669885114\n"
     ]
    },
    {
     "name": "stdout",
     "output_type": "stream",
     "text": [
      "polbooks LogForest ARI=0.757927891189 NMI=0.686669885114\n"
     ]
    },
    {
     "name": "stdout",
     "output_type": "stream",
     "text": [
      "polbooks Heat ARI=0.757927891189 NMI=0.686669885114\n"
     ]
    },
    {
     "name": "stdout",
     "output_type": "stream",
     "text": [
      "polbooks LogHeat ARI=0.757927891189 NMI=0.686669885114\ndata polbooksfor K-means finished!\ndata zacharyfor K-means started!\n"
     ]
    },
    {
     "name": "stdout",
     "output_type": "stream",
     "text": [
      "zachary PlainWalk ARI=1.0 NMI=1.0\n"
     ]
    },
    {
     "name": "stdout",
     "output_type": "stream",
     "text": [
      "zachary LogPlainWalk ARI=1.0 NMI=1.0\n"
     ]
    },
    {
     "name": "stdout",
     "output_type": "stream",
     "text": [
      "zachary Communicability ARI=1.0 NMI=1.0\n"
     ]
    },
    {
     "name": "stdout",
     "output_type": "stream",
     "text": [
      "zachary LogCommunicability ARI=1.0 NMI=1.0\n"
     ]
    },
    {
     "name": "stdout",
     "output_type": "stream",
     "text": [
      "zachary Forest ARI=0.403372835005 NMI=0.455001600015\n"
     ]
    },
    {
     "name": "stdout",
     "output_type": "stream",
     "text": [
      "zachary LogForest ARI=0.403372835005 NMI=0.455001600015\n"
     ]
    },
    {
     "name": "stdout",
     "output_type": "stream",
     "text": [
      "zachary Heat ARI=0.403372835005 NMI=0.455001600015\n"
     ]
    },
    {
     "name": "stdout",
     "output_type": "stream",
     "text": [
      "zachary LogHeat ARI=0.403372835005 NMI=0.455001600015\ndata zacharyfor K-means finished!\n"
     ]
    }
   ],
   "source": [
    "import matplotlib.pyplot as plt\n",
    "import numpy as np\n",
    "import json\n",
    "from sklearn.metrics import adjusted_rand_score, normalized_mutual_info_score\n",
    "\n",
    "from src.clustering.kernel_kmeans import KernelKMeans\n",
    "from src.clustering.ward import Ward\n",
    "from src.graph.graph_generator import GraphGenerator\n",
    "from src.kernel.kernel import get_all_kernels\n",
    "from src.dataset.dataset import football, polbooks, polblogs, zachary, news\n",
    "\n",
    "all_data = [football, polbooks, zachary]\n",
    "\n",
    "for data in all_data:\n",
    "    graph, info = data\n",
    "    print('data ' + info['name'] + 'for Ward' + ' started!')\n",
    "    results = {}\n",
    "    for kernel_class in get_all_kernels():\n",
    "        results[kernel_class.name] = {}\n",
    "        nodes = graph.nodes\n",
    "        edges = graph.edges\n",
    "        scores_1 = []\n",
    "        scores_2 = []\n",
    "        kernel = kernel_class(edges)\n",
    "        for K in kernel.get_Ks():\n",
    "            prediction = Ward(info['k']).fit_predict(K)\n",
    "            score_1 = adjusted_rand_score(nodes, prediction)\n",
    "            scores_1.append(score_1)\n",
    "            score_2 = normalized_mutual_info_score(nodes, prediction)\n",
    "            scores_2.append(score_2)\n",
    "        results[kernel_class.name] = 'ARI=' + str(max(scores_1)) + ' NMI=' + str(max(scores_2))\n",
    "        print(info['name'] + ' ' + kernel_class.name + ' ' + results[kernel_class.name])\n",
    "    print('data ' + info['name'] + 'for Ward' + ' finished!')\n",
    "    with open('src/results/my/datasets/' + 'Ward_' + info['name'] + '.txt', 'w') as file:\n",
    "        file.write(json.dumps(results))"
   ]
  },
  {
   "cell_type": "code",
   "execution_count": 4,
   "metadata": {},
   "outputs": [
    {
     "name": "stdout",
     "output_type": "stream",
     "text": [
      "data footballfor K-means started!\nn_clusters = 12\n"
     ]
    },
    {
     "name": "stdout",
     "output_type": "stream",
     "text": [
      "football PlainWalk ARI=0.272706412144 NMI=0.49931821818\n"
     ]
    },
    {
     "name": "stderr",
     "output_type": "stream",
     "text": [
      "/Users/kolya/Desktop/Diploma/bachelor_thesis/src/clustering/kernel_kmeans.py:79: RuntimeWarning: invalid value encountered in true_divide\n  dist[:, j] -= 2 * np.sum(sw[mask] * K[:, mask], axis=1) / denom\n"
     ]
    },
    {
     "name": "stdout",
     "output_type": "stream",
     "text": [
      "football LogPlainWalk ARI=0.896650009791 NMI=0.926884056453\n"
     ]
    },
    {
     "name": "stdout",
     "output_type": "stream",
     "text": [
      "football Communicability ARI=0.894583009987 NMI=0.926699613767\n"
     ]
    },
    {
     "name": "stdout",
     "output_type": "stream",
     "text": [
      "football LogCommunicability ARI=0.906334157557 NMI=0.937330772002\n"
     ]
    },
    {
     "name": "stdout",
     "output_type": "stream",
     "text": [
      "football Forest ARI=0.109535427741 NMI=0.365833755789\n"
     ]
    },
    {
     "name": "stdout",
     "output_type": "stream",
     "text": [
      "football LogForest ARI=0.1111167055 NMI=0.355340140575\n"
     ]
    },
    {
     "name": "stdout",
     "output_type": "stream",
     "text": [
      "football Heat ARI=0.817137827277 NMI=0.895149110781\n"
     ]
    },
    {
     "name": "stdout",
     "output_type": "stream",
     "text": [
      "football LogHeat ARI=0.896650009791 NMI=0.926884056453\ndata footballfor K-means finished!\ndata polbooksfor K-means started!\nn_clusters = 3\n"
     ]
    },
    {
     "name": "stdout",
     "output_type": "stream",
     "text": [
      "polbooks PlainWalk ARI=0.294661370959 NMI=0.387835998191\n"
     ]
    },
    {
     "name": "stdout",
     "output_type": "stream",
     "text": [
      "polbooks LogPlainWalk ARI=0.676084837938 NMI=0.586701745183\n"
     ]
    },
    {
     "name": "stdout",
     "output_type": "stream",
     "text": [
      "polbooks Communicability ARI=0.415932406825 NMI=0.45732035514\n"
     ]
    },
    {
     "name": "stdout",
     "output_type": "stream",
     "text": [
      "polbooks LogCommunicability ARI=0.414806413942 NMI=0.455811255154\n"
     ]
    },
    {
     "name": "stdout",
     "output_type": "stream",
     "text": [
      "polbooks Forest ARI=0.707819422326 NMI=0.625493215541\n"
     ]
    },
    {
     "name": "stdout",
     "output_type": "stream",
     "text": [
      "polbooks LogForest ARI=0.677609550339 NMI=0.609400447299\n"
     ]
    },
    {
     "name": "stdout",
     "output_type": "stream",
     "text": [
      "polbooks Heat ARI=0.707819422326 NMI=0.608778043266\n"
     ]
    },
    {
     "name": "stdout",
     "output_type": "stream",
     "text": [
      "polbooks LogHeat ARI=0.707819422326 NMI=0.608778043266\ndata polbooksfor K-means finished!\ndata zacharyfor K-means started!\nn_clusters = 2\n"
     ]
    },
    {
     "name": "stderr",
     "output_type": "stream",
     "text": [
      "/Users/kolya/Desktop/Diploma/bachelor_thesis/src/clustering/kernel_kmeans.py:74: ComplexWarning: Casting complex values to real discards the imaginary part\n  within_distances[j] = dist_j\n"
     ]
    },
    {
     "ename": "TypeError",
     "evalue": "Cannot cast ufunc add output from dtype('complex128') to dtype('float64') with casting rule 'same_kind'",
     "traceback": [
      "\u001b[0;31m---------------------------------------------------------------------------\u001b[0m",
      "\u001b[0;31mTypeError\u001b[0m                                 Traceback (most recent call last)",
      "\u001b[0;32m<ipython-input-4-e87208865b89>\u001b[0m in \u001b[0;36m<module>\u001b[0;34m()\u001b[0m\n\u001b[1;32m     25\u001b[0m         \u001b[0mkernel\u001b[0m \u001b[0;34m=\u001b[0m \u001b[0mkernel_class\u001b[0m\u001b[0;34m(\u001b[0m\u001b[0medges\u001b[0m\u001b[0;34m)\u001b[0m\u001b[0;34m\u001b[0m\u001b[0m\n\u001b[1;32m     26\u001b[0m         \u001b[0;32mfor\u001b[0m \u001b[0mK\u001b[0m \u001b[0;32min\u001b[0m \u001b[0mkernel\u001b[0m\u001b[0;34m.\u001b[0m\u001b[0mget_Ks\u001b[0m\u001b[0;34m(\u001b[0m\u001b[0;34m)\u001b[0m\u001b[0;34m:\u001b[0m\u001b[0;34m\u001b[0m\u001b[0m\n\u001b[0;32m---> 27\u001b[0;31m             \u001b[0mprediction\u001b[0m \u001b[0;34m=\u001b[0m \u001b[0mKernelKMeans\u001b[0m\u001b[0;34m(\u001b[0m\u001b[0mn_clusters\u001b[0m\u001b[0;34m=\u001b[0m\u001b[0minfo\u001b[0m\u001b[0;34m[\u001b[0m\u001b[0;34m'k'\u001b[0m\u001b[0;34m]\u001b[0m\u001b[0;34m)\u001b[0m\u001b[0;34m.\u001b[0m\u001b[0mfit_predict\u001b[0m\u001b[0;34m(\u001b[0m\u001b[0mK\u001b[0m\u001b[0;34m)\u001b[0m\u001b[0;34m\u001b[0m\u001b[0m\n\u001b[0m\u001b[1;32m     28\u001b[0m             \u001b[0mscore_1\u001b[0m \u001b[0;34m=\u001b[0m \u001b[0madjusted_rand_score\u001b[0m\u001b[0;34m(\u001b[0m\u001b[0mnodes\u001b[0m\u001b[0;34m,\u001b[0m \u001b[0mprediction\u001b[0m\u001b[0;34m)\u001b[0m\u001b[0;34m\u001b[0m\u001b[0m\n\u001b[1;32m     29\u001b[0m             \u001b[0mscores_1\u001b[0m\u001b[0;34m.\u001b[0m\u001b[0mappend\u001b[0m\u001b[0;34m(\u001b[0m\u001b[0mscore_1\u001b[0m\u001b[0;34m)\u001b[0m\u001b[0;34m\u001b[0m\u001b[0m\n",
      "\u001b[0;32m/Library/Frameworks/Python.framework/Versions/3.6/lib/python3.6/site-packages/sklearn/base.py\u001b[0m in \u001b[0;36mfit_predict\u001b[0;34m(self, X, y)\u001b[0m\n\u001b[1;32m    408\u001b[0m         \u001b[0;31m# non-optimized default implementation; override when a better\u001b[0m\u001b[0;34m\u001b[0m\u001b[0;34m\u001b[0m\u001b[0m\n\u001b[1;32m    409\u001b[0m         \u001b[0;31m# method is possible for a given clustering algorithm\u001b[0m\u001b[0;34m\u001b[0m\u001b[0;34m\u001b[0m\u001b[0m\n\u001b[0;32m--> 410\u001b[0;31m         \u001b[0mself\u001b[0m\u001b[0;34m.\u001b[0m\u001b[0mfit\u001b[0m\u001b[0;34m(\u001b[0m\u001b[0mX\u001b[0m\u001b[0;34m)\u001b[0m\u001b[0;34m\u001b[0m\u001b[0m\n\u001b[0m\u001b[1;32m    411\u001b[0m         \u001b[0;32mreturn\u001b[0m \u001b[0mself\u001b[0m\u001b[0;34m.\u001b[0m\u001b[0mlabels_\u001b[0m\u001b[0;34m\u001b[0m\u001b[0m\n\u001b[1;32m    412\u001b[0m \u001b[0;34m\u001b[0m\u001b[0m\n",
      "\u001b[0;32m/Users/kolya/Desktop/Diploma/bachelor_thesis/src/clustering/kernel_kmeans.py\u001b[0m in \u001b[0;36mfit\u001b[0;34m(self, K, y, sample_weight)\u001b[0m\n\u001b[1;32m     43\u001b[0m             \u001b[0mdist\u001b[0m\u001b[0;34m.\u001b[0m\u001b[0mfill\u001b[0m\u001b[0;34m(\u001b[0m\u001b[0;36m0\u001b[0m\u001b[0;34m)\u001b[0m\u001b[0;34m\u001b[0m\u001b[0m\n\u001b[1;32m     44\u001b[0m             self._compute_dist(K, dist, self.within_distances_,\n\u001b[0;32m---> 45\u001b[0;31m                                update_within=True)\n\u001b[0m\u001b[1;32m     46\u001b[0m             \u001b[0mlabels_old\u001b[0m \u001b[0;34m=\u001b[0m \u001b[0mself\u001b[0m\u001b[0;34m.\u001b[0m\u001b[0mlabels_\u001b[0m\u001b[0;34m\u001b[0m\u001b[0m\n\u001b[1;32m     47\u001b[0m             \u001b[0mself\u001b[0m\u001b[0;34m.\u001b[0m\u001b[0mlabels_\u001b[0m \u001b[0;34m=\u001b[0m \u001b[0mdist\u001b[0m\u001b[0;34m.\u001b[0m\u001b[0margmin\u001b[0m\u001b[0;34m(\u001b[0m\u001b[0maxis\u001b[0m\u001b[0;34m=\u001b[0m\u001b[0;36m1\u001b[0m\u001b[0;34m)\u001b[0m\u001b[0;34m\u001b[0m\u001b[0m\n",
      "\u001b[0;32m/Users/kolya/Desktop/Diploma/bachelor_thesis/src/clustering/kernel_kmeans.py\u001b[0m in \u001b[0;36m_compute_dist\u001b[0;34m(self, K, dist, within_distances, update_within)\u001b[0m\n\u001b[1;32m     73\u001b[0m                 \u001b[0mdist_j\u001b[0m \u001b[0;34m=\u001b[0m \u001b[0mnp\u001b[0m\u001b[0;34m.\u001b[0m\u001b[0msum\u001b[0m\u001b[0;34m(\u001b[0m\u001b[0mnp\u001b[0m\u001b[0;34m.\u001b[0m\u001b[0mouter\u001b[0m\u001b[0;34m(\u001b[0m\u001b[0msw\u001b[0m\u001b[0;34m[\u001b[0m\u001b[0mmask\u001b[0m\u001b[0;34m]\u001b[0m\u001b[0;34m,\u001b[0m \u001b[0msw\u001b[0m\u001b[0;34m[\u001b[0m\u001b[0mmask\u001b[0m\u001b[0;34m]\u001b[0m\u001b[0;34m)\u001b[0m \u001b[0;34m*\u001b[0m \u001b[0mKK\u001b[0m \u001b[0;34m/\u001b[0m \u001b[0mdenomsq\u001b[0m\u001b[0;34m)\u001b[0m\u001b[0;34m\u001b[0m\u001b[0m\n\u001b[1;32m     74\u001b[0m                 \u001b[0mwithin_distances\u001b[0m\u001b[0;34m[\u001b[0m\u001b[0mj\u001b[0m\u001b[0;34m]\u001b[0m \u001b[0;34m=\u001b[0m \u001b[0mdist_j\u001b[0m\u001b[0;34m\u001b[0m\u001b[0m\n\u001b[0;32m---> 75\u001b[0;31m                 \u001b[0mdist\u001b[0m\u001b[0;34m[\u001b[0m\u001b[0;34m:\u001b[0m\u001b[0;34m,\u001b[0m \u001b[0mj\u001b[0m\u001b[0;34m]\u001b[0m \u001b[0;34m+=\u001b[0m \u001b[0mdist_j\u001b[0m\u001b[0;34m\u001b[0m\u001b[0m\n\u001b[0m\u001b[1;32m     76\u001b[0m             \u001b[0;32melse\u001b[0m\u001b[0;34m:\u001b[0m\u001b[0;34m\u001b[0m\u001b[0m\n\u001b[1;32m     77\u001b[0m                 \u001b[0mdist\u001b[0m\u001b[0;34m[\u001b[0m\u001b[0;34m:\u001b[0m\u001b[0;34m,\u001b[0m \u001b[0mj\u001b[0m\u001b[0;34m]\u001b[0m \u001b[0;34m+=\u001b[0m \u001b[0mwithin_distances\u001b[0m\u001b[0;34m[\u001b[0m\u001b[0mj\u001b[0m\u001b[0;34m]\u001b[0m\u001b[0;34m\u001b[0m\u001b[0m\n",
      "\u001b[0;31mTypeError\u001b[0m: Cannot cast ufunc add output from dtype('complex128') to dtype('float64') with casting rule 'same_kind'"
     ],
     "output_type": "error"
    }
   ],
   "source": [
    "import matplotlib.pyplot as plt\n",
    "import numpy as np\n",
    "import json\n",
    "from sklearn.metrics import adjusted_rand_score, normalized_mutual_info_score\n",
    "\n",
    "from src.clustering.kernel_kmeans import KernelKMeans\n",
    "from src.clustering.ward import Ward\n",
    "from src.graph.graph_generator import GraphGenerator\n",
    "from src.kernel.kernel import get_all_kernels\n",
    "from src.dataset.dataset import football, polbooks, polblogs, zachary, news\n",
    "\n",
    "all_data = [football, polbooks, zachary]\n",
    "\n",
    "for data in all_data:\n",
    "    graph, info = data\n",
    "    print('data ' + info['name'] + 'for K-means' + ' started!')\n",
    "    print('n_clusters = ' + str(info['k']))\n",
    "    results = {}\n",
    "    for kernel_class in get_all_kernels():\n",
    "        results[kernel_class.name] = {}\n",
    "        nodes = graph.nodes\n",
    "        edges = graph.edges\n",
    "        scores_1 = []\n",
    "        scores_2 = []\n",
    "        kernel = kernel_class(edges)\n",
    "        for K in kernel.get_Ks():\n",
    "            prediction = KernelKMeans(n_clusters=info['k']).fit_predict(K)\n",
    "            score_1 = adjusted_rand_score(nodes, prediction)\n",
    "            scores_1.append(score_1)\n",
    "            score_2 = normalized_mutual_info_score(nodes, prediction)\n",
    "            scores_2.append(score_2)\n",
    "        results[kernel_class.name] = 'ARI=' + str(max(scores_1)) + ' NMI=' + str(max(scores_2))\n",
    "        print(info['name'] + ' ' + kernel_class.name + ' ' + results[kernel_class.name])\n",
    "    print('data ' + info['name'] + 'for K-means' + ' finished!')\n",
    "    with open('src/results/my/datasets/' + 'K_means_' + info['name'] + '.txt', 'w') as file:\n",
    "        file.write(json.dumps(results))"
   ]
  },
  {
   "cell_type": "code",
   "execution_count": null,
   "metadata": {},
   "outputs": [],
   "source": []
  }
 ],
 "metadata": {
  "kernelspec": {
   "display_name": "Python 2",
   "language": "python",
   "name": "python2"
  },
  "language_info": {
   "codemirror_mode": {
    "name": "ipython",
    "version": 2
   },
   "file_extension": ".py",
   "mimetype": "text/x-python",
   "name": "python",
   "nbconvert_exporter": "python",
   "pygments_lexer": "ipython2",
   "version": "2.7.6"
  }
 },
 "nbformat": 4,
 "nbformat_minor": 0
}
