{
 "cells": [
  {
   "cell_type": "markdown",
   "metadata": {},
   "source": [
    "Охуительная идея для структуры голосования:\n",
    "\n",
    "по строкам - два метода\n",
    "\n",
    "по колонкам - разные ядра\n",
    "\n",
    "в ячейках - количество выигранных раундов (1 раунд - 1 граф)"
   ]
  },
  {
   "cell_type": "markdown",
   "metadata": {},
   "source": [
    "Какие графики мне нужны?\n",
    "\n",
    "1) Набор графиков, на каждом по простой и лог мере и на последнем будет 3 меры, оба метода (для 3/4 семейств сгенерированных графов)\n",
    "\n",
    "2) Как в 1), но для реальных датасетов"
   ]
  },
  {
   "cell_type": "code",
   "execution_count": 1,
   "metadata": {},
   "outputs": [
    {
     "name": "stderr",
     "output_type": "stream",
     "text": [
      "/Library/Frameworks/Python.framework/Versions/3.6/lib/python3.6/site-packages/sklearn/utils/validation.py:382: ComplexWarning: Casting complex values to real discards the imaginary part\n  array = np.array(array, dtype=dtype, order=order, copy=copy)\n"
     ]
    },
    {
     "ename": "KeyboardInterrupt",
     "evalue": "",
     "traceback": [
      "\u001b[0;31m---------------------------------------------------------------------------\u001b[0m",
      "\u001b[0;31mKeyboardInterrupt\u001b[0m                         Traceback (most recent call last)",
      "\u001b[0;32m<ipython-input-1-f29dd4c4f251>\u001b[0m in \u001b[0;36m<module>\u001b[0;34m()\u001b[0m\n\u001b[1;32m     25\u001b[0m         \u001b[0mkernel\u001b[0m \u001b[0;34m=\u001b[0m \u001b[0mkernel_class\u001b[0m\u001b[0;34m(\u001b[0m\u001b[0medges\u001b[0m\u001b[0;34m)\u001b[0m\u001b[0;34m\u001b[0m\u001b[0m\n\u001b[1;32m     26\u001b[0m         \u001b[0;32mfor\u001b[0m \u001b[0mK\u001b[0m \u001b[0;32min\u001b[0m \u001b[0mkernel\u001b[0m\u001b[0;34m.\u001b[0m\u001b[0mget_Ks\u001b[0m\u001b[0;34m(\u001b[0m\u001b[0;34m)\u001b[0m\u001b[0;34m:\u001b[0m\u001b[0;34m\u001b[0m\u001b[0m\n\u001b[0;32m---> 27\u001b[0;31m             \u001b[0mward_prediction\u001b[0m \u001b[0;34m=\u001b[0m \u001b[0mWard\u001b[0m\u001b[0;34m(\u001b[0m\u001b[0mn_clusters\u001b[0m\u001b[0;34m)\u001b[0m\u001b[0;34m.\u001b[0m\u001b[0mfit_predict\u001b[0m\u001b[0;34m(\u001b[0m\u001b[0mK\u001b[0m\u001b[0;34m)\u001b[0m\u001b[0;34m\u001b[0m\u001b[0m\n\u001b[0m\u001b[1;32m     28\u001b[0m             \u001b[0mward_score\u001b[0m \u001b[0;34m=\u001b[0m \u001b[0madjusted_rand_score\u001b[0m\u001b[0;34m(\u001b[0m\u001b[0mnodes\u001b[0m\u001b[0;34m,\u001b[0m \u001b[0mward_prediction\u001b[0m\u001b[0;34m)\u001b[0m\u001b[0;34m\u001b[0m\u001b[0m\n\u001b[1;32m     29\u001b[0m             \u001b[0mward_scores\u001b[0m\u001b[0;34m.\u001b[0m\u001b[0mappend\u001b[0m\u001b[0;34m(\u001b[0m\u001b[0mward_score\u001b[0m\u001b[0;34m)\u001b[0m\u001b[0;34m\u001b[0m\u001b[0m\n",
      "\u001b[0;32m/Library/Frameworks/Python.framework/Versions/3.6/lib/python3.6/site-packages/sklearn/base.py\u001b[0m in \u001b[0;36mfit_predict\u001b[0;34m(self, X, y)\u001b[0m\n\u001b[1;32m    408\u001b[0m         \u001b[0;31m# non-optimized default implementation; override when a better\u001b[0m\u001b[0;34m\u001b[0m\u001b[0;34m\u001b[0m\u001b[0m\n\u001b[1;32m    409\u001b[0m         \u001b[0;31m# method is possible for a given clustering algorithm\u001b[0m\u001b[0;34m\u001b[0m\u001b[0;34m\u001b[0m\u001b[0m\n\u001b[0;32m--> 410\u001b[0;31m         \u001b[0mself\u001b[0m\u001b[0;34m.\u001b[0m\u001b[0mfit\u001b[0m\u001b[0;34m(\u001b[0m\u001b[0mX\u001b[0m\u001b[0;34m)\u001b[0m\u001b[0;34m\u001b[0m\u001b[0m\n\u001b[0m\u001b[1;32m    411\u001b[0m         \u001b[0;32mreturn\u001b[0m \u001b[0mself\u001b[0m\u001b[0;34m.\u001b[0m\u001b[0mlabels_\u001b[0m\u001b[0;34m\u001b[0m\u001b[0m\n\u001b[1;32m    412\u001b[0m \u001b[0;34m\u001b[0m\u001b[0m\n",
      "\u001b[0;32m/Users/kolya/Desktop/Diploma/bachelor_thesis/src/clustering/ward.py\u001b[0m in \u001b[0;36mfit\u001b[0;34m(self, K, y, sample_weight)\u001b[0m\n\u001b[1;32m     32\u001b[0m \u001b[0;34m\u001b[0m\u001b[0m\n\u001b[1;32m     33\u001b[0m     \u001b[0;32mdef\u001b[0m \u001b[0mfit\u001b[0m\u001b[0;34m(\u001b[0m\u001b[0mself\u001b[0m\u001b[0;34m,\u001b[0m \u001b[0mK\u001b[0m\u001b[0;34m,\u001b[0m \u001b[0my\u001b[0m\u001b[0;34m=\u001b[0m\u001b[0;32mNone\u001b[0m\u001b[0;34m,\u001b[0m \u001b[0msample_weight\u001b[0m\u001b[0;34m=\u001b[0m\u001b[0;32mNone\u001b[0m\u001b[0;34m)\u001b[0m\u001b[0;34m:\u001b[0m\u001b[0;34m\u001b[0m\u001b[0m\n\u001b[0;32m---> 34\u001b[0;31m         \u001b[0mself\u001b[0m\u001b[0;34m.\u001b[0m\u001b[0mlabels_\u001b[0m \u001b[0;34m=\u001b[0m \u001b[0mself\u001b[0m\u001b[0;34m.\u001b[0m\u001b[0mpredict\u001b[0m\u001b[0;34m(\u001b[0m\u001b[0mK\u001b[0m\u001b[0;34m)\u001b[0m\u001b[0;34m\u001b[0m\u001b[0m\n\u001b[0m\u001b[1;32m     35\u001b[0m         \u001b[0;32mreturn\u001b[0m \u001b[0mself\u001b[0m\u001b[0;34m\u001b[0m\u001b[0m\n\u001b[1;32m     36\u001b[0m \u001b[0;34m\u001b[0m\u001b[0m\n",
      "\u001b[0;32m/Users/kolya/Desktop/Diploma/bachelor_thesis/src/clustering/ward.py\u001b[0m in \u001b[0;36mpredict\u001b[0;34m(self, K)\u001b[0m\n\u001b[1;32m     38\u001b[0m         \u001b[0mclusters\u001b[0m \u001b[0;34m=\u001b[0m \u001b[0;34m[\u001b[0m\u001b[0mCluster\u001b[0m\u001b[0;34m(\u001b[0m\u001b[0;34m[\u001b[0m\u001b[0mi\u001b[0m\u001b[0;34m]\u001b[0m\u001b[0;34m,\u001b[0m \u001b[0mK\u001b[0m\u001b[0;34m.\u001b[0m\u001b[0mshape\u001b[0m\u001b[0;34m[\u001b[0m\u001b[0;36m0\u001b[0m\u001b[0;34m]\u001b[0m\u001b[0;34m)\u001b[0m \u001b[0;32mfor\u001b[0m \u001b[0mi\u001b[0m \u001b[0;32min\u001b[0m \u001b[0mrange\u001b[0m\u001b[0;34m(\u001b[0m\u001b[0mK\u001b[0m\u001b[0;34m.\u001b[0m\u001b[0mshape\u001b[0m\u001b[0;34m[\u001b[0m\u001b[0;36m0\u001b[0m\u001b[0;34m]\u001b[0m\u001b[0;34m)\u001b[0m\u001b[0;34m]\u001b[0m\u001b[0;34m\u001b[0m\u001b[0m\n\u001b[1;32m     39\u001b[0m         \u001b[0;32mfor\u001b[0m \u001b[0mi\u001b[0m \u001b[0;32min\u001b[0m \u001b[0mrange\u001b[0m\u001b[0;34m(\u001b[0m\u001b[0mK\u001b[0m\u001b[0;34m.\u001b[0m\u001b[0mshape\u001b[0m\u001b[0;34m[\u001b[0m\u001b[0;36m0\u001b[0m\u001b[0;34m]\u001b[0m \u001b[0;34m-\u001b[0m \u001b[0mself\u001b[0m\u001b[0;34m.\u001b[0m\u001b[0mn_clusters\u001b[0m\u001b[0;34m)\u001b[0m\u001b[0;34m:\u001b[0m\u001b[0;34m\u001b[0m\u001b[0m\n\u001b[0;32m---> 40\u001b[0;31m             \u001b[0mself\u001b[0m\u001b[0;34m.\u001b[0m\u001b[0m_iteration\u001b[0m\u001b[0;34m(\u001b[0m\u001b[0mK\u001b[0m\u001b[0;34m,\u001b[0m \u001b[0mclusters\u001b[0m\u001b[0;34m)\u001b[0m\u001b[0;34m\u001b[0m\u001b[0m\n\u001b[0m\u001b[1;32m     41\u001b[0m \u001b[0;34m\u001b[0m\u001b[0m\n\u001b[1;32m     42\u001b[0m         \u001b[0mresult\u001b[0m \u001b[0;34m=\u001b[0m \u001b[0mnp\u001b[0m\u001b[0;34m.\u001b[0m\u001b[0mzeros\u001b[0m\u001b[0;34m(\u001b[0m\u001b[0;34m(\u001b[0m\u001b[0mK\u001b[0m\u001b[0;34m.\u001b[0m\u001b[0mshape\u001b[0m\u001b[0;34m[\u001b[0m\u001b[0;36m0\u001b[0m\u001b[0;34m]\u001b[0m\u001b[0;34m,\u001b[0m\u001b[0;34m)\u001b[0m\u001b[0;34m,\u001b[0m \u001b[0mdtype\u001b[0m\u001b[0;34m=\u001b[0m\u001b[0mnp\u001b[0m\u001b[0;34m.\u001b[0m\u001b[0mint\u001b[0m\u001b[0;34m)\u001b[0m\u001b[0;34m\u001b[0m\u001b[0m\n",
      "\u001b[0;32m/Users/kolya/Desktop/Diploma/bachelor_thesis/src/clustering/ward.py\u001b[0m in \u001b[0;36m_iteration\u001b[0;34m(self, K, clusters)\u001b[0m\n\u001b[1;32m     50\u001b[0m         \u001b[0;32mfor\u001b[0m \u001b[0mCk_idx\u001b[0m\u001b[0;34m,\u001b[0m \u001b[0mCk\u001b[0m \u001b[0;32min\u001b[0m \u001b[0menumerate\u001b[0m\u001b[0;34m(\u001b[0m\u001b[0mclusters\u001b[0m\u001b[0;34m)\u001b[0m\u001b[0;34m:\u001b[0m\u001b[0;34m\u001b[0m\u001b[0m\n\u001b[1;32m     51\u001b[0m             \u001b[0;32mfor\u001b[0m \u001b[0mCl_idx\u001b[0m\u001b[0;34m,\u001b[0m \u001b[0mCl\u001b[0m \u001b[0;32min\u001b[0m \u001b[0menumerate\u001b[0m\u001b[0;34m(\u001b[0m\u001b[0mclusters\u001b[0m\u001b[0;34m[\u001b[0m\u001b[0mCk_idx\u001b[0m \u001b[0;34m+\u001b[0m \u001b[0;36m1\u001b[0m\u001b[0;34m:\u001b[0m\u001b[0;34m]\u001b[0m\u001b[0;34m)\u001b[0m\u001b[0;34m:\u001b[0m\u001b[0;34m\u001b[0m\u001b[0m\n\u001b[0;32m---> 52\u001b[0;31m                 \u001b[0mcurrentΔJ\u001b[0m \u001b[0;34m=\u001b[0m \u001b[0mCk\u001b[0m\u001b[0;34m.\u001b[0m\u001b[0mgetΔJ\u001b[0m\u001b[0;34m(\u001b[0m\u001b[0mK\u001b[0m\u001b[0;34m,\u001b[0m \u001b[0mCl\u001b[0m\u001b[0;34m)\u001b[0m\u001b[0;34m\u001b[0m\u001b[0m\n\u001b[0m\u001b[1;32m     53\u001b[0m                 \u001b[0;32mif\u001b[0m \u001b[0mcurrentΔJ\u001b[0m \u001b[0;34m<\u001b[0m \u001b[0mminΔJ\u001b[0m\u001b[0;34m:\u001b[0m\u001b[0;34m\u001b[0m\u001b[0m\n\u001b[1;32m     54\u001b[0m                     \u001b[0mminCk\u001b[0m\u001b[0;34m,\u001b[0m \u001b[0mminCl\u001b[0m\u001b[0;34m,\u001b[0m \u001b[0mminΔJ\u001b[0m \u001b[0;34m=\u001b[0m \u001b[0mCk\u001b[0m\u001b[0;34m,\u001b[0m \u001b[0mCl\u001b[0m\u001b[0;34m,\u001b[0m \u001b[0mcurrentΔJ\u001b[0m\u001b[0;34m\u001b[0m\u001b[0m\n",
      "\u001b[0;32m/Users/kolya/Desktop/Diploma/bachelor_thesis/src/clustering/ward.py\u001b[0m in \u001b[0;36mgetΔJ\u001b[0;34m(self, K, Cl)\u001b[0m\n\u001b[1;32m     16\u001b[0m \u001b[0;34m\u001b[0m\u001b[0m\n\u001b[1;32m     17\u001b[0m     \u001b[0;32mdef\u001b[0m \u001b[0mgetΔJ\u001b[0m\u001b[0;34m(\u001b[0m\u001b[0mself\u001b[0m\u001b[0;34m,\u001b[0m \u001b[0mK\u001b[0m\u001b[0;34m,\u001b[0m \u001b[0mCl\u001b[0m\u001b[0;34m)\u001b[0m\u001b[0;34m:\u001b[0m\u001b[0;34m\u001b[0m\u001b[0m\n\u001b[0;32m---> 18\u001b[0;31m         \u001b[0;32mreturn\u001b[0m \u001b[0mself\u001b[0m\u001b[0;34m.\u001b[0m\u001b[0mΔJ\u001b[0m\u001b[0;34m[\u001b[0m\u001b[0mCl\u001b[0m\u001b[0;34m]\u001b[0m \u001b[0;32mif\u001b[0m \u001b[0mCl\u001b[0m \u001b[0;32min\u001b[0m \u001b[0mself\u001b[0m\u001b[0;34m.\u001b[0m\u001b[0mΔJ\u001b[0m \u001b[0;32melse\u001b[0m \u001b[0mself\u001b[0m\u001b[0;34m.\u001b[0m\u001b[0mcalcΔJ\u001b[0m\u001b[0;34m(\u001b[0m\u001b[0mK\u001b[0m\u001b[0;34m,\u001b[0m \u001b[0mCl\u001b[0m\u001b[0;34m)\u001b[0m\u001b[0;34m\u001b[0m\u001b[0m\n\u001b[0m\u001b[1;32m     19\u001b[0m \u001b[0;34m\u001b[0m\u001b[0m\n\u001b[1;32m     20\u001b[0m     \u001b[0;31m# ΔJ = (n_k * n_l)/(n_k + n_l) * (h_k - h_l)^T * K * (h_k - h_l)\u001b[0m\u001b[0;34m\u001b[0m\u001b[0;34m\u001b[0m\u001b[0m\n",
      "\u001b[0;32m/Users/kolya/Desktop/Diploma/bachelor_thesis/src/clustering/ward.py\u001b[0m in \u001b[0;36mcalcΔJ\u001b[0;34m(self, K, Cl)\u001b[0m\n\u001b[1;32m     22\u001b[0m         \u001b[0mhkhl\u001b[0m \u001b[0;34m=\u001b[0m \u001b[0mnp\u001b[0m\u001b[0;34m.\u001b[0m\u001b[0marray\u001b[0m\u001b[0;34m(\u001b[0m\u001b[0mself\u001b[0m\u001b[0;34m.\u001b[0m\u001b[0mh\u001b[0m \u001b[0;34m-\u001b[0m \u001b[0mCl\u001b[0m\u001b[0;34m.\u001b[0m\u001b[0mh\u001b[0m\u001b[0;34m)\u001b[0m\u001b[0;34m.\u001b[0m\u001b[0mreshape\u001b[0m\u001b[0;34m(\u001b[0m\u001b[0;34m(\u001b[0m\u001b[0;34m-\u001b[0m\u001b[0;36m1\u001b[0m\u001b[0;34m,\u001b[0m \u001b[0;36m1\u001b[0m\u001b[0;34m)\u001b[0m\u001b[0;34m)\u001b[0m\u001b[0;34m\u001b[0m\u001b[0m\n\u001b[1;32m     23\u001b[0m         \u001b[0mhkhlT\u001b[0m \u001b[0;34m=\u001b[0m \u001b[0mhkhl\u001b[0m\u001b[0;34m.\u001b[0m\u001b[0mT\u001b[0m\u001b[0;34m\u001b[0m\u001b[0m\n\u001b[0;32m---> 24\u001b[0;31m         \u001b[0mcurrentΔJ\u001b[0m \u001b[0;34m=\u001b[0m \u001b[0;34m(\u001b[0m\u001b[0mself\u001b[0m\u001b[0;34m.\u001b[0m\u001b[0mn\u001b[0m \u001b[0;34m*\u001b[0m \u001b[0mCl\u001b[0m\u001b[0;34m.\u001b[0m\u001b[0mn\u001b[0m\u001b[0;34m)\u001b[0m \u001b[0;34m*\u001b[0m \u001b[0mhkhlT\u001b[0m\u001b[0;34m.\u001b[0m\u001b[0mdot\u001b[0m\u001b[0;34m(\u001b[0m\u001b[0mK\u001b[0m\u001b[0;34m)\u001b[0m\u001b[0;34m.\u001b[0m\u001b[0mdot\u001b[0m\u001b[0;34m(\u001b[0m\u001b[0mhkhl\u001b[0m\u001b[0;34m)\u001b[0m\u001b[0;34m[\u001b[0m\u001b[0;36m0\u001b[0m\u001b[0;34m]\u001b[0m\u001b[0;34m[\u001b[0m\u001b[0;36m0\u001b[0m\u001b[0;34m]\u001b[0m \u001b[0;34m/\u001b[0m \u001b[0;34m(\u001b[0m\u001b[0mself\u001b[0m\u001b[0;34m.\u001b[0m\u001b[0mn\u001b[0m \u001b[0;34m+\u001b[0m \u001b[0mCl\u001b[0m\u001b[0;34m.\u001b[0m\u001b[0mn\u001b[0m\u001b[0;34m)\u001b[0m\u001b[0;34m\u001b[0m\u001b[0m\n\u001b[0m\u001b[1;32m     25\u001b[0m         \u001b[0mself\u001b[0m\u001b[0;34m.\u001b[0m\u001b[0mΔJ\u001b[0m\u001b[0;34m[\u001b[0m\u001b[0mCl\u001b[0m\u001b[0;34m]\u001b[0m \u001b[0;34m=\u001b[0m \u001b[0mcurrentΔJ\u001b[0m\u001b[0;34m\u001b[0m\u001b[0m\n\u001b[1;32m     26\u001b[0m         \u001b[0;32mreturn\u001b[0m \u001b[0mcurrentΔJ\u001b[0m\u001b[0;34m\u001b[0m\u001b[0m\n",
      "\u001b[0;31mKeyboardInterrupt\u001b[0m: "
     ],
     "output_type": "error"
    }
   ],
   "source": [
    "import matplotlib.pyplot as plt\n",
    "import numpy as np\n",
    "import json\n",
    "from sklearn.metrics import adjusted_rand_score, normalized_mutual_info_score\n",
    "\n",
    "from src.clustering.spectral_clustering import SpectralClustering\n",
    "from src.clustering.ward import Ward\n",
    "from src.graph.graph_generator import GraphGenerator\n",
    "from src.kernel.kernel import get_all_kernels\n",
    "\n",
    "n_clusters = 4\n",
    "generator = GraphGenerator(100, n_clusters, 0.2, 0.05)\n",
    "\n",
    "for kernel_class in get_all_kernels():\n",
    "    ward_results = {}\n",
    "    spectral_results = {}\n",
    "    all_ward_scores = []\n",
    "    all_spectral_scores = []\n",
    "    for i in range(0, 10):\n",
    "        graph = generator.generate_graph()\n",
    "        nodes = graph.nodes\n",
    "        edges = graph.edges\n",
    "        ward_scores = []\n",
    "        spectral_scores = []\n",
    "        kernel = kernel_class(edges)\n",
    "        for K in kernel.get_Ks():\n",
    "            ward_prediction = Ward(n_clusters).fit_predict(K)\n",
    "            ward_score = adjusted_rand_score(nodes, ward_prediction)\n",
    "            ward_scores.append(ward_score)\n",
    "            spectral_prediction = SpectralClustering(n_clusters).fit_predict(K)\n",
    "            spectral_score = adjusted_rand_score(nodes, spectral_prediction)\n",
    "            spectral_scores.append(spectral_score)\n",
    "        all_ward_scores.append(ward_scores)\n",
    "        all_spectral_scores.append(spectral_scores)\n",
    "    all_ward_scores = [list(i) for i in zip(*all_ward_scores)]\n",
    "    all_spectral_scores = [list(i) for i in zip(*all_spectral_scores)]\n",
    "    resulting_ward_score = [np.mean(x) for x in all_ward_scores]\n",
    "    resulting_spectral_score = [np.mean(x) for x in all_spectral_scores]\n",
    "    ward_results[kernel_class.name] = resulting_ward_score\n",
    "    spectral_results[kernel_class.name] = resulting_spectral_score\n",
    "    \n",
    "    with open('src/results/my/my_graphs/ward' + kernel_class.name + '.txt', 'w') as file:\n",
    "        file.write(json.dumps(ward_results))\n",
    "    with open('src/results/my/my_graphs/k-means' + kernel_class.name + '.txt', 'w') as file:\n",
    "        file.write(json.dumps(spectral_results))\n",
    "        \n",
    "    plt.figure(figsize=(10,10))\n",
    "    print('Ward ', kernel_class.name, 'best result: ', np.max(resulting_ward_score))\n",
    "    print('K-means ', kernel_class.name, 'best result: ', np.max(resulting_spectral_score))\n",
    "    for kernel_name, resulting_score in ward_results.items():\n",
    "        print(kernel_name, 'best result: ', np.max(resulting_score))\n",
    "        plt.plot(kernel_class.default_params, resulting_score, label='Ward')\n",
    "    for kernel_name, resulting_score in spectral_results.items():\n",
    "        print(kernel_name, 'best result: ', np.max(resulting_score))\n",
    "        plt.plot(kernel_class.default_params, resulting_score, label='K-means')\n",
    "    # plt.plot(kernel_class.default_params, resulting_spectral_score, label='K-means')\n",
    "    plt.title(kernel_class.name + ', n_clusters=' + str(n_clusters))\n",
    "    plt.legend()\n",
    "    plt.show()"
   ]
  },
  {
   "cell_type": "code",
   "execution_count": null,
   "metadata": {},
   "outputs": [],
   "source": [
    "import matplotlib.pyplot as plt\n",
    "import numpy as np\n",
    "import json\n",
    "from sklearn.metrics import adjusted_rand_score, normalized_mutual_info_score\n",
    "\n",
    "from src.clustering.spectral_clustering import SpectralClustering\n",
    "from src.graph.graph_generator import GraphGenerator\n",
    "from src.kernel.kernel import get_all_kernels\n",
    "\n",
    "\n",
    "generator = GraphGenerator(200, 4, 0.2, 0.05)\n",
    "n_clusters = 4\n",
    "\n",
    "for kernel_class in get_all_kernels():\n",
    "    results = {}\n",
    "    all_scores = []\n",
    "    for i in range(0, 50):\n",
    "        graph = generator.generate_graph()\n",
    "        nodes = graph.nodes\n",
    "        edges = graph.edges\n",
    "        scores = []\n",
    "        kernel = kernel_class(edges)\n",
    "        for K in kernel.get_Ks():\n",
    "            prediction = SpectralClustering(n_clusters).fit_predict(K)\n",
    "            score = adjusted_rand_score(nodes, prediction)\n",
    "            scores.append(score)\n",
    "        all_scores.append(scores)\n",
    "    all_scores = [list(i) for i in zip(*all_scores)]\n",
    "    resulting_score = [np.mean(x) for x in all_scores]\n",
    "    results[kernel_class.name] = resulting_score\n",
    "    \n",
    "    with open('src/results/my/' + kernel_class.name + '.txt', 'w') as file:\n",
    "        file.write(json.dumps(results))\n",
    "        \n",
    "    plt.figure(figsize=(10,10))\n",
    "    for kernel_name, resulting_score in results.items():\n",
    "        print(kernel_name, 'best result: ', np.max(resulting_score))\n",
    "        plt.plot(kernel_class.default_params, resulting_score, label=kernel_name)\n",
    "    plt.title('K-means ' + kernel_class.name + ', n_clusters=' + str(n_clusters))\n",
    "    plt.legend()\n",
    "    plt.show()"
   ]
  },
  {
   "cell_type": "code",
   "execution_count": 2,
   "metadata": {},
   "outputs": [
    {
     "name": "stdout",
     "output_type": "stream",
     "text": [
      "news_2cl_1 PlainWalk 0.046538240459 0.131073947536\n"
     ]
    },
    {
     "name": "stdout",
     "output_type": "stream",
     "text": [
      "news_2cl_1 LogPlainWalk 0.765036841281 0.666211167588\n"
     ]
    },
    {
     "name": "stdout",
     "output_type": "stream",
     "text": [
      "news_2cl_1 Communicability 0.0398139851986 0.137056806879\n"
     ]
    },
    {
     "name": "stdout",
     "output_type": "stream",
     "text": [
      "news_2cl_1 LogCommunicability 0.0398139851986 0.137056806879\n"
     ]
    },
    {
     "name": "stdout",
     "output_type": "stream",
     "text": [
      "news_2cl_1 Forest 0.0 0.0157732781716\n"
     ]
    },
    {
     "name": "stdout",
     "output_type": "stream",
     "text": [
      "news_2cl_1 LogForest 0.0 0.0157732781716\n"
     ]
    },
    {
     "name": "stdout",
     "output_type": "stream",
     "text": [
      "news_2cl_1 Heat 0.0 0.0157732781716\n"
     ]
    },
    {
     "name": "stdout",
     "output_type": "stream",
     "text": [
      "news_2cl_1 LogHeat 0.0 0.0157732781716\ndata news_2cl_1 finished!\n"
     ]
    },
    {
     "name": "stdout",
     "output_type": "stream",
     "text": [
      "news_2cl_2 PlainWalk 0.0301532840005 0.141592004211\n"
     ]
    },
    {
     "name": "stdout",
     "output_type": "stream",
     "text": [
      "news_2cl_2 LogPlainWalk 0.678368603577 0.584491891861\n"
     ]
    },
    {
     "name": "stdout",
     "output_type": "stream",
     "text": [
      "news_2cl_2 Communicability 0.0897374128245 0.216205884855\n"
     ]
    },
    {
     "name": "stdout",
     "output_type": "stream",
     "text": [
      "news_2cl_2 LogCommunicability 0.0897374128245 0.216205884855\n"
     ]
    },
    {
     "name": "stdout",
     "output_type": "stream",
     "text": [
      "news_2cl_2 Forest 5.0760113667e-05 0.0159338802362\n"
     ]
    },
    {
     "name": "stdout",
     "output_type": "stream",
     "text": [
      "news_2cl_2 LogForest 5.0760113667e-05 0.0159338802362\n"
     ]
    },
    {
     "name": "stdout",
     "output_type": "stream",
     "text": [
      "news_2cl_2 Heat 5.0760113667e-05 0.0159338802362\n"
     ]
    },
    {
     "name": "stdout",
     "output_type": "stream",
     "text": [
      "news_2cl_2 LogHeat 5.0760113667e-05 0.0159338802362\ndata news_2cl_2 finished!\n"
     ]
    },
    {
     "name": "stdout",
     "output_type": "stream",
     "text": [
      "news_2cl_3 PlainWalk 0.606586521764 0.558476362302\n"
     ]
    },
    {
     "name": "stdout",
     "output_type": "stream",
     "text": [
      "news_2cl_3 LogPlainWalk 0.836424412989 0.748423673259\n"
     ]
    },
    {
     "name": "stdout",
     "output_type": "stream",
     "text": [
      "news_2cl_3 Communicability 0.420069705463 0.446307464619\n"
     ]
    },
    {
     "name": "stdout",
     "output_type": "stream",
     "text": [
      "news_2cl_3 LogCommunicability 0.420069705463 0.446307464619\n"
     ]
    },
    {
     "name": "stdout",
     "output_type": "stream",
     "text": [
      "news_2cl_3 Forest 2.51892309488e-05 0.0158531978678\n"
     ]
    },
    {
     "name": "stdout",
     "output_type": "stream",
     "text": [
      "news_2cl_3 LogForest 2.51892309488e-05 0.0158531978678\n"
     ]
    },
    {
     "name": "stdout",
     "output_type": "stream",
     "text": [
      "news_2cl_3 Heat 2.51892309488e-05 0.0158531978678\n"
     ]
    },
    {
     "name": "stdout",
     "output_type": "stream",
     "text": [
      "news_2cl_3 LogHeat 2.51892309488e-05 0.0158531978678\ndata news_2cl_3 finished!\n"
     ]
    },
    {
     "name": "stdout",
     "output_type": "stream",
     "text": [
      "news_3cl_1 PlainWalk 0.294076407196 0.435537100686\n"
     ]
    },
    {
     "name": "stdout",
     "output_type": "stream",
     "text": [
      "news_3cl_1 LogPlainWalk 0.698476902125 0.626289453208\n"
     ]
    },
    {
     "name": "stdout",
     "output_type": "stream",
     "text": [
      "news_3cl_1 Communicability 0.396134440162 0.527740021915\n"
     ]
    },
    {
     "name": "stdout",
     "output_type": "stream",
     "text": [
      "news_3cl_1 LogCommunicability 0.396134440162 0.527740021915\n"
     ]
    },
    {
     "name": "stdout",
     "output_type": "stream",
     "text": [
      "news_3cl_1 Forest 1.1167038899e-05 0.0223206287314\n"
     ]
    },
    {
     "name": "stdout",
     "output_type": "stream",
     "text": [
      "news_3cl_1 LogForest 1.1167038899e-05 0.0223206287314\n"
     ]
    }
   ],
   "source": [
    "import matplotlib.pyplot as plt\n",
    "import numpy as np\n",
    "import json\n",
    "from sklearn.metrics import adjusted_rand_score, normalized_mutual_info_score\n",
    "\n",
    "from src.clustering.ward import Ward\n",
    "from src.graph.graph_generator import GraphGenerator\n",
    "from src.kernel.kernel import get_all_kernels\n",
    "from src.dataset.dataset import football, polbooks, polblogs, zachary, news\n",
    "\n",
    "all_data = news\n",
    "\n",
    "for data in all_data:\n",
    "    graph, info = data\n",
    "    results = {}\n",
    "    for kernel_class in get_all_kernels():\n",
    "        results[kernel_class.name] = {}\n",
    "        nodes = graph.nodes\n",
    "        edges = graph.edges\n",
    "        scores_1 = []\n",
    "        scores_2 = []\n",
    "        kernel = kernel_class(edges)\n",
    "        for K in kernel.get_Ks():\n",
    "            prediction = Ward(info['k']).fit_predict(K)\n",
    "            score_1 = adjusted_rand_score(nodes, prediction)\n",
    "            scores_1.append(score_1)\n",
    "            score_2 = normalized_mutual_info_score(nodes, prediction)\n",
    "            scores_2.append(score_2)\n",
    "        results[kernel_class.name] = str(max(scores_1)) + ' ' + str(max(scores_2))\n",
    "        print(info['name'] + ' ' + kernel_class.name + ' ' + str(max(scores_1)) + ' ' + str(max(scores_2)))\n",
    "    print('data ' + info['name'] + ' finished!')\n",
    "    with open('src/results/my/news/' + info['name'] + '.txt', 'w') as file:\n",
    "        file.write(json.dumps(results))"
   ]
  },
  {
   "cell_type": "code",
   "execution_count": 1,
   "metadata": {},
   "outputs": [
    {
     "name": "stdout",
     "output_type": "stream",
     "text": [
      "football PlainWalk 0.906334157557 0.930810884185\n"
     ]
    },
    {
     "name": "stdout",
     "output_type": "stream",
     "text": [
      "football LogPlainWalk 0.896650009791 0.92419578687\n"
     ]
    },
    {
     "name": "stdout",
     "output_type": "stream",
     "text": [
      "football Communicability 0.909377088152 0.935845790439\n"
     ]
    },
    {
     "name": "stdout",
     "output_type": "stream",
     "text": [
      "football LogCommunicability 0.909377088152 0.935845790439\n"
     ]
    },
    {
     "name": "stdout",
     "output_type": "stream",
     "text": [
      "football Forest 0.896650009791 0.92419578687\n"
     ]
    },
    {
     "name": "stdout",
     "output_type": "stream",
     "text": [
      "football LogForest 0.896650009791 0.92419578687\n"
     ]
    },
    {
     "name": "stdout",
     "output_type": "stream",
     "text": [
      "football Heat 0.896650009791 0.926884056453\n"
     ]
    },
    {
     "name": "stdout",
     "output_type": "stream",
     "text": [
      "football LogHeat 0.896650009791 0.926884056453\ndata football finished!\n"
     ]
    },
    {
     "name": "stdout",
     "output_type": "stream",
     "text": [
      "polbooks PlainWalk 0.689859519674 0.58624585164\n"
     ]
    },
    {
     "name": "stdout",
     "output_type": "stream",
     "text": [
      "polbooks LogPlainWalk 0.71834696317 0.62718880803\n"
     ]
    },
    {
     "name": "stdout",
     "output_type": "stream",
     "text": [
      "polbooks Communicability 0.680461669793 0.576107450818\n"
     ]
    },
    {
     "name": "stdout",
     "output_type": "stream",
     "text": [
      "polbooks LogCommunicability 0.680461669793 0.576107450818\n"
     ]
    },
    {
     "name": "stdout",
     "output_type": "stream",
     "text": [
      "polbooks Forest 0.665203435003 0.597513219481\n"
     ]
    },
    {
     "name": "stdout",
     "output_type": "stream",
     "text": [
      "polbooks LogForest 0.665203435003 0.597513219481\n"
     ]
    },
    {
     "name": "stdout",
     "output_type": "stream",
     "text": [
      "polbooks Heat 0.708482177779 0.625320906524\n"
     ]
    },
    {
     "name": "stdout",
     "output_type": "stream",
     "text": [
      "polbooks LogHeat 0.708482177779 0.625320906524\ndata polbooks finished!\n"
     ]
    },
    {
     "name": "stdout",
     "output_type": "stream",
     "text": [
      "zachary PlainWalk 1.0 1.0\n"
     ]
    },
    {
     "name": "stdout",
     "output_type": "stream",
     "text": [
      "zachary LogPlainWalk 1.0 1.0\n"
     ]
    },
    {
     "name": "stdout",
     "output_type": "stream",
     "text": [
      "zachary Communicability 1.0 1.0\n"
     ]
    },
    {
     "name": "stdout",
     "output_type": "stream",
     "text": [
      "zachary LogCommunicability 1.0 1.0\n"
     ]
    },
    {
     "name": "stdout",
     "output_type": "stream",
     "text": [
      "zachary Forest 0.153463105478 0.272495191494\n"
     ]
    },
    {
     "name": "stdout",
     "output_type": "stream",
     "text": [
      "zachary LogForest 0.153463105478 0.272495191494\n"
     ]
    },
    {
     "name": "stdout",
     "output_type": "stream",
     "text": [
      "zachary Heat 1.0 1.0\n"
     ]
    },
    {
     "name": "stdout",
     "output_type": "stream",
     "text": [
      "zachary LogHeat 1.0 1.0\ndata zachary finished!\n"
     ]
    },
    {
     "ename": "KeyboardInterrupt",
     "evalue": "",
     "traceback": [
      "\u001b[0;31m---------------------------------------------------------------------------\u001b[0m",
      "\u001b[0;31mKeyboardInterrupt\u001b[0m                         Traceback (most recent call last)",
      "\u001b[0;32m<ipython-input-1-1d562dd7a92e>\u001b[0m in \u001b[0;36m<module>\u001b[0;34m()\u001b[0m\n\u001b[1;32m     22\u001b[0m         \u001b[0mkernel\u001b[0m \u001b[0;34m=\u001b[0m \u001b[0mkernel_class\u001b[0m\u001b[0;34m(\u001b[0m\u001b[0medges\u001b[0m\u001b[0;34m)\u001b[0m\u001b[0;34m\u001b[0m\u001b[0m\n\u001b[1;32m     23\u001b[0m         \u001b[0;32mfor\u001b[0m \u001b[0mK\u001b[0m \u001b[0;32min\u001b[0m \u001b[0mkernel\u001b[0m\u001b[0;34m.\u001b[0m\u001b[0mget_Ks\u001b[0m\u001b[0;34m(\u001b[0m\u001b[0;34m)\u001b[0m\u001b[0;34m:\u001b[0m\u001b[0;34m\u001b[0m\u001b[0m\n\u001b[0;32m---> 24\u001b[0;31m             \u001b[0mprediction\u001b[0m \u001b[0;34m=\u001b[0m \u001b[0mWard\u001b[0m\u001b[0;34m(\u001b[0m\u001b[0minfo\u001b[0m\u001b[0;34m[\u001b[0m\u001b[0;34m'k'\u001b[0m\u001b[0;34m]\u001b[0m\u001b[0;34m)\u001b[0m\u001b[0;34m.\u001b[0m\u001b[0mfit_predict\u001b[0m\u001b[0;34m(\u001b[0m\u001b[0mK\u001b[0m\u001b[0;34m)\u001b[0m\u001b[0;34m\u001b[0m\u001b[0m\n\u001b[0m\u001b[1;32m     25\u001b[0m             \u001b[0mscore_1\u001b[0m \u001b[0;34m=\u001b[0m \u001b[0madjusted_rand_score\u001b[0m\u001b[0;34m(\u001b[0m\u001b[0mnodes\u001b[0m\u001b[0;34m,\u001b[0m \u001b[0mprediction\u001b[0m\u001b[0;34m)\u001b[0m\u001b[0;34m\u001b[0m\u001b[0m\n\u001b[1;32m     26\u001b[0m             \u001b[0mscores_1\u001b[0m\u001b[0;34m.\u001b[0m\u001b[0mappend\u001b[0m\u001b[0;34m(\u001b[0m\u001b[0mscore_1\u001b[0m\u001b[0;34m)\u001b[0m\u001b[0;34m\u001b[0m\u001b[0m\n",
      "\u001b[0;32m/Library/Frameworks/Python.framework/Versions/3.6/lib/python3.6/site-packages/sklearn/base.py\u001b[0m in \u001b[0;36mfit_predict\u001b[0;34m(self, X, y)\u001b[0m\n\u001b[1;32m    408\u001b[0m         \u001b[0;31m# non-optimized default implementation; override when a better\u001b[0m\u001b[0;34m\u001b[0m\u001b[0;34m\u001b[0m\u001b[0m\n\u001b[1;32m    409\u001b[0m         \u001b[0;31m# method is possible for a given clustering algorithm\u001b[0m\u001b[0;34m\u001b[0m\u001b[0;34m\u001b[0m\u001b[0m\n\u001b[0;32m--> 410\u001b[0;31m         \u001b[0mself\u001b[0m\u001b[0;34m.\u001b[0m\u001b[0mfit\u001b[0m\u001b[0;34m(\u001b[0m\u001b[0mX\u001b[0m\u001b[0;34m)\u001b[0m\u001b[0;34m\u001b[0m\u001b[0m\n\u001b[0m\u001b[1;32m    411\u001b[0m         \u001b[0;32mreturn\u001b[0m \u001b[0mself\u001b[0m\u001b[0;34m.\u001b[0m\u001b[0mlabels_\u001b[0m\u001b[0;34m\u001b[0m\u001b[0m\n\u001b[1;32m    412\u001b[0m \u001b[0;34m\u001b[0m\u001b[0m\n",
      "\u001b[0;32m/Users/kolya/Desktop/Diploma/bachelor_thesis/src/clustering/ward.py\u001b[0m in \u001b[0;36mfit\u001b[0;34m(self, K, y, sample_weight)\u001b[0m\n\u001b[1;32m     32\u001b[0m \u001b[0;34m\u001b[0m\u001b[0m\n\u001b[1;32m     33\u001b[0m     \u001b[0;32mdef\u001b[0m \u001b[0mfit\u001b[0m\u001b[0;34m(\u001b[0m\u001b[0mself\u001b[0m\u001b[0;34m,\u001b[0m \u001b[0mK\u001b[0m\u001b[0;34m,\u001b[0m \u001b[0my\u001b[0m\u001b[0;34m=\u001b[0m\u001b[0;32mNone\u001b[0m\u001b[0;34m,\u001b[0m \u001b[0msample_weight\u001b[0m\u001b[0;34m=\u001b[0m\u001b[0;32mNone\u001b[0m\u001b[0;34m)\u001b[0m\u001b[0;34m:\u001b[0m\u001b[0;34m\u001b[0m\u001b[0m\n\u001b[0;32m---> 34\u001b[0;31m         \u001b[0mself\u001b[0m\u001b[0;34m.\u001b[0m\u001b[0mlabels_\u001b[0m \u001b[0;34m=\u001b[0m \u001b[0mself\u001b[0m\u001b[0;34m.\u001b[0m\u001b[0mpredict\u001b[0m\u001b[0;34m(\u001b[0m\u001b[0mK\u001b[0m\u001b[0;34m)\u001b[0m\u001b[0;34m\u001b[0m\u001b[0m\n\u001b[0m\u001b[1;32m     35\u001b[0m         \u001b[0;32mreturn\u001b[0m \u001b[0mself\u001b[0m\u001b[0;34m\u001b[0m\u001b[0m\n\u001b[1;32m     36\u001b[0m \u001b[0;34m\u001b[0m\u001b[0m\n",
      "\u001b[0;32m/Users/kolya/Desktop/Diploma/bachelor_thesis/src/clustering/ward.py\u001b[0m in \u001b[0;36mpredict\u001b[0;34m(self, K)\u001b[0m\n\u001b[1;32m     38\u001b[0m         \u001b[0mclusters\u001b[0m \u001b[0;34m=\u001b[0m \u001b[0;34m[\u001b[0m\u001b[0mCluster\u001b[0m\u001b[0;34m(\u001b[0m\u001b[0;34m[\u001b[0m\u001b[0mi\u001b[0m\u001b[0;34m]\u001b[0m\u001b[0;34m,\u001b[0m \u001b[0mK\u001b[0m\u001b[0;34m.\u001b[0m\u001b[0mshape\u001b[0m\u001b[0;34m[\u001b[0m\u001b[0;36m0\u001b[0m\u001b[0;34m]\u001b[0m\u001b[0;34m)\u001b[0m \u001b[0;32mfor\u001b[0m \u001b[0mi\u001b[0m \u001b[0;32min\u001b[0m \u001b[0mrange\u001b[0m\u001b[0;34m(\u001b[0m\u001b[0mK\u001b[0m\u001b[0;34m.\u001b[0m\u001b[0mshape\u001b[0m\u001b[0;34m[\u001b[0m\u001b[0;36m0\u001b[0m\u001b[0;34m]\u001b[0m\u001b[0;34m)\u001b[0m\u001b[0;34m]\u001b[0m\u001b[0;34m\u001b[0m\u001b[0m\n\u001b[1;32m     39\u001b[0m         \u001b[0;32mfor\u001b[0m \u001b[0mi\u001b[0m \u001b[0;32min\u001b[0m \u001b[0mrange\u001b[0m\u001b[0;34m(\u001b[0m\u001b[0mK\u001b[0m\u001b[0;34m.\u001b[0m\u001b[0mshape\u001b[0m\u001b[0;34m[\u001b[0m\u001b[0;36m0\u001b[0m\u001b[0;34m]\u001b[0m \u001b[0;34m-\u001b[0m \u001b[0mself\u001b[0m\u001b[0;34m.\u001b[0m\u001b[0mn_clusters\u001b[0m\u001b[0;34m)\u001b[0m\u001b[0;34m:\u001b[0m\u001b[0;34m\u001b[0m\u001b[0m\n\u001b[0;32m---> 40\u001b[0;31m             \u001b[0mself\u001b[0m\u001b[0;34m.\u001b[0m\u001b[0m_iteration\u001b[0m\u001b[0;34m(\u001b[0m\u001b[0mK\u001b[0m\u001b[0;34m,\u001b[0m \u001b[0mclusters\u001b[0m\u001b[0;34m)\u001b[0m\u001b[0;34m\u001b[0m\u001b[0m\n\u001b[0m\u001b[1;32m     41\u001b[0m \u001b[0;34m\u001b[0m\u001b[0m\n\u001b[1;32m     42\u001b[0m         \u001b[0mresult\u001b[0m \u001b[0;34m=\u001b[0m \u001b[0mnp\u001b[0m\u001b[0;34m.\u001b[0m\u001b[0mzeros\u001b[0m\u001b[0;34m(\u001b[0m\u001b[0;34m(\u001b[0m\u001b[0mK\u001b[0m\u001b[0;34m.\u001b[0m\u001b[0mshape\u001b[0m\u001b[0;34m[\u001b[0m\u001b[0;36m0\u001b[0m\u001b[0;34m]\u001b[0m\u001b[0;34m,\u001b[0m\u001b[0;34m)\u001b[0m\u001b[0;34m,\u001b[0m \u001b[0mdtype\u001b[0m\u001b[0;34m=\u001b[0m\u001b[0mnp\u001b[0m\u001b[0;34m.\u001b[0m\u001b[0mint\u001b[0m\u001b[0;34m)\u001b[0m\u001b[0;34m\u001b[0m\u001b[0m\n",
      "\u001b[0;32m/Users/kolya/Desktop/Diploma/bachelor_thesis/src/clustering/ward.py\u001b[0m in \u001b[0;36m_iteration\u001b[0;34m(self, K, clusters)\u001b[0m\n\u001b[1;32m     50\u001b[0m         \u001b[0;32mfor\u001b[0m \u001b[0mCk_idx\u001b[0m\u001b[0;34m,\u001b[0m \u001b[0mCk\u001b[0m \u001b[0;32min\u001b[0m \u001b[0menumerate\u001b[0m\u001b[0;34m(\u001b[0m\u001b[0mclusters\u001b[0m\u001b[0;34m)\u001b[0m\u001b[0;34m:\u001b[0m\u001b[0;34m\u001b[0m\u001b[0m\n\u001b[1;32m     51\u001b[0m             \u001b[0;32mfor\u001b[0m \u001b[0mCl_idx\u001b[0m\u001b[0;34m,\u001b[0m \u001b[0mCl\u001b[0m \u001b[0;32min\u001b[0m \u001b[0menumerate\u001b[0m\u001b[0;34m(\u001b[0m\u001b[0mclusters\u001b[0m\u001b[0;34m[\u001b[0m\u001b[0mCk_idx\u001b[0m \u001b[0;34m+\u001b[0m \u001b[0;36m1\u001b[0m\u001b[0;34m:\u001b[0m\u001b[0;34m]\u001b[0m\u001b[0;34m)\u001b[0m\u001b[0;34m:\u001b[0m\u001b[0;34m\u001b[0m\u001b[0m\n\u001b[0;32m---> 52\u001b[0;31m                 \u001b[0mcurrentΔJ\u001b[0m \u001b[0;34m=\u001b[0m \u001b[0mCk\u001b[0m\u001b[0;34m.\u001b[0m\u001b[0mgetΔJ\u001b[0m\u001b[0;34m(\u001b[0m\u001b[0mK\u001b[0m\u001b[0;34m,\u001b[0m \u001b[0mCl\u001b[0m\u001b[0;34m)\u001b[0m\u001b[0;34m\u001b[0m\u001b[0m\n\u001b[0m\u001b[1;32m     53\u001b[0m                 \u001b[0;32mif\u001b[0m \u001b[0mcurrentΔJ\u001b[0m \u001b[0;34m<\u001b[0m \u001b[0mminΔJ\u001b[0m\u001b[0;34m:\u001b[0m\u001b[0;34m\u001b[0m\u001b[0m\n\u001b[1;32m     54\u001b[0m                     \u001b[0mminCk\u001b[0m\u001b[0;34m,\u001b[0m \u001b[0mminCl\u001b[0m\u001b[0;34m,\u001b[0m \u001b[0mminΔJ\u001b[0m \u001b[0;34m=\u001b[0m \u001b[0mCk\u001b[0m\u001b[0;34m,\u001b[0m \u001b[0mCl\u001b[0m\u001b[0;34m,\u001b[0m \u001b[0mcurrentΔJ\u001b[0m\u001b[0;34m\u001b[0m\u001b[0m\n",
      "\u001b[0;32m/Users/kolya/Desktop/Diploma/bachelor_thesis/src/clustering/ward.py\u001b[0m in \u001b[0;36mgetΔJ\u001b[0;34m(self, K, Cl)\u001b[0m\n\u001b[1;32m     16\u001b[0m \u001b[0;34m\u001b[0m\u001b[0m\n\u001b[1;32m     17\u001b[0m     \u001b[0;32mdef\u001b[0m \u001b[0mgetΔJ\u001b[0m\u001b[0;34m(\u001b[0m\u001b[0mself\u001b[0m\u001b[0;34m,\u001b[0m \u001b[0mK\u001b[0m\u001b[0;34m,\u001b[0m \u001b[0mCl\u001b[0m\u001b[0;34m)\u001b[0m\u001b[0;34m:\u001b[0m\u001b[0;34m\u001b[0m\u001b[0m\n\u001b[0;32m---> 18\u001b[0;31m         \u001b[0;32mreturn\u001b[0m \u001b[0mself\u001b[0m\u001b[0;34m.\u001b[0m\u001b[0mΔJ\u001b[0m\u001b[0;34m[\u001b[0m\u001b[0mCl\u001b[0m\u001b[0;34m]\u001b[0m \u001b[0;32mif\u001b[0m \u001b[0mCl\u001b[0m \u001b[0;32min\u001b[0m \u001b[0mself\u001b[0m\u001b[0;34m.\u001b[0m\u001b[0mΔJ\u001b[0m \u001b[0;32melse\u001b[0m \u001b[0mself\u001b[0m\u001b[0;34m.\u001b[0m\u001b[0mcalcΔJ\u001b[0m\u001b[0;34m(\u001b[0m\u001b[0mK\u001b[0m\u001b[0;34m,\u001b[0m \u001b[0mCl\u001b[0m\u001b[0;34m)\u001b[0m\u001b[0;34m\u001b[0m\u001b[0m\n\u001b[0m\u001b[1;32m     19\u001b[0m \u001b[0;34m\u001b[0m\u001b[0m\n\u001b[1;32m     20\u001b[0m     \u001b[0;31m# ΔJ = (n_k * n_l)/(n_k + n_l) * (h_k - h_l)^T * K * (h_k - h_l)\u001b[0m\u001b[0;34m\u001b[0m\u001b[0;34m\u001b[0m\u001b[0m\n",
      "\u001b[0;32m/Users/kolya/Desktop/Diploma/bachelor_thesis/src/clustering/ward.py\u001b[0m in \u001b[0;36mcalcΔJ\u001b[0;34m(self, K, Cl)\u001b[0m\n\u001b[1;32m     20\u001b[0m     \u001b[0;31m# ΔJ = (n_k * n_l)/(n_k + n_l) * (h_k - h_l)^T * K * (h_k - h_l)\u001b[0m\u001b[0;34m\u001b[0m\u001b[0;34m\u001b[0m\u001b[0m\n\u001b[1;32m     21\u001b[0m     \u001b[0;32mdef\u001b[0m \u001b[0mcalcΔJ\u001b[0m\u001b[0;34m(\u001b[0m\u001b[0mself\u001b[0m\u001b[0;34m,\u001b[0m \u001b[0mK\u001b[0m\u001b[0;34m,\u001b[0m \u001b[0mCl\u001b[0m\u001b[0;34m)\u001b[0m\u001b[0;34m:\u001b[0m\u001b[0;34m\u001b[0m\u001b[0m\n\u001b[0;32m---> 22\u001b[0;31m         \u001b[0mhkhl\u001b[0m \u001b[0;34m=\u001b[0m \u001b[0mnp\u001b[0m\u001b[0;34m.\u001b[0m\u001b[0marray\u001b[0m\u001b[0;34m(\u001b[0m\u001b[0mself\u001b[0m\u001b[0;34m.\u001b[0m\u001b[0mh\u001b[0m \u001b[0;34m-\u001b[0m \u001b[0mCl\u001b[0m\u001b[0;34m.\u001b[0m\u001b[0mh\u001b[0m\u001b[0;34m)\u001b[0m\u001b[0;34m.\u001b[0m\u001b[0mreshape\u001b[0m\u001b[0;34m(\u001b[0m\u001b[0;34m(\u001b[0m\u001b[0;34m-\u001b[0m\u001b[0;36m1\u001b[0m\u001b[0;34m,\u001b[0m \u001b[0;36m1\u001b[0m\u001b[0;34m)\u001b[0m\u001b[0;34m)\u001b[0m\u001b[0;34m\u001b[0m\u001b[0m\n\u001b[0m\u001b[1;32m     23\u001b[0m         \u001b[0mhkhlT\u001b[0m \u001b[0;34m=\u001b[0m \u001b[0mhkhl\u001b[0m\u001b[0;34m.\u001b[0m\u001b[0mT\u001b[0m\u001b[0;34m\u001b[0m\u001b[0m\n\u001b[1;32m     24\u001b[0m         \u001b[0mcurrentΔJ\u001b[0m \u001b[0;34m=\u001b[0m \u001b[0;34m(\u001b[0m\u001b[0mself\u001b[0m\u001b[0;34m.\u001b[0m\u001b[0mn\u001b[0m \u001b[0;34m*\u001b[0m \u001b[0mCl\u001b[0m\u001b[0;34m.\u001b[0m\u001b[0mn\u001b[0m\u001b[0;34m)\u001b[0m \u001b[0;34m*\u001b[0m \u001b[0mhkhlT\u001b[0m\u001b[0;34m.\u001b[0m\u001b[0mdot\u001b[0m\u001b[0;34m(\u001b[0m\u001b[0mK\u001b[0m\u001b[0;34m)\u001b[0m\u001b[0;34m.\u001b[0m\u001b[0mdot\u001b[0m\u001b[0;34m(\u001b[0m\u001b[0mhkhl\u001b[0m\u001b[0;34m)\u001b[0m\u001b[0;34m[\u001b[0m\u001b[0;36m0\u001b[0m\u001b[0;34m]\u001b[0m\u001b[0;34m[\u001b[0m\u001b[0;36m0\u001b[0m\u001b[0;34m]\u001b[0m \u001b[0;34m/\u001b[0m \u001b[0;34m(\u001b[0m\u001b[0mself\u001b[0m\u001b[0;34m.\u001b[0m\u001b[0mn\u001b[0m \u001b[0;34m+\u001b[0m \u001b[0mCl\u001b[0m\u001b[0;34m.\u001b[0m\u001b[0mn\u001b[0m\u001b[0;34m)\u001b[0m\u001b[0;34m\u001b[0m\u001b[0m\n",
      "\u001b[0;31mKeyboardInterrupt\u001b[0m: "
     ],
     "output_type": "error"
    }
   ],
   "source": [
    "import matplotlib.pyplot as plt\n",
    "import numpy as np\n",
    "import json\n",
    "from sklearn.metrics import adjusted_rand_score, normalized_mutual_info_score\n",
    "\n",
    "from src.clustering.ward import Ward\n",
    "from src.graph.graph_generator import GraphGenerator\n",
    "from src.kernel.kernel import get_all_kernels\n",
    "from src.dataset.dataset import football, polbooks, polblogs, zachary, news\n",
    "\n",
    "all_data = [football, polbooks, zachary, polblogs]\n",
    "\n",
    "for data in all_data:\n",
    "    graph, info = data\n",
    "    results = {}\n",
    "    for kernel_class in get_all_kernels():\n",
    "        results[kernel_class.name] = {}\n",
    "        nodes = graph.nodes\n",
    "        edges = graph.edges\n",
    "        scores_1 = []\n",
    "        scores_2 = []\n",
    "        kernel = kernel_class(edges)\n",
    "        for K in kernel.get_Ks():\n",
    "            prediction = Ward(info['k']).fit_predict(K)\n",
    "            score_1 = adjusted_rand_score(nodes, prediction)\n",
    "            scores_1.append(score_1)\n",
    "            score_2 = normalized_mutual_info_score(nodes, prediction)\n",
    "            scores_2.append(score_2)\n",
    "        results[kernel_class.name] = str(max(scores_1)) + ' ' + str(max(scores_2))\n",
    "        print(info['name'] + ' ' + kernel_class.name + ' ' + str(max(scores_1)) + ' ' + str(max(scores_2)))\n",
    "    print('data ' + info['name'] + ' finished!')\n",
    "    with open('src/results/my/others/' + info['name'] + '.txt', 'w') as file:\n",
    "        file.write(json.dumps(results))"
   ]
  },
  {
   "cell_type": "code",
   "execution_count": 1,
   "metadata": {},
   "outputs": [
    {
     "name": "stdout",
     "output_type": "stream",
     "text": [
      "data football for Ward started!\n"
     ]
    },
    {
     "name": "stdout",
     "output_type": "stream",
     "text": [
      "football PlainWalk ARI=0.906334157557 NMI=0.930810884185\n"
     ]
    },
    {
     "ename": "KeyboardInterrupt",
     "evalue": "",
     "traceback": [
      "\u001b[0;31m---------------------------------------------------------------------------\u001b[0m",
      "\u001b[0;31mKeyboardInterrupt\u001b[0m                         Traceback (most recent call last)",
      "\u001b[0;32m<ipython-input-1-8bcb2320c2e7>\u001b[0m in \u001b[0;36m<module>\u001b[0;34m()\u001b[0m\n\u001b[1;32m     24\u001b[0m         \u001b[0mkernel\u001b[0m \u001b[0;34m=\u001b[0m \u001b[0mkernel_class\u001b[0m\u001b[0;34m(\u001b[0m\u001b[0medges\u001b[0m\u001b[0;34m)\u001b[0m\u001b[0;34m\u001b[0m\u001b[0m\n\u001b[1;32m     25\u001b[0m         \u001b[0;32mfor\u001b[0m \u001b[0mK\u001b[0m \u001b[0;32min\u001b[0m \u001b[0mkernel\u001b[0m\u001b[0;34m.\u001b[0m\u001b[0mget_Ks\u001b[0m\u001b[0;34m(\u001b[0m\u001b[0;34m)\u001b[0m\u001b[0;34m:\u001b[0m\u001b[0;34m\u001b[0m\u001b[0m\n\u001b[0;32m---> 26\u001b[0;31m             \u001b[0mprediction\u001b[0m \u001b[0;34m=\u001b[0m \u001b[0mWard\u001b[0m\u001b[0;34m(\u001b[0m\u001b[0minfo\u001b[0m\u001b[0;34m[\u001b[0m\u001b[0;34m'k'\u001b[0m\u001b[0;34m]\u001b[0m\u001b[0;34m)\u001b[0m\u001b[0;34m.\u001b[0m\u001b[0mfit_predict\u001b[0m\u001b[0;34m(\u001b[0m\u001b[0mK\u001b[0m\u001b[0;34m)\u001b[0m\u001b[0;34m\u001b[0m\u001b[0m\n\u001b[0m\u001b[1;32m     27\u001b[0m             \u001b[0mscore_1\u001b[0m \u001b[0;34m=\u001b[0m \u001b[0madjusted_rand_score\u001b[0m\u001b[0;34m(\u001b[0m\u001b[0mnodes\u001b[0m\u001b[0;34m,\u001b[0m \u001b[0mprediction\u001b[0m\u001b[0;34m)\u001b[0m\u001b[0;34m\u001b[0m\u001b[0m\n\u001b[1;32m     28\u001b[0m             \u001b[0mscores_1\u001b[0m\u001b[0;34m.\u001b[0m\u001b[0mappend\u001b[0m\u001b[0;34m(\u001b[0m\u001b[0mscore_1\u001b[0m\u001b[0;34m)\u001b[0m\u001b[0;34m\u001b[0m\u001b[0m\n",
      "\u001b[0;32m/Library/Frameworks/Python.framework/Versions/3.6/lib/python3.6/site-packages/sklearn/base.py\u001b[0m in \u001b[0;36mfit_predict\u001b[0;34m(self, X, y)\u001b[0m\n\u001b[1;32m    408\u001b[0m         \u001b[0;31m# non-optimized default implementation; override when a better\u001b[0m\u001b[0;34m\u001b[0m\u001b[0;34m\u001b[0m\u001b[0m\n\u001b[1;32m    409\u001b[0m         \u001b[0;31m# method is possible for a given clustering algorithm\u001b[0m\u001b[0;34m\u001b[0m\u001b[0;34m\u001b[0m\u001b[0m\n\u001b[0;32m--> 410\u001b[0;31m         \u001b[0mself\u001b[0m\u001b[0;34m.\u001b[0m\u001b[0mfit\u001b[0m\u001b[0;34m(\u001b[0m\u001b[0mX\u001b[0m\u001b[0;34m)\u001b[0m\u001b[0;34m\u001b[0m\u001b[0m\n\u001b[0m\u001b[1;32m    411\u001b[0m         \u001b[0;32mreturn\u001b[0m \u001b[0mself\u001b[0m\u001b[0;34m.\u001b[0m\u001b[0mlabels_\u001b[0m\u001b[0;34m\u001b[0m\u001b[0m\n\u001b[1;32m    412\u001b[0m \u001b[0;34m\u001b[0m\u001b[0m\n",
      "\u001b[0;32m/Users/kolya/Desktop/Diploma/bachelor_thesis/src/clustering/ward.py\u001b[0m in \u001b[0;36mfit\u001b[0;34m(self, K, y, sample_weight)\u001b[0m\n\u001b[1;32m     32\u001b[0m \u001b[0;34m\u001b[0m\u001b[0m\n\u001b[1;32m     33\u001b[0m     \u001b[0;32mdef\u001b[0m \u001b[0mfit\u001b[0m\u001b[0;34m(\u001b[0m\u001b[0mself\u001b[0m\u001b[0;34m,\u001b[0m \u001b[0mK\u001b[0m\u001b[0;34m,\u001b[0m \u001b[0my\u001b[0m\u001b[0;34m=\u001b[0m\u001b[0;32mNone\u001b[0m\u001b[0;34m,\u001b[0m \u001b[0msample_weight\u001b[0m\u001b[0;34m=\u001b[0m\u001b[0;32mNone\u001b[0m\u001b[0;34m)\u001b[0m\u001b[0;34m:\u001b[0m\u001b[0;34m\u001b[0m\u001b[0m\n\u001b[0;32m---> 34\u001b[0;31m         \u001b[0mself\u001b[0m\u001b[0;34m.\u001b[0m\u001b[0mlabels_\u001b[0m \u001b[0;34m=\u001b[0m \u001b[0mself\u001b[0m\u001b[0;34m.\u001b[0m\u001b[0mpredict\u001b[0m\u001b[0;34m(\u001b[0m\u001b[0mK\u001b[0m\u001b[0;34m)\u001b[0m\u001b[0;34m\u001b[0m\u001b[0m\n\u001b[0m\u001b[1;32m     35\u001b[0m         \u001b[0;32mreturn\u001b[0m \u001b[0mself\u001b[0m\u001b[0;34m\u001b[0m\u001b[0m\n\u001b[1;32m     36\u001b[0m \u001b[0;34m\u001b[0m\u001b[0m\n",
      "\u001b[0;32m/Users/kolya/Desktop/Diploma/bachelor_thesis/src/clustering/ward.py\u001b[0m in \u001b[0;36mpredict\u001b[0;34m(self, K)\u001b[0m\n\u001b[1;32m     38\u001b[0m         \u001b[0mclusters\u001b[0m \u001b[0;34m=\u001b[0m \u001b[0;34m[\u001b[0m\u001b[0mCluster\u001b[0m\u001b[0;34m(\u001b[0m\u001b[0;34m[\u001b[0m\u001b[0mi\u001b[0m\u001b[0;34m]\u001b[0m\u001b[0;34m,\u001b[0m \u001b[0mK\u001b[0m\u001b[0;34m.\u001b[0m\u001b[0mshape\u001b[0m\u001b[0;34m[\u001b[0m\u001b[0;36m0\u001b[0m\u001b[0;34m]\u001b[0m\u001b[0;34m)\u001b[0m \u001b[0;32mfor\u001b[0m \u001b[0mi\u001b[0m \u001b[0;32min\u001b[0m \u001b[0mrange\u001b[0m\u001b[0;34m(\u001b[0m\u001b[0mK\u001b[0m\u001b[0;34m.\u001b[0m\u001b[0mshape\u001b[0m\u001b[0;34m[\u001b[0m\u001b[0;36m0\u001b[0m\u001b[0;34m]\u001b[0m\u001b[0;34m)\u001b[0m\u001b[0;34m]\u001b[0m\u001b[0;34m\u001b[0m\u001b[0m\n\u001b[1;32m     39\u001b[0m         \u001b[0;32mfor\u001b[0m \u001b[0mi\u001b[0m \u001b[0;32min\u001b[0m \u001b[0mrange\u001b[0m\u001b[0;34m(\u001b[0m\u001b[0mK\u001b[0m\u001b[0;34m.\u001b[0m\u001b[0mshape\u001b[0m\u001b[0;34m[\u001b[0m\u001b[0;36m0\u001b[0m\u001b[0;34m]\u001b[0m \u001b[0;34m-\u001b[0m \u001b[0mself\u001b[0m\u001b[0;34m.\u001b[0m\u001b[0mn_clusters\u001b[0m\u001b[0;34m)\u001b[0m\u001b[0;34m:\u001b[0m\u001b[0;34m\u001b[0m\u001b[0m\n\u001b[0;32m---> 40\u001b[0;31m             \u001b[0mself\u001b[0m\u001b[0;34m.\u001b[0m\u001b[0m_iteration\u001b[0m\u001b[0;34m(\u001b[0m\u001b[0mK\u001b[0m\u001b[0;34m,\u001b[0m \u001b[0mclusters\u001b[0m\u001b[0;34m)\u001b[0m\u001b[0;34m\u001b[0m\u001b[0m\n\u001b[0m\u001b[1;32m     41\u001b[0m \u001b[0;34m\u001b[0m\u001b[0m\n\u001b[1;32m     42\u001b[0m         \u001b[0mresult\u001b[0m \u001b[0;34m=\u001b[0m \u001b[0mnp\u001b[0m\u001b[0;34m.\u001b[0m\u001b[0mzeros\u001b[0m\u001b[0;34m(\u001b[0m\u001b[0;34m(\u001b[0m\u001b[0mK\u001b[0m\u001b[0;34m.\u001b[0m\u001b[0mshape\u001b[0m\u001b[0;34m[\u001b[0m\u001b[0;36m0\u001b[0m\u001b[0;34m]\u001b[0m\u001b[0;34m,\u001b[0m\u001b[0;34m)\u001b[0m\u001b[0;34m,\u001b[0m \u001b[0mdtype\u001b[0m\u001b[0;34m=\u001b[0m\u001b[0mnp\u001b[0m\u001b[0;34m.\u001b[0m\u001b[0mint\u001b[0m\u001b[0;34m)\u001b[0m\u001b[0;34m\u001b[0m\u001b[0m\n",
      "\u001b[0;32m/Users/kolya/Desktop/Diploma/bachelor_thesis/src/clustering/ward.py\u001b[0m in \u001b[0;36m_iteration\u001b[0;34m(self, K, clusters)\u001b[0m\n\u001b[1;32m     50\u001b[0m         \u001b[0;32mfor\u001b[0m \u001b[0mCk_idx\u001b[0m\u001b[0;34m,\u001b[0m \u001b[0mCk\u001b[0m \u001b[0;32min\u001b[0m \u001b[0menumerate\u001b[0m\u001b[0;34m(\u001b[0m\u001b[0mclusters\u001b[0m\u001b[0;34m)\u001b[0m\u001b[0;34m:\u001b[0m\u001b[0;34m\u001b[0m\u001b[0m\n\u001b[1;32m     51\u001b[0m             \u001b[0;32mfor\u001b[0m \u001b[0mCl_idx\u001b[0m\u001b[0;34m,\u001b[0m \u001b[0mCl\u001b[0m \u001b[0;32min\u001b[0m \u001b[0menumerate\u001b[0m\u001b[0;34m(\u001b[0m\u001b[0mclusters\u001b[0m\u001b[0;34m[\u001b[0m\u001b[0mCk_idx\u001b[0m \u001b[0;34m+\u001b[0m \u001b[0;36m1\u001b[0m\u001b[0;34m:\u001b[0m\u001b[0;34m]\u001b[0m\u001b[0;34m)\u001b[0m\u001b[0;34m:\u001b[0m\u001b[0;34m\u001b[0m\u001b[0m\n\u001b[0;32m---> 52\u001b[0;31m                 \u001b[0mcurrentΔJ\u001b[0m \u001b[0;34m=\u001b[0m \u001b[0mCk\u001b[0m\u001b[0;34m.\u001b[0m\u001b[0mgetΔJ\u001b[0m\u001b[0;34m(\u001b[0m\u001b[0mK\u001b[0m\u001b[0;34m,\u001b[0m \u001b[0mCl\u001b[0m\u001b[0;34m)\u001b[0m\u001b[0;34m\u001b[0m\u001b[0m\n\u001b[0m\u001b[1;32m     53\u001b[0m                 \u001b[0;32mif\u001b[0m \u001b[0mcurrentΔJ\u001b[0m \u001b[0;34m<\u001b[0m \u001b[0mminΔJ\u001b[0m\u001b[0;34m:\u001b[0m\u001b[0;34m\u001b[0m\u001b[0m\n\u001b[1;32m     54\u001b[0m                     \u001b[0mminCk\u001b[0m\u001b[0;34m,\u001b[0m \u001b[0mminCl\u001b[0m\u001b[0;34m,\u001b[0m \u001b[0mminΔJ\u001b[0m \u001b[0;34m=\u001b[0m \u001b[0mCk\u001b[0m\u001b[0;34m,\u001b[0m \u001b[0mCl\u001b[0m\u001b[0;34m,\u001b[0m \u001b[0mcurrentΔJ\u001b[0m\u001b[0;34m\u001b[0m\u001b[0m\n",
      "\u001b[0;32m/Users/kolya/Desktop/Diploma/bachelor_thesis/src/clustering/ward.py\u001b[0m in \u001b[0;36mgetΔJ\u001b[0;34m(self, K, Cl)\u001b[0m\n\u001b[1;32m     16\u001b[0m \u001b[0;34m\u001b[0m\u001b[0m\n\u001b[1;32m     17\u001b[0m     \u001b[0;32mdef\u001b[0m \u001b[0mgetΔJ\u001b[0m\u001b[0;34m(\u001b[0m\u001b[0mself\u001b[0m\u001b[0;34m,\u001b[0m \u001b[0mK\u001b[0m\u001b[0;34m,\u001b[0m \u001b[0mCl\u001b[0m\u001b[0;34m)\u001b[0m\u001b[0;34m:\u001b[0m\u001b[0;34m\u001b[0m\u001b[0m\n\u001b[0;32m---> 18\u001b[0;31m         \u001b[0;32mreturn\u001b[0m \u001b[0mself\u001b[0m\u001b[0;34m.\u001b[0m\u001b[0mΔJ\u001b[0m\u001b[0;34m[\u001b[0m\u001b[0mCl\u001b[0m\u001b[0;34m]\u001b[0m \u001b[0;32mif\u001b[0m \u001b[0mCl\u001b[0m \u001b[0;32min\u001b[0m \u001b[0mself\u001b[0m\u001b[0;34m.\u001b[0m\u001b[0mΔJ\u001b[0m \u001b[0;32melse\u001b[0m \u001b[0mself\u001b[0m\u001b[0;34m.\u001b[0m\u001b[0mcalcΔJ\u001b[0m\u001b[0;34m(\u001b[0m\u001b[0mK\u001b[0m\u001b[0;34m,\u001b[0m \u001b[0mCl\u001b[0m\u001b[0;34m)\u001b[0m\u001b[0;34m\u001b[0m\u001b[0m\n\u001b[0m\u001b[1;32m     19\u001b[0m \u001b[0;34m\u001b[0m\u001b[0m\n\u001b[1;32m     20\u001b[0m     \u001b[0;31m# ΔJ = (n_k * n_l)/(n_k + n_l) * (h_k - h_l)^T * K * (h_k - h_l)\u001b[0m\u001b[0;34m\u001b[0m\u001b[0;34m\u001b[0m\u001b[0m\n",
      "\u001b[0;31mKeyboardInterrupt\u001b[0m: "
     ],
     "output_type": "error"
    }
   ],
   "source": [
    "import matplotlib.pyplot as plt\n",
    "import numpy as np\n",
    "import json\n",
    "from sklearn.metrics import adjusted_rand_score, normalized_mutual_info_score\n",
    "\n",
    "from src.clustering.kernel_kmeans import KernelKMeans\n",
    "from src.clustering.ward import Ward\n",
    "from src.graph.graph_generator import GraphGenerator\n",
    "from src.kernel.kernel import get_all_kernels\n",
    "from src.dataset.dataset import football, polbooks, polblogs, zachary, news\n",
    "\n",
    "all_data = [football, polbooks, zachary]\n",
    "\n",
    "for data in all_data:\n",
    "    graph, info = data\n",
    "    print('data ' + info['name'] + ' for Ward started!')\n",
    "    results = {}\n",
    "    for kernel_class in get_all_kernels():\n",
    "        results[kernel_class.name] = {}\n",
    "        nodes = graph.nodes\n",
    "        edges = graph.edges\n",
    "        scores_1 = []\n",
    "        scores_2 = []\n",
    "        kernel = kernel_class(edges)\n",
    "        for K in kernel.get_Ks():\n",
    "            prediction = Ward(info['k']).fit_predict(K)\n",
    "            score_1 = adjusted_rand_score(nodes, prediction)\n",
    "            scores_1.append(score_1)\n",
    "            score_2 = normalized_mutual_info_score(nodes, prediction)\n",
    "            scores_2.append(score_2)\n",
    "        results[kernel_class.name] = 'ARI=' + str(max(scores_1)) + ' NMI=' \\\n",
    "                                     + str(max(scores_2))\n",
    "        print(info['name'] + ' ' + kernel_class.name + ' ' + results[kernel_class.name])\n",
    "    print('data ' + info['name'] + 'for Ward' + ' finished!')\n",
    "    with open('src/results/my/datasets/' + 'Ward_' + info['name'] + '.txt', 'w') as file:\n",
    "        file.write(json.dumps(results))"
   ]
  },
  {
   "cell_type": "code",
   "execution_count": 1,
   "metadata": {},
   "outputs": [
    {
     "name": "stdout",
     "output_type": "stream",
     "text": [
      "data polbooks started!\nn_clusters = 3\n"
     ]
    },
    {
     "name": "stdout",
     "output_type": "stream",
     "text": [
      "polbooks PlainWalk ARI=0.357089639519 NMI=0.419866966672\n"
     ]
    },
    {
     "name": "stdout",
     "output_type": "stream",
     "text": [
      "polbooks LogPlainWalk ARI=0.673934585831 NMI=0.586863138501\n"
     ]
    },
    {
     "name": "stdout",
     "output_type": "stream",
     "text": [
      "polbooks Communicability ARI=0.443585210413 NMI=0.466520079343\n"
     ]
    },
    {
     "name": "stdout",
     "output_type": "stream",
     "text": [
      "polbooks LogCommunicability ARI=0.360581185653 NMI=0.414122778039\n"
     ]
    },
    {
     "name": "stdout",
     "output_type": "stream",
     "text": [
      "polbooks Forest ARI=0.689483672535 NMI=0.599056489524\n"
     ]
    },
    {
     "name": "stdout",
     "output_type": "stream",
     "text": [
      "polbooks LogForest ARI=0.682989290703 NMI=0.605116578434\n"
     ]
    },
    {
     "name": "stdout",
     "output_type": "stream",
     "text": [
      "polbooks Heat ARI=0.707819422326 NMI=0.640765763434\n"
     ]
    },
    {
     "name": "stdout",
     "output_type": "stream",
     "text": [
      "polbooks LogHeat ARI=0.726959025023 NMI=0.645147951749\n"
     ]
    },
    {
     "name": "stdout",
     "output_type": "stream",
     "text": [
      "polbooks SigmoidCommuteTime ARI=0.733839072062 NMI=0.678825087596\n"
     ]
    },
    {
     "name": "stdout",
     "output_type": "stream",
     "text": [
      "polbooks SigmoidCorrectedCommuteTime ARI=0.0 NMI=-1.11022302463e-06\ndata polbooks finished!\n"
     ]
    }
   ],
   "source": [
    "import matplotlib.pyplot as plt\n",
    "import numpy as np\n",
    "import json\n",
    "from sklearn.metrics import adjusted_rand_score, normalized_mutual_info_score\n",
    "\n",
    "from src.clustering.kernel_kmeans import KernelKMeans\n",
    "from src.clustering.ward import Ward\n",
    "from src.graph.graph_generator import GraphGenerator\n",
    "from src.kernel.kernel import get_all_kernels\n",
    "from src.dataset.dataset import football, polbooks, polblogs, zachary, news\n",
    "\n",
    "# all_data = [football, polbooks, zachary]\n",
    "all_data = [polbooks]\n",
    "\n",
    "for data in all_data:\n",
    "    graph, info = data\n",
    "    print('data ' + info['name'] + ' started!')\n",
    "    print('n_clusters = ' + str(info['k']))\n",
    "    results = {}\n",
    "    for kernel_class in get_all_kernels():\n",
    "        results[kernel_class.name] = {}\n",
    "        nodes = graph.nodes\n",
    "        edges = graph.edges\n",
    "        scores_1 = []\n",
    "        scores_2 = []\n",
    "        kernel = kernel_class(edges)\n",
    "        for K in kernel.get_Ks():\n",
    "            prediction = KernelKMeans(n_clusters=info['k']).fit_predict(K)\n",
    "            score_1 = adjusted_rand_score(nodes, prediction)\n",
    "            scores_1.append(score_1)\n",
    "            score_2 = normalized_mutual_info_score(nodes, prediction)\n",
    "            scores_2.append(score_2)\n",
    "        results[kernel_class.name] = 'ARI=' + str(max(scores_1)) + ' NMI=' + str(max(scores_2))\n",
    "        print(info['name'] + ' ' + kernel_class.name + ' ' \n",
    "              + results[kernel_class.name])\n",
    "    print('data ' + info['name'] + ' finished!')\n",
    "    # with open('src/results/my/datasets/' + 'K_means_' + info['name'] + '.txt', 'w') as file:\n",
    "    #     file.write(json.dumps(results))"
   ]
  },
  {
   "cell_type": "code",
   "execution_count": 1,
   "metadata": {},
   "outputs": [
    {
     "name": "stdout",
     "output_type": "stream",
     "text": [
      "data footballfor K-means started!\nn_clusters = 12\n"
     ]
    },
    {
     "name": "stdout",
     "output_type": "stream",
     "text": [
      "football K-means PlainWalk ARI=0.0227841318655 NMI=0.287787297427\nfootball Ward PlainWalk ARI=0.906334157557 NMI=0.930810884185\n"
     ]
    },
    {
     "name": "stdout",
     "output_type": "stream",
     "text": [
      "football K-means LogPlainWalk ARI=0.840399203505 NMI=0.907550804448\nfootball Ward LogPlainWalk ARI=0.896650009791 NMI=0.92419578687\n"
     ]
    },
    {
     "name": "stdout",
     "output_type": "stream",
     "text": [
      "football K-means Communicability ARI=0.876554844307 NMI=0.935285635642\nfootball Ward Communicability ARI=0.909377088152 NMI=0.935845790439\n"
     ]
    },
    {
     "name": "stdout",
     "output_type": "stream",
     "text": [
      "football K-means LogCommunicability ARI=0.876622989595 NMI=0.91695911395\nfootball Ward LogCommunicability ARI=0.909377088152 NMI=0.935845790439\n"
     ]
    },
    {
     "name": "stdout",
     "output_type": "stream",
     "text": [
      "football K-means Forest ARI=0.0386814210893 NMI=0.307666134066\nfootball Ward Forest ARI=0.896650009791 NMI=0.92419578687\n"
     ]
    },
    {
     "name": "stdout",
     "output_type": "stream",
     "text": [
      "football K-means LogForest ARI=0.223116682532 NMI=0.46081436303\nfootball Ward LogForest ARI=0.896650009791 NMI=0.92419578687\n"
     ]
    },
    {
     "name": "stdout",
     "output_type": "stream",
     "text": [
      "football K-means Heat ARI=0.830478068582 NMI=0.910688035725\nfootball Ward Heat ARI=0.896650009791 NMI=0.926884056453\n"
     ]
    },
    {
     "name": "stdout",
     "output_type": "stream",
     "text": [
      "football K-means LogHeat ARI=0.896650009791 NMI=0.926884056453\nfootball Ward LogHeat ARI=0.896650009791 NMI=0.926884056453\n"
     ]
    },
    {
     "name": "stdout",
     "output_type": "stream",
     "text": [
      "football K-means SigmoidCommuteTime ARI=0.614850370695 NMI=0.763764405542\nfootball Ward SigmoidCommuteTime ARI=0.896650009791 NMI=0.92419578687\ndata footballfor K-means finished!\ndata polbooksfor K-means started!\nn_clusters = 3\n"
     ]
    },
    {
     "name": "stdout",
     "output_type": "stream",
     "text": [
      "polbooks K-means PlainWalk ARI=0.423696524452 NMI=0.428184750289\npolbooks Ward PlainWalk ARI=0.689859519674 NMI=0.58624585164\n"
     ]
    },
    {
     "name": "stdout",
     "output_type": "stream",
     "text": [
      "polbooks K-means LogPlainWalk ARI=0.678782664221 NMI=0.586701745183\npolbooks Ward LogPlainWalk ARI=0.71834696317 NMI=0.62718880803\n"
     ]
    },
    {
     "name": "stdout",
     "output_type": "stream",
     "text": [
      "polbooks K-means Communicability ARI=0.392380884792 NMI=0.435809990934\npolbooks Ward Communicability ARI=0.680461669793 NMI=0.576107450818\n"
     ]
    },
    {
     "name": "stdout",
     "output_type": "stream",
     "text": [
      "polbooks K-means LogCommunicability ARI=0.539366719179 NMI=0.528161857366\npolbooks Ward LogCommunicability ARI=0.680461669793 NMI=0.576107450818\n"
     ]
    },
    {
     "name": "stdout",
     "output_type": "stream",
     "text": [
      "polbooks K-means Forest ARI=0.726959025023 NMI=0.645147951749\npolbooks Ward Forest ARI=0.665203435003 NMI=0.597513219481\n"
     ]
    },
    {
     "name": "stdout",
     "output_type": "stream",
     "text": [
      "polbooks K-means LogForest ARI=0.699664053176 NMI=0.614669091143\npolbooks Ward LogForest ARI=0.665203435003 NMI=0.597513219481\n"
     ]
    },
    {
     "name": "stdout",
     "output_type": "stream",
     "text": [
      "polbooks K-means Heat ARI=0.707819422326 NMI=0.608778043266\npolbooks Ward Heat ARI=0.708482177779 NMI=0.625320906524\n"
     ]
    },
    {
     "name": "stdout",
     "output_type": "stream",
     "text": [
      "polbooks K-means LogHeat ARI=0.707819422326 NMI=0.640765763434\npolbooks Ward LogHeat ARI=0.708482177779 NMI=0.625320906524\n"
     ]
    },
    {
     "name": "stdout",
     "output_type": "stream",
     "text": [
      "polbooks K-means SigmoidCommuteTime ARI=0.750959311168 NMI=0.637129657401\npolbooks Ward SigmoidCommuteTime ARI=0.674510162783 NMI=0.597513219481\ndata polbooksfor K-means finished!\ndata zacharyfor K-means started!\nn_clusters = 2\n"
     ]
    },
    {
     "name": "stdout",
     "output_type": "stream",
     "text": [
      "zachary K-means PlainWalk ARI=0.400641025641 NMI=0.326559296845\nzachary Ward PlainWalk ARI=1.0 NMI=1.0\n"
     ]
    },
    {
     "name": "stdout",
     "output_type": "stream",
     "text": [
      "zachary K-means LogPlainWalk ARI=1.0 NMI=1.0\nzachary Ward LogPlainWalk ARI=1.0 NMI=1.0\n"
     ]
    },
    {
     "name": "stdout",
     "output_type": "stream",
     "text": [
      "zachary K-means Communicability ARI=1.0 NMI=1.0\nzachary Ward Communicability ARI=1.0 NMI=1.0\n"
     ]
    },
    {
     "name": "stdout",
     "output_type": "stream",
     "text": [
      "zachary K-means LogCommunicability ARI=1.0 NMI=1.0\nzachary Ward LogCommunicability ARI=1.0 NMI=1.0\n"
     ]
    },
    {
     "name": "stdout",
     "output_type": "stream",
     "text": [
      "zachary K-means Forest ARI=0.571886446886 NMI=0.495886745949\nzachary Ward Forest ARI=0.153463105478 NMI=0.272495191494\n"
     ]
    },
    {
     "name": "stdout",
     "output_type": "stream",
     "text": [
      "zachary K-means LogForest ARI=0.882302454655 NMI=0.836504088906\nzachary Ward LogForest ARI=0.153463105478 NMI=0.272495191494\n"
     ]
    },
    {
     "name": "stdout",
     "output_type": "stream",
     "text": [
      "zachary K-means Heat ARI=0.882302454655 NMI=0.837170117219\nzachary Ward Heat ARI=1.0 NMI=1.0\n"
     ]
    },
    {
     "name": "stdout",
     "output_type": "stream",
     "text": [
      "zachary K-means LogHeat ARI=0.882302454655 NMI=0.836504088906\nzachary Ward LogHeat ARI=1.0 NMI=1.0\n"
     ]
    },
    {
     "name": "stdout",
     "output_type": "stream",
     "text": [
      "zachary K-means SigmoidCommuteTime ARI=0.882302454655 NMI=0.836504088906\nzachary Ward SigmoidCommuteTime ARI=1.0 NMI=1.0\ndata zacharyfor K-means finished!\ndata news_2cl_1for K-means started!\nn_clusters = 2\n"
     ]
    },
    {
     "name": "stdout",
     "output_type": "stream",
     "text": [
      "news_2cl_1 K-means PlainWalk ARI=0.0377774830285 NMI=0.0325678993218\nnews_2cl_1 Ward PlainWalk ARI=0.046538240459 NMI=0.131073947536\n"
     ]
    },
    {
     "name": "stdout",
     "output_type": "stream",
     "text": [
      "news_2cl_1 K-means LogPlainWalk ARI=0.902255049685 NMI=0.83204167446\nnews_2cl_1 Ward LogPlainWalk ARI=0.765036841281 NMI=0.666211167588\n"
     ]
    },
    {
     "name": "stdout",
     "output_type": "stream",
     "text": [
      "news_2cl_1 K-means Communicability ARI=0.800526578912 NMI=0.713175681427\nnews_2cl_1 Ward Communicability ARI=0.0398139851986 NMI=0.137056806879\n"
     ]
    },
    {
     "name": "stdout",
     "output_type": "stream",
     "text": [
      "news_2cl_1 K-means LogCommunicability ARI=0.655250568506 NMI=0.576961571533\nnews_2cl_1 Ward LogCommunicability ARI=0.0398139851986 NMI=0.137056806879\n"
     ]
    },
    {
     "name": "stdout",
     "output_type": "stream",
     "text": [
      "news_2cl_1 K-means Forest ARI=0.0215733546382 NMI=0.0174058523498\nnews_2cl_1 Ward Forest ARI=0.0 NMI=0.0157732781716\n"
     ]
    },
    {
     "name": "stdout",
     "output_type": "stream",
     "text": [
      "news_2cl_1 K-means LogForest ARI=0.0107506990699 NMI=0.00958758527275\nnews_2cl_1 Ward LogForest ARI=0.0 NMI=0.0157732781716\n"
     ]
    },
    {
     "name": "stdout",
     "output_type": "stream",
     "text": [
      "news_2cl_1 K-means Heat ARI=0.818571667891 NMI=0.735744348108\nnews_2cl_1 Ward Heat ARI=0.0 NMI=0.0157732781716\n"
     ]
    },
    {
     "name": "stdout",
     "output_type": "stream",
     "text": [
      "news_2cl_1 K-means LogHeat ARI=0.791580204163 NMI=0.708762056874\nnews_2cl_1 Ward LogHeat ARI=0.0 NMI=0.0157732781716\n"
     ]
    },
    {
     "name": "stdout",
     "output_type": "stream",
     "text": [
      "news_2cl_1 K-means SigmoidCommuteTime ARI=0.041698241206 NMI=0.0320494643064\nnews_2cl_1 Ward SigmoidCommuteTime ARI=0.0 NMI=0.0157732781716\ndata news_2cl_1for K-means finished!\ndata news_2cl_2for K-means started!\nn_clusters = 2\n"
     ]
    },
    {
     "name": "stdout",
     "output_type": "stream",
     "text": [
      "news_2cl_2 K-means PlainWalk ARI=0.0161178025765 NMI=0.0145548731947\nnews_2cl_2 Ward PlainWalk ARI=0.0301532840005 NMI=0.141592004211\n"
     ]
    },
    {
     "name": "stdout",
     "output_type": "stream",
     "text": [
      "news_2cl_2 K-means LogPlainWalk ARI=0.772768431131 NMI=0.681759167056\nnews_2cl_2 Ward LogPlainWalk ARI=0.678368603577 NMI=0.584491891861\n"
     ]
    },
    {
     "name": "stdout",
     "output_type": "stream",
     "text": [
      "news_2cl_2 K-means Communicability ARI=0.678376318614 NMI=0.601637906435\nnews_2cl_2 Ward Communicability ARI=0.0897374128245 NMI=0.216205884855\n"
     ]
    },
    {
     "name": "stdout",
     "output_type": "stream",
     "text": [
      "news_2cl_2 K-means LogCommunicability ARI=0.522443834237 NMI=0.438875731558\nnews_2cl_2 Ward LogCommunicability ARI=0.0897374128245 NMI=0.216205884855\n"
     ]
    },
    {
     "name": "stdout",
     "output_type": "stream",
     "text": [
      "news_2cl_2 K-means Forest ARI=0.0173232761624 NMI=0.0143577766853\nnews_2cl_2 Ward Forest ARI=5.0760113667e-05 NMI=0.0159338802362\n"
     ]
    },
    {
     "name": "stdout",
     "output_type": "stream",
     "text": [
      "news_2cl_2 K-means LogForest ARI=0.00972858782609 NMI=0.00882318453868\nnews_2cl_2 Ward LogForest ARI=5.0760113667e-05 NMI=0.0159338802362\n"
     ]
    },
    {
     "name": "stdout",
     "output_type": "stream",
     "text": [
      "news_2cl_2 K-means Heat ARI=0.695079191855 NMI=0.601947405938\nnews_2cl_2 Ward Heat ARI=5.0760113667e-05 NMI=0.0159338802362\n"
     ]
    },
    {
     "name": "stdout",
     "output_type": "stream",
     "text": [
      "news_2cl_2 K-means LogHeat ARI=0.661859159639 NMI=0.554053632358\nnews_2cl_2 Ward LogHeat ARI=5.0760113667e-05 NMI=0.0159338802362\n"
     ]
    },
    {
     "name": "stdout",
     "output_type": "stream",
     "text": [
      "news_2cl_2 K-means SigmoidCommuteTime ARI=0.00661683499693 NMI=0.00662181551977\nnews_2cl_2 Ward SigmoidCommuteTime ARI=0.000152156266419 NMI=0.023788467205\ndata news_2cl_2for K-means finished!\ndata news_2cl_3for K-means started!\nn_clusters = 2\n"
     ]
    },
    {
     "name": "stdout",
     "output_type": "stream",
     "text": [
      "news_2cl_3 K-means PlainWalk ARI=0.310923010111 NMI=0.349019059416\nnews_2cl_3 Ward PlainWalk ARI=0.606586521764 NMI=0.558476362302\n"
     ]
    },
    {
     "name": "stdout",
     "output_type": "stream",
     "text": [
      "news_2cl_3 K-means LogPlainWalk ARI=0.845643701104 NMI=0.761171406263\nnews_2cl_3 Ward LogPlainWalk ARI=0.836424412989 NMI=0.748423673259\n"
     ]
    },
    {
     "name": "stdout",
     "output_type": "stream",
     "text": [
      "news_2cl_3 K-means Communicability ARI=0.538168910285 NMI=0.545268622685\nnews_2cl_3 Ward Communicability ARI=0.420069705463 NMI=0.446307464619\n"
     ]
    },
    {
     "name": "stdout",
     "output_type": "stream",
     "text": [
      "news_2cl_3 K-means LogCommunicability ARI=0.679119330825 NMI=0.650059658333\nnews_2cl_3 Ward LogCommunicability ARI=0.420069705463 NMI=0.446307464619\n"
     ]
    },
    {
     "name": "stdout",
     "output_type": "stream",
     "text": [
      "news_2cl_3 K-means Forest ARI=0.0126089199529 NMI=0.0109305356853\nnews_2cl_3 Ward Forest ARI=2.51892309488e-05 NMI=0.0158531978678\n"
     ]
    },
    {
     "name": "stdout",
     "output_type": "stream",
     "text": [
      "news_2cl_3 K-means LogForest ARI=0.0544017434292 NMI=0.0433781544791\nnews_2cl_3 Ward LogForest ARI=2.51892309488e-05 NMI=0.0158531978678\n"
     ]
    },
    {
     "name": "stdout",
     "output_type": "stream",
     "text": [
      "news_2cl_3 K-means Heat ARI=0.82725719981 NMI=0.74955482113\nnews_2cl_3 Ward Heat ARI=2.51892309488e-05 NMI=0.0158531978678\n"
     ]
    },
    {
     "name": "stdout",
     "output_type": "stream",
     "text": [
      "news_2cl_3 K-means LogHeat ARI=0.83642668478 NMI=0.77327454855\nnews_2cl_3 Ward LogHeat ARI=2.51892309488e-05 NMI=0.0158531978678\n"
     ]
    },
    {
     "name": "stdout",
     "output_type": "stream",
     "text": [
      "news_2cl_3 K-means SigmoidCommuteTime ARI=0.400666226437 NMI=0.364440915554\nnews_2cl_3 Ward SigmoidCommuteTime ARI=2.51892309488e-05 NMI=0.0158531978678\ndata news_2cl_3for K-means finished!\ndata news_3cl_1for K-means started!\nn_clusters = 3\n"
     ]
    },
    {
     "name": "stdout",
     "output_type": "stream",
     "text": [
      "news_3cl_1 K-means PlainWalk ARI=0.164771820542 NMI=0.219073128399\nnews_3cl_1 Ward PlainWalk ARI=0.294076407196 NMI=0.435537100686\n"
     ]
    },
    {
     "name": "stdout",
     "output_type": "stream",
     "text": [
      "news_3cl_1 K-means LogPlainWalk ARI=0.823569797941 NMI=0.754428265803\nnews_3cl_1 Ward LogPlainWalk ARI=0.698476902125 NMI=0.626289453208\n"
     ]
    },
    {
     "name": "stdout",
     "output_type": "stream",
     "text": [
      "news_3cl_1 K-means Communicability ARI=0.351448434994 NMI=0.453860686525\nnews_3cl_1 Ward Communicability ARI=0.396134440162 NMI=0.527740021915\n"
     ]
    },
    {
     "name": "stdout",
     "output_type": "stream",
     "text": [
      "news_3cl_1 K-means LogCommunicability ARI=0.359739912474 NMI=0.41661445159\nnews_3cl_1 Ward LogCommunicability ARI=0.396134440162 NMI=0.527740021915\n"
     ]
    },
    {
     "ename": "KeyboardInterrupt",
     "evalue": "",
     "traceback": [
      "\u001b[0;31m---------------------------------------------------------------------------\u001b[0m",
      "\u001b[0;31mKeyboardInterrupt\u001b[0m                         Traceback (most recent call last)",
      "\u001b[0;32m<ipython-input-1-9e43c21e8723>\u001b[0m in \u001b[0;36m<module>\u001b[0;34m()\u001b[0m\n\u001b[1;32m     36\u001b[0m             \u001b[0mkmeans_nmi_s\u001b[0m\u001b[0;34m.\u001b[0m\u001b[0mappend\u001b[0m\u001b[0;34m(\u001b[0m\u001b[0mkmeans_nmi\u001b[0m\u001b[0;34m)\u001b[0m\u001b[0;34m\u001b[0m\u001b[0m\n\u001b[1;32m     37\u001b[0m \u001b[0;34m\u001b[0m\u001b[0m\n\u001b[0;32m---> 38\u001b[0;31m             \u001b[0mward_prediction\u001b[0m \u001b[0;34m=\u001b[0m \u001b[0mWard\u001b[0m\u001b[0;34m(\u001b[0m\u001b[0mn_clusters\u001b[0m\u001b[0;34m=\u001b[0m\u001b[0minfo\u001b[0m\u001b[0;34m[\u001b[0m\u001b[0;34m'k'\u001b[0m\u001b[0;34m]\u001b[0m\u001b[0;34m)\u001b[0m\u001b[0;34m.\u001b[0m\u001b[0mfit_predict\u001b[0m\u001b[0;34m(\u001b[0m\u001b[0mK\u001b[0m\u001b[0;34m)\u001b[0m\u001b[0;34m\u001b[0m\u001b[0m\n\u001b[0m\u001b[1;32m     39\u001b[0m             \u001b[0mward_ari\u001b[0m \u001b[0;34m=\u001b[0m \u001b[0madjusted_rand_score\u001b[0m\u001b[0;34m(\u001b[0m\u001b[0mnodes\u001b[0m\u001b[0;34m,\u001b[0m \u001b[0mward_prediction\u001b[0m\u001b[0;34m)\u001b[0m\u001b[0;34m\u001b[0m\u001b[0m\n\u001b[1;32m     40\u001b[0m             \u001b[0mward_ari_s\u001b[0m\u001b[0;34m.\u001b[0m\u001b[0mappend\u001b[0m\u001b[0;34m(\u001b[0m\u001b[0mward_ari\u001b[0m\u001b[0;34m)\u001b[0m\u001b[0;34m\u001b[0m\u001b[0m\n",
      "\u001b[0;32m/Library/Frameworks/Python.framework/Versions/3.6/lib/python3.6/site-packages/sklearn/base.py\u001b[0m in \u001b[0;36mfit_predict\u001b[0;34m(self, X, y)\u001b[0m\n\u001b[1;32m    408\u001b[0m         \u001b[0;31m# non-optimized default implementation; override when a better\u001b[0m\u001b[0;34m\u001b[0m\u001b[0;34m\u001b[0m\u001b[0m\n\u001b[1;32m    409\u001b[0m         \u001b[0;31m# method is possible for a given clustering algorithm\u001b[0m\u001b[0;34m\u001b[0m\u001b[0;34m\u001b[0m\u001b[0m\n\u001b[0;32m--> 410\u001b[0;31m         \u001b[0mself\u001b[0m\u001b[0;34m.\u001b[0m\u001b[0mfit\u001b[0m\u001b[0;34m(\u001b[0m\u001b[0mX\u001b[0m\u001b[0;34m)\u001b[0m\u001b[0;34m\u001b[0m\u001b[0m\n\u001b[0m\u001b[1;32m    411\u001b[0m         \u001b[0;32mreturn\u001b[0m \u001b[0mself\u001b[0m\u001b[0;34m.\u001b[0m\u001b[0mlabels_\u001b[0m\u001b[0;34m\u001b[0m\u001b[0m\n\u001b[1;32m    412\u001b[0m \u001b[0;34m\u001b[0m\u001b[0m\n",
      "\u001b[0;32m/Users/kolya/Desktop/Diploma/bachelor_thesis/src/clustering/ward.py\u001b[0m in \u001b[0;36mfit\u001b[0;34m(self, K, y, sample_weight)\u001b[0m\n\u001b[1;32m     32\u001b[0m \u001b[0;34m\u001b[0m\u001b[0m\n\u001b[1;32m     33\u001b[0m     \u001b[0;32mdef\u001b[0m \u001b[0mfit\u001b[0m\u001b[0;34m(\u001b[0m\u001b[0mself\u001b[0m\u001b[0;34m,\u001b[0m \u001b[0mK\u001b[0m\u001b[0;34m,\u001b[0m \u001b[0my\u001b[0m\u001b[0;34m=\u001b[0m\u001b[0;32mNone\u001b[0m\u001b[0;34m,\u001b[0m \u001b[0msample_weight\u001b[0m\u001b[0;34m=\u001b[0m\u001b[0;32mNone\u001b[0m\u001b[0;34m)\u001b[0m\u001b[0;34m:\u001b[0m\u001b[0;34m\u001b[0m\u001b[0m\n\u001b[0;32m---> 34\u001b[0;31m         \u001b[0mself\u001b[0m\u001b[0;34m.\u001b[0m\u001b[0mlabels_\u001b[0m \u001b[0;34m=\u001b[0m \u001b[0mself\u001b[0m\u001b[0;34m.\u001b[0m\u001b[0mpredict\u001b[0m\u001b[0;34m(\u001b[0m\u001b[0mK\u001b[0m\u001b[0;34m)\u001b[0m\u001b[0;34m\u001b[0m\u001b[0m\n\u001b[0m\u001b[1;32m     35\u001b[0m         \u001b[0;32mreturn\u001b[0m \u001b[0mself\u001b[0m\u001b[0;34m\u001b[0m\u001b[0m\n\u001b[1;32m     36\u001b[0m \u001b[0;34m\u001b[0m\u001b[0m\n",
      "\u001b[0;32m/Users/kolya/Desktop/Diploma/bachelor_thesis/src/clustering/ward.py\u001b[0m in \u001b[0;36mpredict\u001b[0;34m(self, K)\u001b[0m\n\u001b[1;32m     38\u001b[0m         \u001b[0mclusters\u001b[0m \u001b[0;34m=\u001b[0m \u001b[0;34m[\u001b[0m\u001b[0mCluster\u001b[0m\u001b[0;34m(\u001b[0m\u001b[0;34m[\u001b[0m\u001b[0mi\u001b[0m\u001b[0;34m]\u001b[0m\u001b[0;34m,\u001b[0m \u001b[0mK\u001b[0m\u001b[0;34m.\u001b[0m\u001b[0mshape\u001b[0m\u001b[0;34m[\u001b[0m\u001b[0;36m0\u001b[0m\u001b[0;34m]\u001b[0m\u001b[0;34m)\u001b[0m \u001b[0;32mfor\u001b[0m \u001b[0mi\u001b[0m \u001b[0;32min\u001b[0m \u001b[0mrange\u001b[0m\u001b[0;34m(\u001b[0m\u001b[0mK\u001b[0m\u001b[0;34m.\u001b[0m\u001b[0mshape\u001b[0m\u001b[0;34m[\u001b[0m\u001b[0;36m0\u001b[0m\u001b[0;34m]\u001b[0m\u001b[0;34m)\u001b[0m\u001b[0;34m]\u001b[0m\u001b[0;34m\u001b[0m\u001b[0m\n\u001b[1;32m     39\u001b[0m         \u001b[0;32mfor\u001b[0m \u001b[0mi\u001b[0m \u001b[0;32min\u001b[0m \u001b[0mrange\u001b[0m\u001b[0;34m(\u001b[0m\u001b[0mK\u001b[0m\u001b[0;34m.\u001b[0m\u001b[0mshape\u001b[0m\u001b[0;34m[\u001b[0m\u001b[0;36m0\u001b[0m\u001b[0;34m]\u001b[0m \u001b[0;34m-\u001b[0m \u001b[0mself\u001b[0m\u001b[0;34m.\u001b[0m\u001b[0mn_clusters\u001b[0m\u001b[0;34m)\u001b[0m\u001b[0;34m:\u001b[0m\u001b[0;34m\u001b[0m\u001b[0m\n\u001b[0;32m---> 40\u001b[0;31m             \u001b[0mself\u001b[0m\u001b[0;34m.\u001b[0m\u001b[0m_iteration\u001b[0m\u001b[0;34m(\u001b[0m\u001b[0mK\u001b[0m\u001b[0;34m,\u001b[0m \u001b[0mclusters\u001b[0m\u001b[0;34m)\u001b[0m\u001b[0;34m\u001b[0m\u001b[0m\n\u001b[0m\u001b[1;32m     41\u001b[0m \u001b[0;34m\u001b[0m\u001b[0m\n\u001b[1;32m     42\u001b[0m         \u001b[0mresult\u001b[0m \u001b[0;34m=\u001b[0m \u001b[0mnp\u001b[0m\u001b[0;34m.\u001b[0m\u001b[0mzeros\u001b[0m\u001b[0;34m(\u001b[0m\u001b[0;34m(\u001b[0m\u001b[0mK\u001b[0m\u001b[0;34m.\u001b[0m\u001b[0mshape\u001b[0m\u001b[0;34m[\u001b[0m\u001b[0;36m0\u001b[0m\u001b[0;34m]\u001b[0m\u001b[0;34m,\u001b[0m\u001b[0;34m)\u001b[0m\u001b[0;34m,\u001b[0m \u001b[0mdtype\u001b[0m\u001b[0;34m=\u001b[0m\u001b[0mnp\u001b[0m\u001b[0;34m.\u001b[0m\u001b[0mint\u001b[0m\u001b[0;34m)\u001b[0m\u001b[0;34m\u001b[0m\u001b[0m\n",
      "\u001b[0;32m/Users/kolya/Desktop/Diploma/bachelor_thesis/src/clustering/ward.py\u001b[0m in \u001b[0;36m_iteration\u001b[0;34m(self, K, clusters)\u001b[0m\n\u001b[1;32m     50\u001b[0m         \u001b[0;32mfor\u001b[0m \u001b[0mCk_idx\u001b[0m\u001b[0;34m,\u001b[0m \u001b[0mCk\u001b[0m \u001b[0;32min\u001b[0m \u001b[0menumerate\u001b[0m\u001b[0;34m(\u001b[0m\u001b[0mclusters\u001b[0m\u001b[0;34m)\u001b[0m\u001b[0;34m:\u001b[0m\u001b[0;34m\u001b[0m\u001b[0m\n\u001b[1;32m     51\u001b[0m             \u001b[0;32mfor\u001b[0m \u001b[0mCl_idx\u001b[0m\u001b[0;34m,\u001b[0m \u001b[0mCl\u001b[0m \u001b[0;32min\u001b[0m \u001b[0menumerate\u001b[0m\u001b[0;34m(\u001b[0m\u001b[0mclusters\u001b[0m\u001b[0;34m[\u001b[0m\u001b[0mCk_idx\u001b[0m \u001b[0;34m+\u001b[0m \u001b[0;36m1\u001b[0m\u001b[0;34m:\u001b[0m\u001b[0;34m]\u001b[0m\u001b[0;34m)\u001b[0m\u001b[0;34m:\u001b[0m\u001b[0;34m\u001b[0m\u001b[0m\n\u001b[0;32m---> 52\u001b[0;31m                 \u001b[0mcurrentΔJ\u001b[0m \u001b[0;34m=\u001b[0m \u001b[0mCk\u001b[0m\u001b[0;34m.\u001b[0m\u001b[0mgetΔJ\u001b[0m\u001b[0;34m(\u001b[0m\u001b[0mK\u001b[0m\u001b[0;34m,\u001b[0m \u001b[0mCl\u001b[0m\u001b[0;34m)\u001b[0m\u001b[0;34m\u001b[0m\u001b[0m\n\u001b[0m\u001b[1;32m     53\u001b[0m                 \u001b[0;32mif\u001b[0m \u001b[0mcurrentΔJ\u001b[0m \u001b[0;34m<\u001b[0m \u001b[0mminΔJ\u001b[0m\u001b[0;34m:\u001b[0m\u001b[0;34m\u001b[0m\u001b[0m\n\u001b[1;32m     54\u001b[0m                     \u001b[0mminCk\u001b[0m\u001b[0;34m,\u001b[0m \u001b[0mminCl\u001b[0m\u001b[0;34m,\u001b[0m \u001b[0mminΔJ\u001b[0m \u001b[0;34m=\u001b[0m \u001b[0mCk\u001b[0m\u001b[0;34m,\u001b[0m \u001b[0mCl\u001b[0m\u001b[0;34m,\u001b[0m \u001b[0mcurrentΔJ\u001b[0m\u001b[0;34m\u001b[0m\u001b[0m\n",
      "\u001b[0;32m/Users/kolya/Desktop/Diploma/bachelor_thesis/src/clustering/ward.py\u001b[0m in \u001b[0;36mgetΔJ\u001b[0;34m(self, K, Cl)\u001b[0m\n\u001b[1;32m     16\u001b[0m \u001b[0;34m\u001b[0m\u001b[0m\n\u001b[1;32m     17\u001b[0m     \u001b[0;32mdef\u001b[0m \u001b[0mgetΔJ\u001b[0m\u001b[0;34m(\u001b[0m\u001b[0mself\u001b[0m\u001b[0;34m,\u001b[0m \u001b[0mK\u001b[0m\u001b[0;34m,\u001b[0m \u001b[0mCl\u001b[0m\u001b[0;34m)\u001b[0m\u001b[0;34m:\u001b[0m\u001b[0;34m\u001b[0m\u001b[0m\n\u001b[0;32m---> 18\u001b[0;31m         \u001b[0;32mreturn\u001b[0m \u001b[0mself\u001b[0m\u001b[0;34m.\u001b[0m\u001b[0mΔJ\u001b[0m\u001b[0;34m[\u001b[0m\u001b[0mCl\u001b[0m\u001b[0;34m]\u001b[0m \u001b[0;32mif\u001b[0m \u001b[0mCl\u001b[0m \u001b[0;32min\u001b[0m \u001b[0mself\u001b[0m\u001b[0;34m.\u001b[0m\u001b[0mΔJ\u001b[0m \u001b[0;32melse\u001b[0m \u001b[0mself\u001b[0m\u001b[0;34m.\u001b[0m\u001b[0mcalcΔJ\u001b[0m\u001b[0;34m(\u001b[0m\u001b[0mK\u001b[0m\u001b[0;34m,\u001b[0m \u001b[0mCl\u001b[0m\u001b[0;34m)\u001b[0m\u001b[0;34m\u001b[0m\u001b[0m\n\u001b[0m\u001b[1;32m     19\u001b[0m \u001b[0;34m\u001b[0m\u001b[0m\n\u001b[1;32m     20\u001b[0m     \u001b[0;31m# ΔJ = (n_k * n_l)/(n_k + n_l) * (h_k - h_l)^T * K * (h_k - h_l)\u001b[0m\u001b[0;34m\u001b[0m\u001b[0;34m\u001b[0m\u001b[0m\n",
      "\u001b[0;32m/Users/kolya/Desktop/Diploma/bachelor_thesis/src/clustering/ward.py\u001b[0m in \u001b[0;36mcalcΔJ\u001b[0;34m(self, K, Cl)\u001b[0m\n\u001b[1;32m     22\u001b[0m         \u001b[0mhkhl\u001b[0m \u001b[0;34m=\u001b[0m \u001b[0mnp\u001b[0m\u001b[0;34m.\u001b[0m\u001b[0marray\u001b[0m\u001b[0;34m(\u001b[0m\u001b[0mself\u001b[0m\u001b[0;34m.\u001b[0m\u001b[0mh\u001b[0m \u001b[0;34m-\u001b[0m \u001b[0mCl\u001b[0m\u001b[0;34m.\u001b[0m\u001b[0mh\u001b[0m\u001b[0;34m)\u001b[0m\u001b[0;34m.\u001b[0m\u001b[0mreshape\u001b[0m\u001b[0;34m(\u001b[0m\u001b[0;34m(\u001b[0m\u001b[0;34m-\u001b[0m\u001b[0;36m1\u001b[0m\u001b[0;34m,\u001b[0m \u001b[0;36m1\u001b[0m\u001b[0;34m)\u001b[0m\u001b[0;34m)\u001b[0m\u001b[0;34m\u001b[0m\u001b[0m\n\u001b[1;32m     23\u001b[0m         \u001b[0mhkhlT\u001b[0m \u001b[0;34m=\u001b[0m \u001b[0mhkhl\u001b[0m\u001b[0;34m.\u001b[0m\u001b[0mT\u001b[0m\u001b[0;34m\u001b[0m\u001b[0m\n\u001b[0;32m---> 24\u001b[0;31m         \u001b[0mcurrentΔJ\u001b[0m \u001b[0;34m=\u001b[0m \u001b[0;34m(\u001b[0m\u001b[0mself\u001b[0m\u001b[0;34m.\u001b[0m\u001b[0mn\u001b[0m \u001b[0;34m*\u001b[0m \u001b[0mCl\u001b[0m\u001b[0;34m.\u001b[0m\u001b[0mn\u001b[0m\u001b[0;34m)\u001b[0m \u001b[0;34m*\u001b[0m \u001b[0mhkhlT\u001b[0m\u001b[0;34m.\u001b[0m\u001b[0mdot\u001b[0m\u001b[0;34m(\u001b[0m\u001b[0mK\u001b[0m\u001b[0;34m)\u001b[0m\u001b[0;34m.\u001b[0m\u001b[0mdot\u001b[0m\u001b[0;34m(\u001b[0m\u001b[0mhkhl\u001b[0m\u001b[0;34m)\u001b[0m\u001b[0;34m[\u001b[0m\u001b[0;36m0\u001b[0m\u001b[0;34m]\u001b[0m\u001b[0;34m[\u001b[0m\u001b[0;36m0\u001b[0m\u001b[0;34m]\u001b[0m \u001b[0;34m/\u001b[0m \u001b[0;34m(\u001b[0m\u001b[0mself\u001b[0m\u001b[0;34m.\u001b[0m\u001b[0mn\u001b[0m \u001b[0;34m+\u001b[0m \u001b[0mCl\u001b[0m\u001b[0;34m.\u001b[0m\u001b[0mn\u001b[0m\u001b[0;34m)\u001b[0m\u001b[0;34m\u001b[0m\u001b[0m\n\u001b[0m\u001b[1;32m     25\u001b[0m         \u001b[0mself\u001b[0m\u001b[0;34m.\u001b[0m\u001b[0mΔJ\u001b[0m\u001b[0;34m[\u001b[0m\u001b[0mCl\u001b[0m\u001b[0;34m]\u001b[0m \u001b[0;34m=\u001b[0m \u001b[0mcurrentΔJ\u001b[0m\u001b[0;34m\u001b[0m\u001b[0m\n\u001b[1;32m     26\u001b[0m         \u001b[0;32mreturn\u001b[0m \u001b[0mcurrentΔJ\u001b[0m\u001b[0;34m\u001b[0m\u001b[0m\n",
      "\u001b[0;31mKeyboardInterrupt\u001b[0m: "
     ],
     "output_type": "error"
    }
   ],
   "source": [
    "import matplotlib.pyplot as plt\n",
    "import numpy as np\n",
    "import json\n",
    "from sklearn.metrics import adjusted_rand_score, normalized_mutual_info_score\n",
    "\n",
    "from src.clustering.kernel_kmeans import KernelKMeans\n",
    "from src.clustering.ward import Ward\n",
    "from src.graph.graph_generator import GraphGenerator\n",
    "from src.kernel.kernel import get_all_kernels\n",
    "from src.dataset.dataset import football, polbooks, polblogs, zachary, news\n",
    "\n",
    "all_data = [football, polbooks, zachary]\n",
    "all_data += news\n",
    "\n",
    "for data in all_data:\n",
    "    graph, info = data\n",
    "    print('data ' + info['name'] + 'for K-means' + ' started!')\n",
    "    print('n_clusters = ' + str(info['k']))\n",
    "    kmeans_results = {}\n",
    "    ward_results = {}\n",
    "    for kernel_class in get_all_kernels():\n",
    "        kmeans_results[kernel_class.name] = {}\n",
    "        ward_results[kernel_class.name] = {}\n",
    "        nodes = graph.nodes\n",
    "        edges = graph.edges\n",
    "        kmeans_ari_s = []\n",
    "        kmeans_nmi_s = []\n",
    "        ward_ari_s = []\n",
    "        ward_nmi_s = []\n",
    "        kernel = kernel_class(edges)\n",
    "        for K in kernel.get_Ks():\n",
    "            kmeans_prediction = KernelKMeans(n_clusters=info['k']).fit_predict(K)\n",
    "            kmeans_ari = adjusted_rand_score(nodes, kmeans_prediction)\n",
    "            kmeans_ari_s.append(kmeans_ari)\n",
    "            kmeans_nmi = normalized_mutual_info_score(nodes, kmeans_prediction)\n",
    "            kmeans_nmi_s.append(kmeans_nmi)\n",
    "\n",
    "            ward_prediction = Ward(n_clusters=info['k']).fit_predict(K)\n",
    "            ward_ari = adjusted_rand_score(nodes, ward_prediction)\n",
    "            ward_ari_s.append(ward_ari)\n",
    "            ward_nmi = normalized_mutual_info_score(nodes, ward_prediction)\n",
    "            ward_nmi_s.append(ward_nmi)\n",
    "\n",
    "        kmeans_results[kernel_class.name] = 'ARI=' + str(max(kmeans_ari_s)) \\\n",
    "                                            + ' NMI=' + str(max(kmeans_nmi_s))\n",
    "        ward_results[kernel_class.name] = 'ARI=' + str(max(ward_ari_s)) \\\n",
    "                                            + ' NMI=' + str(max(ward_nmi_s))\n",
    "        print(info['name'] + ' K-means ' + kernel_class.name + ' ' \n",
    "              + kmeans_results[kernel_class.name])\n",
    "        print(info['name'] + ' Ward ' + kernel_class.name + ' ' \n",
    "              + ward_results[kernel_class.name])\n",
    "    print('data ' + info['name'] + 'for K-means' + ' finished!')\n",
    "    with open('src/results/my/datasets/' + 'K_means_' + info['name'] + '.txt', 'w') as file:\n",
    "        file.write(json.dumps(kmeans_results))\n",
    "    with open('src/results/my/datasets/' + 'Ward_' + info['name'] + '.txt', 'w') as file:\n",
    "        file.write(json.dumps(ward_results))"
   ]
  },
  {
   "cell_type": "code",
   "execution_count": null,
   "metadata": {},
   "outputs": [],
   "source": []
  }
 ],
 "metadata": {
  "kernelspec": {
   "display_name": "Python 2",
   "language": "python",
   "name": "python2"
  },
  "language_info": {
   "codemirror_mode": {
    "name": "ipython",
    "version": 2
   },
   "file_extension": ".py",
   "mimetype": "text/x-python",
   "name": "python",
   "nbconvert_exporter": "python",
   "pygments_lexer": "ipython2",
   "version": "2.7.6"
  }
 },
 "nbformat": 4,
 "nbformat_minor": 0
}
