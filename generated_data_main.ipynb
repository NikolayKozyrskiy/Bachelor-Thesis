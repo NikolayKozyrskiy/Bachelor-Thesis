{
 "cells": [
  {
   "cell_type": "code",
   "execution_count": 2,
   "metadata": {},
   "outputs": [
    {
     "name": "stdout",
     "output_type": "stream",
     "text": [
      "100_3_03_01 is starting...\n"
     ]
    },
    {
     "name": "stdout",
     "output_type": "stream",
     "text": [
      "Ward:  PlainWalk best result:  0.795003938758\nKMeans:  PlainWalk best result:  0.0100807155925\n"
     ]
    },
    {
     "name": "stdout",
     "output_type": "stream",
     "text": [
      "Ward:  LogPlainWalk best result:  0.806059467134\nKMeans:  LogPlainWalk best result:  0.773163975428\n"
     ]
    },
    {
     "name": "stdout",
     "output_type": "stream",
     "text": [
      "Ward:  Communicability best result:  0.871260602122\nKMeans:  Communicability best result:  0.449949373586\n"
     ]
    },
    {
     "name": "stdout",
     "output_type": "stream",
     "text": [
      "Ward:  LogCommunicability best result:  0.937063231645\nKMeans:  LogCommunicability best result:  0.809669561343\n"
     ]
    },
    {
     "name": "stdout",
     "output_type": "stream",
     "text": [
      "Ward:  Forest best result:  0.079873641986\nKMeans:  Forest best result:  0.00589751759459\n"
     ]
    },
    {
     "name": "stdout",
     "output_type": "stream",
     "text": [
      "Ward:  LogForest best result:  0.796080342748\nKMeans:  LogForest best result:  0.716060417643\n"
     ]
    },
    {
     "name": "stdout",
     "output_type": "stream",
     "text": [
      "Ward:  Heat best result:  0.37020053588\nKMeans:  Heat best result:  0.140673308301\n"
     ]
    },
    {
     "name": "stdout",
     "output_type": "stream",
     "text": [
      "Ward:  LogHeat best result:  0.885618736725\nKMeans:  LogHeat best result:  0.768198807178\n"
     ]
    },
    {
     "name": "stdout",
     "output_type": "stream",
     "text": [
      "Ward:  SigmoidCommuteTime best result:  0.121237764763\nKMeans:  SigmoidCommuteTime best result:  0.00169859911234\n"
     ]
    },
    {
     "name": "stdout",
     "output_type": "stream",
     "text": [
      "Ward:  LogSigmoidCommuteTime best result:  0.152983934516\nKMeans:  LogSigmoidCommuteTime best result:  0.000474877171193\n"
     ]
    },
    {
     "name": "stdout",
     "output_type": "stream",
     "text": [
      "100_3_03_005 has finished!!!\n100_2_025_005 is starting...\n"
     ]
    },
    {
     "name": "stdout",
     "output_type": "stream",
     "text": [
      "Ward:  PlainWalk best result:  0.976878562748\nKMeans:  PlainWalk best result:  0.081531259869\n"
     ]
    },
    {
     "name": "stdout",
     "output_type": "stream",
     "text": [
      "Ward:  LogPlainWalk best result:  0.980830432659\nKMeans:  LogPlainWalk best result:  0.99199921633\n"
     ]
    },
    {
     "name": "stdout",
     "output_type": "stream",
     "text": [
      "Ward:  Communicability best result:  0.997599764899\nKMeans:  Communicability best result:  0.98166294654\n"
     ]
    },
    {
     "name": "stdout",
     "output_type": "stream",
     "text": [
      "Ward:  LogCommunicability best result:  1.0\nKMeans:  LogCommunicability best result:  0.988031189684\n"
     ]
    },
    {
     "name": "stdout",
     "output_type": "stream",
     "text": [
      "Ward:  Forest best result:  0.900886483172\nKMeans:  Forest best result:  0.0352875921829\n"
     ]
    },
    {
     "name": "stdout",
     "output_type": "stream",
     "text": [
      "Ward:  LogForest best result:  0.991199137963\nKMeans:  LogForest best result:  0.985728123767\n"
     ]
    },
    {
     "name": "stdout",
     "output_type": "stream",
     "text": [
      "Ward:  Heat best result:  0.98\nKMeans:  Heat best result:  0.8487044873\n"
     ]
    },
    {
     "name": "stdout",
     "output_type": "stream",
     "text": [
      "Ward:  LogHeat best result:  1.0\nKMeans:  LogHeat best result:  0.988031163824\n"
     ]
    },
    {
     "name": "stdout",
     "output_type": "stream",
     "text": [
      "Ward:  SigmoidCommuteTime best result:  0.942979174404\nKMeans:  SigmoidCommuteTime best result:  0.0293993177696\n"
     ]
    },
    {
     "name": "stdout",
     "output_type": "stream",
     "text": [
      "Ward:  LogSigmoidCommuteTime best result:  0.963600750724\nKMeans:  LogSigmoidCommuteTime best result:  0.026267170163\n"
     ]
    },
    {
     "name": "stdout",
     "output_type": "stream",
     "text": [
      "100_2_025_005 has finished!!!\n200_2_03_005 is starting...\n"
     ]
    },
    {
     "name": "stderr",
     "output_type": "stream",
     "text": [
      "/Library/Frameworks/Python.framework/Versions/3.6/lib/python3.6/site-packages/matplotlib/pyplot.py:524: RuntimeWarning: More than 20 figures have been opened. Figures created through the pyplot interface (`matplotlib.pyplot.figure`) are retained until explicitly closed and may consume too much memory. (To control this warning, see the rcParam `figure.max_open_warning`).\n  max_open_warning, RuntimeWarning)\n"
     ]
    },
    {
     "name": "stdout",
     "output_type": "stream",
     "text": [
      "Ward:  PlainWalk best result:  0.999599990101\nKMeans:  PlainWalk best result:  0.000816726860239\n"
     ]
    },
    {
     "name": "stdout",
     "output_type": "stream",
     "text": [
      "Ward:  LogPlainWalk best result:  0.999199980202\nKMeans:  LogPlainWalk best result:  1.0\n"
     ]
    },
    {
     "name": "stdout",
     "output_type": "stream",
     "text": [
      "Ward:  Communicability best result:  1.0\nKMeans:  Communicability best result:  1.0\n"
     ]
    },
    {
     "name": "stdout",
     "output_type": "stream",
     "text": [
      "Ward:  LogCommunicability best result:  1.0\nKMeans:  LogCommunicability best result:  1.0\n"
     ]
    },
    {
     "name": "stdout",
     "output_type": "stream",
     "text": [
      "Ward:  Forest best result:  0.987708300246\nKMeans:  Forest best result:  0.0395382482944\n"
     ]
    },
    {
     "name": "stdout",
     "output_type": "stream",
     "text": [
      "Ward:  LogForest best result:  1.0\nKMeans:  LogForest best result:  1.0\n"
     ]
    },
    {
     "name": "stdout",
     "output_type": "stream",
     "text": [
      "Ward:  Heat best result:  1.0\nKMeans:  Heat best result:  1.0\n"
     ]
    },
    {
     "name": "stdout",
     "output_type": "stream",
     "text": [
      "Ward:  LogHeat best result:  1.0\nKMeans:  LogHeat best result:  1.0\n"
     ]
    },
    {
     "name": "stdout",
     "output_type": "stream",
     "text": [
      "Ward:  SigmoidCommuteTime best result:  0.995215966836\nKMeans:  SigmoidCommuteTime best result:  0.000141333261953\n"
     ]
    },
    {
     "name": "stdout",
     "output_type": "stream",
     "text": [
      "Ward:  LogSigmoidCommuteTime best result:  0.992072203726\nKMeans:  LogSigmoidCommuteTime best result:  0.00040541393666\n"
     ]
    },
    {
     "name": "stdout",
     "output_type": "stream",
     "text": [
      "100_2_025_005 has finished!!!\n"
     ]
    }
   ],
   "source": [
    "import matplotlib.pyplot as plt\n",
    "import numpy as np\n",
    "import json\n",
    "from sklearn.metrics import adjusted_rand_score\n",
    "\n",
    "from src.clustering.ward import Ward\n",
    "from src.clustering.kernel_kmeans import KernelKMeans\n",
    "from src.graph.graph_generator import GraphGenerator\n",
    "from src.kernel.kernel import get_all_kernels\n",
    "\n",
    "folder_name = '100_3_03_01/'\n",
    "n_clusters = 3\n",
    "n_nodes = 100\n",
    "pin = 0.3\n",
    "pout = 0.1\n",
    "generator = GraphGenerator(n_nodes, n_clusters, pin, pout)\n",
    "\n",
    "graphs_num = 50\n",
    "\n",
    "print('100_3_03_01 is starting...')\n",
    "for kernel_class in get_all_kernels():\n",
    "    ward_results = {}\n",
    "    ward_all_scores = []\n",
    "    kmeans_results = {}\n",
    "    kmeans_all_scores = []\n",
    "    for i in range(0, graphs_num):\n",
    "        graph = generator.generate_graph()\n",
    "        nodes = graph.nodes\n",
    "        edges = graph.edges\n",
    "        ward_scores = []\n",
    "        kmeans_scores = []\n",
    "        kernel = kernel_class(edges)\n",
    "        for K in kernel.get_Ks():\n",
    "            prediction = Ward(n_clusters).fit_predict(K)\n",
    "            ward_score = adjusted_rand_score(nodes, prediction)\n",
    "            ward_scores.append(ward_score)\n",
    "            \n",
    "            prediction = KernelKMeans(n_clusters, random_state=0).fit_predict(K)\n",
    "            kmeans_score = adjusted_rand_score(nodes, prediction)\n",
    "            kmeans_scores.append(kmeans_score)\n",
    "            \n",
    "        ward_all_scores.append(ward_scores)\n",
    "        kmeans_all_scores.append(kmeans_scores)\n",
    "        \n",
    "    ward_all_scores = [list(i) for i in zip(*ward_all_scores)]\n",
    "    ward_resulting_score = [abs(np.mean(x)) for x in ward_all_scores]\n",
    "    ward_results[kernel_class.name] = ward_resulting_score\n",
    "    \n",
    "    kmeans_all_scores = [list(i) for i in zip(*kmeans_all_scores)]\n",
    "    kmeans_resulting_score = [abs(np.mean(x)) for x in kmeans_all_scores]\n",
    "    kmeans_results[kernel_class.name] = kmeans_resulting_score\n",
    "    \n",
    "    with open('src/results/my/generated_graphs/' + folder_name\n",
    "              + 'Ward_' + kernel_class.name + '.txt', 'w') as file:\n",
    "        file.write(json.dumps(ward_results))\n",
    "    with open('src/results/my/generated_graphs/' + folder_name \n",
    "              + 'KMeans_' + kernel_class.name + '.txt', 'w') as file:\n",
    "        file.write(json.dumps(kmeans_results))\n",
    "       \n",
    "    plt.figure(figsize=(10, 10))\n",
    "    for kernel_name, resulting_score in ward_results.items():\n",
    "        print('Ward: ', kernel_name, 'best result: ', np.max(resulting_score))\n",
    "        plt.plot(kernel_class.default_params, resulting_score, label='Ward')\n",
    "    for kernel_name, resulting_score in kmeans_results.items():\n",
    "        print('KMeans: ', kernel_name, 'best result: ', np.max(resulting_score))\n",
    "        plt.plot(kernel_class.default_params, resulting_score, label='Kernel K-means')\n",
    "    plt.title(kernel_class.name + ', n_clusters=' + str(n_clusters))\n",
    "    plt.legend()\n",
    "    plt.savefig('src/results/my/generated_graphs/' + folder_name + 'img/' \n",
    "                + kernel_class.name + '.png')\n",
    "    # plt.show()\n",
    "print('100_3_03_005 has finished!!!')\n",
    "\n",
    "\n",
    "\n",
    "print('100_2_025_005 is starting...')\n",
    "folder_name = '100_2_025_005/'\n",
    "n_clusters = 2\n",
    "n_nodes = 100\n",
    "pin = 0.25\n",
    "pout = 0.05\n",
    "generator = GraphGenerator(n_nodes, n_clusters, pin, pout)\n",
    "\n",
    "graphs_num = 50\n",
    "\n",
    "for kernel_class in get_all_kernels():\n",
    "    ward_results = {}\n",
    "    ward_all_scores = []\n",
    "    kmeans_results = {}\n",
    "    kmeans_all_scores = []\n",
    "    for i in range(0, graphs_num):\n",
    "        graph = generator.generate_graph()\n",
    "        nodes = graph.nodes\n",
    "        edges = graph.edges\n",
    "        ward_scores = []\n",
    "        kmeans_scores = []\n",
    "        kernel = kernel_class(edges)\n",
    "        for K in kernel.get_Ks():\n",
    "            prediction = Ward(n_clusters).fit_predict(K)\n",
    "            ward_score = adjusted_rand_score(nodes, prediction)\n",
    "            ward_scores.append(ward_score)\n",
    "            \n",
    "            prediction = KernelKMeans(n_clusters, random_state=0).fit_predict(K)\n",
    "            kmeans_score = adjusted_rand_score(nodes, prediction)\n",
    "            kmeans_scores.append(kmeans_score)\n",
    "            \n",
    "        ward_all_scores.append(ward_scores)\n",
    "        kmeans_all_scores.append(kmeans_scores)\n",
    "        \n",
    "    ward_all_scores = [list(i) for i in zip(*ward_all_scores)]\n",
    "    ward_resulting_score = [abs(np.mean(x)) for x in ward_all_scores]\n",
    "    ward_results[kernel_class.name] = ward_resulting_score\n",
    "    \n",
    "    kmeans_all_scores = [list(i) for i in zip(*kmeans_all_scores)]\n",
    "    kmeans_resulting_score = [abs(np.mean(x)) for x in kmeans_all_scores]\n",
    "    kmeans_results[kernel_class.name] = kmeans_resulting_score\n",
    "    \n",
    "    with open('src/results/my/generated_graphs/' + folder_name\n",
    "              + 'Ward_' + kernel_class.name + '.txt', 'w') as file:\n",
    "        file.write(json.dumps(ward_results))\n",
    "    with open('src/results/my/generated_graphs/' + folder_name \n",
    "              + 'KMeans_' + kernel_class.name + '.txt', 'w') as file:\n",
    "        file.write(json.dumps(kmeans_results))\n",
    "       \n",
    "    plt.figure(figsize=(10, 10))\n",
    "    for kernel_name, resulting_score in ward_results.items():\n",
    "        print('Ward: ', kernel_name, 'best result: ', np.max(resulting_score))\n",
    "        plt.plot(kernel_class.default_params, resulting_score, label='Ward')\n",
    "    for kernel_name, resulting_score in kmeans_results.items():\n",
    "        print('KMeans: ', kernel_name, 'best result: ', np.max(resulting_score))\n",
    "        plt.plot(kernel_class.default_params, resulting_score, label='Kernel K-means')\n",
    "    plt.title(kernel_class.name + ', n_clusters=' + str(n_clusters))\n",
    "    plt.legend()\n",
    "    plt.savefig('src/results/my/generated_graphs/' + folder_name + 'img/' \n",
    "                + kernel_class.name + '.png')\n",
    "    # plt.show()\n",
    "print('100_2_025_005 has finished!!!')\n",
    "\n",
    "\n",
    "print('200_2_03_005 is starting...')\n",
    "folder_name = '200_2_03_005/'\n",
    "n_clusters = 2\n",
    "n_nodes = 200\n",
    "pin = 0.3\n",
    "pout = 0.05\n",
    "generator = GraphGenerator(n_nodes, n_clusters, pin, pout)\n",
    "\n",
    "graphs_num = 50\n",
    "\n",
    "for kernel_class in get_all_kernels():\n",
    "    ward_results = {}\n",
    "    ward_all_scores = []\n",
    "    kmeans_results = {}\n",
    "    kmeans_all_scores = []\n",
    "    for i in range(0, graphs_num):\n",
    "        graph = generator.generate_graph()\n",
    "        nodes = graph.nodes\n",
    "        edges = graph.edges\n",
    "        ward_scores = []\n",
    "        kmeans_scores = []\n",
    "        kernel = kernel_class(edges)\n",
    "        for K in kernel.get_Ks():\n",
    "            prediction = Ward(n_clusters).fit_predict(K)\n",
    "            ward_score = adjusted_rand_score(nodes, prediction)\n",
    "            ward_scores.append(ward_score)\n",
    "            \n",
    "            prediction = KernelKMeans(n_clusters, random_state=0).fit_predict(K)\n",
    "            kmeans_score = adjusted_rand_score(nodes, prediction)\n",
    "            kmeans_scores.append(kmeans_score)\n",
    "            \n",
    "        ward_all_scores.append(ward_scores)\n",
    "        kmeans_all_scores.append(kmeans_scores)\n",
    "        \n",
    "    ward_all_scores = [list(i) for i in zip(*ward_all_scores)]\n",
    "    ward_resulting_score = [abs(np.mean(x)) for x in ward_all_scores]\n",
    "    ward_results[kernel_class.name] = ward_resulting_score\n",
    "    \n",
    "    kmeans_all_scores = [list(i) for i in zip(*kmeans_all_scores)]\n",
    "    kmeans_resulting_score = [abs(np.mean(x)) for x in kmeans_all_scores]\n",
    "    kmeans_results[kernel_class.name] = kmeans_resulting_score\n",
    "    \n",
    "    with open('src/results/my/generated_graphs/' + folder_name\n",
    "              + 'Ward_' + kernel_class.name + '.txt', 'w') as file:\n",
    "        file.write(json.dumps(ward_results))\n",
    "    with open('src/results/my/generated_graphs/' + folder_name \n",
    "              + 'KMeans_' + kernel_class.name + '.txt', 'w') as file:\n",
    "        file.write(json.dumps(kmeans_results))\n",
    "       \n",
    "    plt.figure(figsize=(10, 10))\n",
    "    for kernel_name, resulting_score in ward_results.items():\n",
    "        print('Ward: ', kernel_name, 'best result: ', np.max(resulting_score))\n",
    "        plt.plot(kernel_class.default_params, resulting_score, label='Ward')\n",
    "    for kernel_name, resulting_score in kmeans_results.items():\n",
    "        print('KMeans: ', kernel_name, 'best result: ', np.max(resulting_score))\n",
    "        plt.plot(kernel_class.default_params, resulting_score, label='Kernel K-means')\n",
    "    plt.title(kernel_class.name + ', n_clusters=' + str(n_clusters))\n",
    "    plt.legend()\n",
    "    plt.savefig('src/results/my/generated_graphs/' + folder_name + 'img/' \n",
    "                + kernel_class.name + '.png')\n",
    "    # plt.show()\n",
    "print('100_2_025_005 has finished!!!')"
   ]
  },
  {
   "cell_type": "code",
   "execution_count": 1,
   "metadata": {},
   "outputs": [
    {
     "name": "stdout",
     "output_type": "stream",
     "text": [
      "100_3_03_01 is starting...\n"
     ]
    },
    {
     "name": "stdout",
     "output_type": "stream",
     "text": [
      "Ward:  PlainWalk best result:  0.804918482287\nKMeans:  PlainWalk best result:  0.512330186446\n"
     ]
    },
    {
     "name": "stdout",
     "output_type": "stream",
     "text": [
      "Ward:  LogPlainWalk best result:  0.826006516521\nKMeans:  LogPlainWalk best result:  0.93836153923\n"
     ]
    },
    {
     "name": "stdout",
     "output_type": "stream",
     "text": [
      "Ward:  Communicability best result:  0.840095360863\nKMeans:  Communicability best result:  0.955345158824\n"
     ]
    },
    {
     "name": "stdout",
     "output_type": "stream",
     "text": [
      "Ward:  LogCommunicability best result:  0.810328198967\nKMeans:  LogCommunicability best result:  0.932122085488\n"
     ]
    },
    {
     "name": "stdout",
     "output_type": "stream",
     "text": [
      "Ward:  Forest best result:  0.660073819034\nKMeans:  Forest best result:  0.321978152694\n"
     ]
    },
    {
     "name": "stdout",
     "output_type": "stream",
     "text": [
      "Ward:  LogForest best result:  0.943654301009\nKMeans:  LogForest best result:  0.990376979375\n"
     ]
    },
    {
     "name": "stdout",
     "output_type": "stream",
     "text": [
      "Ward:  Heat best result:  0.864354995097\nKMeans:  Heat best result:  0.886308535891\n"
     ]
    },
    {
     "name": "stdout",
     "output_type": "stream",
     "text": [
      "Ward:  LogHeat best result:  0.96755222347\nKMeans:  LogHeat best result:  0.987404005484\n"
     ]
    },
    {
     "name": "stdout",
     "output_type": "stream",
     "text": [
      "Ward:  SigmoidCommuteTime best result:  0.731085729559\nKMeans:  SigmoidCommuteTime best result:  0.400778976004\n"
     ]
    },
    {
     "name": "stdout",
     "output_type": "stream",
     "text": [
      "Ward:  LogSigmoidCommuteTime best result:  0.721731797105\nKMeans:  LogSigmoidCommuteTime best result:  0.371217435996\n"
     ]
    },
    {
     "name": "stdout",
     "output_type": "stream",
     "text": [
      "100_3_03_005 has finished!!!\n"
     ]
    }
   ],
   "source": [
    "import matplotlib.pyplot as plt\n",
    "import numpy as np\n",
    "import json\n",
    "from sklearn.metrics import adjusted_rand_score\n",
    "\n",
    "from sklearn.cluster.k_means_ import k_means\n",
    "from sklearn.cluster import AgglomerativeClustering, SpectralClustering\n",
    "from src.graph.graph_generator import GraphGenerator\n",
    "from src.kernel.kernel import get_all_kernels\n",
    "\n",
    "folder_name = '100_3_03_01/'\n",
    "n_clusters = 3\n",
    "n_nodes = 100\n",
    "pin = 0.3\n",
    "pout = 0.1\n",
    "generator = GraphGenerator(n_nodes, n_clusters, pin, pout)\n",
    "\n",
    "graphs_num = 100\n",
    "\n",
    "print('100_3_03_01 is starting...')\n",
    "for kernel_class in get_all_kernels():\n",
    "    ward_results = {}\n",
    "    ward_all_scores = []\n",
    "    kmeans_results = {}\n",
    "    kmeans_all_scores = []\n",
    "    for i in range(0, graphs_num):\n",
    "        graph = generator.generate_graph()\n",
    "        nodes = graph.nodes\n",
    "        edges = graph.edges\n",
    "        ward_scores = []\n",
    "        kmeans_scores = []\n",
    "        kernel = kernel_class(edges)\n",
    "        for K in kernel.get_Ks():\n",
    "            prediction = AgglomerativeClustering(n_clusters=n_clusters, \n",
    "                                                 connectivity=K, linkage='ward')\\\n",
    "                .fit_predict(K)\n",
    "            ward_score = adjusted_rand_score(nodes, prediction)\n",
    "            ward_scores.append(ward_score)\n",
    "            \n",
    "            _, prediction, _ = k_means(K, n_clusters,\n",
    "                                 precompute_distances=True, random_state=0)\n",
    "            kmeans_score = adjusted_rand_score(nodes, prediction)\n",
    "            kmeans_scores.append(kmeans_score)\n",
    "            \n",
    "        ward_all_scores.append(ward_scores)\n",
    "        kmeans_all_scores.append(kmeans_scores)\n",
    "        \n",
    "    ward_all_scores = [list(i) for i in zip(*ward_all_scores)]\n",
    "    ward_resulting_score = [abs(np.mean(x)) for x in ward_all_scores]\n",
    "    ward_results[kernel_class.name] = ward_resulting_score\n",
    "    \n",
    "    kmeans_all_scores = [list(i) for i in zip(*kmeans_all_scores)]\n",
    "    kmeans_resulting_score = [abs(np.mean(x)) for x in kmeans_all_scores]\n",
    "    kmeans_results[kernel_class.name] = kmeans_resulting_score\n",
    "    \n",
    "    with open('src/results/my/generated_graphs/sklearn/' + folder_name\n",
    "              + 'Ward_' + kernel_class.name + '.txt', 'w') as file:\n",
    "        file.write(json.dumps(ward_results))\n",
    "    with open('src/results/my/generated_graphs/sklearn/' + folder_name \n",
    "              + 'KMeans_' + kernel_class.name + '.txt', 'w') as file:\n",
    "        file.write(json.dumps(kmeans_results))\n",
    "       \n",
    "    plt.figure(figsize=(10, 10))\n",
    "    for kernel_name, resulting_score in ward_results.items():\n",
    "        print('Ward: ', kernel_name, 'best result: ', np.max(resulting_score))\n",
    "        plt.plot(kernel_class.default_params, resulting_score, label='Ward')\n",
    "    for kernel_name, resulting_score in kmeans_results.items():\n",
    "        print('KMeans: ', kernel_name, 'best result: ', np.max(resulting_score))\n",
    "        plt.plot(kernel_class.default_params, resulting_score, label='Kernel K-means')\n",
    "    plt.title(kernel_class.name + ', n_clusters=' + str(n_clusters))\n",
    "    plt.legend()\n",
    "    plt.savefig('src/results/my/generated_graphs/sklearn/' + folder_name + 'img/' \n",
    "                + kernel_class.name + '.png')\n",
    "    # plt.show()\n",
    "print('100_3_03_005 has finished!!!')\n",
    "\n",
    "\n",
    "\n",
    "# print('100_2_025_005 is starting...')\n",
    "# folder_name = '100_2_025_005/'\n",
    "# n_clusters = 2\n",
    "# n_nodes = 100\n",
    "# pin = 0.25\n",
    "# pout = 0.05\n",
    "# generator = GraphGenerator(n_nodes, n_clusters, pin, pout)\n",
    "# graphs_num = 50\n",
    "# \n",
    "# for kernel_class in get_all_kernels():\n",
    "#     ward_results = {}\n",
    "#     ward_all_scores = []\n",
    "#     kmeans_results = {}\n",
    "#     kmeans_all_scores = []\n",
    "#     for i in range(0, graphs_num):\n",
    "#         graph = generator.generate_graph()\n",
    "#         nodes = graph.nodes\n",
    "#         edges = graph.edges\n",
    "#         ward_scores = []\n",
    "#         kmeans_scores = []\n",
    "#         kernel = kernel_class(edges)\n",
    "#         for K in kernel.get_Ks():\n",
    "#             prediction = AgglomerativeClustering(n_clusters=n_clusters, \n",
    "#                                                  connectivity=K, linkage='ward')\\\n",
    "#                 .fit_predict(K)\n",
    "#             ward_score = adjusted_rand_score(nodes, prediction)\n",
    "#             ward_scores.append(ward_score)\n",
    "#             \n",
    "#             _, prediction, _ = k_means(K, n_clusters,\n",
    "#                                  precompute_distances=True, random_state=0)\n",
    "#             kmeans_score = adjusted_rand_score(nodes, prediction)\n",
    "#             kmeans_scores.append(kmeans_score)\n",
    "#             \n",
    "#         ward_all_scores.append(ward_scores)\n",
    "#         kmeans_all_scores.append(kmeans_scores)\n",
    "#         \n",
    "#     ward_all_scores = [list(i) for i in zip(*ward_all_scores)]\n",
    "#     ward_resulting_score = [abs(np.mean(x)) for x in ward_all_scores]\n",
    "#     ward_results[kernel_class.name] = ward_resulting_score\n",
    "#     \n",
    "#     kmeans_all_scores = [list(i) for i in zip(*kmeans_all_scores)]\n",
    "#     kmeans_resulting_score = [abs(np.mean(x)) for x in kmeans_all_scores]\n",
    "#     kmeans_results[kernel_class.name] = kmeans_resulting_score\n",
    "#     \n",
    "#     with open('src/results/my/generated_graphs/sklearn/' + folder_name\n",
    "#               + 'Ward_' + kernel_class.name + '.txt', 'w') as file:\n",
    "#         file.write(json.dumps(ward_results))\n",
    "#     with open('src/results/my/generated_graphs/sklearn/' + folder_name \n",
    "#               + 'KMeans_' + kernel_class.name + '.txt', 'w') as file:\n",
    "#         file.write(json.dumps(kmeans_results))\n",
    "#        \n",
    "#     plt.figure(figsize=(10, 10))\n",
    "#     for kernel_name, resulting_score in ward_results.items():\n",
    "#         print('Ward: ', kernel_name, 'best result: ', np.max(resulting_score))\n",
    "#         plt.plot(kernel_class.default_params, resulting_score, label='Ward')\n",
    "#     for kernel_name, resulting_score in kmeans_results.items():\n",
    "#         print('KMeans: ', kernel_name, 'best result: ', np.max(resulting_score))\n",
    "#         plt.plot(kernel_class.default_params, resulting_score, label='Kernel K-means')\n",
    "#     plt.title(kernel_class.name + ', n_clusters=' + str(n_clusters))\n",
    "#     plt.legend()\n",
    "#     plt.savefig('src/results/my/generated_graphs/sklearn/' + folder_name + 'img/' \n",
    "#                 + kernel_class.name + '.png')\n",
    "#     # plt.show()\n",
    "# print('100_2_025_005 has finished!!!')\n",
    "# \n",
    "# \n",
    "# print('200_2_03_005 is starting...')\n",
    "# folder_name = '200_2_03_005/'\n",
    "# n_clusters = 2\n",
    "# n_nodes = 200\n",
    "# pin = 0.3\n",
    "# pout = 0.05\n",
    "# generator = GraphGenerator(n_nodes, n_clusters, pin, pout)\n",
    "# graphs_num = 50\n",
    "# \n",
    "# for kernel_class in get_all_kernels():\n",
    "#     ward_results = {}\n",
    "#     ward_all_scores = []\n",
    "#     kmeans_results = {}\n",
    "#     kmeans_all_scores = []\n",
    "#     for i in range(0, graphs_num):\n",
    "#         graph = generator.generate_graph()\n",
    "#         nodes = graph.nodes\n",
    "#         edges = graph.edges\n",
    "#         ward_scores = []\n",
    "#         kmeans_scores = []\n",
    "#         kernel = kernel_class(edges)\n",
    "#         for K in kernel.get_Ks():\n",
    "#             prediction = AgglomerativeClustering(n_clusters=n_clusters, \n",
    "#                                                  connectivity=K, linkage='ward')\\\n",
    "#                 .fit_predict(K)\n",
    "#             ward_score = adjusted_rand_score(nodes, prediction)\n",
    "#             ward_scores.append(ward_score)\n",
    "#             \n",
    "#             _, prediction, _ = k_means(K, n_clusters,\n",
    "#                                  precompute_distances=True, random_state=0)\n",
    "#             kmeans_score = adjusted_rand_score(nodes, prediction)\n",
    "#             kmeans_scores.append(kmeans_score)\n",
    "#             \n",
    "#         ward_all_scores.append(ward_scores)\n",
    "#         kmeans_all_scores.append(kmeans_scores)\n",
    "#         \n",
    "#     ward_all_scores = [list(i) for i in zip(*ward_all_scores)]\n",
    "#     ward_resulting_score = [abs(np.mean(x)) for x in ward_all_scores]\n",
    "#     ward_results[kernel_class.name] = ward_resulting_score\n",
    "#     \n",
    "#     kmeans_all_scores = [list(i) for i in zip(*kmeans_all_scores)]\n",
    "#     kmeans_resulting_score = [abs(np.mean(x)) for x in kmeans_all_scores]\n",
    "#     kmeans_results[kernel_class.name] = kmeans_resulting_score\n",
    "#     \n",
    "#     with open('src/results/my/generated_graphs/sklearn/' + folder_name\n",
    "#               + 'Ward_' + kernel_class.name + '.txt', 'w') as file:\n",
    "#         file.write(json.dumps(ward_results))\n",
    "#     with open('src/results/my/generated_graphs/sklearn/' + folder_name \n",
    "#               + 'KMeans_' + kernel_class.name + '.txt', 'w') as file:\n",
    "#         file.write(json.dumps(kmeans_results))\n",
    "#        \n",
    "#     plt.figure(figsize=(10, 10))\n",
    "#     for kernel_name, resulting_score in ward_results.items():\n",
    "#         print('Ward: ', kernel_name, 'best result: ', np.max(resulting_score))\n",
    "#         plt.plot(kernel_class.default_params, resulting_score, label='Ward')\n",
    "#     for kernel_name, resulting_score in kmeans_results.items():\n",
    "#         print('KMeans: ', kernel_name, 'best result: ', np.max(resulting_score))\n",
    "#         plt.plot(kernel_class.default_params, resulting_score, label='Kernel K-means')\n",
    "#     plt.title(kernel_class.name + ', n_clusters=' + str(n_clusters))\n",
    "#     plt.legend()\n",
    "#     plt.savefig('src/results/my/generated_graphs/sklearn/' + folder_name + 'img/' \n",
    "#                 + kernel_class.name + '.png')\n",
    "#     # plt.show()\n",
    "# print('100_2_025_005 has finished!!!')"
   ]
  },
  {
   "cell_type": "code",
   "execution_count": 1,
   "metadata": {},
   "outputs": [
    {
     "name": "stdout",
     "output_type": "stream",
     "text": [
      "unbalanced is starting...\n"
     ]
    },
    {
     "name": "stdout",
     "output_type": "stream",
     "text": [
      "Ward:  PlainWalk best result:  1.0\nKMeans:  PlainWalk best result:  1.0\n"
     ]
    },
    {
     "name": "stdout",
     "output_type": "stream",
     "text": [
      "Ward:  LogPlainWalk best result:  1.0\nKMeans:  LogPlainWalk best result:  1.0\n"
     ]
    },
    {
     "name": "stderr",
     "output_type": "stream",
     "text": [
      "/Library/Frameworks/Python.framework/Versions/3.6/lib/python3.6/site-packages/numpy/core/_methods.py:116: RuntimeWarning: overflow encountered in multiply\n  x = um.multiply(x, x, out=x)\n/Library/Frameworks/Python.framework/Versions/3.6/lib/python3.6/site-packages/sklearn/metrics/pairwise.py:247: RuntimeWarning: invalid value encountered in add\n  distances += XX\n/Library/Frameworks/Python.framework/Versions/3.6/lib/python3.6/site-packages/sklearn/cluster/k_means_.py:399: RuntimeWarning: overflow encountered in square\n  max_iter=max_iter, verbose=verbose)\n/Library/Frameworks/Python.framework/Versions/3.6/lib/python3.6/site-packages/sklearn/cluster/k_means_.py:399: RuntimeWarning: invalid value encountered in subtract\n  max_iter=max_iter, verbose=verbose)\n/Library/Frameworks/Python.framework/Versions/3.6/lib/python3.6/site-packages/sklearn/cluster/k_means_.py:400: RuntimeWarning: overflow encountered in square\n  inertia = np.sum((X - centers[labels]) ** 2, dtype=np.float64)\n"
     ]
    },
    {
     "name": "stderr",
     "output_type": "stream",
     "text": [
      "/Library/Frameworks/Python.framework/Versions/3.6/lib/python3.6/site-packages/sklearn/metrics/pairwise.py:246: RuntimeWarning: overflow encountered in multiply\n  distances *= -2\n"
     ]
    },
    {
     "name": "stderr",
     "output_type": "stream",
     "text": [
      "/Library/Frameworks/Python.framework/Versions/3.6/lib/python3.6/site-packages/sklearn/metrics/pairwise.py:247: RuntimeWarning: overflow encountered in add\n  distances += XX\n/Library/Frameworks/Python.framework/Versions/3.6/lib/python3.6/site-packages/sklearn/metrics/pairwise.py:248: RuntimeWarning: invalid value encountered in add\n  distances += YY\n"
     ]
    },
    {
     "name": "stderr",
     "output_type": "stream",
     "text": [
      "/Library/Frameworks/Python.framework/Versions/3.6/lib/python3.6/site-packages/sklearn/metrics/pairwise.py:248: RuntimeWarning: overflow encountered in add\n  distances += YY\n"
     ]
    },
    {
     "name": "stdout",
     "output_type": "stream",
     "text": [
      "Ward:  Communicability best result:  1.0\nKMeans:  Communicability best result:  1.0\n"
     ]
    },
    {
     "name": "stdout",
     "output_type": "stream",
     "text": [
      "Ward:  LogCommunicability best result:  1.0\nKMeans:  LogCommunicability best result:  1.0\n"
     ]
    },
    {
     "name": "stdout",
     "output_type": "stream",
     "text": [
      "Ward:  Forest best result:  1.0\nKMeans:  Forest best result:  1.0\n"
     ]
    },
    {
     "name": "stdout",
     "output_type": "stream",
     "text": [
      "Ward:  LogForest best result:  1.0\nKMeans:  LogForest best result:  1.0\n"
     ]
    },
    {
     "name": "stdout",
     "output_type": "stream",
     "text": [
      "Ward:  Heat best result:  1.0\nKMeans:  Heat best result:  1.0\n"
     ]
    },
    {
     "name": "stdout",
     "output_type": "stream",
     "text": [
      "Ward:  LogHeat best result:  1.0\nKMeans:  LogHeat best result:  1.0\n"
     ]
    },
    {
     "name": "stdout",
     "output_type": "stream",
     "text": [
      "Ward:  SigmoidCommuteTime best result:  1.0\nKMeans:  SigmoidCommuteTime best result:  1.0\n"
     ]
    },
    {
     "name": "stdout",
     "output_type": "stream",
     "text": [
      "Ward:  LogSigmoidCommuteTime best result:  1.0\nKMeans:  LogSigmoidCommuteTime best result:  1.0\n"
     ]
    },
    {
     "name": "stdout",
     "output_type": "stream",
     "text": [
      "unbalanced has finished!!!\n"
     ]
    }
   ],
   "source": [
    "import matplotlib.pyplot as plt\n",
    "import numpy as np\n",
    "import json\n",
    "from sklearn.metrics import adjusted_rand_score\n",
    "\n",
    "from sklearn.cluster.k_means_ import k_means\n",
    "from sklearn.cluster import AgglomerativeClustering, SpectralClustering\n",
    "from src.graph.graph_generator import GraphGenerator\n",
    "from src.kernel.kernel import get_all_kernels, SigmoidCommuteTime, LogSigmoidCommuteTime\n",
    "\n",
    "n_clusters = 2\n",
    "n_nodes = 100\n",
    "pin = 0.3\n",
    "pout = 0.07\n",
    "generator = GraphGenerator(n_nodes, n_clusters, pin, pout)\n",
    "\n",
    "graphs_num = 30\n",
    "nodes_in_first_num = range(1, 48, 3)\n",
    "\n",
    "print('unbalanced is starting...')\n",
    "for kernel_class in [SigmoidCommuteTime, LogSigmoidCommuteTime]:\n",
    "    ward_results = {}\n",
    "    ward_all_result_scores = []\n",
    "    kmeans_results = {}\n",
    "    kmeans_all_result_scores = []\n",
    "    for num in nodes_in_first_num:\n",
    "        ward_all_scores = []\n",
    "        kmeans_all_scores = []\n",
    "        for i in range(0, graphs_num):\n",
    "            graph = generator.generate_unbalanced_graph([num, n_nodes-num])\n",
    "            nodes = graph.nodes\n",
    "            edges = graph.edges\n",
    "            ward_scores = []\n",
    "            kmeans_scores = []\n",
    "            kernel = kernel_class(edges)\n",
    "            for K in kernel.get_Ks():\n",
    "                prediction = AgglomerativeClustering(n_clusters=n_clusters, \n",
    "                                                     connectivity=K, linkage='ward')\\\n",
    "                    .fit_predict(K)\n",
    "                ward_score = adjusted_rand_score(nodes, prediction)\n",
    "                ward_scores.append(ward_score)\n",
    "                _, prediction, _ = k_means(K, n_clusters,\n",
    "                                     precompute_distances=True, random_state=0)\n",
    "                kmeans_score = adjusted_rand_score(nodes, prediction)\n",
    "                kmeans_scores.append(kmeans_score)\n",
    "                \n",
    "            ward_all_scores.append(np.max(ward_scores))\n",
    "            kmeans_all_scores.append(np.max(kmeans_scores))\n",
    "        \n",
    "        ward_resulting_score = np.mean(ward_all_scores)\n",
    "        ward_all_result_scores.append(ward_resulting_score)\n",
    "        kmeans_resulting_score = np.mean(kmeans_all_scores)\n",
    "        kmeans_all_result_scores.append(kmeans_resulting_score)\n",
    "        \n",
    "    ward_results[kernel_class.name] = ward_all_result_scores\n",
    "    kmeans_results[kernel_class.name] = kmeans_all_result_scores\n",
    "        \n",
    "    with open('src/results/my/generated_graphs/sklearn/unbalanced/Ward_' \n",
    "              + kernel_class.name + '.txt', 'w') as file:\n",
    "        file.write(json.dumps(ward_results))\n",
    "    with open('src/results/my/generated_graphs/sklearn/unbalanced/KMeans_' \n",
    "              + kernel_class.name + '.txt', 'w') as file:\n",
    "        file.write(json.dumps(kmeans_results))\n",
    "       \n",
    "    plt.figure(figsize=(10, 10))\n",
    "    for kernel_name, resulting_score in ward_results.items():\n",
    "        print('Ward: ', kernel_name, 'best result: ', np.max(resulting_score))\n",
    "        plt.plot(nodes_in_first_num, resulting_score, label='Ward')\n",
    "    for kernel_name, resulting_score in kmeans_results.items():\n",
    "        print('KMeans: ', kernel_name, 'best result: ', np.max(resulting_score))\n",
    "        plt.plot(nodes_in_first_num, resulting_score, label='Kernel K-means')\n",
    "    plt.title(kernel_class.name + ', n_clusters=' + str(n_clusters))\n",
    "    plt.legend()\n",
    "    plt.savefig('src/results/my/generated_graphs/sklearn/unbalanced/img/' \n",
    "                + kernel_class.name + '.png')\n",
    "    # plt.show()\n",
    "print('unbalanced has finished!!!')"
   ]
  },
  {
   "cell_type": "code",
   "execution_count": null,
   "metadata": {},
   "outputs": [],
   "source": [
    ""
   ]
  }
 ],
 "metadata": {
  "kernelspec": {
   "display_name": "Python 2",
   "language": "python",
   "name": "python2"
  },
  "language_info": {
   "codemirror_mode": {
    "name": "ipython",
    "version": 2
   },
   "file_extension": ".py",
   "mimetype": "text/x-python",
   "name": "python",
   "nbconvert_exporter": "python",
   "pygments_lexer": "ipython2",
   "version": "2.7.6"
  }
 },
 "nbformat": 4,
 "nbformat_minor": 0
}
