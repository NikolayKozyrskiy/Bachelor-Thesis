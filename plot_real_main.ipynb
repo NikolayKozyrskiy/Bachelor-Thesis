{
 "cells": [
  {
   "cell_type": "code",
   "execution_count": null,
   "metadata": {
    "collapsed": true
   },
   "outputs": [],
   "source": [
    "import json\n",
    "import matplotlib.pyplot as plt\n",
    "import numpy as np\n",
    "\n",
    "from kernel.kernel import Kernel\n",
    "\n",
    "real_files = ['football', 'polbooks', 'zachary', 'news_2cl_1', 'news_2cl_2', \n",
    "              'news_2cl_3', 'news_3cl_1', 'news_3cl_2', 'news_3cl_3', \n",
    "              'news_5cl_1', 'news_5cl_2', 'news_5cl_3']\n",
    "\n",
    "algorithms = ['K_means_', 'Ward_']\n",
    "\n",
    "kernels = ['PlainWalk', 'LogPlainWalk', 'Communicability', 'LogCommunicability',\n",
    "           'Forest', 'LogForest', 'Heat', 'LogHeat', 'SigmoidCommuteTime', \n",
    "           'LogSigmoidCommuteTime']\n",
    "\n",
    "kmeans_results = {}\n",
    "ward_results = {}\n",
    "\n",
    "real_file = real_files[0]\n",
    "for algorithm in algorithms:\n",
    "    for kernel in kernels: \n",
    "        with open('src/results/my/datasets/sklearn/'\n",
    "                  + algorithm + real_file + '.txt', 'r') as file:\n",
    "            results = json.loads(file.read())\n",
    "            res = results.pop(kernel)\n",
    "            if algorithm == 'K_means_':\n",
    "                kmeans_results[kernel] = res\n",
    "            else:\n",
    "                ward_results[kernel] = res\n",
    "                \n"
   ]
  }
 ],
 "metadata": {
  "kernelspec": {
   "display_name": "Python 2",
   "language": "python",
   "name": "python2"
  },
  "language_info": {
   "codemirror_mode": {
    "name": "ipython",
    "version": 2
   },
   "file_extension": ".py",
   "mimetype": "text/x-python",
   "name": "python",
   "nbconvert_exporter": "python",
   "pygments_lexer": "ipython2",
   "version": "2.7.6"
  }
 },
 "nbformat": 4,
 "nbformat_minor": 0
}
