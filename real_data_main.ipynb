{
 "cells": [
  {
   "cell_type": "code",
   "execution_count": 3,
   "metadata": {
    "collapsed": true
   },
   "outputs": [
    {
     "name": "stdout",
     "output_type": "stream",
     "text": [
      "dataset football started!\nn_clusters = 12\n"
     ]
    },
    {
     "name": "stdout",
     "output_type": "stream",
     "text": [
      "football K-means ari PlainWalk -0.0011242255411\nfootball K-means nmi PlainWalk 0.244899469058\nfootball Ward ari PlainWalk 0.898433931748\nfootball Ward nmi PlainWalk 0.925414357428\n"
     ]
    },
    {
     "name": "stdout",
     "output_type": "stream",
     "text": [
      "football K-means ari LogPlainWalk 0.679992293874\nfootball K-means nmi LogPlainWalk 0.772912925118\nfootball Ward ari LogPlainWalk 0.896650009791\nfootball Ward nmi LogPlainWalk 0.92419578687\n"
     ]
    },
    {
     "name": "stdout",
     "output_type": "stream",
     "text": [
      "football K-means ari Communicability 0.332443421502\nfootball K-means nmi Communicability 0.53117871166\nfootball Ward ari Communicability 0.808187623316\nfootball Ward nmi Communicability 0.874302487254\n"
     ]
    },
    {
     "name": "stdout",
     "output_type": "stream",
     "text": [
      "football K-means ari LogCommunicability 0.416881078113\nfootball K-means nmi LogCommunicability 0.593152516114\nfootball Ward ari LogCommunicability 0.808187623316\nfootball Ward nmi LogCommunicability 0.874302487254\n"
     ]
    },
    {
     "name": "stdout",
     "output_type": "stream",
     "text": [
      "football K-means ari Forest 0.00110986642525\nfootball K-means nmi Forest 0.24804301595\nfootball Ward ari Forest 0.89448553996\nfootball Ward nmi Forest 0.922945168692\n"
     ]
    },
    {
     "name": "stdout",
     "output_type": "stream",
     "text": [
      "football K-means ari LogForest 0.00298002824236\nfootball K-means nmi LogForest 0.248529125352\nfootball Ward ari LogForest 0.89448553996\nfootball Ward nmi LogForest 0.922945168692\n"
     ]
    },
    {
     "name": "stdout",
     "output_type": "stream",
     "text": [
      "football K-means ari Heat 0.34812906057\nfootball K-means nmi Heat 0.533529250297\nfootball Ward ari Heat 0.841575399192\nfootball Ward nmi Heat 0.893600303894\n"
     ]
    },
    {
     "name": "stdout",
     "output_type": "stream",
     "text": [
      "football K-means ari LogHeat 0.289783128822\nfootball K-means nmi LogHeat 0.446300304348\nfootball Ward ari LogHeat 0.841575399192\nfootball Ward nmi LogHeat 0.893600303894\n"
     ]
    },
    {
     "name": "stdout",
     "output_type": "stream",
     "text": [
      "football K-means ari SigmoidCommuteTime 0.144293993568\nfootball K-means nmi SigmoidCommuteTime 0.368653813779\nfootball Ward ari SigmoidCommuteTime 0.896650009791\nfootball Ward nmi SigmoidCommuteTime 0.92419578687\ndataset football finished!\ndataset polbooks started!\nn_clusters = 3\n"
     ]
    },
    {
     "name": "stdout",
     "output_type": "stream",
     "text": [
      "polbooks K-means ari PlainWalk 0.0331940911566\npolbooks K-means nmi PlainWalk 0.0645720813427\npolbooks Ward ari PlainWalk 0.437153872107\npolbooks Ward nmi PlainWalk 0.444334976393\n"
     ]
    },
    {
     "name": "stdout",
     "output_type": "stream",
     "text": [
      "polbooks K-means ari LogPlainWalk 0.621438567793\npolbooks K-means nmi LogPlainWalk 0.547344951514\npolbooks Ward ari LogPlainWalk 0.70288048497\npolbooks Ward nmi LogPlainWalk 0.605314795408\n"
     ]
    },
    {
     "name": "stdout",
     "output_type": "stream",
     "text": [
      "polbooks K-means ari Communicability 0.158883522085\npolbooks K-means nmi Communicability 0.284265162894\npolbooks Ward ari Communicability 0.324358090428\npolbooks Ward nmi Communicability 0.39008244405\n"
     ]
    },
    {
     "name": "stdout",
     "output_type": "stream",
     "text": [
      "polbooks K-means ari LogCommunicability 0.153077075139\npolbooks K-means nmi LogCommunicability 0.270879233115\npolbooks Ward ari LogCommunicability 0.324358090428\npolbooks Ward nmi LogCommunicability 0.39008244405\n"
     ]
    },
    {
     "name": "stdout",
     "output_type": "stream",
     "text": [
      "polbooks K-means ari Forest 0.259668227868\npolbooks K-means nmi Forest 0.235893562697\npolbooks Ward ari Forest 0.625136066334\npolbooks Ward nmi Forest 0.560194730108\n"
     ]
    },
    {
     "name": "stdout",
     "output_type": "stream",
     "text": [
      "polbooks K-means ari LogForest 0.26184994569\npolbooks K-means nmi LogForest 0.240862005946\npolbooks Ward ari LogForest 0.625136066334\npolbooks Ward nmi LogForest 0.560194730108\n"
     ]
    },
    {
     "name": "stdout",
     "output_type": "stream",
     "text": [
      "polbooks K-means ari Heat 0.45684089062\npolbooks K-means nmi Heat 0.40358227787\npolbooks Ward ari Heat 0.659769431356\npolbooks Ward nmi Heat 0.583850552505\n"
     ]
    },
    {
     "name": "stdout",
     "output_type": "stream",
     "text": [
      "polbooks K-means ari LogHeat 0.457871231844\npolbooks K-means nmi LogHeat 0.399748130691\npolbooks Ward ari LogHeat 0.659769431356\npolbooks Ward nmi LogHeat 0.583850552505\n"
     ]
    },
    {
     "name": "stdout",
     "output_type": "stream",
     "text": [
      "polbooks K-means ari SigmoidCommuteTime 0.629591635137\npolbooks K-means nmi SigmoidCommuteTime 0.552265327919\npolbooks Ward ari SigmoidCommuteTime 0.659846736512\npolbooks Ward nmi SigmoidCommuteTime 0.5664190318\ndataset polbooks finished!\ndataset zachary started!\nn_clusters = 2\n"
     ]
    },
    {
     "name": "stdout",
     "output_type": "stream",
     "text": [
      "zachary K-means ari PlainWalk 0.00634022316262\nzachary K-means nmi PlainWalk 0.0275992991591\nzachary Ward ari PlainWalk 0.472484613554\nzachary Ward nmi PlainWalk 0.509664003718\n"
     ]
    },
    {
     "name": "stdout",
     "output_type": "stream",
     "text": [
      "zachary K-means ari LogPlainWalk 0.84658129246\nzachary K-means nmi LogPlainWalk 0.830870765443\nzachary Ward ari LogPlainWalk 0.976566857093\nzachary Ward nmi LogPlainWalk 0.97982072783\n"
     ]
    },
    {
     "name": "stdout",
     "output_type": "stream",
     "text": [
      "zachary K-means ari Communicability 0.147559200456\nzachary K-means nmi Communicability 0.16024002945\nzachary Ward ari Communicability 0.469781533323\nzachary Ward nmi Communicability 0.479491903522\n"
     ]
    },
    {
     "name": "stdout",
     "output_type": "stream",
     "text": [
      "zachary K-means ari LogCommunicability 0.1571909914\nzachary K-means nmi LogCommunicability 0.166661097981\nzachary Ward ari LogCommunicability 0.469781533323\nzachary Ward nmi LogCommunicability 0.479491903522\n"
     ]
    },
    {
     "name": "stdout",
     "output_type": "stream",
     "text": [
      "zachary K-means ari Forest 0.078740550755\nzachary K-means nmi Forest 0.0965924324517\nzachary Ward ari Forest 0.119943275417\nzachary Ward nmi Forest 0.242497336648\n"
     ]
    },
    {
     "name": "stdout",
     "output_type": "stream",
     "text": [
      "zachary K-means ari LogForest 0.0673860504609\nzachary K-means nmi LogForest 0.0841026060842\nzachary Ward ari LogForest 0.119943275417\nzachary Ward nmi LogForest 0.242497336648\n"
     ]
    },
    {
     "name": "stdout",
     "output_type": "stream",
     "text": [
      "zachary K-means ari Heat 0.307382283837\nzachary K-means nmi Heat 0.310525897861\nzachary Ward ari Heat 0.298531833802\nzachary Ward nmi Heat 0.394456946089\n"
     ]
    },
    {
     "name": "stdout",
     "output_type": "stream",
     "text": [
      "zachary K-means ari LogHeat 0.318302703381\nzachary K-means nmi LogHeat 0.315144911692\nzachary Ward ari LogHeat 0.298531833802\nzachary Ward nmi LogHeat 0.394456946089\n"
     ]
    },
    {
     "name": "stdout",
     "output_type": "stream",
     "text": [
      "zachary K-means ari SigmoidCommuteTime 0.56235600135\nzachary K-means nmi SigmoidCommuteTime 0.564452565009\nzachary Ward ari SigmoidCommuteTime 0.72689327858\nzachary Ward nmi SigmoidCommuteTime 0.76508959548\ndataset zachary finished!\n"
     ]
    }
   ],
   "source": [
    "import matplotlib.pyplot as plt\n",
    "import numpy as np\n",
    "import json\n",
    "from sklearn.metrics import adjusted_rand_score, normalized_mutual_info_score\n",
    "\n",
    "from src.clustering.kernel_kmeans import KernelKMeans\n",
    "from src.clustering.ward import Ward\n",
    "from src.graph.graph_generator import GraphGenerator\n",
    "from src.kernel.kernel import get_all_kernels\n",
    "from src.dataset.dataset import football, polbooks, polblogs, zachary, news\n",
    "\n",
    "all_data = [football, polbooks, zachary]\n",
    "# all_data += news\n",
    "\n",
    "for data in all_data:\n",
    "    graph, info = data\n",
    "    print('dataset ' + info['name'] + ' started!')\n",
    "    print('n_clusters = ' + str(info['k']))\n",
    "    kmeans_results_ari = {}\n",
    "    kmeans_results_nmi = {}\n",
    "    ward_results_ari = {}\n",
    "    ward_results_nmi = {}\n",
    "    for kernel_class in get_all_kernels():\n",
    "        kmeans_results_ari[kernel_class.name] = {}\n",
    "        kmeans_results_nmi[kernel_class.name] = {}\n",
    "        ward_results_ari[kernel_class.name] = {}\n",
    "        ward_results_nmi[kernel_class.name] = {}\n",
    "        nodes = graph.nodes\n",
    "        edges = graph.edges\n",
    "        kmeans_ari_s = []\n",
    "        kmeans_nmi_s = []\n",
    "        ward_ari_s = []\n",
    "        ward_nmi_s = []\n",
    "        kernel = kernel_class(edges)\n",
    "        for K in kernel.get_Ks():\n",
    "            kmeans_prediction = KernelKMeans(n_clusters=info['k']).fit_predict(K)\n",
    "            kmeans_ari = adjusted_rand_score(nodes, kmeans_prediction)\n",
    "            kmeans_ari_s.append(kmeans_ari)\n",
    "            kmeans_nmi = normalized_mutual_info_score(nodes, kmeans_prediction)\n",
    "            kmeans_nmi_s.append(kmeans_nmi)\n",
    "\n",
    "            ward_prediction = Ward(n_clusters=info['k']).fit_predict(K)\n",
    "            ward_ari = adjusted_rand_score(nodes, ward_prediction)\n",
    "            ward_ari_s.append(ward_ari)\n",
    "            ward_nmi = normalized_mutual_info_score(nodes, ward_prediction)\n",
    "            ward_nmi_s.append(ward_nmi)\n",
    "\n",
    "        kmeans_results_ari[kernel_class.name] = kmeans_ari_s\n",
    "        kmeans_results_nmi[kernel_class.name] = kmeans_nmi_s\n",
    "        ward_results_ari[kernel_class.name] = ward_ari_s\n",
    "        ward_results_nmi[kernel_class.name] = ward_nmi_s\n",
    "        print(info['name'] + ' K-means ari ' + kernel_class.name + ' ' \n",
    "              + str(np.mean(kmeans_results_ari[kernel_class.name])))\n",
    "        print(info['name'] + ' K-means nmi ' + kernel_class.name + ' ' \n",
    "              + str(np.mean(kmeans_results_nmi[kernel_class.name])))\n",
    "        print(info['name'] + ' Ward ari ' + kernel_class.name + ' ' \n",
    "              + str(np.mean(ward_results_ari[kernel_class.name])))\n",
    "        print(info['name'] + ' Ward nmi ' + kernel_class.name + ' ' \n",
    "              + str(np.mean(ward_results_nmi[kernel_class.name])))\n",
    "    with open('src/results/my/datasets/ari/' + 'K_means_' + info['name'] + '_ari.txt', 'w') as file:\n",
    "        file.write(json.dumps(kmeans_results_ari))\n",
    "    with open('src/results/my/datasets/ari/' + 'Ward_' + info['name'] + '_ari.txt', 'w') as file:\n",
    "        file.write(json.dumps(ward_results_ari))\n",
    "    with open('src/results/my/datasets/nmi/' + 'K_means_' + info['name'] + '_nmi.txt', 'w') as file:\n",
    "        file.write(json.dumps(kmeans_results_nmi))\n",
    "    with open('src/results/my/datasets/nmi/' + 'Ward_' + info['name'] + '_nmi.txt', 'w') as file:\n",
    "        file.write(json.dumps(ward_results_nmi))\n",
    "    print('dataset ' + info['name'] + ' finished!')"
   ]
  },
  {
   "cell_type": "code",
   "execution_count": 9,
   "metadata": {
    "collapsed": false
   },
   "outputs": [
    {
     "name": "stdout",
     "output_type": "stream",
     "text": [
      "[0.5743019767841789, 0.5328509885596608, 0.5556612695352728, 0.5725050109575065, 0.5434606061016177, 0.541043494249718, 0.5231588812045306, 0.5527834181253501, 0.5809479415564024, 0.541043494249718, 0.541043494249718, 0.5341861009737661, 0.5341861009737661, 0.5332563534780259, 0.541043494249718, 0.5296399216841381, 0.513198625549913, 0.541043494249718, 0.5725050109575065, 0.5827448728791333, 0.5278553576273091, 0.5827448728791333, 0.5472400895493607, 0.5277141556414882, 0.5550974100832172, 0.5683585183745067, 0.5827448728791333, 0.581444703800529, 0.5245149599570552, 0.5245149599570553, 0.5169760859761391, 0.597596747530739, 0.5416809295324339, 0.5245149599570552, 0.5416809295324339, 0.5136657322781998, 0.5365371004601733, 0.5636212209383146]\n"
     ]
    }
   ],
   "source": [
    "from src.kernel.kernel import Kernel\n",
    "\n",
    "with open('src/results/my/datasets/nmi/K_means_polbooks_nmi.txt', 'r') as file:\n",
    "    results = json.loads(file.read())\n",
    "    print(results['LogPlainWalk'])\n",
    "    plt.figure(figsize=(10,10)) \n",
    "    for transformation_name, resulting_score in results.items():\n",
    "        plt.plot(Kernel.default_params, resulting_score, label=transformation_name)\n",
    "    plt.title(kernel_class.name)\n",
    "    plt.legend()\n",
    "    plt.show()"
   ]
  },
  {
   "cell_type": "code",
   "execution_count": null,
   "metadata": {},
   "outputs": [],
   "source": []
  }
 ],
 "metadata": {
  "kernelspec": {
   "display_name": "Python 2",
   "language": "python",
   "name": "python2"
  },
  "language_info": {
   "codemirror_mode": {
    "name": "ipython",
    "version": 2
   },
   "file_extension": ".py",
   "mimetype": "text/x-python",
   "name": "python",
   "nbconvert_exporter": "python",
   "pygments_lexer": "ipython2",
   "version": "2.7.6"
  }
 },
 "nbformat": 4,
 "nbformat_minor": 0
}
