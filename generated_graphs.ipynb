{
 "cells": [
  {
   "cell_type": "code",
   "execution_count": 2,
   "metadata": {
    "collapsed": true
   },
   "outputs": [
    {
     "name": "stderr",
     "output_type": "stream",
     "text": [
      "/Library/Frameworks/Python.framework/Versions/3.6/lib/python3.6/site-packages/sklearn/utils/validation.py:382: ComplexWarning: Casting complex values to real discards the imaginary part\n  array = np.array(array, dtype=dtype, order=order, copy=copy)\n"
     ]
    },
    {
     "name": "stdout",
     "output_type": "stream",
     "text": [
      "PlainWalk best result:  0.570457999774\n"
     ]
    },
    {
     "name": "stdout",
     "output_type": "stream",
     "text": [
      "LogPlainWalk best result:  0.492578396505\n"
     ]
    },
    {
     "name": "stdout",
     "output_type": "stream",
     "text": [
      "Communicability best result:  0.609193798172\n"
     ]
    },
    {
     "name": "stdout",
     "output_type": "stream",
     "text": [
      "LogCommunicability best result:  0.446644391806\n"
     ]
    },
    {
     "name": "stdout",
     "output_type": "stream",
     "text": [
      "Forest best result:  0.158985069247\n"
     ]
    },
    {
     "name": "stdout",
     "output_type": "stream",
     "text": [
      "LogForest best result:  0.167998901984\n"
     ]
    },
    {
     "name": "stdout",
     "output_type": "stream",
     "text": [
      "Heat best result:  0.0646872574295\n"
     ]
    },
    {
     "name": "stdout",
     "output_type": "stream",
     "text": [
      "LogHeat best result:  0.058332798442\n"
     ]
    }
   ],
   "source": [
    "import matplotlib.pyplot as plt\n",
    "import numpy as np\n",
    "import json\n",
    "from sklearn.metrics import adjusted_rand_score, normalized_mutual_info_score\n",
    "\n",
    "from src.clustering.spectral_clustering import SpectralClustering\n",
    "from src.graph.graph_generator import GraphGenerator\n",
    "from src.kernel.kernel import get_all_kernels\n",
    "\n",
    "n_clusters = 3\n",
    "generator = GraphGenerator(100, n_clusters, 0.2, 0.05)\n",
    "\n",
    "for kernel_class in get_all_kernels():\n",
    "    results = {}\n",
    "    all_scores = []\n",
    "    for i in range(0, 10):\n",
    "        graph = generator.generate_graph()\n",
    "        nodes = graph.nodes\n",
    "        edges = graph.edges\n",
    "        scores = []\n",
    "        kernel = kernel_class(edges)\n",
    "        for K in kernel.get_Ks():\n",
    "            prediction = SpectralClustering(n_clusters).fit_predict(K)\n",
    "            score = adjusted_rand_score(nodes, prediction)\n",
    "            scores.append(score)\n",
    "        all_scores.append(scores)\n",
    "    all_scores = [list(i) for i in zip(*all_scores)]\n",
    "    resulting_score = [np.mean(x) for x in all_scores]\n",
    "    results[kernel_class.name] = resulting_score\n",
    "    \n",
    "    with open('src/results/my/generated_graphs/' + 'K_means_' + kernel_class.name + '.txt', 'w') as file:\n",
    "        file.write(json.dumps(results))\n",
    "       \n",
    "    plt.figure(figsize=(10,10))\n",
    "    for kernel_name, resulting_score in results.items():\n",
    "        print(kernel_name, 'best result: ', np.max(resulting_score))\n",
    "        plt.plot(kernel_class.default_params, resulting_score, label=kernel_name)\n",
    "    plt.title('K-means ' + kernel_class.name + ', n_clusters=' + str(n_clusters))\n",
    "    plt.legend()\n",
    "    plt.show()"
   ]
  },
  {
   "cell_type": "code",
   "execution_count": 3,
   "metadata": {},
   "outputs": [
    {
     "name": "stdout",
     "output_type": "stream",
     "text": [
      "PlainWalk best result:  0.729537202836\n"
     ]
    },
    {
     "name": "stdout",
     "output_type": "stream",
     "text": [
      "LogPlainWalk best result:  0.828626039826\n"
     ]
    },
    {
     "name": "stdout",
     "output_type": "stream",
     "text": [
      "Communicability best result:  0.897273794355\n"
     ]
    },
    {
     "name": "stdout",
     "output_type": "stream",
     "text": [
      "LogCommunicability best result:  0.857760899119\n"
     ]
    },
    {
     "name": "stdout",
     "output_type": "stream",
     "text": [
      "Forest best result:  0.0324227303788\n"
     ]
    },
    {
     "name": "stdout",
     "output_type": "stream",
     "text": [
      "LogForest best result:  0.089991831539\n"
     ]
    },
    {
     "name": "stdout",
     "output_type": "stream",
     "text": [
      "Heat best result:  0.354223057574\n"
     ]
    },
    {
     "name": "stdout",
     "output_type": "stream",
     "text": [
      "LogHeat best result:  0.302766053544\n"
     ]
    }
   ],
   "source": [
    "import matplotlib.pyplot as plt\n",
    "import numpy as np\n",
    "import json\n",
    "from sklearn.metrics import adjusted_rand_score, normalized_mutual_info_score\n",
    "\n",
    "from src.clustering.ward import Ward\n",
    "from src.graph.graph_generator import GraphGenerator\n",
    "from src.kernel.kernel import get_all_kernels\n",
    "\n",
    "n_clusters = 3\n",
    "generator = GraphGenerator(100, n_clusters, 0.2, 0.05)\n",
    "\n",
    "for kernel_class in get_all_kernels():\n",
    "    results = {}\n",
    "    all_scores = []\n",
    "    for i in range(0, 10):\n",
    "        graph = generator.generate_graph()\n",
    "        nodes = graph.nodes\n",
    "        edges = graph.edges\n",
    "        scores = []\n",
    "        kernel = kernel_class(edges)\n",
    "        for K in kernel.get_Ks():\n",
    "            prediction = Ward(n_clusters).fit_predict(K)\n",
    "            score = adjusted_rand_score(nodes, prediction)\n",
    "            scores.append(score)\n",
    "        all_scores.append(scores)\n",
    "    all_scores = [list(i) for i in zip(*all_scores)]\n",
    "    resulting_score = [np.mean(x) for x in all_scores]\n",
    "    results[kernel_class.name] = resulting_score\n",
    "    \n",
    "    with open('src/results/my/generated_graphs/' + 'Ward_' + kernel_class.name + '.txt', 'w') as file:\n",
    "        file.write(json.dumps(results))\n",
    "       \n",
    "    plt.figure(figsize=(10,10))\n",
    "    for kernel_name, resulting_score in results.items():\n",
    "        print(kernel_name, 'best result: ', np.max(resulting_score))\n",
    "        plt.plot(kernel_class.default_params, resulting_score, label=kernel_name)\n",
    "    plt.title('Ward ' + kernel_class.name + ', n_clusters=' + str(n_clusters))\n",
    "    plt.legend()\n",
    "    plt.show()"
   ]
  },
  {
   "cell_type": "code",
   "execution_count": null,
   "metadata": {},
   "outputs": [],
   "source": [
    "import matplotlib.pyplot as plt\n",
    "import numpy as np\n",
    "import json\n",
    "from sklearn.metrics import adjusted_rand_score, normalized_mutual_info_score\n",
    "\n",
    "from src.clustering.ward import Ward\n",
    "from src.graph.graph_generator import GraphGenerator\n",
    "from src.kernel.kernel import get_all_kernels\n",
    "\n",
    "n_clusters = 3\n",
    "generator = GraphGenerator(100, n_clusters, 0.2, 0.05)\n",
    "\n",
    "for kernel_class in get_all_kernels():\n",
    "    results = {}\n",
    "    all_scores = []\n",
    "    for i in range(0, 10):\n",
    "        graph = generator.generate_graph()\n",
    "        nodes = graph.nodes\n",
    "        edges = graph.edges\n",
    "        scores = []\n",
    "        kernel = kernel_class(edges)\n",
    "        for K in kernel.get_Ks():\n",
    "            prediction = Ward(n_clusters).fit_predict(K)\n",
    "            score = adjusted_rand_score(nodes, prediction)\n",
    "            scores.append(score)\n",
    "        all_scores.append(scores)\n",
    "    all_scores = [list(i) for i in zip(*all_scores)]\n",
    "    resulting_score = [np.mean(x) for x in all_scores]\n",
    "    results[kernel_class.name] = resulting_score\n",
    "    \n",
    "    with open('src/results/my/generated_graphs/' + 'Ward_' + kernel_class.name + '.txt', 'w') as file:\n",
    "        file.write(json.dumps(results))\n",
    "       \n",
    "    plt.figure(figsize=(10,10))\n",
    "    for kernel_name, resulting_score in results.items():\n",
    "        print(kernel_name, 'best result: ', np.max(resulting_score))\n",
    "        plt.plot(kernel_class.default_params, resulting_score, label=kernel_name)\n",
    "    plt.title('Ward ' + kernel_class.name + ', n_clusters=' + str(n_clusters))\n",
    "    plt.legend()\n",
    "    plt.show()"
   ]
  }
 ],
 "metadata": {
  "kernelspec": {
   "display_name": "Python 2",
   "language": "python",
   "name": "python2"
  },
  "language_info": {
   "codemirror_mode": {
    "name": "ipython",
    "version": 2
   },
   "file_extension": ".py",
   "mimetype": "text/x-python",
   "name": "python",
   "nbconvert_exporter": "python",
   "pygments_lexer": "ipython2",
   "version": "2.7.6"
  }
 },
 "nbformat": 4,
 "nbformat_minor": 0
}
