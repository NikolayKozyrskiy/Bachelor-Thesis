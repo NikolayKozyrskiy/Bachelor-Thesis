{
 "cells": [
  {
   "cell_type": "code",
   "execution_count": null,
   "metadata": {
    "collapsed": true
   },
   "outputs": [],
   "source": [
    "# import matplotlib.pyplot as plt\n",
    "from sklearn.metrics import adjusted_rand_score, normalized_mutual_info_score\n",
    "import numpy as np\n",
    "from src.clustering.spectral_clustering import SpectralClustering\n",
    "from src.clustering.ward import Ward\n",
    "from src.graph.graph_generator import GraphGenerator\n",
    "from src.kernel.kernel import get_all_kernels, Forest\n",
    "from src.kernel.transformation import get_all_transformations, OneThirdTransform, SqrtTransformation, \\\n",
    "     NoTransformation, SquareTransformation\n",
    "from src.kernel.transformed_kernel import TransformedKernel\n",
    "from  src.dataset.dataset import football, polbooks, polblogs, zachary, news\n",
    "\n",
    "all_data = [football, polbooks, polblogs, zachary]\n",
    "all_data.extend(news)\n",
    "\n",
    "for data in all_data:\n",
    "\n",
    "graph, info = football\n",
    "nodes = graph.nodes\n",
    "edges = graph.edges\n",
    "transformations = get_all_transformations()\n",
    "transformations.append(NoTransformation)\n",
    "for kernel_class in get_all_kernels():\n",
    "    for transformation in transformations:\n",
    "        scores = []\n",
    "        kernel = TransformedKernel(kernel_class(edges), transformation())\n",
    "        for K in kernel.get_Ks():\n",
    "            K = np.nan_to_num(K)\n",
    "            prediction = Ward(4).fit_predict(K)\n",
    "            score = adjusted_rand_score(nodes, prediction)\n",
    "            scores.append(score)\n",
    "        print(kernel_class.name, transformation.name, max(scores))\n",
    "        # plt.plot(kernel_class.default_params, scores)\n"
   ]
  },
  {
   "cell_type": "code",
   "execution_count": null,
   "metadata": {},
   "outputs": [
    {
     "name": "stdout",
     "output_type": "stream",
     "text": [
      "zachary NoTransformation PlainWalk 1.0 1.0\n"
     ]
    },
    {
     "name": "stdout",
     "output_type": "stream",
     "text": [
      "zachary LogTransformation PlainWalk 1.0 1.0\n"
     ]
    },
    {
     "name": "stdout",
     "output_type": "stream",
     "text": [
      "zachary SquareTransformation PlainWalk 0.008633747349288092 0.09926923640912665\n"
     ]
    },
    {
     "name": "stdout",
     "output_type": "stream",
     "text": [
      "zachary SqrtTransformation PlainWalk 1.0 1.0\n"
     ]
    },
    {
     "name": "stdout",
     "output_type": "stream",
     "text": [
      "zachary ExpTransformation PlainWalk 0.882302454654689 0.8371701172186943\n"
     ]
    },
    {
     "name": "stdout",
     "output_type": "stream",
     "text": [
      "zachary SigmoidTransformation PlainWalk 1.0 1.0\n"
     ]
    },
    {
     "name": "stdout",
     "output_type": "stream",
     "text": [
      "zachary OneThirdTransform PlainWalk 1.0 1.0\n"
     ]
    },
    {
     "name": "stdout",
     "output_type": "stream",
     "text": [
      "zachary OneFourthTransform PlainWalk 1.0 1.0\n"
     ]
    },
    {
     "name": "stdout",
     "output_type": "stream",
     "text": [
      "zachary OneFifthTransform PlainWalk 1.0 1.0\n"
     ]
    },
    {
     "name": "stdout",
     "output_type": "stream",
     "text": [
      "zachary OneEigthTransform PlainWalk 1.0 1.0\n"
     ]
    },
    {
     "name": "stdout",
     "output_type": "stream",
     "text": [
      "zachary OneNinthTransform PlainWalk 1.0 1.0\n"
     ]
    },
    {
     "name": "stdout",
     "output_type": "stream",
     "text": [
      "zachary OneTenthTransform PlainWalk 1.0 1.0\n"
     ]
    },
    {
     "name": "stdout",
     "output_type": "stream",
     "text": [
      "zachary ArcTanTransformation PlainWalk 1.0 1.0\n"
     ]
    },
    {
     "name": "stdout",
     "output_type": "stream",
     "text": [
      "zachary ReluTansformation PlainWalk 1.0 1.0\n"
     ]
    },
    {
     "name": "stdout",
     "output_type": "stream",
     "text": [
      "zachary TanHTransformation PlainWalk 1.0 1.0\n"
     ]
    },
    {
     "name": "stdout",
     "output_type": "stream",
     "text": [
      "zachary ISRUTransformation PlainWalk 1.0 1.0\n"
     ]
    },
    {
     "name": "stdout",
     "output_type": "stream",
     "text": [
      "zachary SoftsignTransformation PlainWalk 1.0 1.0\n"
     ]
    },
    {
     "name": "stdout",
     "output_type": "stream",
     "text": [
      "zachary SoftplusTransformation PlainWalk 1.0 1.0\n"
     ]
    },
    {
     "name": "stdout",
     "output_type": "stream",
     "text": [
      "zachary SiLUTransformation PlainWalk 1.0 1.0\n"
     ]
    },
    {
     "name": "stdout",
     "output_type": "stream",
     "text": [
      "zachary NoTransformation Communicability 1.0 1.0\n"
     ]
    },
    {
     "name": "stdout",
     "output_type": "stream",
     "text": [
      "zachary LogTransformation Communicability 1.0 1.0\n"
     ]
    },
    {
     "name": "stdout",
     "output_type": "stream",
     "text": [
      "zachary SquareTransformation Communicability 0.06528324750075734 0.09926923640912665\n"
     ]
    },
    {
     "name": "stdout",
     "output_type": "stream",
     "text": [
      "zachary SqrtTransformation Communicability 1.0 1.0\n"
     ]
    },
    {
     "name": "stdout",
     "output_type": "stream",
     "text": [
      "zachary SigmoidTransformation Communicability 1.0 1.0\n"
     ]
    },
    {
     "name": "stdout",
     "output_type": "stream",
     "text": [
      "zachary OneThirdTransform Communicability 1.0 1.0\n"
     ]
    },
    {
     "name": "stdout",
     "output_type": "stream",
     "text": [
      "zachary OneFourthTransform Communicability 1.0 1.0\n"
     ]
    },
    {
     "name": "stdout",
     "output_type": "stream",
     "text": [
      "zachary OneFifthTransform Communicability 1.0 1.0\n"
     ]
    },
    {
     "name": "stdout",
     "output_type": "stream",
     "text": [
      "zachary OneEigthTransform Communicability 1.0 1.0\n"
     ]
    },
    {
     "name": "stdout",
     "output_type": "stream",
     "text": [
      "zachary OneNinthTransform Communicability 1.0 1.0\n"
     ]
    },
    {
     "name": "stdout",
     "output_type": "stream",
     "text": [
      "zachary OneTenthTransform Communicability 1.0 1.0\n"
     ]
    },
    {
     "name": "stdout",
     "output_type": "stream",
     "text": [
      "zachary ArcTanTransformation Communicability 1.0 1.0\n"
     ]
    },
    {
     "name": "stdout",
     "output_type": "stream",
     "text": [
      "zachary ReluTansformation Communicability 1.0 1.0\n"
     ]
    },
    {
     "name": "stdout",
     "output_type": "stream",
     "text": [
      "zachary TanHTransformation Communicability 1.0 1.0\n"
     ]
    },
    {
     "name": "stdout",
     "output_type": "stream",
     "text": [
      "zachary ISRUTransformation Communicability 1.0 1.0\n"
     ]
    },
    {
     "name": "stdout",
     "output_type": "stream",
     "text": [
      "zachary SoftsignTransformation Communicability 1.0 1.0\n"
     ]
    },
    {
     "name": "stderr",
     "output_type": "stream",
     "text": [
      "/Users/aynulin/PycharmProjects/diplom/src/kernel/transformation.py:247: RuntimeWarning: overflow encountered in exp\n  K[i, j] = np.log(1 + np.exp(K[i, j]))\n"
     ]
    },
    {
     "name": "stdout",
     "output_type": "stream",
     "text": [
      "zachary SoftplusTransformation Communicability 1.0 1.0\n"
     ]
    },
    {
     "name": "stdout",
     "output_type": "stream",
     "text": [
      "zachary SiLUTransformation Communicability 1.0 1.0\n"
     ]
    },
    {
     "name": "stdout",
     "output_type": "stream",
     "text": [
      "zachary NoTransformation Forest 0.15346310547759165 0.27249519149405316\n"
     ]
    },
    {
     "name": "stdout",
     "output_type": "stream",
     "text": [
      "zachary LogTransformation Forest 1.0 1.0\n"
     ]
    },
    {
     "name": "stdout",
     "output_type": "stream",
     "text": [
      "zachary SquareTransformation Forest 0.15346310547759165 0.27249519149405316\n"
     ]
    },
    {
     "name": "stdout",
     "output_type": "stream",
     "text": [
      "zachary SqrtTransformation Forest 1.0 1.0\n"
     ]
    },
    {
     "name": "stdout",
     "output_type": "stream",
     "text": [
      "zachary ExpTransformation Forest 0.15346310547759165 0.27249519149405316\n"
     ]
    },
    {
     "name": "stdout",
     "output_type": "stream",
     "text": [
      "zachary SigmoidTransformation Forest 0.15346310547759165 0.27249519149405316\n"
     ]
    },
    {
     "name": "stdout",
     "output_type": "stream",
     "text": [
      "zachary OneThirdTransform Forest 1.0 1.0\n"
     ]
    },
    {
     "name": "stdout",
     "output_type": "stream",
     "text": [
      "zachary OneFourthTransform Forest 1.0 1.0\n"
     ]
    },
    {
     "name": "stdout",
     "output_type": "stream",
     "text": [
      "zachary OneFifthTransform Forest 1.0 1.0\n"
     ]
    },
    {
     "name": "stdout",
     "output_type": "stream",
     "text": [
      "zachary OneEigthTransform Forest 1.0 1.0\n"
     ]
    },
    {
     "name": "stdout",
     "output_type": "stream",
     "text": [
      "zachary OneNinthTransform Forest 1.0 1.0\n"
     ]
    },
    {
     "name": "stdout",
     "output_type": "stream",
     "text": [
      "zachary OneTenthTransform Forest 1.0 1.0\n"
     ]
    },
    {
     "name": "stdout",
     "output_type": "stream",
     "text": [
      "zachary ArcTanTransformation Forest 0.15346310547759165 0.27249519149405316\n"
     ]
    },
    {
     "name": "stdout",
     "output_type": "stream",
     "text": [
      "zachary ReluTansformation Forest 0.15346310547759165 0.27249519149405316\n"
     ]
    },
    {
     "name": "stdout",
     "output_type": "stream",
     "text": [
      "zachary TanHTransformation Forest 0.15346310547759165 0.27249519149405316\n"
     ]
    },
    {
     "name": "stdout",
     "output_type": "stream",
     "text": [
      "zachary ISRUTransformation Forest 0.10954056953567598 0.2331876575575816\n"
     ]
    },
    {
     "name": "stdout",
     "output_type": "stream",
     "text": [
      "zachary SoftsignTransformation Forest 1.0 1.0\n"
     ]
    },
    {
     "name": "stdout",
     "output_type": "stream",
     "text": [
      "zachary SoftplusTransformation Forest 0.15346310547759165 0.27249519149405316\n"
     ]
    },
    {
     "name": "stdout",
     "output_type": "stream",
     "text": [
      "zachary SiLUTransformation Forest 0.15346310547759165 0.27249519149405316\n"
     ]
    },
    {
     "name": "stdout",
     "output_type": "stream",
     "text": [
      "zachary NoTransformation Heat 0.15346310547759165 0.27249519149405316\n"
     ]
    },
    {
     "name": "stdout",
     "output_type": "stream",
     "text": [
      "zachary LogTransformation Heat 1.0 1.0\n"
     ]
    },
    {
     "name": "stdout",
     "output_type": "stream",
     "text": [
      "zachary SquareTransformation Heat 0.15346310547759165 0.27249519149405316\n"
     ]
    },
    {
     "name": "stdout",
     "output_type": "stream",
     "text": [
      "zachary SqrtTransformation Heat 1.0 1.0\n"
     ]
    },
    {
     "name": "stdout",
     "output_type": "stream",
     "text": [
      "zachary ExpTransformation Heat 0.15346310547759165 0.27249519149405316\n"
     ]
    },
    {
     "name": "stdout",
     "output_type": "stream",
     "text": [
      "zachary SigmoidTransformation Heat 0.15346310547759165 0.27249519149405316\n"
     ]
    },
    {
     "name": "stdout",
     "output_type": "stream",
     "text": [
      "zachary OneThirdTransform Heat 1.0 1.0\n"
     ]
    },
    {
     "name": "stdout",
     "output_type": "stream",
     "text": [
      "zachary OneFourthTransform Heat 1.0 1.0\n"
     ]
    },
    {
     "name": "stdout",
     "output_type": "stream",
     "text": [
      "zachary OneFifthTransform Heat 1.0 1.0\n"
     ]
    },
    {
     "name": "stdout",
     "output_type": "stream",
     "text": [
      "zachary OneEigthTransform Heat 1.0 1.0\n"
     ]
    },
    {
     "name": "stdout",
     "output_type": "stream",
     "text": [
      "zachary OneNinthTransform Heat 1.0 1.0\n"
     ]
    },
    {
     "name": "stdout",
     "output_type": "stream",
     "text": [
      "zachary OneTenthTransform Heat 1.0 1.0\n"
     ]
    },
    {
     "name": "stdout",
     "output_type": "stream",
     "text": [
      "zachary ArcTanTransformation Heat 0.15346310547759165 0.27249519149405316\n"
     ]
    },
    {
     "name": "stdout",
     "output_type": "stream",
     "text": [
      "zachary ReluTansformation Heat 0.15346310547759165 0.27249519149405316\n"
     ]
    },
    {
     "name": "stdout",
     "output_type": "stream",
     "text": [
      "zachary TanHTransformation Heat 0.15346310547759165 0.27249519149405316\n"
     ]
    },
    {
     "name": "stdout",
     "output_type": "stream",
     "text": [
      "zachary ISRUTransformation Heat 0.10954056953567598 0.2331876575575816\n"
     ]
    },
    {
     "name": "stdout",
     "output_type": "stream",
     "text": [
      "zachary SoftsignTransformation Heat 1.0 1.0\n"
     ]
    },
    {
     "name": "stdout",
     "output_type": "stream",
     "text": [
      "zachary SoftplusTransformation Heat 0.15346310547759165 0.27249519149405316\n"
     ]
    },
    {
     "name": "stdout",
     "output_type": "stream",
     "text": [
      "zachary SiLUTransformation Heat 0.15346310547759165 0.27249519149405316\n"
     ]
    }
   ],
   "source": [
    "import matplotlib.pyplot as plt\n",
    "import json\n",
    "from sklearn.metrics import adjusted_rand_score, normalized_mutual_info_score\n",
    "\n",
    "from src.clustering.ward import Ward\n",
    "from src.graph.graph_generator import GraphGenerator\n",
    "from src.kernel.kernel import get_all_kernels, Communicability\n",
    "from src.kernel.transformation import get_all_transformations, ExpTransformation\n",
    "from src.kernel.transformed_kernel import TransformedKernel\n",
    "from src.dataset.dataset import football, polbooks, polblogs, zachary, news\n",
    "\n",
    "# all_data = [football, polbooks, polblogs, zachary] // polblogs is too big, footbal and polbooks are already ready\n",
    "# all_data = [zachary]\n",
    "all_data = news\n",
    "\n",
    "def skip_kernel(kernel_class, transformation):\n",
    "    return kernel_class == Communicability and transformation == ExpTransformation\n",
    "\n",
    "for data in all_data:\n",
    "    graph, info = data\n",
    "    results = {}\n",
    "    for kernel_class in get_all_kernels():\n",
    "        results[kernel_class.name] = {}\n",
    "        for transformation in get_all_transformations():\n",
    "            if skip_kernel(kernel_class, transformation):\n",
    "                continue\n",
    "            nodes = graph.nodes\n",
    "            edges = graph.edges\n",
    "            scores_1 = []\n",
    "            scores_2 = []\n",
    "            kernel = TransformedKernel(kernel_class(edges), transformation())\n",
    "            for K in kernel.get_Ks():\n",
    "                prediction = Ward(info['k']).fit_predict(K)\n",
    "                score_1 = adjusted_rand_score(nodes, prediction)\n",
    "                scores_1.append(score_1)\n",
    "                score_2 = normalized_mutual_info_score(nodes, prediction)\n",
    "                scores_2.append(score_2)\n",
    "\n",
    "            results[kernel_class.name][transformation.name] = str(max(scores_1)) + ' ' + str(max(scores_2))\n",
    "            print(info['name'] + ' ' + transformation.name + ' ' + kernel_class.name + ' ' + str(max(scores_1)) + ' ' + str(max(scores_2)))\n",
    "    with open('results/2/' + info['name'] + '.txt', 'w') as file:\n",
    "            file.write(json.dumps(results))\n"
   ]
  },
  {
   "cell_type": "code",
   "execution_count": 8,
   "metadata": {
    "collapsed": false
   },
   "outputs": [
    {
     "name": "stdout",
     "output_type": "stream",
     "text": [
      "start\n"
     ]
    },
    {
     "name": "stdout",
     "output_type": "stream",
     "text": [
      "news_2cl_1 NoTransformation PlainWalk 0.04653824045900156 0.13107394753585064\n"
     ]
    },
    {
     "name": "stdout",
     "output_type": "stream",
     "text": [
      "news_2cl_1 LogTransformation PlainWalk 0.765036841281079 0.6662111675880995\n"
     ]
    },
    {
     "name": "stdout",
     "output_type": "stream",
     "text": [
      "news_2cl_1 SquareTransformation PlainWalk 0.01646554560103104 0.08709079071308357\n"
     ]
    },
    {
     "name": "stdout",
     "output_type": "stream",
     "text": [
      "news_2cl_1 SqrtTransformation PlainWalk 0.8185703915117134 0.7251162651865278\n"
     ]
    },
    {
     "name": "stdout",
     "output_type": "stream",
     "text": [
      "news_2cl_1 ExpTransformation PlainWalk 0.021819686624155833 0.12806536755776218\n"
     ]
    },
    {
     "name": "stdout",
     "output_type": "stream",
     "text": [
      "news_2cl_1 SigmoidTransformation PlainWalk 0.02332498837982926 0.13107394753585064\n"
     ]
    },
    {
     "name": "stdout",
     "output_type": "stream",
     "text": [
      "news_2cl_1 OneThirdTransform PlainWalk 0.7738333931322682 0.6736483381490608\n"
     ]
    },
    {
     "name": "stdout",
     "output_type": "stream",
     "text": [
      "news_2cl_1 OneFourthTransform PlainWalk 0.7826803528467116 0.6826314819642126\n"
     ]
    },
    {
     "name": "stdout",
     "output_type": "stream",
     "text": [
      "news_2cl_1 OneFifthTransform PlainWalk 0.7562907268170426 0.6594099721721908\n"
     ]
    },
    {
     "name": "stdout",
     "output_type": "stream",
     "text": [
      "news_2cl_1 OneEigthTransform PlainWalk 0.765036841281079 0.6659384103486161\n"
     ]
    },
    {
     "name": "stdout",
     "output_type": "stream",
     "text": [
      "news_2cl_1 OneNinthTransform PlainWalk 0.765036841281079 0.6659477161154103\n"
     ]
    },
    {
     "name": "stdout",
     "output_type": "stream",
     "text": [
      "news_2cl_1 OneTenthTransform PlainWalk 0.7826803528467116 0.6826314819642126\n"
     ]
    }
   ],
   "source": [
    "import matplotlib.pyplot as plt\n",
    "import json\n",
    "from sklearn.metrics import adjusted_rand_score, normalized_mutual_info_score\n",
    "\n",
    "from src.clustering.ward import Ward\n",
    "from src.graph.graph_generator import GraphGenerator\n",
    "from src.kernel.kernel import get_all_kernels, Communicability\n",
    "from src.kernel.transformation import get_all_transformations, ExpTransformation\n",
    "from src.kernel.transformed_kernel import TransformedKernel\n",
    "from src.dataset.dataset import football, polbooks, polblogs, zachary, news\n",
    "\n",
    "# all_data = [football, polbooks, polblogs, zachary] // polblogs is too big, footbal and polbooks are already ready\n",
    "# all_data = [zachary]\n",
    "all_data = news\n",
    "\n",
    "def skip_kernel(kernel_class, transformation):\n",
    "    return kernel_class == Communicability and transformation == ExpTransformation\n",
    "print('start')\n",
    "for data in all_data:\n",
    "    graph, info = data\n",
    "    results = {}\n",
    "    for kernel_class in get_all_kernels():\n",
    "        results[kernel_class.name] = {}\n",
    "        for transformation in get_all_transformations():\n",
    "            if skip_kernel(kernel_class, transformation):\n",
    "                continue\n",
    "            nodes = graph.nodes\n",
    "            edges = graph.edges\n",
    "            scores_1 = []\n",
    "            scores_2 = []\n",
    "            kernel = TransformedKernel(kernel_class(edges), transformation())\n",
    "            for K in kernel.get_Ks():\n",
    "                prediction = Ward(info['k']).fit_predict(K)\n",
    "                score_1 = adjusted_rand_score(nodes, prediction)\n",
    "                scores_1.append(score_1)\n",
    "                score_2 = normalized_mutual_info_score(nodes, prediction)\n",
    "                scores_2.append(score_2)\n",
    "\n",
    "            results[kernel_class.name][transformation.name] = str(max(scores_1)) + ' ' + str(max(scores_2))\n",
    "            print(info['name'] + ' ' + transformation.name + ' ' + kernel_class.name + ' ' + str(max(scores_1)) + ' ' + str(max(scores_2)))\n",
    "    with open('results/2/' + info['name'] + '.txt', 'w') as file:\n",
    "            file.write(json.dumps(results))\n"
   ]
  },
  {
   "cell_type": "code",
   "execution_count": null,
   "metadata": {},
   "outputs": [],
   "source": []
  }
 ],
 "metadata": {
  "kernelspec": {
   "display_name": "Python 2",
   "language": "python",
   "name": "python2"
  },
  "language_info": {
   "codemirror_mode": {
    "name": "ipython",
    "version": 2
   },
   "file_extension": ".py",
   "mimetype": "text/x-python",
   "name": "python",
   "nbconvert_exporter": "python",
   "pygments_lexer": "ipython2",
   "version": "2.7.6"
  }
 },
 "nbformat": 4,
 "nbformat_minor": 0
}
