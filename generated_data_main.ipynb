{
 "cells": [
  {
   "cell_type": "code",
   "execution_count": 6,
   "metadata": {
    "collapsed": false
   },
   "outputs": [
    {
     "name": "stdout",
     "output_type": "stream",
     "text": [
      "PlainWalk best result:  0.00673930032385 mean result:  0.00265168740324\n"
     ]
    },
    {
     "ename": "KeyboardInterrupt",
     "evalue": "",
     "traceback": [
      "\u001b[0;31m---------------------------------------------------------------------------\u001b[0m",
      "\u001b[0;31mKeyboardInterrupt\u001b[0m                         Traceback (most recent call last)",
      "\u001b[0;32m<ipython-input-6-bcc8f18dc1c8>\u001b[0m in \u001b[0;36m<module>\u001b[0;34m()\u001b[0m\n\u001b[1;32m     22\u001b[0m         \u001b[0mkernel\u001b[0m \u001b[0;34m=\u001b[0m \u001b[0mkernel_class\u001b[0m\u001b[0;34m(\u001b[0m\u001b[0medges\u001b[0m\u001b[0;34m)\u001b[0m\u001b[0;34m\u001b[0m\u001b[0m\n\u001b[1;32m     23\u001b[0m         \u001b[0;32mfor\u001b[0m \u001b[0mK\u001b[0m \u001b[0;32min\u001b[0m \u001b[0mkernel\u001b[0m\u001b[0;34m.\u001b[0m\u001b[0mget_Ks\u001b[0m\u001b[0;34m(\u001b[0m\u001b[0;34m)\u001b[0m\u001b[0;34m:\u001b[0m\u001b[0;34m\u001b[0m\u001b[0m\n\u001b[0;32m---> 24\u001b[0;31m             \u001b[0mprediction\u001b[0m \u001b[0;34m=\u001b[0m \u001b[0mKernelKMeans\u001b[0m\u001b[0;34m(\u001b[0m\u001b[0mn_clusters\u001b[0m\u001b[0;34m)\u001b[0m\u001b[0;34m.\u001b[0m\u001b[0mfit_predict\u001b[0m\u001b[0;34m(\u001b[0m\u001b[0mK\u001b[0m\u001b[0;34m)\u001b[0m\u001b[0;34m\u001b[0m\u001b[0m\n\u001b[0m\u001b[1;32m     25\u001b[0m             \u001b[0mscore\u001b[0m \u001b[0;34m=\u001b[0m \u001b[0madjusted_rand_score\u001b[0m\u001b[0;34m(\u001b[0m\u001b[0mnodes\u001b[0m\u001b[0;34m,\u001b[0m \u001b[0mprediction\u001b[0m\u001b[0;34m)\u001b[0m\u001b[0;34m\u001b[0m\u001b[0m\n\u001b[1;32m     26\u001b[0m             \u001b[0mscores\u001b[0m\u001b[0;34m.\u001b[0m\u001b[0mappend\u001b[0m\u001b[0;34m(\u001b[0m\u001b[0mscore\u001b[0m\u001b[0;34m)\u001b[0m\u001b[0;34m\u001b[0m\u001b[0m\n",
      "\u001b[0;32m/Library/Frameworks/Python.framework/Versions/3.6/lib/python3.6/site-packages/sklearn/base.py\u001b[0m in \u001b[0;36mfit_predict\u001b[0;34m(self, X, y)\u001b[0m\n\u001b[1;32m    408\u001b[0m         \u001b[0;31m# non-optimized default implementation; override when a better\u001b[0m\u001b[0;34m\u001b[0m\u001b[0;34m\u001b[0m\u001b[0m\n\u001b[1;32m    409\u001b[0m         \u001b[0;31m# method is possible for a given clustering algorithm\u001b[0m\u001b[0;34m\u001b[0m\u001b[0;34m\u001b[0m\u001b[0m\n\u001b[0;32m--> 410\u001b[0;31m         \u001b[0mself\u001b[0m\u001b[0;34m.\u001b[0m\u001b[0mfit\u001b[0m\u001b[0;34m(\u001b[0m\u001b[0mX\u001b[0m\u001b[0;34m)\u001b[0m\u001b[0;34m\u001b[0m\u001b[0m\n\u001b[0m\u001b[1;32m    411\u001b[0m         \u001b[0;32mreturn\u001b[0m \u001b[0mself\u001b[0m\u001b[0;34m.\u001b[0m\u001b[0mlabels_\u001b[0m\u001b[0;34m\u001b[0m\u001b[0m\n\u001b[1;32m    412\u001b[0m \u001b[0;34m\u001b[0m\u001b[0m\n",
      "\u001b[0;32m/Users/kolya/Desktop/Diploma/bachelor_thesis/src/clustering/kernel_kmeans.py\u001b[0m in \u001b[0;36mfit\u001b[0;34m(self, K, y, sample_weight)\u001b[0m\n\u001b[1;32m     39\u001b[0m \u001b[0;34m\u001b[0m\u001b[0m\n\u001b[1;32m     40\u001b[0m             \u001b[0;31m# Compute the number of samples whose cluster has not changed since last iteration.\u001b[0m\u001b[0;34m\u001b[0m\u001b[0;34m\u001b[0m\u001b[0m\n\u001b[0;32m---> 41\u001b[0;31m             \u001b[0mn_same\u001b[0m \u001b[0;34m=\u001b[0m \u001b[0mnp\u001b[0m\u001b[0;34m.\u001b[0m\u001b[0msum\u001b[0m\u001b[0;34m(\u001b[0m\u001b[0;34m(\u001b[0m\u001b[0mself\u001b[0m\u001b[0;34m.\u001b[0m\u001b[0mlabels_\u001b[0m \u001b[0;34m-\u001b[0m \u001b[0mlabels_old\u001b[0m\u001b[0;34m)\u001b[0m \u001b[0;34m==\u001b[0m \u001b[0;36m0\u001b[0m\u001b[0;34m)\u001b[0m\u001b[0;34m\u001b[0m\u001b[0m\n\u001b[0m\u001b[1;32m     42\u001b[0m             \u001b[0;32mif\u001b[0m \u001b[0;36m1\u001b[0m \u001b[0;34m-\u001b[0m \u001b[0mfloat\u001b[0m\u001b[0;34m(\u001b[0m\u001b[0mn_same\u001b[0m\u001b[0;34m)\u001b[0m \u001b[0;34m/\u001b[0m \u001b[0mn_samples\u001b[0m \u001b[0;34m<\u001b[0m \u001b[0mself\u001b[0m\u001b[0;34m.\u001b[0m\u001b[0mtol\u001b[0m\u001b[0;34m:\u001b[0m\u001b[0;34m\u001b[0m\u001b[0m\n\u001b[1;32m     43\u001b[0m                 \u001b[0;32mbreak\u001b[0m\u001b[0;34m\u001b[0m\u001b[0m\n",
      "\u001b[0;31mKeyboardInterrupt\u001b[0m: "
     ],
     "output_type": "error"
    }
   ],
   "source": [
    "import matplotlib.pyplot as plt\n",
    "import numpy as np\n",
    "import json\n",
    "from sklearn.metrics import adjusted_rand_score\n",
    "\n",
    "from src.clustering.ward import Ward\n",
    "from src.clustering.kernel_kmeans import KernelKMeans\n",
    "from src.graph.graph_generator import GraphGenerator\n",
    "from src.kernel.kernel import get_all_kernels\n",
    "\n",
    "n_clusters = 3\n",
    "generator = GraphGenerator(100, n_clusters, 0.3, 0.1)\n",
    "\n",
    "for kernel_class in get_all_kernels():\n",
    "    results = {}\n",
    "    all_scores = []\n",
    "    for i in range(0, 20):\n",
    "        graph = generator.generate_graph()\n",
    "        nodes = graph.nodes\n",
    "        edges = graph.edges\n",
    "        scores = []\n",
    "        kernel = kernel_class(edges)\n",
    "        for K in kernel.get_Ks():\n",
    "            prediction = KernelKMeans(n_clusters).fit_predict(K)\n",
    "            score = adjusted_rand_score(nodes, prediction)\n",
    "            scores.append(score)\n",
    "        all_scores.append(scores)\n",
    "    all_scores = [list(i) for i in zip(*all_scores)]\n",
    "    resulting_score = [abs(np.mean(x)) for x in all_scores]\n",
    "    results[kernel_class.name] = resulting_score\n",
    "    \n",
    "    # with open('src/results/my/generated_graphs/' + 'Kmeans_' \n",
    "    #           + kernel_class.name + '.txt', 'w') as file:\n",
    "    #     file.write(json.dumps(results))\n",
    "       \n",
    "    plt.figure(figsize=(10,10))\n",
    "    for kernel_name, resulting_score in results.items():\n",
    "        print(kernel_name, 'best result: ', np.max(resulting_score), \n",
    "              'mean result: ', np.mean(resulting_score))\n",
    "        plt.plot(kernel_class.default_params, resulting_score, label=kernel_name)\n",
    "    plt.title('Kmeans ' + kernel_class.name + ', n_clusters=' + str(n_clusters))\n",
    "    plt.legend()\n",
    "    plt.show()"
   ]
  },
  {
   "cell_type": "code",
   "execution_count": 2,
   "metadata": {},
   "outputs": [
    {
     "name": "stdout",
     "output_type": "stream",
     "text": [
      "PlainWalk best result:  0.972866729887 mean result:  0.9527858446\n"
     ]
    },
    {
     "name": "stdout",
     "output_type": "stream",
     "text": [
      "LogPlainWalk best result:  0.984850756344 mean result:  0.976602647077\n"
     ]
    },
    {
     "name": "stdout",
     "output_type": "stream",
     "text": [
      "Communicability best result:  0.997015482757 mean result:  0.631347738062\n"
     ]
    },
    {
     "name": "stdout",
     "output_type": "stream",
     "text": [
      "LogCommunicability best result:  0.996970049397 mean result:  0.906577448737\n"
     ]
    },
    {
     "ename": "KeyboardInterrupt",
     "evalue": "",
     "traceback": [
      "\u001b[0;31m---------------------------------------------------------------------------\u001b[0m",
      "\u001b[0;31mKeyboardInterrupt\u001b[0m                         Traceback (most recent call last)",
      "\u001b[0;32m<ipython-input-2-a4ff00400f7d>\u001b[0m in \u001b[0;36m<module>\u001b[0;34m()\u001b[0m\n\u001b[1;32m     22\u001b[0m         \u001b[0mkernel\u001b[0m \u001b[0;34m=\u001b[0m \u001b[0mkernel_class\u001b[0m\u001b[0;34m(\u001b[0m\u001b[0medges\u001b[0m\u001b[0;34m)\u001b[0m\u001b[0;34m\u001b[0m\u001b[0m\n\u001b[1;32m     23\u001b[0m         \u001b[0;32mfor\u001b[0m \u001b[0mK\u001b[0m \u001b[0;32min\u001b[0m \u001b[0mkernel\u001b[0m\u001b[0;34m.\u001b[0m\u001b[0mget_Ks\u001b[0m\u001b[0;34m(\u001b[0m\u001b[0;34m)\u001b[0m\u001b[0;34m:\u001b[0m\u001b[0;34m\u001b[0m\u001b[0m\n\u001b[0;32m---> 24\u001b[0;31m             \u001b[0mprediction\u001b[0m \u001b[0;34m=\u001b[0m \u001b[0mWard\u001b[0m\u001b[0;34m(\u001b[0m\u001b[0mn_clusters\u001b[0m\u001b[0;34m)\u001b[0m\u001b[0;34m.\u001b[0m\u001b[0mfit_predict\u001b[0m\u001b[0;34m(\u001b[0m\u001b[0mK\u001b[0m\u001b[0;34m)\u001b[0m\u001b[0;34m\u001b[0m\u001b[0m\n\u001b[0m\u001b[1;32m     25\u001b[0m             \u001b[0mscore\u001b[0m \u001b[0;34m=\u001b[0m \u001b[0madjusted_rand_score\u001b[0m\u001b[0;34m(\u001b[0m\u001b[0mnodes\u001b[0m\u001b[0;34m,\u001b[0m \u001b[0mprediction\u001b[0m\u001b[0;34m)\u001b[0m\u001b[0;34m\u001b[0m\u001b[0m\n\u001b[1;32m     26\u001b[0m             \u001b[0mscores\u001b[0m\u001b[0;34m.\u001b[0m\u001b[0mappend\u001b[0m\u001b[0;34m(\u001b[0m\u001b[0mscore\u001b[0m\u001b[0;34m)\u001b[0m\u001b[0;34m\u001b[0m\u001b[0m\n",
      "\u001b[0;32m/Library/Frameworks/Python.framework/Versions/3.6/lib/python3.6/site-packages/sklearn/base.py\u001b[0m in \u001b[0;36mfit_predict\u001b[0;34m(self, X, y)\u001b[0m\n\u001b[1;32m    408\u001b[0m         \u001b[0;31m# non-optimized default implementation; override when a better\u001b[0m\u001b[0;34m\u001b[0m\u001b[0;34m\u001b[0m\u001b[0m\n\u001b[1;32m    409\u001b[0m         \u001b[0;31m# method is possible for a given clustering algorithm\u001b[0m\u001b[0;34m\u001b[0m\u001b[0;34m\u001b[0m\u001b[0m\n\u001b[0;32m--> 410\u001b[0;31m         \u001b[0mself\u001b[0m\u001b[0;34m.\u001b[0m\u001b[0mfit\u001b[0m\u001b[0;34m(\u001b[0m\u001b[0mX\u001b[0m\u001b[0;34m)\u001b[0m\u001b[0;34m\u001b[0m\u001b[0m\n\u001b[0m\u001b[1;32m    411\u001b[0m         \u001b[0;32mreturn\u001b[0m \u001b[0mself\u001b[0m\u001b[0;34m.\u001b[0m\u001b[0mlabels_\u001b[0m\u001b[0;34m\u001b[0m\u001b[0m\n\u001b[1;32m    412\u001b[0m \u001b[0;34m\u001b[0m\u001b[0m\n",
      "\u001b[0;32m/Users/kolya/Desktop/Diploma/bachelor_thesis/src/clustering/ward.py\u001b[0m in \u001b[0;36mfit\u001b[0;34m(self, K, y, sample_weight)\u001b[0m\n\u001b[1;32m     32\u001b[0m \u001b[0;34m\u001b[0m\u001b[0m\n\u001b[1;32m     33\u001b[0m     \u001b[0;32mdef\u001b[0m \u001b[0mfit\u001b[0m\u001b[0;34m(\u001b[0m\u001b[0mself\u001b[0m\u001b[0;34m,\u001b[0m \u001b[0mK\u001b[0m\u001b[0;34m,\u001b[0m \u001b[0my\u001b[0m\u001b[0;34m=\u001b[0m\u001b[0;32mNone\u001b[0m\u001b[0;34m,\u001b[0m \u001b[0msample_weight\u001b[0m\u001b[0;34m=\u001b[0m\u001b[0;32mNone\u001b[0m\u001b[0;34m)\u001b[0m\u001b[0;34m:\u001b[0m\u001b[0;34m\u001b[0m\u001b[0m\n\u001b[0;32m---> 34\u001b[0;31m         \u001b[0mself\u001b[0m\u001b[0;34m.\u001b[0m\u001b[0mlabels_\u001b[0m \u001b[0;34m=\u001b[0m \u001b[0mself\u001b[0m\u001b[0;34m.\u001b[0m\u001b[0mpredict\u001b[0m\u001b[0;34m(\u001b[0m\u001b[0mK\u001b[0m\u001b[0;34m)\u001b[0m\u001b[0;34m\u001b[0m\u001b[0m\n\u001b[0m\u001b[1;32m     35\u001b[0m         \u001b[0;32mreturn\u001b[0m \u001b[0mself\u001b[0m\u001b[0;34m\u001b[0m\u001b[0m\n\u001b[1;32m     36\u001b[0m \u001b[0;34m\u001b[0m\u001b[0m\n",
      "\u001b[0;32m/Users/kolya/Desktop/Diploma/bachelor_thesis/src/clustering/ward.py\u001b[0m in \u001b[0;36mpredict\u001b[0;34m(self, K)\u001b[0m\n\u001b[1;32m     38\u001b[0m         \u001b[0mclusters\u001b[0m \u001b[0;34m=\u001b[0m \u001b[0;34m[\u001b[0m\u001b[0mCluster\u001b[0m\u001b[0;34m(\u001b[0m\u001b[0;34m[\u001b[0m\u001b[0mi\u001b[0m\u001b[0;34m]\u001b[0m\u001b[0;34m,\u001b[0m \u001b[0mK\u001b[0m\u001b[0;34m.\u001b[0m\u001b[0mshape\u001b[0m\u001b[0;34m[\u001b[0m\u001b[0;36m0\u001b[0m\u001b[0;34m]\u001b[0m\u001b[0;34m)\u001b[0m \u001b[0;32mfor\u001b[0m \u001b[0mi\u001b[0m \u001b[0;32min\u001b[0m \u001b[0mrange\u001b[0m\u001b[0;34m(\u001b[0m\u001b[0mK\u001b[0m\u001b[0;34m.\u001b[0m\u001b[0mshape\u001b[0m\u001b[0;34m[\u001b[0m\u001b[0;36m0\u001b[0m\u001b[0;34m]\u001b[0m\u001b[0;34m)\u001b[0m\u001b[0;34m]\u001b[0m\u001b[0;34m\u001b[0m\u001b[0m\n\u001b[1;32m     39\u001b[0m         \u001b[0;32mfor\u001b[0m \u001b[0mi\u001b[0m \u001b[0;32min\u001b[0m \u001b[0mrange\u001b[0m\u001b[0;34m(\u001b[0m\u001b[0mK\u001b[0m\u001b[0;34m.\u001b[0m\u001b[0mshape\u001b[0m\u001b[0;34m[\u001b[0m\u001b[0;36m0\u001b[0m\u001b[0;34m]\u001b[0m \u001b[0;34m-\u001b[0m \u001b[0mself\u001b[0m\u001b[0;34m.\u001b[0m\u001b[0mn_clusters\u001b[0m\u001b[0;34m)\u001b[0m\u001b[0;34m:\u001b[0m\u001b[0;34m\u001b[0m\u001b[0m\n\u001b[0;32m---> 40\u001b[0;31m             \u001b[0mself\u001b[0m\u001b[0;34m.\u001b[0m\u001b[0m_iteration\u001b[0m\u001b[0;34m(\u001b[0m\u001b[0mK\u001b[0m\u001b[0;34m,\u001b[0m \u001b[0mclusters\u001b[0m\u001b[0;34m)\u001b[0m\u001b[0;34m\u001b[0m\u001b[0m\n\u001b[0m\u001b[1;32m     41\u001b[0m \u001b[0;34m\u001b[0m\u001b[0m\n\u001b[1;32m     42\u001b[0m         \u001b[0mresult\u001b[0m \u001b[0;34m=\u001b[0m \u001b[0mnp\u001b[0m\u001b[0;34m.\u001b[0m\u001b[0mzeros\u001b[0m\u001b[0;34m(\u001b[0m\u001b[0;34m(\u001b[0m\u001b[0mK\u001b[0m\u001b[0;34m.\u001b[0m\u001b[0mshape\u001b[0m\u001b[0;34m[\u001b[0m\u001b[0;36m0\u001b[0m\u001b[0;34m]\u001b[0m\u001b[0;34m,\u001b[0m\u001b[0;34m)\u001b[0m\u001b[0;34m,\u001b[0m \u001b[0mdtype\u001b[0m\u001b[0;34m=\u001b[0m\u001b[0mnp\u001b[0m\u001b[0;34m.\u001b[0m\u001b[0mint\u001b[0m\u001b[0;34m)\u001b[0m\u001b[0;34m\u001b[0m\u001b[0m\n",
      "\u001b[0;32m/Users/kolya/Desktop/Diploma/bachelor_thesis/src/clustering/ward.py\u001b[0m in \u001b[0;36m_iteration\u001b[0;34m(self, K, clusters)\u001b[0m\n\u001b[1;32m     50\u001b[0m         \u001b[0;32mfor\u001b[0m \u001b[0mCk_idx\u001b[0m\u001b[0;34m,\u001b[0m \u001b[0mCk\u001b[0m \u001b[0;32min\u001b[0m \u001b[0menumerate\u001b[0m\u001b[0;34m(\u001b[0m\u001b[0mclusters\u001b[0m\u001b[0;34m)\u001b[0m\u001b[0;34m:\u001b[0m\u001b[0;34m\u001b[0m\u001b[0m\n\u001b[1;32m     51\u001b[0m             \u001b[0;32mfor\u001b[0m \u001b[0mCl_idx\u001b[0m\u001b[0;34m,\u001b[0m \u001b[0mCl\u001b[0m \u001b[0;32min\u001b[0m \u001b[0menumerate\u001b[0m\u001b[0;34m(\u001b[0m\u001b[0mclusters\u001b[0m\u001b[0;34m[\u001b[0m\u001b[0mCk_idx\u001b[0m \u001b[0;34m+\u001b[0m \u001b[0;36m1\u001b[0m\u001b[0;34m:\u001b[0m\u001b[0;34m]\u001b[0m\u001b[0;34m)\u001b[0m\u001b[0;34m:\u001b[0m\u001b[0;34m\u001b[0m\u001b[0m\n\u001b[0;32m---> 52\u001b[0;31m                 \u001b[0mcurrentΔJ\u001b[0m \u001b[0;34m=\u001b[0m \u001b[0mCk\u001b[0m\u001b[0;34m.\u001b[0m\u001b[0mgetΔJ\u001b[0m\u001b[0;34m(\u001b[0m\u001b[0mK\u001b[0m\u001b[0;34m,\u001b[0m \u001b[0mCl\u001b[0m\u001b[0;34m)\u001b[0m\u001b[0;34m\u001b[0m\u001b[0m\n\u001b[0m\u001b[1;32m     53\u001b[0m                 \u001b[0;32mif\u001b[0m \u001b[0mcurrentΔJ\u001b[0m \u001b[0;34m<\u001b[0m \u001b[0mminΔJ\u001b[0m\u001b[0;34m:\u001b[0m\u001b[0;34m\u001b[0m\u001b[0m\n\u001b[1;32m     54\u001b[0m                     \u001b[0mminCk\u001b[0m\u001b[0;34m,\u001b[0m \u001b[0mminCl\u001b[0m\u001b[0;34m,\u001b[0m \u001b[0mminΔJ\u001b[0m \u001b[0;34m=\u001b[0m \u001b[0mCk\u001b[0m\u001b[0;34m,\u001b[0m \u001b[0mCl\u001b[0m\u001b[0;34m,\u001b[0m \u001b[0mcurrentΔJ\u001b[0m\u001b[0;34m\u001b[0m\u001b[0m\n",
      "\u001b[0;32m/Users/kolya/Desktop/Diploma/bachelor_thesis/src/clustering/ward.py\u001b[0m in \u001b[0;36mgetΔJ\u001b[0;34m(self, K, Cl)\u001b[0m\n\u001b[1;32m     16\u001b[0m \u001b[0;34m\u001b[0m\u001b[0m\n\u001b[1;32m     17\u001b[0m     \u001b[0;32mdef\u001b[0m \u001b[0mgetΔJ\u001b[0m\u001b[0;34m(\u001b[0m\u001b[0mself\u001b[0m\u001b[0;34m,\u001b[0m \u001b[0mK\u001b[0m\u001b[0;34m,\u001b[0m \u001b[0mCl\u001b[0m\u001b[0;34m)\u001b[0m\u001b[0;34m:\u001b[0m\u001b[0;34m\u001b[0m\u001b[0m\n\u001b[0;32m---> 18\u001b[0;31m         \u001b[0;32mreturn\u001b[0m \u001b[0mself\u001b[0m\u001b[0;34m.\u001b[0m\u001b[0mΔJ\u001b[0m\u001b[0;34m[\u001b[0m\u001b[0mCl\u001b[0m\u001b[0;34m]\u001b[0m \u001b[0;32mif\u001b[0m \u001b[0mCl\u001b[0m \u001b[0;32min\u001b[0m \u001b[0mself\u001b[0m\u001b[0;34m.\u001b[0m\u001b[0mΔJ\u001b[0m \u001b[0;32melse\u001b[0m \u001b[0mself\u001b[0m\u001b[0;34m.\u001b[0m\u001b[0mcalcΔJ\u001b[0m\u001b[0;34m(\u001b[0m\u001b[0mK\u001b[0m\u001b[0;34m,\u001b[0m \u001b[0mCl\u001b[0m\u001b[0;34m)\u001b[0m\u001b[0;34m\u001b[0m\u001b[0m\n\u001b[0m\u001b[1;32m     19\u001b[0m \u001b[0;34m\u001b[0m\u001b[0m\n\u001b[1;32m     20\u001b[0m     \u001b[0;31m# ΔJ = (n_k * n_l)/(n_k + n_l) * (h_k - h_l)^T * K * (h_k - h_l)\u001b[0m\u001b[0;34m\u001b[0m\u001b[0;34m\u001b[0m\u001b[0m\n",
      "\u001b[0;32m/Users/kolya/Desktop/Diploma/bachelor_thesis/src/clustering/ward.py\u001b[0m in \u001b[0;36mcalcΔJ\u001b[0;34m(self, K, Cl)\u001b[0m\n\u001b[1;32m     22\u001b[0m         \u001b[0mhkhl\u001b[0m \u001b[0;34m=\u001b[0m \u001b[0mnp\u001b[0m\u001b[0;34m.\u001b[0m\u001b[0marray\u001b[0m\u001b[0;34m(\u001b[0m\u001b[0mself\u001b[0m\u001b[0;34m.\u001b[0m\u001b[0mh\u001b[0m \u001b[0;34m-\u001b[0m \u001b[0mCl\u001b[0m\u001b[0;34m.\u001b[0m\u001b[0mh\u001b[0m\u001b[0;34m)\u001b[0m\u001b[0;34m.\u001b[0m\u001b[0mreshape\u001b[0m\u001b[0;34m(\u001b[0m\u001b[0;34m(\u001b[0m\u001b[0;34m-\u001b[0m\u001b[0;36m1\u001b[0m\u001b[0;34m,\u001b[0m \u001b[0;36m1\u001b[0m\u001b[0;34m)\u001b[0m\u001b[0;34m)\u001b[0m\u001b[0;34m\u001b[0m\u001b[0m\n\u001b[1;32m     23\u001b[0m         \u001b[0mhkhlT\u001b[0m \u001b[0;34m=\u001b[0m \u001b[0mhkhl\u001b[0m\u001b[0;34m.\u001b[0m\u001b[0mT\u001b[0m\u001b[0;34m\u001b[0m\u001b[0m\n\u001b[0;32m---> 24\u001b[0;31m         \u001b[0mcurrentΔJ\u001b[0m \u001b[0;34m=\u001b[0m \u001b[0;34m(\u001b[0m\u001b[0mself\u001b[0m\u001b[0;34m.\u001b[0m\u001b[0mn\u001b[0m \u001b[0;34m*\u001b[0m \u001b[0mCl\u001b[0m\u001b[0;34m.\u001b[0m\u001b[0mn\u001b[0m\u001b[0;34m)\u001b[0m \u001b[0;34m*\u001b[0m \u001b[0mhkhlT\u001b[0m\u001b[0;34m.\u001b[0m\u001b[0mdot\u001b[0m\u001b[0;34m(\u001b[0m\u001b[0mK\u001b[0m\u001b[0;34m)\u001b[0m\u001b[0;34m.\u001b[0m\u001b[0mdot\u001b[0m\u001b[0;34m(\u001b[0m\u001b[0mhkhl\u001b[0m\u001b[0;34m)\u001b[0m\u001b[0;34m[\u001b[0m\u001b[0;36m0\u001b[0m\u001b[0;34m]\u001b[0m\u001b[0;34m[\u001b[0m\u001b[0;36m0\u001b[0m\u001b[0;34m]\u001b[0m \u001b[0;34m/\u001b[0m \u001b[0;34m(\u001b[0m\u001b[0mself\u001b[0m\u001b[0;34m.\u001b[0m\u001b[0mn\u001b[0m \u001b[0;34m+\u001b[0m \u001b[0mCl\u001b[0m\u001b[0;34m.\u001b[0m\u001b[0mn\u001b[0m\u001b[0;34m)\u001b[0m\u001b[0;34m\u001b[0m\u001b[0m\n\u001b[0m\u001b[1;32m     25\u001b[0m         \u001b[0mself\u001b[0m\u001b[0;34m.\u001b[0m\u001b[0mΔJ\u001b[0m\u001b[0;34m[\u001b[0m\u001b[0mCl\u001b[0m\u001b[0;34m]\u001b[0m \u001b[0;34m=\u001b[0m \u001b[0mcurrentΔJ\u001b[0m\u001b[0;34m\u001b[0m\u001b[0m\n\u001b[1;32m     26\u001b[0m         \u001b[0;32mreturn\u001b[0m \u001b[0mcurrentΔJ\u001b[0m\u001b[0;34m\u001b[0m\u001b[0m\n",
      "\u001b[0;31mKeyboardInterrupt\u001b[0m: "
     ],
     "output_type": "error"
    }
   ],
   "source": [
    "import matplotlib.pyplot as plt\n",
    "import numpy as np\n",
    "import json\n",
    "from sklearn.metrics import adjusted_rand_score\n",
    "\n",
    "from src.clustering.ward import Ward\n",
    "from src.clustering.kernel_kmeans import KernelKMeans\n",
    "from src.graph.graph_generator import GraphGenerator\n",
    "from src.kernel.kernel import get_all_kernels\n",
    "\n",
    "n_clusters = 3\n",
    "generator = GraphGenerator(100, n_clusters, 0.3, 0.05)\n",
    "\n",
    "for kernel_class in get_all_kernels():\n",
    "    results = {}\n",
    "    all_scores = []\n",
    "    for i in range(0, 10):\n",
    "        graph = generator.generate_graph()\n",
    "        nodes = graph.nodes\n",
    "        edges = graph.edges\n",
    "        scores = []\n",
    "        kernel = kernel_class(edges)\n",
    "        for K in kernel.get_Ks():\n",
    "            prediction = Ward(n_clusters).fit_predict(K)\n",
    "            score = adjusted_rand_score(nodes, prediction)\n",
    "            scores.append(score)\n",
    "        all_scores.append(scores)\n",
    "    all_scores = [list(i) for i in zip(*all_scores)]\n",
    "    resulting_score = [abs(np.mean(x)) for x in all_scores]\n",
    "    results[kernel_class.name] = resulting_score\n",
    "    \n",
    "    # with open('src/results/my/generated_graphs/' + 'Kmeans_' \n",
    "    #           + kernel_class.name + '.txt', 'w') as file:\n",
    "    #     file.write(json.dumps(results))\n",
    "       \n",
    "    plt.figure(figsize=(10,10))\n",
    "    for kernel_name, resulting_score in results.items():\n",
    "        print(kernel_name, 'best result: ', np.max(resulting_score),\n",
    "              'mean result: ', np.mean(resulting_score))\n",
    "        plt.plot(kernel_class.default_params, resulting_score, label=kernel_name)\n",
    "    plt.title('Ward ' + kernel_class.name + ', n_clusters=' + str(n_clusters))\n",
    "    plt.legend()\n",
    "    plt.show()"
   ]
  },
  {
   "cell_type": "code",
   "execution_count": 5,
   "metadata": {},
   "outputs": [
    {
     "name": "stderr",
     "output_type": "stream",
     "text": [
      "/Library/Frameworks/Python.framework/Versions/3.6/lib/python3.6/site-packages/sklearn/utils/validation.py:640: UserWarning: Array is not symmetric, and will be converted to symmetric by average with its transpose.\n  warnings.warn(\"Array is not symmetric, and will be converted \"\n"
     ]
    },
    {
     "name": "stdout",
     "output_type": "stream",
     "text": [
      "PlainWalk best result:  0.982091946275 mean result:  0.980588473568\n"
     ]
    },
    {
     "name": "stdout",
     "output_type": "stream",
     "text": [
      "Communicability best result:  0.99403191548 mean result:  0.518810696993\n"
     ]
    },
    {
     "name": "stdout",
     "output_type": "stream",
     "text": [
      "Forest best result:  0.98815282668 mean result:  0.987998286526\n"
     ]
    },
    {
     "name": "stdout",
     "output_type": "stream",
     "text": [
      "Heat best result:  0.987877303388 mean result:  0.86979000437\n"
     ]
    },
    {
     "name": "stdout",
     "output_type": "stream",
     "text": [
      "SigmoidCommuteTime best result:  0.979429335491 mean result:  0.979429335491\n"
     ]
    }
   ],
   "source": [
    "import matplotlib.pyplot as plt\n",
    "import numpy as np\n",
    "import json\n",
    "from sklearn.metrics import adjusted_rand_score\n",
    "\n",
    "from sklearn.cluster.k_means_ import k_means\n",
    "from sklearn.cluster import SpectralClustering\n",
    "# from sklearn.cluster import AgglomerativeClustering\n",
    "# from src.clustering.spectral_clustering import SpectralClustering\n",
    "# from src.clustering.vanilla_kernel_kmeans import VanillaKernelKMeans\n",
    "from src.clustering.ward import Ward\n",
    "from src.clustering.kernel_kmeans import KernelKMeans\n",
    "from src.graph.graph_generator import GraphGenerator\n",
    "from src.kernel.kernel import get_all_kernels\n",
    "\n",
    "log_kernels = ['LogPlainWalk', 'LogCommunicability', 'LogForest', 'LogHeat', 'LogSigmoidCommuteTime']\n",
    "\n",
    "n_clusters = 3\n",
    "generator = GraphGenerator(100, n_clusters, 0.3, 0.1)\n",
    "graphs_num = 10\n",
    "\n",
    "for kernel_class in get_all_kernels():\n",
    "    if kernel_class.name in log_kernels:\n",
    "        continue\n",
    "    results = {}\n",
    "    all_scores = []\n",
    "    for i in range(graphs_num):\n",
    "        graph = generator.generate_graph()\n",
    "        nodes = graph.nodes\n",
    "        edges = graph.edges\n",
    "        scores = []\n",
    "        kernel = kernel_class(edges)\n",
    "        for K in kernel.get_Ks():\n",
    "            # print('kernel_class.name = ', kernel_class.name, 'K = ', K)\n",
    "            # prediction = SpectralClustering(n_clusters, random_state=0,\n",
    "            #                                 affinity='precomputed').fit_predict(K)\n",
    "            _, prediction, _ = k_means(K, n_clusters,\n",
    "                                 precompute_distances=True, random_state=0)\n",
    "            score = adjusted_rand_score(nodes, prediction)\n",
    "            scores.append(score)\n",
    "        all_scores.append(scores)\n",
    "    all_scores = [list(i) for i in zip(*all_scores)]\n",
    "    resulting_score = [abs(np.mean(x)) for x in all_scores]\n",
    "    results[kernel_class.name] = resulting_score\n",
    "    \n",
    "    # with open('src/results/my/generated_graphs/' + 'Kmeans_' \n",
    "    #           + kernel_class.name + '.txt', 'w') as file:\n",
    "    #     file.write(json.dumps(results))\n",
    "       \n",
    "    plt.figure(figsize=(10, 10))\n",
    "    for kernel_name, resulting_score in results.items():\n",
    "        print(kernel_name, 'best result: ', np.max(resulting_score),\n",
    "              'mean result: ', np.mean(resulting_score))\n",
    "        plt.plot(kernel_class.default_params, resulting_score, label=kernel_name)\n",
    "    plt.title('SpectralClustering FULL ' + kernel_class.name + ', n_clusters=' + str(n_clusters))\n",
    "    plt.legend()\n",
    "    plt.show()"
   ]
  },
  {
   "cell_type": "code",
   "execution_count": 2,
   "metadata": {},
   "outputs": [
    {
     "name": "stdout",
     "output_type": "stream",
     "text": [
      "100_3_03_01 is starting...\n"
     ]
    },
    {
     "name": "stdout",
     "output_type": "stream",
     "text": [
      "Ward:  PlainWalk best result:  0.795003938758\nKMeans:  PlainWalk best result:  0.0100807155925\n"
     ]
    },
    {
     "name": "stdout",
     "output_type": "stream",
     "text": [
      "Ward:  LogPlainWalk best result:  0.806059467134\nKMeans:  LogPlainWalk best result:  0.773163975428\n"
     ]
    },
    {
     "name": "stdout",
     "output_type": "stream",
     "text": [
      "Ward:  Communicability best result:  0.871260602122\nKMeans:  Communicability best result:  0.449949373586\n"
     ]
    },
    {
     "name": "stdout",
     "output_type": "stream",
     "text": [
      "Ward:  LogCommunicability best result:  0.937063231645\nKMeans:  LogCommunicability best result:  0.809669561343\n"
     ]
    },
    {
     "name": "stdout",
     "output_type": "stream",
     "text": [
      "Ward:  Forest best result:  0.079873641986\nKMeans:  Forest best result:  0.00589751759459\n"
     ]
    },
    {
     "name": "stdout",
     "output_type": "stream",
     "text": [
      "Ward:  LogForest best result:  0.796080342748\nKMeans:  LogForest best result:  0.716060417643\n"
     ]
    },
    {
     "name": "stdout",
     "output_type": "stream",
     "text": [
      "Ward:  Heat best result:  0.37020053588\nKMeans:  Heat best result:  0.140673308301\n"
     ]
    },
    {
     "name": "stdout",
     "output_type": "stream",
     "text": [
      "Ward:  LogHeat best result:  0.885618736725\nKMeans:  LogHeat best result:  0.768198807178\n"
     ]
    },
    {
     "name": "stdout",
     "output_type": "stream",
     "text": [
      "Ward:  SigmoidCommuteTime best result:  0.121237764763\nKMeans:  SigmoidCommuteTime best result:  0.00169859911234\n"
     ]
    },
    {
     "name": "stdout",
     "output_type": "stream",
     "text": [
      "Ward:  LogSigmoidCommuteTime best result:  0.152983934516\nKMeans:  LogSigmoidCommuteTime best result:  0.000474877171193\n"
     ]
    },
    {
     "name": "stdout",
     "output_type": "stream",
     "text": [
      "100_3_03_005 has finished!!!\n100_2_025_005 is starting...\n"
     ]
    },
    {
     "name": "stdout",
     "output_type": "stream",
     "text": [
      "Ward:  PlainWalk best result:  0.976878562748\nKMeans:  PlainWalk best result:  0.081531259869\n"
     ]
    },
    {
     "name": "stdout",
     "output_type": "stream",
     "text": [
      "Ward:  LogPlainWalk best result:  0.980830432659\nKMeans:  LogPlainWalk best result:  0.99199921633\n"
     ]
    },
    {
     "name": "stdout",
     "output_type": "stream",
     "text": [
      "Ward:  Communicability best result:  0.997599764899\nKMeans:  Communicability best result:  0.98166294654\n"
     ]
    },
    {
     "name": "stdout",
     "output_type": "stream",
     "text": [
      "Ward:  LogCommunicability best result:  1.0\nKMeans:  LogCommunicability best result:  0.988031189684\n"
     ]
    },
    {
     "name": "stdout",
     "output_type": "stream",
     "text": [
      "Ward:  Forest best result:  0.900886483172\nKMeans:  Forest best result:  0.0352875921829\n"
     ]
    },
    {
     "name": "stdout",
     "output_type": "stream",
     "text": [
      "Ward:  LogForest best result:  0.991199137963\nKMeans:  LogForest best result:  0.985728123767\n"
     ]
    },
    {
     "name": "stdout",
     "output_type": "stream",
     "text": [
      "Ward:  Heat best result:  0.98\nKMeans:  Heat best result:  0.8487044873\n"
     ]
    },
    {
     "name": "stdout",
     "output_type": "stream",
     "text": [
      "Ward:  LogHeat best result:  1.0\nKMeans:  LogHeat best result:  0.988031163824\n"
     ]
    },
    {
     "name": "stdout",
     "output_type": "stream",
     "text": [
      "Ward:  SigmoidCommuteTime best result:  0.942979174404\nKMeans:  SigmoidCommuteTime best result:  0.0293993177696\n"
     ]
    },
    {
     "name": "stdout",
     "output_type": "stream",
     "text": [
      "Ward:  LogSigmoidCommuteTime best result:  0.963600750724\nKMeans:  LogSigmoidCommuteTime best result:  0.026267170163\n"
     ]
    },
    {
     "name": "stdout",
     "output_type": "stream",
     "text": [
      "100_2_025_005 has finished!!!\n200_2_03_005 is starting...\n"
     ]
    },
    {
     "name": "stderr",
     "output_type": "stream",
     "text": [
      "/Library/Frameworks/Python.framework/Versions/3.6/lib/python3.6/site-packages/matplotlib/pyplot.py:524: RuntimeWarning: More than 20 figures have been opened. Figures created through the pyplot interface (`matplotlib.pyplot.figure`) are retained until explicitly closed and may consume too much memory. (To control this warning, see the rcParam `figure.max_open_warning`).\n  max_open_warning, RuntimeWarning)\n"
     ]
    },
    {
     "name": "stdout",
     "output_type": "stream",
     "text": [
      "Ward:  PlainWalk best result:  0.999599990101\nKMeans:  PlainWalk best result:  0.000816726860239\n"
     ]
    },
    {
     "name": "stdout",
     "output_type": "stream",
     "text": [
      "Ward:  LogPlainWalk best result:  0.999199980202\nKMeans:  LogPlainWalk best result:  1.0\n"
     ]
    },
    {
     "name": "stdout",
     "output_type": "stream",
     "text": [
      "Ward:  Communicability best result:  1.0\nKMeans:  Communicability best result:  1.0\n"
     ]
    },
    {
     "name": "stdout",
     "output_type": "stream",
     "text": [
      "Ward:  LogCommunicability best result:  1.0\nKMeans:  LogCommunicability best result:  1.0\n"
     ]
    },
    {
     "name": "stdout",
     "output_type": "stream",
     "text": [
      "Ward:  Forest best result:  0.987708300246\nKMeans:  Forest best result:  0.0395382482944\n"
     ]
    },
    {
     "name": "stdout",
     "output_type": "stream",
     "text": [
      "Ward:  LogForest best result:  1.0\nKMeans:  LogForest best result:  1.0\n"
     ]
    },
    {
     "name": "stdout",
     "output_type": "stream",
     "text": [
      "Ward:  Heat best result:  1.0\nKMeans:  Heat best result:  1.0\n"
     ]
    },
    {
     "name": "stdout",
     "output_type": "stream",
     "text": [
      "Ward:  LogHeat best result:  1.0\nKMeans:  LogHeat best result:  1.0\n"
     ]
    },
    {
     "name": "stdout",
     "output_type": "stream",
     "text": [
      "Ward:  SigmoidCommuteTime best result:  0.995215966836\nKMeans:  SigmoidCommuteTime best result:  0.000141333261953\n"
     ]
    },
    {
     "name": "stdout",
     "output_type": "stream",
     "text": [
      "Ward:  LogSigmoidCommuteTime best result:  0.992072203726\nKMeans:  LogSigmoidCommuteTime best result:  0.00040541393666\n"
     ]
    },
    {
     "name": "stdout",
     "output_type": "stream",
     "text": [
      "100_2_025_005 has finished!!!\n"
     ]
    }
   ],
   "source": [
    "import matplotlib.pyplot as plt\n",
    "import numpy as np\n",
    "import json\n",
    "from sklearn.metrics import adjusted_rand_score\n",
    "\n",
    "from src.clustering.ward import Ward\n",
    "from src.clustering.kernel_kmeans import KernelKMeans\n",
    "from src.graph.graph_generator import GraphGenerator\n",
    "from src.kernel.kernel import get_all_kernels\n",
    "\n",
    "folder_name = '100_3_03_01/'\n",
    "n_clusters = 3\n",
    "n_nodes = 100\n",
    "pin = 0.3\n",
    "pout = 0.1\n",
    "generator = GraphGenerator(n_nodes, n_clusters, pin, pout)\n",
    "\n",
    "graphs_num = 50\n",
    "\n",
    "print('100_3_03_01 is starting...')\n",
    "for kernel_class in get_all_kernels():\n",
    "    ward_results = {}\n",
    "    ward_all_scores = []\n",
    "    kmeans_results = {}\n",
    "    kmeans_all_scores = []\n",
    "    for i in range(0, graphs_num):\n",
    "        graph = generator.generate_graph()\n",
    "        nodes = graph.nodes\n",
    "        edges = graph.edges\n",
    "        ward_scores = []\n",
    "        kmeans_scores = []\n",
    "        kernel = kernel_class(edges)\n",
    "        for K in kernel.get_Ks():\n",
    "            prediction = Ward(n_clusters).fit_predict(K)\n",
    "            ward_score = adjusted_rand_score(nodes, prediction)\n",
    "            ward_scores.append(ward_score)\n",
    "            \n",
    "            prediction = KernelKMeans(n_clusters, random_state=0).fit_predict(K)\n",
    "            kmeans_score = adjusted_rand_score(nodes, prediction)\n",
    "            kmeans_scores.append(kmeans_score)\n",
    "            \n",
    "        ward_all_scores.append(ward_scores)\n",
    "        kmeans_all_scores.append(kmeans_scores)\n",
    "        \n",
    "    ward_all_scores = [list(i) for i in zip(*ward_all_scores)]\n",
    "    ward_resulting_score = [abs(np.mean(x)) for x in ward_all_scores]\n",
    "    ward_results[kernel_class.name] = ward_resulting_score\n",
    "    \n",
    "    kmeans_all_scores = [list(i) for i in zip(*kmeans_all_scores)]\n",
    "    kmeans_resulting_score = [abs(np.mean(x)) for x in kmeans_all_scores]\n",
    "    kmeans_results[kernel_class.name] = kmeans_resulting_score\n",
    "    \n",
    "    with open('src/results/my/generated_graphs/' + folder_name\n",
    "              + 'Ward_' + kernel_class.name + '.txt', 'w') as file:\n",
    "        file.write(json.dumps(ward_results))\n",
    "    with open('src/results/my/generated_graphs/' + folder_name \n",
    "              + 'KMeans_' + kernel_class.name + '.txt', 'w') as file:\n",
    "        file.write(json.dumps(kmeans_results))\n",
    "       \n",
    "    plt.figure(figsize=(10, 10))\n",
    "    for kernel_name, resulting_score in ward_results.items():\n",
    "        print('Ward: ', kernel_name, 'best result: ', np.max(resulting_score))\n",
    "        plt.plot(kernel_class.default_params, resulting_score, label='Ward')\n",
    "    for kernel_name, resulting_score in kmeans_results.items():\n",
    "        print('KMeans: ', kernel_name, 'best result: ', np.max(resulting_score))\n",
    "        plt.plot(kernel_class.default_params, resulting_score, label='Kernel K-means')\n",
    "    plt.title(kernel_class.name + ', n_clusters=' + str(n_clusters))\n",
    "    plt.legend()\n",
    "    plt.savefig('src/results/my/generated_graphs/' + folder_name + 'img/' \n",
    "                + kernel_class.name + '.png')\n",
    "    # plt.show()\n",
    "print('100_3_03_005 has finished!!!')\n",
    "\n",
    "\n",
    "\n",
    "print('100_2_025_005 is starting...')\n",
    "folder_name = '100_2_025_005/'\n",
    "n_clusters = 2\n",
    "n_nodes = 100\n",
    "pin = 0.25\n",
    "pout = 0.05\n",
    "generator = GraphGenerator(n_nodes, n_clusters, pin, pout)\n",
    "\n",
    "graphs_num = 50\n",
    "\n",
    "for kernel_class in get_all_kernels():\n",
    "    ward_results = {}\n",
    "    ward_all_scores = []\n",
    "    kmeans_results = {}\n",
    "    kmeans_all_scores = []\n",
    "    for i in range(0, graphs_num):\n",
    "        graph = generator.generate_graph()\n",
    "        nodes = graph.nodes\n",
    "        edges = graph.edges\n",
    "        ward_scores = []\n",
    "        kmeans_scores = []\n",
    "        kernel = kernel_class(edges)\n",
    "        for K in kernel.get_Ks():\n",
    "            prediction = Ward(n_clusters).fit_predict(K)\n",
    "            ward_score = adjusted_rand_score(nodes, prediction)\n",
    "            ward_scores.append(ward_score)\n",
    "            \n",
    "            prediction = KernelKMeans(n_clusters, random_state=0).fit_predict(K)\n",
    "            kmeans_score = adjusted_rand_score(nodes, prediction)\n",
    "            kmeans_scores.append(kmeans_score)\n",
    "            \n",
    "        ward_all_scores.append(ward_scores)\n",
    "        kmeans_all_scores.append(kmeans_scores)\n",
    "        \n",
    "    ward_all_scores = [list(i) for i in zip(*ward_all_scores)]\n",
    "    ward_resulting_score = [abs(np.mean(x)) for x in ward_all_scores]\n",
    "    ward_results[kernel_class.name] = ward_resulting_score\n",
    "    \n",
    "    kmeans_all_scores = [list(i) for i in zip(*kmeans_all_scores)]\n",
    "    kmeans_resulting_score = [abs(np.mean(x)) for x in kmeans_all_scores]\n",
    "    kmeans_results[kernel_class.name] = kmeans_resulting_score\n",
    "    \n",
    "    with open('src/results/my/generated_graphs/' + folder_name\n",
    "              + 'Ward_' + kernel_class.name + '.txt', 'w') as file:\n",
    "        file.write(json.dumps(ward_results))\n",
    "    with open('src/results/my/generated_graphs/' + folder_name \n",
    "              + 'KMeans_' + kernel_class.name + '.txt', 'w') as file:\n",
    "        file.write(json.dumps(kmeans_results))\n",
    "       \n",
    "    plt.figure(figsize=(10, 10))\n",
    "    for kernel_name, resulting_score in ward_results.items():\n",
    "        print('Ward: ', kernel_name, 'best result: ', np.max(resulting_score))\n",
    "        plt.plot(kernel_class.default_params, resulting_score, label='Ward')\n",
    "    for kernel_name, resulting_score in kmeans_results.items():\n",
    "        print('KMeans: ', kernel_name, 'best result: ', np.max(resulting_score))\n",
    "        plt.plot(kernel_class.default_params, resulting_score, label='Kernel K-means')\n",
    "    plt.title(kernel_class.name + ', n_clusters=' + str(n_clusters))\n",
    "    plt.legend()\n",
    "    plt.savefig('src/results/my/generated_graphs/' + folder_name + 'img/' \n",
    "                + kernel_class.name + '.png')\n",
    "    # plt.show()\n",
    "print('100_2_025_005 has finished!!!')\n",
    "\n",
    "\n",
    "print('200_2_03_005 is starting...')\n",
    "folder_name = '200_2_03_005/'\n",
    "n_clusters = 2\n",
    "n_nodes = 200\n",
    "pin = 0.3\n",
    "pout = 0.05\n",
    "generator = GraphGenerator(n_nodes, n_clusters, pin, pout)\n",
    "\n",
    "graphs_num = 50\n",
    "\n",
    "for kernel_class in get_all_kernels():\n",
    "    ward_results = {}\n",
    "    ward_all_scores = []\n",
    "    kmeans_results = {}\n",
    "    kmeans_all_scores = []\n",
    "    for i in range(0, graphs_num):\n",
    "        graph = generator.generate_graph()\n",
    "        nodes = graph.nodes\n",
    "        edges = graph.edges\n",
    "        ward_scores = []\n",
    "        kmeans_scores = []\n",
    "        kernel = kernel_class(edges)\n",
    "        for K in kernel.get_Ks():\n",
    "            prediction = Ward(n_clusters).fit_predict(K)\n",
    "            ward_score = adjusted_rand_score(nodes, prediction)\n",
    "            ward_scores.append(ward_score)\n",
    "            \n",
    "            prediction = KernelKMeans(n_clusters, random_state=0).fit_predict(K)\n",
    "            kmeans_score = adjusted_rand_score(nodes, prediction)\n",
    "            kmeans_scores.append(kmeans_score)\n",
    "            \n",
    "        ward_all_scores.append(ward_scores)\n",
    "        kmeans_all_scores.append(kmeans_scores)\n",
    "        \n",
    "    ward_all_scores = [list(i) for i in zip(*ward_all_scores)]\n",
    "    ward_resulting_score = [abs(np.mean(x)) for x in ward_all_scores]\n",
    "    ward_results[kernel_class.name] = ward_resulting_score\n",
    "    \n",
    "    kmeans_all_scores = [list(i) for i in zip(*kmeans_all_scores)]\n",
    "    kmeans_resulting_score = [abs(np.mean(x)) for x in kmeans_all_scores]\n",
    "    kmeans_results[kernel_class.name] = kmeans_resulting_score\n",
    "    \n",
    "    with open('src/results/my/generated_graphs/' + folder_name\n",
    "              + 'Ward_' + kernel_class.name + '.txt', 'w') as file:\n",
    "        file.write(json.dumps(ward_results))\n",
    "    with open('src/results/my/generated_graphs/' + folder_name \n",
    "              + 'KMeans_' + kernel_class.name + '.txt', 'w') as file:\n",
    "        file.write(json.dumps(kmeans_results))\n",
    "       \n",
    "    plt.figure(figsize=(10, 10))\n",
    "    for kernel_name, resulting_score in ward_results.items():\n",
    "        print('Ward: ', kernel_name, 'best result: ', np.max(resulting_score))\n",
    "        plt.plot(kernel_class.default_params, resulting_score, label='Ward')\n",
    "    for kernel_name, resulting_score in kmeans_results.items():\n",
    "        print('KMeans: ', kernel_name, 'best result: ', np.max(resulting_score))\n",
    "        plt.plot(kernel_class.default_params, resulting_score, label='Kernel K-means')\n",
    "    plt.title(kernel_class.name + ', n_clusters=' + str(n_clusters))\n",
    "    plt.legend()\n",
    "    plt.savefig('src/results/my/generated_graphs/' + folder_name + 'img/' \n",
    "                + kernel_class.name + '.png')\n",
    "    # plt.show()\n",
    "print('100_2_025_005 has finished!!!')"
   ]
  },
  {
   "cell_type": "code",
   "execution_count": 5,
   "metadata": {},
   "outputs": [
    {
     "name": "stdout",
     "output_type": "stream",
     "text": [
      "Ward:  0.604319149986\nKMeans:  0.264132313009\n"
     ]
    },
    {
     "name": "stdout",
     "output_type": "stream",
     "text": [
      "Ward:  0.559538254681\nKMeans:  0.107361370516\n"
     ]
    },
    {
     "name": "stdout",
     "output_type": "stream",
     "text": [
      "Ward:  0.471243042672\nKMeans:  0.151679306609\n"
     ]
    },
    {
     "name": "stdout",
     "output_type": "stream",
     "text": [
      "Ward:  0.160349987088\nKMeans:  0.136301478772\n"
     ]
    },
    {
     "name": "stdout",
     "output_type": "stream",
     "text": [
      "Ward:  0.326571333555\nKMeans:  0.217849543948\nWard:  0.386435554716\nKMeans:  0.0230280962456\n"
     ]
    },
    {
     "name": "stdout",
     "output_type": "stream",
     "text": [
      "Ward:  0.41291385913\nKMeans:  0.258800231042\nWard:  0.509659044674\nKMeans:  0.437222895668\n"
     ]
    },
    {
     "name": "stdout",
     "output_type": "stream",
     "text": [
      "Ward:  0.45662591249\nKMeans:  0.0977369305267\nWard:  0.559565539373\nKMeans:  0.209140840192\n"
     ]
    }
   ],
   "source": [
    "import matplotlib.pyplot as plt\n",
    "import numpy as np\n",
    "import json\n",
    "from sklearn.metrics import adjusted_rand_score\n",
    "\n",
    "from src.clustering.ward import Ward\n",
    "from src.clustering.kernel_kmeans import KernelKMeans\n",
    "from src.graph.graph_generator import GraphGenerator\n",
    "from src.kernel.kernel import get_all_kernels\n",
    "\n",
    "folder_name = '100_3_03_005/'\n",
    "\n",
    "n_clusters = 4\n",
    "n_nodes = 100\n",
    "pin = 0.2\n",
    "pout = 0.05\n",
    "generator = GraphGenerator(n_nodes, n_clusters, pin, pout)\n",
    "\n",
    "graphs_num = 10\n",
    "for i in range(graphs_num):\n",
    "    graph = generator.generate_graph()\n",
    "    nodes = graph.nodes\n",
    "    edges = graph.edges\n",
    "    wprediction = Ward(n_clusters).fit_predict(edges)\n",
    "    kprediction = KernelKMeans(n_clusters).fit_predict(edges)\n",
    "    print('Ward: ', adjusted_rand_score(nodes, wprediction))\n",
    "    print('KMeans: ', adjusted_rand_score(nodes, kprediction))"
   ]
  },
  {
   "cell_type": "code",
   "execution_count": 4,
   "metadata": {},
   "outputs": [
    {
     "name": "stderr",
     "output_type": "stream",
     "text": [
      "/Library/Frameworks/Python.framework/Versions/3.6/lib/python3.6/site-packages/sklearn/utils/validation.py:640: UserWarning: Array is not symmetric, and will be converted to symmetric by average with its transpose.\n  warnings.warn(\"Array is not symmetric, and will be converted \"\n"
     ]
    },
    {
     "name": "stdout",
     "output_type": "stream",
     "text": [
      "Ward:  0.371374635318\nKKMeans:  0.176944760398\nSpectralClustering:  0.919790903643\n"
     ]
    },
    {
     "name": "stdout",
     "output_type": "stream",
     "text": [
      "Ward:  0.445829701146\nKKMeans:  0.684197387035\nSpectralClustering:  0.893940150872\n"
     ]
    },
    {
     "name": "stdout",
     "output_type": "stream",
     "text": [
      "Ward:  0.361543155915\nKKMeans:  0.216998997438\nSpectralClustering:  0.919264375468\n"
     ]
    },
    {
     "name": "stdout",
     "output_type": "stream",
     "text": [
      "Ward:  0.368809771802\nKKMeans:  0.262458634237\nSpectralClustering:  0.920272589433\n"
     ]
    },
    {
     "name": "stdout",
     "output_type": "stream",
     "text": [
      "Ward:  0.391836213229\nKKMeans:  0.177866328564\nSpectralClustering:  0.919790903643\n"
     ]
    },
    {
     "name": "stdout",
     "output_type": "stream",
     "text": [
      "Ward:  0.444986519451\nKKMeans:  0.202237150744\nSpectralClustering:  0.867936434134\n"
     ]
    },
    {
     "name": "stdout",
     "output_type": "stream",
     "text": [
      "Ward:  0.310013138899\nKKMeans:  0.102321205535\nSpectralClustering:  0.723883418539\n"
     ]
    },
    {
     "name": "stdout",
     "output_type": "stream",
     "text": [
      "Ward:  0.517698470503\nKKMeans:  0.488910648715\nSpectralClustering:  0.893880067314\n"
     ]
    },
    {
     "name": "stdout",
     "output_type": "stream",
     "text": [
      "Ward:  0.556214183675\nKKMeans:  0.280168748774\nSpectralClustering:  0.863706480452\n"
     ]
    },
    {
     "name": "stdout",
     "output_type": "stream",
     "text": [
      "Ward:  0.363566555421\nKKMeans:  0.37067427756\nSpectralClustering:  0.867065630025\n"
     ]
    }
   ],
   "source": [
    "from sklearn.cluster import SpectralClustering\n",
    "\n",
    "import matplotlib.pyplot as plt\n",
    "import numpy as np\n",
    "import json\n",
    "from sklearn.metrics import adjusted_rand_score\n",
    "\n",
    "from src.clustering.ward import Ward\n",
    "from src.clustering.kernel_kmeans import KernelKMeans\n",
    "from src.graph.graph_generator import GraphGenerator\n",
    "from src.kernel.kernel import get_all_kernels\n",
    "\n",
    "folder_name = '100_3_03_005/'\n",
    "\n",
    "n_clusters = 4\n",
    "n_nodes = 100\n",
    "pin = 0.2\n",
    "pout = 0.05\n",
    "generator = GraphGenerator(n_nodes, n_clusters, pin, pout)\n",
    "\n",
    "graphs_num = 10\n",
    "for i in range(graphs_num):\n",
    "    graph = generator.generate_graph()\n",
    "    nodes = graph.nodes\n",
    "    edges = graph.edges\n",
    "    wprediction = Ward(n_clusters).fit_predict(edges)\n",
    "    kkprediction = KernelKMeans(n_clusters, random_state=0).fit_predict(edges)\n",
    "    kprediction = SpectralClustering(n_clusters, random_state=0, \n",
    "                                     affinity='precomputed').fit_predict(edges)\n",
    "    print('Ward: ', adjusted_rand_score(nodes, wprediction))\n",
    "    print('KKMeans: ', adjusted_rand_score(nodes, kkprediction))\n",
    "    print('SpectralClustering: ', adjusted_rand_score(nodes, kprediction))"
   ]
  },
  {
   "cell_type": "code",
   "execution_count": 1,
   "metadata": {},
   "outputs": [
    {
     "name": "stdout",
     "output_type": "stream",
     "text": [
      "100_3_03_01 is starting...\n"
     ]
    },
    {
     "name": "stdout",
     "output_type": "stream",
     "text": [
      "Ward:  PlainWalk best result:  0.804918482287\nKMeans:  PlainWalk best result:  0.512330186446\n"
     ]
    },
    {
     "name": "stdout",
     "output_type": "stream",
     "text": [
      "Ward:  LogPlainWalk best result:  0.826006516521\nKMeans:  LogPlainWalk best result:  0.93836153923\n"
     ]
    },
    {
     "name": "stdout",
     "output_type": "stream",
     "text": [
      "Ward:  Communicability best result:  0.840095360863\nKMeans:  Communicability best result:  0.955345158824\n"
     ]
    },
    {
     "name": "stdout",
     "output_type": "stream",
     "text": [
      "Ward:  LogCommunicability best result:  0.810328198967\nKMeans:  LogCommunicability best result:  0.932122085488\n"
     ]
    },
    {
     "name": "stdout",
     "output_type": "stream",
     "text": [
      "Ward:  Forest best result:  0.660073819034\nKMeans:  Forest best result:  0.321978152694\n"
     ]
    },
    {
     "name": "stdout",
     "output_type": "stream",
     "text": [
      "Ward:  LogForest best result:  0.943654301009\nKMeans:  LogForest best result:  0.990376979375\n"
     ]
    },
    {
     "name": "stdout",
     "output_type": "stream",
     "text": [
      "Ward:  Heat best result:  0.864354995097\nKMeans:  Heat best result:  0.886308535891\n"
     ]
    },
    {
     "name": "stdout",
     "output_type": "stream",
     "text": [
      "Ward:  LogHeat best result:  0.96755222347\nKMeans:  LogHeat best result:  0.987404005484\n"
     ]
    },
    {
     "name": "stdout",
     "output_type": "stream",
     "text": [
      "Ward:  SigmoidCommuteTime best result:  0.731085729559\nKMeans:  SigmoidCommuteTime best result:  0.400778976004\n"
     ]
    },
    {
     "name": "stdout",
     "output_type": "stream",
     "text": [
      "Ward:  LogSigmoidCommuteTime best result:  0.721731797105\nKMeans:  LogSigmoidCommuteTime best result:  0.371217435996\n"
     ]
    },
    {
     "name": "stdout",
     "output_type": "stream",
     "text": [
      "100_3_03_005 has finished!!!\n"
     ]
    }
   ],
   "source": [
    "import matplotlib.pyplot as plt\n",
    "import numpy as np\n",
    "import json\n",
    "from sklearn.metrics import adjusted_rand_score\n",
    "\n",
    "from sklearn.cluster.k_means_ import k_means\n",
    "from sklearn.cluster import AgglomerativeClustering, SpectralClustering\n",
    "from src.graph.graph_generator import GraphGenerator\n",
    "from src.kernel.kernel import get_all_kernels\n",
    "\n",
    "folder_name = '100_3_03_01/'\n",
    "n_clusters = 3\n",
    "n_nodes = 100\n",
    "pin = 0.3\n",
    "pout = 0.1\n",
    "generator = GraphGenerator(n_nodes, n_clusters, pin, pout)\n",
    "\n",
    "graphs_num = 100\n",
    "\n",
    "print('100_3_03_01 is starting...')\n",
    "for kernel_class in get_all_kernels():\n",
    "    ward_results = {}\n",
    "    ward_all_scores = []\n",
    "    kmeans_results = {}\n",
    "    kmeans_all_scores = []\n",
    "    for i in range(0, graphs_num):\n",
    "        graph = generator.generate_graph()\n",
    "        nodes = graph.nodes\n",
    "        edges = graph.edges\n",
    "        ward_scores = []\n",
    "        kmeans_scores = []\n",
    "        kernel = kernel_class(edges)\n",
    "        for K in kernel.get_Ks():\n",
    "            prediction = AgglomerativeClustering(n_clusters=n_clusters, \n",
    "                                                 connectivity=K, linkage='ward')\\\n",
    "                .fit_predict(K)\n",
    "            ward_score = adjusted_rand_score(nodes, prediction)\n",
    "            ward_scores.append(ward_score)\n",
    "            \n",
    "            _, prediction, _ = k_means(K, n_clusters,\n",
    "                                 precompute_distances=True, random_state=0)\n",
    "            kmeans_score = adjusted_rand_score(nodes, prediction)\n",
    "            kmeans_scores.append(kmeans_score)\n",
    "            \n",
    "        ward_all_scores.append(ward_scores)\n",
    "        kmeans_all_scores.append(kmeans_scores)\n",
    "        \n",
    "    ward_all_scores = [list(i) for i in zip(*ward_all_scores)]\n",
    "    ward_resulting_score = [abs(np.mean(x)) for x in ward_all_scores]\n",
    "    ward_results[kernel_class.name] = ward_resulting_score\n",
    "    \n",
    "    kmeans_all_scores = [list(i) for i in zip(*kmeans_all_scores)]\n",
    "    kmeans_resulting_score = [abs(np.mean(x)) for x in kmeans_all_scores]\n",
    "    kmeans_results[kernel_class.name] = kmeans_resulting_score\n",
    "    \n",
    "    with open('src/results/my/generated_graphs/sklearn/' + folder_name\n",
    "              + 'Ward_' + kernel_class.name + '.txt', 'w') as file:\n",
    "        file.write(json.dumps(ward_results))\n",
    "    with open('src/results/my/generated_graphs/sklearn/' + folder_name \n",
    "              + 'KMeans_' + kernel_class.name + '.txt', 'w') as file:\n",
    "        file.write(json.dumps(kmeans_results))\n",
    "       \n",
    "    plt.figure(figsize=(10, 10))\n",
    "    for kernel_name, resulting_score in ward_results.items():\n",
    "        print('Ward: ', kernel_name, 'best result: ', np.max(resulting_score))\n",
    "        plt.plot(kernel_class.default_params, resulting_score, label='Ward')\n",
    "    for kernel_name, resulting_score in kmeans_results.items():\n",
    "        print('KMeans: ', kernel_name, 'best result: ', np.max(resulting_score))\n",
    "        plt.plot(kernel_class.default_params, resulting_score, label='Kernel K-means')\n",
    "    plt.title(kernel_class.name + ', n_clusters=' + str(n_clusters))\n",
    "    plt.legend()\n",
    "    plt.savefig('src/results/my/generated_graphs/sklearn/' + folder_name + 'img/' \n",
    "                + kernel_class.name + '.png')\n",
    "    # plt.show()\n",
    "print('100_3_03_005 has finished!!!')\n",
    "\n",
    "\n",
    "\n",
    "# print('100_2_025_005 is starting...')\n",
    "# folder_name = '100_2_025_005/'\n",
    "# n_clusters = 2\n",
    "# n_nodes = 100\n",
    "# pin = 0.25\n",
    "# pout = 0.05\n",
    "# generator = GraphGenerator(n_nodes, n_clusters, pin, pout)\n",
    "# graphs_num = 50\n",
    "# \n",
    "# for kernel_class in get_all_kernels():\n",
    "#     ward_results = {}\n",
    "#     ward_all_scores = []\n",
    "#     kmeans_results = {}\n",
    "#     kmeans_all_scores = []\n",
    "#     for i in range(0, graphs_num):\n",
    "#         graph = generator.generate_graph()\n",
    "#         nodes = graph.nodes\n",
    "#         edges = graph.edges\n",
    "#         ward_scores = []\n",
    "#         kmeans_scores = []\n",
    "#         kernel = kernel_class(edges)\n",
    "#         for K in kernel.get_Ks():\n",
    "#             prediction = AgglomerativeClustering(n_clusters=n_clusters, \n",
    "#                                                  connectivity=K, linkage='ward')\\\n",
    "#                 .fit_predict(K)\n",
    "#             ward_score = adjusted_rand_score(nodes, prediction)\n",
    "#             ward_scores.append(ward_score)\n",
    "#             \n",
    "#             _, prediction, _ = k_means(K, n_clusters,\n",
    "#                                  precompute_distances=True, random_state=0)\n",
    "#             kmeans_score = adjusted_rand_score(nodes, prediction)\n",
    "#             kmeans_scores.append(kmeans_score)\n",
    "#             \n",
    "#         ward_all_scores.append(ward_scores)\n",
    "#         kmeans_all_scores.append(kmeans_scores)\n",
    "#         \n",
    "#     ward_all_scores = [list(i) for i in zip(*ward_all_scores)]\n",
    "#     ward_resulting_score = [abs(np.mean(x)) for x in ward_all_scores]\n",
    "#     ward_results[kernel_class.name] = ward_resulting_score\n",
    "#     \n",
    "#     kmeans_all_scores = [list(i) for i in zip(*kmeans_all_scores)]\n",
    "#     kmeans_resulting_score = [abs(np.mean(x)) for x in kmeans_all_scores]\n",
    "#     kmeans_results[kernel_class.name] = kmeans_resulting_score\n",
    "#     \n",
    "#     with open('src/results/my/generated_graphs/sklearn/' + folder_name\n",
    "#               + 'Ward_' + kernel_class.name + '.txt', 'w') as file:\n",
    "#         file.write(json.dumps(ward_results))\n",
    "#     with open('src/results/my/generated_graphs/sklearn/' + folder_name \n",
    "#               + 'KMeans_' + kernel_class.name + '.txt', 'w') as file:\n",
    "#         file.write(json.dumps(kmeans_results))\n",
    "#        \n",
    "#     plt.figure(figsize=(10, 10))\n",
    "#     for kernel_name, resulting_score in ward_results.items():\n",
    "#         print('Ward: ', kernel_name, 'best result: ', np.max(resulting_score))\n",
    "#         plt.plot(kernel_class.default_params, resulting_score, label='Ward')\n",
    "#     for kernel_name, resulting_score in kmeans_results.items():\n",
    "#         print('KMeans: ', kernel_name, 'best result: ', np.max(resulting_score))\n",
    "#         plt.plot(kernel_class.default_params, resulting_score, label='Kernel K-means')\n",
    "#     plt.title(kernel_class.name + ', n_clusters=' + str(n_clusters))\n",
    "#     plt.legend()\n",
    "#     plt.savefig('src/results/my/generated_graphs/sklearn/' + folder_name + 'img/' \n",
    "#                 + kernel_class.name + '.png')\n",
    "#     # plt.show()\n",
    "# print('100_2_025_005 has finished!!!')\n",
    "# \n",
    "# \n",
    "# print('200_2_03_005 is starting...')\n",
    "# folder_name = '200_2_03_005/'\n",
    "# n_clusters = 2\n",
    "# n_nodes = 200\n",
    "# pin = 0.3\n",
    "# pout = 0.05\n",
    "# generator = GraphGenerator(n_nodes, n_clusters, pin, pout)\n",
    "# graphs_num = 50\n",
    "# \n",
    "# for kernel_class in get_all_kernels():\n",
    "#     ward_results = {}\n",
    "#     ward_all_scores = []\n",
    "#     kmeans_results = {}\n",
    "#     kmeans_all_scores = []\n",
    "#     for i in range(0, graphs_num):\n",
    "#         graph = generator.generate_graph()\n",
    "#         nodes = graph.nodes\n",
    "#         edges = graph.edges\n",
    "#         ward_scores = []\n",
    "#         kmeans_scores = []\n",
    "#         kernel = kernel_class(edges)\n",
    "#         for K in kernel.get_Ks():\n",
    "#             prediction = AgglomerativeClustering(n_clusters=n_clusters, \n",
    "#                                                  connectivity=K, linkage='ward')\\\n",
    "#                 .fit_predict(K)\n",
    "#             ward_score = adjusted_rand_score(nodes, prediction)\n",
    "#             ward_scores.append(ward_score)\n",
    "#             \n",
    "#             _, prediction, _ = k_means(K, n_clusters,\n",
    "#                                  precompute_distances=True, random_state=0)\n",
    "#             kmeans_score = adjusted_rand_score(nodes, prediction)\n",
    "#             kmeans_scores.append(kmeans_score)\n",
    "#             \n",
    "#         ward_all_scores.append(ward_scores)\n",
    "#         kmeans_all_scores.append(kmeans_scores)\n",
    "#         \n",
    "#     ward_all_scores = [list(i) for i in zip(*ward_all_scores)]\n",
    "#     ward_resulting_score = [abs(np.mean(x)) for x in ward_all_scores]\n",
    "#     ward_results[kernel_class.name] = ward_resulting_score\n",
    "#     \n",
    "#     kmeans_all_scores = [list(i) for i in zip(*kmeans_all_scores)]\n",
    "#     kmeans_resulting_score = [abs(np.mean(x)) for x in kmeans_all_scores]\n",
    "#     kmeans_results[kernel_class.name] = kmeans_resulting_score\n",
    "#     \n",
    "#     with open('src/results/my/generated_graphs/sklearn/' + folder_name\n",
    "#               + 'Ward_' + kernel_class.name + '.txt', 'w') as file:\n",
    "#         file.write(json.dumps(ward_results))\n",
    "#     with open('src/results/my/generated_graphs/sklearn/' + folder_name \n",
    "#               + 'KMeans_' + kernel_class.name + '.txt', 'w') as file:\n",
    "#         file.write(json.dumps(kmeans_results))\n",
    "#        \n",
    "#     plt.figure(figsize=(10, 10))\n",
    "#     for kernel_name, resulting_score in ward_results.items():\n",
    "#         print('Ward: ', kernel_name, 'best result: ', np.max(resulting_score))\n",
    "#         plt.plot(kernel_class.default_params, resulting_score, label='Ward')\n",
    "#     for kernel_name, resulting_score in kmeans_results.items():\n",
    "#         print('KMeans: ', kernel_name, 'best result: ', np.max(resulting_score))\n",
    "#         plt.plot(kernel_class.default_params, resulting_score, label='Kernel K-means')\n",
    "#     plt.title(kernel_class.name + ', n_clusters=' + str(n_clusters))\n",
    "#     plt.legend()\n",
    "#     plt.savefig('src/results/my/generated_graphs/sklearn/' + folder_name + 'img/' \n",
    "#                 + kernel_class.name + '.png')\n",
    "#     # plt.show()\n",
    "# print('100_2_025_005 has finished!!!')"
   ]
  },
  {
   "cell_type": "code",
   "execution_count": 1,
   "metadata": {},
   "outputs": [
    {
     "name": "stdout",
     "output_type": "stream",
     "text": [
      "unbalanced is starting...\n"
     ]
    },
    {
     "name": "stdout",
     "output_type": "stream",
     "text": [
      "Ward:  PlainWalk best result:  1.0\nKMeans:  PlainWalk best result:  1.0\n"
     ]
    },
    {
     "name": "stdout",
     "output_type": "stream",
     "text": [
      "Ward:  LogPlainWalk best result:  1.0\nKMeans:  LogPlainWalk best result:  1.0\n"
     ]
    },
    {
     "name": "stderr",
     "output_type": "stream",
     "text": [
      "/Library/Frameworks/Python.framework/Versions/3.6/lib/python3.6/site-packages/numpy/core/_methods.py:116: RuntimeWarning: overflow encountered in multiply\n  x = um.multiply(x, x, out=x)\n/Library/Frameworks/Python.framework/Versions/3.6/lib/python3.6/site-packages/sklearn/metrics/pairwise.py:247: RuntimeWarning: invalid value encountered in add\n  distances += XX\n/Library/Frameworks/Python.framework/Versions/3.6/lib/python3.6/site-packages/sklearn/cluster/k_means_.py:399: RuntimeWarning: overflow encountered in square\n  max_iter=max_iter, verbose=verbose)\n/Library/Frameworks/Python.framework/Versions/3.6/lib/python3.6/site-packages/sklearn/cluster/k_means_.py:399: RuntimeWarning: invalid value encountered in subtract\n  max_iter=max_iter, verbose=verbose)\n/Library/Frameworks/Python.framework/Versions/3.6/lib/python3.6/site-packages/sklearn/cluster/k_means_.py:400: RuntimeWarning: overflow encountered in square\n  inertia = np.sum((X - centers[labels]) ** 2, dtype=np.float64)\n"
     ]
    },
    {
     "name": "stderr",
     "output_type": "stream",
     "text": [
      "/Library/Frameworks/Python.framework/Versions/3.6/lib/python3.6/site-packages/sklearn/metrics/pairwise.py:246: RuntimeWarning: overflow encountered in multiply\n  distances *= -2\n"
     ]
    },
    {
     "name": "stderr",
     "output_type": "stream",
     "text": [
      "/Library/Frameworks/Python.framework/Versions/3.6/lib/python3.6/site-packages/sklearn/metrics/pairwise.py:247: RuntimeWarning: overflow encountered in add\n  distances += XX\n/Library/Frameworks/Python.framework/Versions/3.6/lib/python3.6/site-packages/sklearn/metrics/pairwise.py:248: RuntimeWarning: invalid value encountered in add\n  distances += YY\n"
     ]
    },
    {
     "name": "stderr",
     "output_type": "stream",
     "text": [
      "/Library/Frameworks/Python.framework/Versions/3.6/lib/python3.6/site-packages/sklearn/metrics/pairwise.py:248: RuntimeWarning: overflow encountered in add\n  distances += YY\n"
     ]
    },
    {
     "name": "stdout",
     "output_type": "stream",
     "text": [
      "Ward:  Communicability best result:  1.0\nKMeans:  Communicability best result:  1.0\n"
     ]
    },
    {
     "name": "stdout",
     "output_type": "stream",
     "text": [
      "Ward:  LogCommunicability best result:  1.0\nKMeans:  LogCommunicability best result:  1.0\n"
     ]
    },
    {
     "name": "stdout",
     "output_type": "stream",
     "text": [
      "Ward:  Forest best result:  1.0\nKMeans:  Forest best result:  1.0\n"
     ]
    },
    {
     "name": "stdout",
     "output_type": "stream",
     "text": [
      "Ward:  LogForest best result:  1.0\nKMeans:  LogForest best result:  1.0\n"
     ]
    },
    {
     "name": "stdout",
     "output_type": "stream",
     "text": [
      "Ward:  Heat best result:  1.0\nKMeans:  Heat best result:  1.0\n"
     ]
    },
    {
     "name": "stdout",
     "output_type": "stream",
     "text": [
      "Ward:  LogHeat best result:  1.0\nKMeans:  LogHeat best result:  1.0\n"
     ]
    },
    {
     "name": "stdout",
     "output_type": "stream",
     "text": [
      "Ward:  SigmoidCommuteTime best result:  1.0\nKMeans:  SigmoidCommuteTime best result:  1.0\n"
     ]
    },
    {
     "name": "stdout",
     "output_type": "stream",
     "text": [
      "Ward:  LogSigmoidCommuteTime best result:  1.0\nKMeans:  LogSigmoidCommuteTime best result:  1.0\n"
     ]
    },
    {
     "name": "stdout",
     "output_type": "stream",
     "text": [
      "unbalanced has finished!!!\n"
     ]
    }
   ],
   "source": [
    "import matplotlib.pyplot as plt\n",
    "import numpy as np\n",
    "import json\n",
    "from sklearn.metrics import adjusted_rand_score\n",
    "\n",
    "from sklearn.cluster.k_means_ import k_means\n",
    "from sklearn.cluster import AgglomerativeClustering, SpectralClustering\n",
    "from src.graph.graph_generator import GraphGenerator\n",
    "from src.kernel.kernel import get_all_kernels, SigmoidCommuteTime, LogSigmoidCommuteTime\n",
    "\n",
    "n_clusters = 2\n",
    "n_nodes = 100\n",
    "pin = 0.3\n",
    "pout = 0.07\n",
    "generator = GraphGenerator(n_nodes, n_clusters, pin, pout)\n",
    "\n",
    "graphs_num = 30\n",
    "nodes_in_first_num = range(1, 48, 3)\n",
    "\n",
    "print('unbalanced is starting...')\n",
    "for kernel_class in [SigmoidCommuteTime, LogSigmoidCommuteTime]:\n",
    "    ward_results = {}\n",
    "    ward_all_result_scores = []\n",
    "    kmeans_results = {}\n",
    "    kmeans_all_result_scores = []\n",
    "    for num in nodes_in_first_num:\n",
    "        ward_all_scores = []\n",
    "        kmeans_all_scores = []\n",
    "        for i in range(0, graphs_num):\n",
    "            graph = generator.generate_unbalanced_graph([num, n_nodes-num])\n",
    "            nodes = graph.nodes\n",
    "            edges = graph.edges\n",
    "            ward_scores = []\n",
    "            kmeans_scores = []\n",
    "            kernel = kernel_class(edges)\n",
    "            for K in kernel.get_Ks():\n",
    "                prediction = AgglomerativeClustering(n_clusters=n_clusters, \n",
    "                                                     connectivity=K, linkage='ward')\\\n",
    "                    .fit_predict(K)\n",
    "                ward_score = adjusted_rand_score(nodes, prediction)\n",
    "                ward_scores.append(ward_score)\n",
    "                _, prediction, _ = k_means(K, n_clusters,\n",
    "                                     precompute_distances=True, random_state=0)\n",
    "                kmeans_score = adjusted_rand_score(nodes, prediction)\n",
    "                kmeans_scores.append(kmeans_score)\n",
    "                \n",
    "            ward_all_scores.append(np.max(ward_scores))\n",
    "            kmeans_all_scores.append(np.max(kmeans_scores))\n",
    "        \n",
    "        ward_resulting_score = np.mean(ward_all_scores)\n",
    "        ward_all_result_scores.append(ward_resulting_score)\n",
    "        kmeans_resulting_score = np.mean(kmeans_all_scores)\n",
    "        kmeans_all_result_scores.append(kmeans_resulting_score)\n",
    "        \n",
    "    ward_results[kernel_class.name] = ward_all_result_scores\n",
    "    kmeans_results[kernel_class.name] = kmeans_all_result_scores\n",
    "        \n",
    "    with open('src/results/my/generated_graphs/sklearn/unbalanced/Ward_' \n",
    "              + kernel_class.name + '.txt', 'w') as file:\n",
    "        file.write(json.dumps(ward_results))\n",
    "    with open('src/results/my/generated_graphs/sklearn/unbalanced/KMeans_' \n",
    "              + kernel_class.name + '.txt', 'w') as file:\n",
    "        file.write(json.dumps(kmeans_results))\n",
    "       \n",
    "    plt.figure(figsize=(10, 10))\n",
    "    for kernel_name, resulting_score in ward_results.items():\n",
    "        print('Ward: ', kernel_name, 'best result: ', np.max(resulting_score))\n",
    "        plt.plot(nodes_in_first_num, resulting_score, label='Ward')\n",
    "    for kernel_name, resulting_score in kmeans_results.items():\n",
    "        print('KMeans: ', kernel_name, 'best result: ', np.max(resulting_score))\n",
    "        plt.plot(nodes_in_first_num, resulting_score, label='Kernel K-means')\n",
    "    plt.title(kernel_class.name + ', n_clusters=' + str(n_clusters))\n",
    "    plt.legend()\n",
    "    plt.savefig('src/results/my/generated_graphs/sklearn/unbalanced/img/' \n",
    "                + kernel_class.name + '.png')\n",
    "    # plt.show()\n",
    "print('unbalanced has finished!!!')"
   ]
  },
  {
   "cell_type": "code",
   "execution_count": null,
   "metadata": {},
   "outputs": [],
   "source": []
  }
 ],
 "metadata": {
  "kernelspec": {
   "display_name": "Python 2",
   "language": "python",
   "name": "python2"
  },
  "language_info": {
   "codemirror_mode": {
    "name": "ipython",
    "version": 2
   },
   "file_extension": ".py",
   "mimetype": "text/x-python",
   "name": "python",
   "nbconvert_exporter": "python",
   "pygments_lexer": "ipython2",
   "version": "2.7.6"
  }
 },
 "nbformat": 4,
 "nbformat_minor": 0
}
