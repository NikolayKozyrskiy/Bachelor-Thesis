{
 "cells": [
  {
   "cell_type": "code",
   "execution_count": 3,
   "metadata": {
    "collapsed": false
   },
   "outputs": [
    {
     "name": "stdout",
     "output_type": "stream",
     "text": [
      "PlainWalk best result:  0.734677902608\n"
     ]
    },
    {
     "name": "stdout",
     "output_type": "stream",
     "text": [
      "LogPlainWalk best result:  0.57717076538\n"
     ]
    },
    {
     "name": "stdout",
     "output_type": "stream",
     "text": [
      "Communicability best result:  0.575421194257\n"
     ]
    },
    {
     "name": "stdout",
     "output_type": "stream",
     "text": [
      "LogCommunicability best result:  0.697423081993\n"
     ]
    },
    {
     "name": "stdout",
     "output_type": "stream",
     "text": [
      "Forest best result:  0.575896762559\n"
     ]
    },
    {
     "name": "stdout",
     "output_type": "stream",
     "text": [
      "LogForest best result:  0.469282057227\n"
     ]
    },
    {
     "name": "stdout",
     "output_type": "stream",
     "text": [
      "Heat best result:  0.59761384072\n"
     ]
    },
    {
     "name": "stdout",
     "output_type": "stream",
     "text": [
      "LogHeat best result:  0.551422315922\n"
     ]
    },
    {
     "name": "stdout",
     "output_type": "stream",
     "text": [
      "SigmoidCommuteTime best result:  0.607650993709\n"
     ]
    }
   ],
   "source": [
    "import matplotlib.pyplot as plt\n",
    "import numpy as np\n",
    "import json\n",
    "from sklearn.metrics import adjusted_rand_score, normalized_mutual_info_score\n",
    "\n",
    "from src.clustering.ward import Ward\n",
    "from src.clustering.kernel_kmeans import KernelKMeans\n",
    "from src.graph.graph_generator import GraphGenerator\n",
    "from src.kernel.kernel import get_all_kernels\n",
    "\n",
    "n_clusters = 2\n",
    "generator = GraphGenerator(100, n_clusters, 0.2, 0.05)\n",
    "\n",
    "for kernel_class in get_all_kernels():\n",
    "    results = {}\n",
    "    all_scores = []\n",
    "    for i in range(0, 20):\n",
    "        graph = generator.generate_graph()\n",
    "        nodes = graph.nodes\n",
    "        edges = graph.edges\n",
    "        scores = []\n",
    "        kernel = kernel_class(edges)\n",
    "        for K in kernel.get_Ks():\n",
    "            prediction = KernelKMeans(n_clusters).fit_predict(K)\n",
    "            score = adjusted_rand_score(nodes, prediction)\n",
    "            scores.append(score)\n",
    "        all_scores.append(scores)\n",
    "    all_scores = [list(i) for i in zip(*all_scores)]\n",
    "    resulting_score = [abs(np.mean(x))*80 for x in all_scores]\n",
    "    results[kernel_class.name] = resulting_score\n",
    "    \n",
    "    # with open('src/results/my/generated_graphs/' + 'Kmeans_' \n",
    "    #           + kernel_class.name + '.txt', 'w') as file:\n",
    "    #     file.write(json.dumps(results))\n",
    "       \n",
    "    plt.figure(figsize=(10,10))\n",
    "    for kernel_name, resulting_score in results.items():\n",
    "        print(kernel_name, 'best result: ', np.max(resulting_score))\n",
    "        plt.plot(kernel_class.default_params, resulting_score, label=kernel_name)\n",
    "    plt.title('Kmeans ' + kernel_class.name + ', n_clusters=' + str(n_clusters))\n",
    "    plt.legend()\n",
    "    plt.show()"
   ]
  },
  {
   "cell_type": "code",
   "execution_count": 1,
   "metadata": {},
   "outputs": [
    {
     "name": "stdout",
     "output_type": "stream",
     "text": [
      "LogCommunicability best result:  0.853162905067\n"
     ]
    },
    {
     "name": "stdout",
     "output_type": "stream",
     "text": [
      "Forest best result:  0.0837072169115\n"
     ]
    },
    {
     "name": "stdout",
     "output_type": "stream",
     "text": [
      "LogForest best result:  0.08237897537\n"
     ]
    }
   ],
   "source": [
    "import matplotlib.pyplot as plt\n",
    "import numpy as np\n",
    "import json\n",
    "from sklearn.metrics import adjusted_rand_score, normalized_mutual_info_score\n",
    "\n",
    "from src.clustering.ward import Ward\n",
    "from src.clustering.kernel_kmeans import KernelKMeans\n",
    "from src.graph.graph_generator import GraphGenerator\n",
    "from src.kernel.kernel import get_all_kernels\n",
    "\n",
    "n_clusters = 3\n",
    "generator = GraphGenerator(100, n_clusters, 0.2, 0.05)\n",
    "\n",
    "for kernel_class in get_all_kernels():\n",
    "    if kernel_class.name == 'PlainWalk' or kernel_class.name == 'LogPlainWalk' \\\n",
    "            or kernel_class.name == 'Communicability':\n",
    "        continue\n",
    "    results = {}\n",
    "    all_scores = []\n",
    "    for i in range(0, 20):\n",
    "        graph = generator.generate_graph()\n",
    "        nodes = graph.nodes\n",
    "        edges = graph.edges\n",
    "        scores = []\n",
    "        kernel = kernel_class(edges)\n",
    "        for K in kernel.get_Ks():\n",
    "            prediction = Ward(n_clusters).fit_predict(K)\n",
    "            score = adjusted_rand_score(nodes, prediction)\n",
    "            scores.append(score)\n",
    "        all_scores.append(scores)\n",
    "    all_scores = [list(i) for i in zip(*all_scores)]\n",
    "    resulting_score = [abs(np.mean(x)) for x in all_scores]\n",
    "    results[kernel_class.name] = resulting_score\n",
    "    \n",
    "    # with open('src/results/my/generated_graphs/' + 'Kmeans_' \n",
    "    #           + kernel_class.name + '.txt', 'w') as file:\n",
    "    #     file.write(json.dumps(results))\n",
    "       \n",
    "    plt.figure(figsize=(10,10))\n",
    "    for kernel_name, resulting_score in results.items():\n",
    "        print(kernel_name, 'best result: ', np.max(resulting_score))\n",
    "        plt.plot(kernel_class.default_params, resulting_score, label=kernel_name)\n",
    "    plt.title('Ward ' + kernel_class.name + ', n_clusters=' + str(n_clusters))\n",
    "    plt.legend()\n",
    "    plt.show()"
   ]
  },
  {
   "cell_type": "code",
   "execution_count": null,
   "metadata": {},
   "outputs": [],
   "source": [
    "import matplotlib.pyplot as plt\n",
    "import numpy as np\n",
    "import json\n",
    "from sklearn.metrics import adjusted_rand_score, normalized_mutual_info_score\n",
    "\n",
    "from src.clustering.ward import Ward\n",
    "from src.clustering.kernel_kmeans import KernelKMeans\n",
    "from src.graph.graph_generator import GraphGenerator\n",
    "from src.kernel.kernel import get_all_kernels\n",
    "\n",
    "n_clusters = 2\n",
    "generator = GraphGenerator(100, n_clusters, 0.2, 0.05)\n",
    "\n",
    "for kernel_class in get_all_kernels():\n",
    "    results = {}\n",
    "    all_scores = []\n",
    "    for i in range(0, 20):\n",
    "        graph = generator.generate_graph()\n",
    "        nodes = graph.nodes\n",
    "        edges = graph.edges\n",
    "        scores = []\n",
    "        kernel = kernel_class(edges)\n",
    "        for K in kernel.get_Ks():\n",
    "            prediction = KernelKMeans(n_clusters).fit_predict(K)\n",
    "            score = adjusted_rand_score(nodes, prediction)\n",
    "            scores.append(score)\n",
    "        all_scores.append(scores)\n",
    "    all_scores = [list(i) for i in zip(*all_scores)]\n",
    "    resulting_score = [abs(np.mean(x))*80 for x in all_scores]\n",
    "    results[kernel_class.name] = resulting_score\n",
    "    \n",
    "    # with open('src/results/my/generated_graphs/' + 'Kmeans_' \n",
    "    #           + kernel_class.name + '.txt', 'w') as file:\n",
    "    #     file.write(json.dumps(results))\n",
    "       \n",
    "    plt.figure(figsize=(10,10))\n",
    "    for kernel_name, resulting_score in results.items():\n",
    "        print(kernel_name, 'best result: ', np.max(resulting_score))\n",
    "        plt.plot(kernel_class.default_params, resulting_score, label=kernel_name)\n",
    "    plt.title('Kmeans ' + kernel_class.name + ', n_clusters=' + str(n_clusters))\n",
    "    plt.legend()\n",
    "    plt.show()"
   ]
  }
 ],
 "metadata": {
  "kernelspec": {
   "display_name": "Python 2",
   "language": "python",
   "name": "python2"
  },
  "language_info": {
   "codemirror_mode": {
    "name": "ipython",
    "version": 2
   },
   "file_extension": ".py",
   "mimetype": "text/x-python",
   "name": "python",
   "nbconvert_exporter": "python",
   "pygments_lexer": "ipython2",
   "version": "2.7.6"
  }
 },
 "nbformat": 4,
 "nbformat_minor": 0
}
