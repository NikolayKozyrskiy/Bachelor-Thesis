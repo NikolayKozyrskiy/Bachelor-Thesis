{
 "cells": [
  {
   "cell_type": "code",
   "execution_count": 40,
   "metadata": {
    "collapsed": true
   },
   "outputs": [
    {
     "ename": "IndexError",
     "evalue": "list index out of range",
     "traceback": [
      "\u001b[0;31m---------------------------------------------------------------------------\u001b[0m",
      "\u001b[0;31mIndexError\u001b[0m                                Traceback (most recent call last)",
      "\u001b[0;32m<ipython-input-40-7d2cfca92d16>\u001b[0m in \u001b[0;36m<module>\u001b[0;34m()\u001b[0m\n\u001b[1;32m     18\u001b[0m \u001b[0mward_results\u001b[0m \u001b[0;34m=\u001b[0m \u001b[0;34m{\u001b[0m\u001b[0;34m}\u001b[0m\u001b[0;34m\u001b[0m\u001b[0m\n\u001b[1;32m     19\u001b[0m \u001b[0;34m\u001b[0m\u001b[0m\n\u001b[0;32m---> 20\u001b[0;31m \u001b[0mreal_file\u001b[0m \u001b[0;34m=\u001b[0m \u001b[0mreal_files\u001b[0m\u001b[0;34m[\u001b[0m\u001b[0;36m12\u001b[0m\u001b[0;34m]\u001b[0m\u001b[0;34m\u001b[0m\u001b[0m\n\u001b[0m\u001b[1;32m     21\u001b[0m \u001b[0;32mfor\u001b[0m \u001b[0malgorithm\u001b[0m \u001b[0;32min\u001b[0m \u001b[0malgorithms\u001b[0m\u001b[0;34m:\u001b[0m\u001b[0;34m\u001b[0m\u001b[0m\n\u001b[1;32m     22\u001b[0m     \u001b[0;32mfor\u001b[0m \u001b[0mkernel\u001b[0m \u001b[0;32min\u001b[0m \u001b[0mkernels\u001b[0m\u001b[0;34m:\u001b[0m\u001b[0;34m\u001b[0m\u001b[0m\n",
      "\u001b[0;31mIndexError\u001b[0m: list index out of range"
     ],
     "output_type": "error"
    }
   ],
   "source": [
    "import json\n",
    "import matplotlib.pyplot as plt\n",
    "import numpy as np\n",
    "\n",
    "from kernel.kernel import Kernel\n",
    "\n",
    "real_files = ['football', 'polbooks', 'zachary', 'news_2cl_1', 'news_2cl_2', \n",
    "              'news_2cl_3', 'news_3cl_1', 'news_3cl_2', 'news_3cl_3', \n",
    "              'news_5cl_1', 'news_5cl_2', 'news_5cl_3']\n",
    "\n",
    "algorithms = ['K_means_', 'Ward_']\n",
    "\n",
    "kernels = ['PlainWalk', 'LogPlainWalk', 'Communicability', 'LogCommunicability',\n",
    "           'Forest', 'LogForest', 'Heat', 'LogHeat', 'SigmoidCommuteTime', \n",
    "           'LogSigmoidCommuteTime']\n",
    "\n",
    "kmeans_results = {}\n",
    "ward_results = {}\n",
    "\n",
    "real_file = real_files[0]\n",
    "for algorithm in algorithms:\n",
    "    for kernel in kernels: \n",
    "        with open('src/results/my/datasets/sklearn/'\n",
    "                  + algorithm + real_file + '.txt', 'r') as file:\n",
    "            results = json.loads(file.read())\n",
    "            res = results.pop(kernel)\n",
    "            if algorithm == 'K_means_':\n",
    "                kmeans_results[kernel] = res\n",
    "            else:\n",
    "                ward_results[kernel] = res\n",
    "                \n",
    "path = 'src/results/my/datasets/final/'\n",
    "x_ax = Kernel.default_params\n",
    "kmeans_colors = ['black', 'firebrick', 'sienna', 'tan', 'olivedrab', 'darkgreen',\n",
    "                 'darkcyan', 'navy', 'darkorchid', 'mediumvioletred']\n",
    "ward_colors = ['gray', 'red', 'sandybrown', 'moccasin', 'chartreuse', \n",
    "               'darkseagreen', 'paleturquoise', 'royalblue', 'plum', \n",
    "               'palevioletred']\n",
    "plt.figure(figsize=(15, 10))\n",
    "for i in range(len(kernels)): \n",
    "    plt.plot(x_ax, np.sort(kmeans_results[kernels[i]])[::-1], \n",
    "             label=algorithms[0]+kernels[i], color=kmeans_colors[i])\n",
    "for i in range(len(kernels)): \n",
    "    plt.plot(x_ax, np.sort(kmeans_results[kernels[i]])[::-1], \n",
    "             label=algorithms[1]+kernels[i], color=ward_colors[i])\n",
    "# plt.ylim(0.75, 0.925)\n",
    "# plt.xlim(0.05, 1.2)\n",
    "plt.xlabel('Гиперпараметр')\n",
    "plt.ylabel('ARI')\n",
    "plt.legend()\n",
    "plt.savefig(path + real_file + '_1.png')"
   ]
  },
  {
   "cell_type": "code",
   "execution_count": null,
   "metadata": {},
   "outputs": [],
   "source": []
  }
 ],
 "metadata": {
  "kernelspec": {
   "display_name": "Python 2",
   "language": "python",
   "name": "python2"
  },
  "language_info": {
   "codemirror_mode": {
    "name": "ipython",
    "version": 2
   },
   "file_extension": ".py",
   "mimetype": "text/x-python",
   "name": "python",
   "nbconvert_exporter": "python",
   "pygments_lexer": "ipython2",
   "version": "2.7.6"
  }
 },
 "nbformat": 4,
 "nbformat_minor": 0
}
