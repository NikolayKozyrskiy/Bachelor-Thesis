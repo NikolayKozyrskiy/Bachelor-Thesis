{
 "cells": [
  {
   "cell_type": "code",
   "execution_count": 7,
   "metadata": {
    "collapsed": false
   },
   "outputs": [
    {
     "name": "stdout",
     "output_type": "stream",
     "text": [
      "50_4_03_01.txt is starting...\n"
     ]
    },
    {
     "name": "stdout",
     "output_type": "stream",
     "text": [
      "50_4_03_01.txt has finished!!!\n100_2_03_01.txt is starting...\n"
     ]
    },
    {
     "name": "stderr",
     "output_type": "stream",
     "text": [
      "/Library/Frameworks/Python.framework/Versions/3.6/lib/python3.6/site-packages/numpy/core/_methods.py:116: RuntimeWarning: overflow encountered in multiply\n  x = um.multiply(x, x, out=x)\n/Library/Frameworks/Python.framework/Versions/3.6/lib/python3.6/site-packages/sklearn/metrics/pairwise.py:247: RuntimeWarning: invalid value encountered in add\n  distances += XX\n/Library/Frameworks/Python.framework/Versions/3.6/lib/python3.6/site-packages/sklearn/cluster/k_means_.py:399: RuntimeWarning: overflow encountered in square\n  max_iter=max_iter, verbose=verbose)\n/Library/Frameworks/Python.framework/Versions/3.6/lib/python3.6/site-packages/sklearn/cluster/k_means_.py:399: RuntimeWarning: invalid value encountered in subtract\n  max_iter=max_iter, verbose=verbose)\n/Library/Frameworks/Python.framework/Versions/3.6/lib/python3.6/site-packages/sklearn/cluster/k_means_.py:400: RuntimeWarning: overflow encountered in square\n  inertia = np.sum((X - centers[labels]) ** 2, dtype=np.float64)\n"
     ]
    },
    {
     "name": "stdout",
     "output_type": "stream",
     "text": [
      "100_2_03_01.txt has finished!!!\n100_3_03_01.txt is starting...\n"
     ]
    },
    {
     "name": "stdout",
     "output_type": "stream",
     "text": [
      "100_3_03_01.txt has finished!!!\n100_4_03_01.txt is starting...\n"
     ]
    },
    {
     "name": "stdout",
     "output_type": "stream",
     "text": [
      "100_4_03_01.txt has finished!!!\n100_2_03_005.txt is starting...\n"
     ]
    },
    {
     "name": "stderr",
     "output_type": "stream",
     "text": [
      "/Library/Frameworks/Python.framework/Versions/3.6/lib/python3.6/site-packages/sklearn/metrics/pairwise.py:246: RuntimeWarning: overflow encountered in multiply\n  distances *= -2\n/Library/Frameworks/Python.framework/Versions/3.6/lib/python3.6/site-packages/sklearn/metrics/pairwise.py:247: RuntimeWarning: overflow encountered in add\n  distances += XX\n/Library/Frameworks/Python.framework/Versions/3.6/lib/python3.6/site-packages/sklearn/metrics/pairwise.py:248: RuntimeWarning: overflow encountered in add\n  distances += YY\n/Library/Frameworks/Python.framework/Versions/3.6/lib/python3.6/site-packages/sklearn/metrics/pairwise.py:248: RuntimeWarning: invalid value encountered in add\n  distances += YY\n"
     ]
    },
    {
     "name": "stdout",
     "output_type": "stream",
     "text": [
      "100_2_03_005.txt has finished!!!\n100_3_03_005.txt is starting...\n"
     ]
    },
    {
     "name": "stdout",
     "output_type": "stream",
     "text": [
      "100_3_03_005.txt has finished!!!\n100_4_03_005.txt is starting...\n"
     ]
    },
    {
     "name": "stdout",
     "output_type": "stream",
     "text": [
      "100_4_03_005.txt has finished!!!\n200_3_03_01.txt is starting...\n"
     ]
    },
    {
     "name": "stdout",
     "output_type": "stream",
     "text": [
      "200_3_03_01.txt has finished!!!\n200_4_03_01.txt is starting...\n"
     ]
    },
    {
     "name": "stdout",
     "output_type": "stream",
     "text": [
      "200_4_03_01.txt has finished!!!\n200_3_03_005.txt is starting...\n"
     ]
    },
    {
     "name": "stdout",
     "output_type": "stream",
     "text": [
      "200_3_03_005.txt has finished!!!\n200_4_03_005.txt is starting...\n"
     ]
    },
    {
     "name": "stdout",
     "output_type": "stream",
     "text": [
      "200_4_03_005.txt has finished!!!\n"
     ]
    }
   ],
   "source": [
    "import matplotlib.pyplot as plt\n",
    "import numpy as np\n",
    "import json\n",
    "from sklearn.metrics import adjusted_rand_score\n",
    "\n",
    "from sklearn.cluster.k_means_ import k_means\n",
    "from sklearn.cluster import AgglomerativeClustering\n",
    "from src.graph.graph_generator import GraphGenerator\n",
    "from src.kernel.kernel import get_all_kernels\n",
    "\n",
    "\n",
    "graphs_num = 50\n",
    "parameters = {\n",
    "    # '50_2_03_01.txt': [2, 50, 0.3, 0.1], \n",
    "    #           '50_3_03_01.txt': [3, 50, 0.3, 0.1],\n",
    "              '50_4_03_01.txt': [4, 50, 0.3, 0.1],\n",
    "              '100_2_03_01.txt': [2, 100, 0.3, 0.1], \n",
    "              '100_3_03_01.txt': [3, 100, 0.3, 0.1],\n",
    "              '100_4_03_01.txt': [4, 100, 0.3, 0.1],\n",
    "              '100_2_03_005.txt': [2, 100, 0.3, 0.05],\n",
    "              '100_3_03_005.txt': [3, 100, 0.3, 0.05],\n",
    "              '100_4_03_005.txt': [4, 100, 0.3, 0.05],\n",
    "              '200_3_03_01.txt': [3, 200, 0.3, 0.1],\n",
    "              '200_4_03_01.txt': [4, 200, 0.3, 0.1],\n",
    "              '200_3_03_005.txt': [3, 200, 0.3, 0.05],\n",
    "              '200_4_03_005.txt': [4, 200, 0.3, 0.05]}\n",
    "\n",
    "for file_name, params in parameters.items():\n",
    "    print(file_name + ' is starting...')\n",
    "    n_clusters = params[0]\n",
    "    n_nodes = params[1]\n",
    "    pin = params[2]\n",
    "    pout = params[3]\n",
    "    generator = GraphGenerator(n_nodes, n_clusters, pin, pout)\n",
    "    ward_results = {'PlainWalk': 0, 'LogPlainWalk': 0, 'Communicability': 0, \n",
    "                    'LogCommunicability': 0, 'Forest': 0, 'LogForest': 0, \n",
    "                    'Heat': 0, 'LogHeat': 0, 'SigmoidCommuteTime': 0, \n",
    "                    'LogSigmoidCommuteTime': 0}\n",
    "    kmeans_results = {'PlainWalk': 0, 'LogPlainWalk': 0, 'Communicability': 0, \n",
    "                      'LogCommunicability': 0, 'Forest': 0, 'LogForest': 0, \n",
    "                      'Heat': 0, 'LogHeat': 0, 'SigmoidCommuteTime': 0, \n",
    "                      'LogSigmoidCommuteTime': 0}\n",
    "    for i in range(graphs_num):\n",
    "        graph = generator.generate_graph()\n",
    "        nodes = graph.nodes\n",
    "        edges = graph.edges\n",
    "        for kernel_class in get_all_kernels():\n",
    "            ward_scores = []\n",
    "            kmeans_scores = []\n",
    "            kernel = kernel_class(edges)\n",
    "            for K in kernel.get_Ks():\n",
    "                prediction = AgglomerativeClustering(n_clusters=n_clusters, \n",
    "                                                     connectivity=K, linkage='ward')\\\n",
    "                    .fit_predict(K)\n",
    "                ward_score = adjusted_rand_score(nodes, prediction)\n",
    "                ward_scores.append(ward_score)\n",
    "                \n",
    "                _, prediction, _ = k_means(K, n_clusters, random_state=0)\n",
    "                kmeans_score = adjusted_rand_score(nodes, prediction)\n",
    "                kmeans_scores.append(kmeans_score) \n",
    "            w_max = np.max(ward_scores)\n",
    "            k_max = np.max(kmeans_scores)\n",
    "            if w_max > k_max:\n",
    "                ward_results[kernel_class.name] += 1\n",
    "                kmeans_results[kernel_class.name] -= 1\n",
    "            if w_max < k_max:\n",
    "                ward_results[kernel_class.name] -= 1\n",
    "                kmeans_results[kernel_class.name] += 1\n",
    "            if w_max == k_max and w_max == 1.: \n",
    "                ward_results[kernel_class.name] += 1\n",
    "                kmeans_results[kernel_class.name] += 1\n",
    "        \n",
    "    res = {'Ward': ward_results, 'KMeans': kmeans_results}\n",
    "    with open('src/results/my/generated_graphs/final/koplend/' + file_name, 'w')\\\n",
    "            as file: \n",
    "        file.write(json.dumps(res))\n",
    "    print(file_name + ' has finished!!!')"
   ]
  },
  {
   "cell_type": "code",
   "execution_count": 16,
   "metadata": {},
   "outputs": [
    {
     "name": "stdout",
     "output_type": "stream",
     "text": [
      "372\n"
     ]
    }
   ],
   "source": [
    "print(143 - 90 - 64 - 75 + 80 + 45 + 83 + 71 + 80 + 99)"
   ]
  },
  {
   "cell_type": "code",
   "execution_count": null,
   "metadata": {},
   "outputs": [],
   "source": []
  }
 ],
 "metadata": {
  "kernelspec": {
   "display_name": "Python 2",
   "language": "python",
   "name": "python2"
  },
  "language_info": {
   "codemirror_mode": {
    "name": "ipython",
    "version": 2
   },
   "file_extension": ".py",
   "mimetype": "text/x-python",
   "name": "python",
   "nbconvert_exporter": "python",
   "pygments_lexer": "ipython2",
   "version": "2.7.6"
  }
 },
 "nbformat": 4,
 "nbformat_minor": 0
}
