{
 "cells": [
  {
   "cell_type": "code",
   "execution_count": 1,
   "metadata": {
    "collapsed": false
   },
   "outputs": [
    {
     "name": "stdout",
     "output_type": "stream",
     "text": [
      "dataset football started!\nn_clusters = 12\n"
     ]
    },
    {
     "name": "stdout",
     "output_type": "stream",
     "text": [
      "football K-means ari PlainWalk -0.0140042750261\nfootball Ward ari PlainWalk 0.898433931748\n"
     ]
    },
    {
     "name": "stdout",
     "output_type": "stream",
     "text": [
      "football K-means ari LogPlainWalk 0.650043664517\nfootball Ward ari LogPlainWalk 0.896650009791\n"
     ]
    },
    {
     "name": "stdout",
     "output_type": "stream",
     "text": [
      "football K-means ari Communicability 0.258494910251\nfootball Ward ari Communicability 0.808187623316\n"
     ]
    },
    {
     "name": "stdout",
     "output_type": "stream",
     "text": [
      "football K-means ari LogCommunicability 0.258494910251\nfootball Ward ari LogCommunicability 0.808187623316\n"
     ]
    },
    {
     "name": "stdout",
     "output_type": "stream",
     "text": [
      "football K-means ari Forest 0.00214699312187\nfootball Ward ari Forest 0.89448553996\n"
     ]
    },
    {
     "name": "stdout",
     "output_type": "stream",
     "text": [
      "football K-means ari LogForest 0.00214699312187\nfootball Ward ari LogForest 0.89448553996\n"
     ]
    },
    {
     "name": "stdout",
     "output_type": "stream",
     "text": [
      "football K-means ari Heat 0.292455853023\nfootball Ward ari Heat 0.841575399192\n"
     ]
    },
    {
     "name": "stdout",
     "output_type": "stream",
     "text": [
      "football K-means ari LogHeat 0.292455853023\nfootball Ward ari LogHeat 0.841575399192\n"
     ]
    },
    {
     "name": "stdout",
     "output_type": "stream",
     "text": [
      "football K-means ari SigmoidCommuteTime 0.181941217566\nfootball Ward ari SigmoidCommuteTime 0.896650009791\ndataset football finished!\ndataset polbooks started!\nn_clusters = 3\n"
     ]
    },
    {
     "name": "stdout",
     "output_type": "stream",
     "text": [
      "polbooks K-means ari PlainWalk -0.00519776108604\npolbooks Ward ari PlainWalk 0.437153872107\n"
     ]
    },
    {
     "name": "stdout",
     "output_type": "stream",
     "text": [
      "polbooks K-means ari LogPlainWalk 0.564095379817\npolbooks Ward ari LogPlainWalk 0.70288048497\n"
     ]
    },
    {
     "name": "stdout",
     "output_type": "stream",
     "text": [
      "polbooks K-means ari Communicability 0.106894412127\npolbooks Ward ari Communicability 0.324358090428\n"
     ]
    },
    {
     "name": "stdout",
     "output_type": "stream",
     "text": [
      "polbooks K-means ari LogCommunicability 0.106894412127\npolbooks Ward ari LogCommunicability 0.324358090428\n"
     ]
    },
    {
     "name": "stdout",
     "output_type": "stream",
     "text": [
      "polbooks K-means ari Forest 0.186359912778\npolbooks Ward ari Forest 0.625136066334\n"
     ]
    },
    {
     "name": "stdout",
     "output_type": "stream",
     "text": [
      "polbooks K-means ari LogForest 0.186359912778\npolbooks Ward ari LogForest 0.625136066334\n"
     ]
    },
    {
     "name": "stdout",
     "output_type": "stream",
     "text": [
      "polbooks K-means ari Heat 0.450394325539\npolbooks Ward ari Heat 0.659769431356\n"
     ]
    },
    {
     "name": "stdout",
     "output_type": "stream",
     "text": [
      "polbooks K-means ari LogHeat 0.450394325539\npolbooks Ward ari LogHeat 0.659769431356\n"
     ]
    },
    {
     "name": "stdout",
     "output_type": "stream",
     "text": [
      "polbooks K-means ari SigmoidCommuteTime 0.681502327056\npolbooks Ward ari SigmoidCommuteTime 0.659846736512\ndataset polbooks finished!\ndataset zachary started!\nn_clusters = 2\n"
     ]
    },
    {
     "name": "stdout",
     "output_type": "stream",
     "text": [
      "zachary K-means ari PlainWalk -0.00667219024888\nzachary Ward ari PlainWalk 0.472484613554\n"
     ]
    },
    {
     "name": "stdout",
     "output_type": "stream",
     "text": [
      "zachary K-means ari LogPlainWalk 0.97521211397\nzachary Ward ari LogPlainWalk 0.976566857093\n"
     ]
    },
    {
     "name": "stdout",
     "output_type": "stream",
     "text": [
      "zachary K-means ari Communicability 0.344328483447\nzachary Ward ari Communicability 0.469781533323\n"
     ]
    },
    {
     "name": "stdout",
     "output_type": "stream",
     "text": [
      "zachary K-means ari LogCommunicability 0.344328483447\nzachary Ward ari LogCommunicability 0.469781533323\n"
     ]
    },
    {
     "name": "stdout",
     "output_type": "stream",
     "text": [
      "zachary K-means ari Forest 0.098289016226\nzachary Ward ari Forest 0.119943275417\n"
     ]
    },
    {
     "name": "stdout",
     "output_type": "stream",
     "text": [
      "zachary K-means ari LogForest 0.098289016226\nzachary Ward ari LogForest 0.119943275417\n"
     ]
    },
    {
     "name": "stdout",
     "output_type": "stream",
     "text": [
      "zachary K-means ari Heat 0.36614452661\nzachary Ward ari Heat 0.298531833802\n"
     ]
    },
    {
     "name": "stdout",
     "output_type": "stream",
     "text": [
      "zachary K-means ari LogHeat 0.36614452661\nzachary Ward ari LogHeat 0.298531833802\n"
     ]
    },
    {
     "name": "stdout",
     "output_type": "stream",
     "text": [
      "zachary K-means ari SigmoidCommuteTime 0.827657939297\nzachary Ward ari SigmoidCommuteTime 0.72689327858\ndataset zachary finished!\n"
     ]
    }
   ],
   "source": [
    "import matplotlib.pyplot as plt\n",
    "import numpy as np\n",
    "import json\n",
    "from sklearn.metrics import adjusted_rand_score, normalized_mutual_info_score\n",
    "\n",
    "from src.clustering.kernel_kmeans import KernelKMeans\n",
    "from src.clustering.ward import Ward\n",
    "from src.graph.graph_generator import GraphGenerator\n",
    "from src.kernel.kernel import get_all_kernels\n",
    "from src.dataset.dataset import football, polbooks, polblogs, zachary, news\n",
    "\n",
    "all_data = [football, polbooks, zachary]\n",
    "# all_data += news\n",
    "# all_data = [zachary]\n",
    "\n",
    "for data in all_data:\n",
    "    graph, info = data\n",
    "    print('dataset ' + info['name'] + ' started!')\n",
    "    print('n_clusters = ' + str(info['k']))\n",
    "    kmeans_results_ari = {}\n",
    "    # kmeans_results_nmi = {}\n",
    "    ward_results_ari = {}\n",
    "    # ward_results_nmi = {}\n",
    "    for kernel_class in get_all_kernels():\n",
    "        kmeans_results_ari[kernel_class.name] = {}\n",
    "        # kmeans_results_nmi[kernel_class.name] = {}\n",
    "        ward_results_ari[kernel_class.name] = {}\n",
    "        # ward_results_nmi[kernel_class.name] = {}\n",
    "        nodes = graph.nodes\n",
    "        edges = graph.edges\n",
    "        kmeans_ari_s = []\n",
    "        # kmeans_nmi_s = []\n",
    "        ward_ari_s = []\n",
    "        # ward_nmi_s = []\n",
    "        kernel = kernel_class(edges)\n",
    "        for K in kernel.get_Ks():\n",
    "            kmeans_prediction = KernelKMeans(n_clusters=info['k'], random_state=0).fit_predict(K)\n",
    "            kmeans_ari = adjusted_rand_score(nodes, kmeans_prediction)\n",
    "            kmeans_ari_s.append(kmeans_ari)\n",
    "            # kmeans_nmi = normalized_mutual_info_score(nodes, kmeans_prediction)\n",
    "            # kmeans_nmi_s.append(kmeans_nmi)\n",
    "\n",
    "            ward_prediction = Ward(n_clusters=info['k']).fit_predict(K)\n",
    "            ward_ari = adjusted_rand_score(nodes, ward_prediction)\n",
    "            ward_ari_s.append(ward_ari)\n",
    "            # ward_nmi = normalized_mutual_info_score(nodes, ward_prediction)\n",
    "            # ward_nmi_s.append(ward_nmi)\n",
    "\n",
    "        kmeans_results_ari[kernel_class.name] = kmeans_ari_s\n",
    "        # kmeans_results_nmi[kernel_class.name] = kmeans_nmi_s\n",
    "        ward_results_ari[kernel_class.name] = ward_ari_s\n",
    "        # ward_results_nmi[kernel_class.name] = ward_nmi_s\n",
    "        print(info['name'] + ' K-means ari ' + kernel_class.name + ' ' \n",
    "              + str(np.mean(kmeans_results_ari[kernel_class.name])))\n",
    "        # print(info['name'] + ' K-means nmi ' + kernel_class.name + ' ' \n",
    "        #       + str(np.mean(kmeans_results_nmi[kernel_class.name])))\n",
    "        print(info['name'] + ' Ward ari ' + kernel_class.name + ' ' \n",
    "              + str(np.mean(ward_results_ari[kernel_class.name])))\n",
    "        # print(info['name'] + ' Ward nmi ' + kernel_class.name + ' ' \n",
    "        #       + str(np.mean(ward_results_nmi[kernel_class.name])))\n",
    "    with open('src/results/my/datasets/ari/' + 'K_means_' + info['name'] + '_ari.txt', 'w') as file:\n",
    "        file.write(json.dumps(kmeans_results_ari))\n",
    "    with open('src/results/my/datasets/ari/' + 'Ward_' + info['name'] + '_ari.txt', 'w') as file:\n",
    "        file.write(json.dumps(ward_results_ari))\n",
    "    # with open('src/results/my/datasets/nmi/' + 'K_means_' + info['name'] + '_nmi.txt', 'w') as file:\n",
    "    #     file.write(json.dumps(kmeans_results_nmi))\n",
    "    # with open('src/results/my/datasets/nmi/' + 'Ward_' + info['name'] + '_nmi.txt', 'w') as file:\n",
    "        # file.write(json.dumps(ward_results_nmi))\n",
    "    print('dataset ' + info['name'] + ' finished!')"
   ]
  },
  {
   "cell_type": "code",
   "execution_count": 5,
   "metadata": {
    "collapsed": false
   },
   "outputs": [
    {
     "name": "stdout",
     "output_type": "stream",
     "text": [
      "{'PlainWalk': [0.031209326810705224, 0.008007451551282279, -0.008481855861564974, -0.011084129004621905, 0.007869845735078897, -0.017590420399125204, 0.0034865097922978107, -0.0030663057475008347, 0.027565783803665606, 0.016561362317620773, -9.823883978350951e-05, 0.007720982775715777, -0.008853133292428294, -0.007414516195133953, -0.012521819446488894, 0.011358505085188784, -0.006945195614553472, 0.009397825660322793, 0.0014728967310356598, -0.00410840538100442, 0.019152767277643763, 0.013983323123149182, 0.0042118248833109264, 0.0011413649170717653, -0.0010186009888851696, 0.015079617371549432, -0.0024949050267984714, 0.019447766428832152, 0.009378130758124192, 0.021000564064737274, 0.0063065277223926285, 0.007497233040331507, -0.007421267361070235, 0.0208449005245046, -0.00042790522261950564, -0.001079618673797379, -2.1406123525154384e-05, -0.0184173147681282], 'LogPlainWalk': [0.6880099933511978, 0.7481866364587949, 0.6244518036729573, 0.6890775929564003, 0.8966500097910517, 0.7558833602874783, 0.7995456807390935, 0.7048204996421521, 0.763919022467403, 0.695668046434107, 0.8342491859088218, 0.717645141488648, 0.7407587158842679, 0.8476220673931216, 0.7123666600410787, 0.630346107192497, 0.7795269458097077, 0.835991920604713, 0.8125542653210072, 0.7062180485050211, 0.7668133135268917, 0.6502950691465095, 0.8375606076540622, 0.8427927646497847, 0.7123460623877971, 0.7245631837653997, 0.7138901147931347, 0.8129812509636907, 0.7856003682566728, 0.7009965243380292, 0.7693181750401126, 0.8793050125814643, 0.757036157604456, 0.7864613447649416, 0.6621583854741571, 0.752418960078525, 0.7517237985601212, 0.4273219188653765], 'Communicability': [-0.012675995661681191, 0.009526748707391544, 0.006798033179321499, 0.002072879543749244, 0.00818939670072546, 0.010408461560483888, -0.004698858489029896, -0.015653514693949256, 0.0008813636463203651, -0.016058079027848927, 0.7728995792611897, 0.8650068168990968, 0.723374180668405, 0.8203860853550345, 0.8052889443170316, 0.8124325678929496, 0.8736025950639669, 0.17339222475165855, 0.8250884578437977, 0.8034680514502491, 0.0, 0.0, 0.35561403278175513, 0.6047096679157038, 0.8436841259849747, 0.4702190114006621, 0.1400157152860556, 0.38107081586119723, 0.34920614881647066, 0.13520888986266894, 0.0, 0.448787396676376, 0.0, 0.0, 0.11269608835083428, 0.14245830771549486, 0.18376410171336613, 0.22339751294883844], 'LogCommunicability': [0.009043227304687807, 0.003686629468380816, -0.004041496858312107, 0.008007451551282279, 0.0023702760060990255, 0.018074678628862258, -0.022234241437289096, 0.01197409360245429, -0.012126790197969984, 0.8089684445659169, 0.837463538552663, 0.6697209650993259, 0.7826455817999487, 0.7737311497242669, 0.7962799414348463, 0.8342491859088218, 0.7662109141435136, 0.8531638917638041, 0.4762197147795661, 0.8966500097910517, 0.0, 0.12841915388744732, 0.0, 0.44117007409455883, 0.812521695601152, 0.0, 0.6550639208352332, 0.3829744370050258, 0.8194986669728873, 0.1740686545976919, 0.22891725010161956, 0.285521065047439, 0.43524910022309804, 0.0, 0.0, 0.0, 0.0, 0.15418100079213073], 'Forest': [0.002921211370485533, 0.004630229229849811, 0.006018966722623956, 0.020120356381718794, -0.006626790470089742, 0.03335386796830447, 0.015675616061431374, -0.0007564282233663601, -0.013520058717528705, 0.004167165211023643, 0.0011413649170717653, 0.011834266778330918, 0.0015229244545219808, 0.017717782833088155, 0.001544711429102842, 7.642653058824478e-05, -0.0008609537142420434, 0.014752020808513263, 0.010429024727952065, 0.0015674545576792305, 0.0035238805177393714, -0.010607198939185417, -0.006331845265078029, 0.0029823352921825876, -0.008380625910920432, -0.008380625910920432, 0.0007309687572722147, 0.02175764221496502, -0.004587050834382708, 0.0002325769046387203, -0.011435027638093133, 0.07582031289997612, 0.0029823352921825876, 0.01433440206476913, -0.003184498131577757, -0.01798582891428772, 0.362097963209421, 0.010927633250621906], 'LogForest': [-0.010101207629972405, 0.011834266778330918, 0.009199637112427113, 0.011937645370292646, -0.005694355205397555, 0.015012799930576646, 0.007043180174912879, -0.021321071238153792, -0.012367374702398778, -0.02468484631228018, 0.011559169626998222, -0.010370760719114372, -0.006787927287735504, 0.022124956777963566, -0.011435027638093133, 0.021712312259484622, -0.0029921632671748217, 0.005773094189917392, 0.00016827752653633695, -0.0037310830601855007, 0.010015073963307147, -0.0024949050267984714, 0.008854200865902046, -0.004883258855215293, -0.01525657513136268, -0.008191388376334563, 0.00396770374478706, 0.0070001160626514585, -0.013816057656432701, -0.005043518272296211, 0.002596787410094652, 0.02371302887605155, -0.00991140740901317, -0.010592255778176905, 0.00953781823564239, 0.0007216449248587967, 0.030538213762811125, 0.017879939151639313], 'Heat': [-0.006465668592587871, 0.00628422483152464, 0.030462624244691743, -0.025231902872767095, 0.020358851955931283, 0.010030999147557866, -0.011038111233114751, 0.004219262152172404, -0.0013089736727392013, 0.04358742389937147, 0.6331645441999344, 0.5665434131152937, 0.7731822120643067, 0.7839717000074187, 0.8206277824637688, 0.7269182825597903, 0.8858346019932605, 0.8093668313511885, 0.8448813724253347, 0.12913843054069443, 0.7149457270921147, 0.8516743264513439, 0.7032930144370383, 0.7637630227233587, 0.2640764090216824, 0.0, 0.3924328468289079, 0.32282271769501164, 0.6501750727788903, 0.42939713281209474, 0.0, 0.3128210504245728, 0.0, 0.0, 0.3504393636371665, 0.0, 0.0, 0.0], 'LogHeat': [-0.0043239302946874785, 0.0008893475461139292, 0.010429024727952065, -0.008222574805971352, 0.013699829172216184, 0.004298401338450332, 0.007014762651971536, -0.0036626494373058426, -0.002543130079887525, 0.5643501390088476, 0.6483340641318398, 0.5319469268183811, 0.7803852948342185, 0.7210432676681975, 0.7180041202262705, 0.7659214638389616, 0.15312860374048456, 0.847099913383831, 0.811247229249631, 0.12841915388744732, 0.5560030710439811, 0.7803546448370551, 0.8628191640574554, 0.7382342442879004, 0.460993420783396, 0.0, 0.3582983647544832, 0.12492392740143662, 0.0, 0.4774846237521836, 0.31873148115757693, 0.0, 0.12119669064773705, 0.0, 0.0, 0.23522870831762835, 0.33317042224078747, 0.23940427449560572], 'SigmoidCommuteTime': [0.0653506640317382, 0.04793788106106553, -0.003697241844096321, 0.3730118580352064, 0.21585482599656344, 0.25067996373526746, 0.014341475254403803, 0.013979493289621203, 0.0941016692990768, -0.00042790522261950564, 0.011481110990164385, 0.39157323120189463, 0.017350769379918026, 0.004298401338450332, -0.01991629558203954, 0.0204156048068129, 0.0053293123424711, 0.5515841282179121, 0.16903234085048968, 0.7399684439934079, 0.13636092716270518, 0.010388319373077548, 0.2002407573931328, -0.024224761471474367, -0.010138454455271667, 0.17295909320658256, 0.007497233040331507, -0.012546427599795127, 0.003422615431490685, 0.2721955877070352, -0.012057676816446474, 0.32900343007421684, 0.003686629468380816, 0.19917577844652123, 0.15822528072540737, -0.007263343494807653, 0.222997364568082, 0.007676473692588393]}\n"
     ]
    }
   ],
   "source": [
    "from src.kernel.kernel import Kernel\n",
    "import json\n",
    "import matplotlib.pyplot as plt\n",
    "\n",
    "Ward_name = 'Ward'\n",
    "Kmeans_name = 'K_means'\n",
    "with open('src/results/my/datasets/ari/' + Kmeans_name +'_football_ari.txt', 'r') as file:\n",
    "    results = json.loads(file.read())\n",
    "    print(results)\n",
    "    plt.figure(figsize=(10,10)) \n",
    "    for transformation_name, resulting_score in results.items():\n",
    "        # buf = np.sort(resulting_score, kind='mergesort').tolist()\n",
    "        # buf.reverse()\n",
    "        plt.plot(Kernel.default_params, resulting_score,\n",
    "                 label=transformation_name)\n",
    "    plt.title('Title')\n",
    "    plt.legend()\n",
    "    plt.savefig('src/results/my/datasets/img/' + Kmeans_name + '_football_ari' + '.png')\n",
    "    # plt.show()"
   ]
  },
  {
   "cell_type": "code",
   "execution_count": null,
   "metadata": {},
   "outputs": [],
   "source": [
    "files = ['football', 'polbooks', 'zachary']\n"
   ]
  }
 ],
 "metadata": {
  "kernelspec": {
   "display_name": "Python 2",
   "language": "python",
   "name": "python2"
  },
  "language_info": {
   "codemirror_mode": {
    "name": "ipython",
    "version": 2
   },
   "file_extension": ".py",
   "mimetype": "text/x-python",
   "name": "python",
   "nbconvert_exporter": "python",
   "pygments_lexer": "ipython2",
   "version": "2.7.6"
  }
 },
 "nbformat": 4,
 "nbformat_minor": 0
}
